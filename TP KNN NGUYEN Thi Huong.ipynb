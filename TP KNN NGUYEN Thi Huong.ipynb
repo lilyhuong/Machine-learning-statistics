{
 "cells": [
  {
   "cell_type": "markdown",
   "metadata": {},
   "source": [
    "<br>\n",
    "\n",
    "<b><font size=22>Machine learning and statistical learning</font></b>\n",
    "### (K-Nearest Neighbors)\n",
    "\n",
    "**<font color = red>NGUYEN Thi Huong</font>**\n",
    "\n",
    "**<font color = red>MASTER 2 EBDS</font>**"
   ]
  },
  {
   "cell_type": "markdown",
   "metadata": {},
   "source": [
    "## 1. Context\n",
    "In this exercise, you will build a classifier using the K-Nearest Neighbors algorithm.\n",
    "\n",
    "## 2. Lab setup: generating data"
   ]
  },
  {
   "cell_type": "markdown",
   "metadata": {},
   "source": [
    "In a first step, you will generate data. To do so:\n",
    "### 1. Draw n = 50 observations in a unit square. To do so:\n",
    "\n",
    "• randomly generate 50 observations from a Beta distribution with parameters α = β = 1 and store the drawn values in an object you will call x.\n",
    "\n",
    "• Do the same procedure and store the draws in an object you will call y."
   ]
  },
  {
   "cell_type": "code",
   "execution_count": 25,
   "metadata": {},
   "outputs": [],
   "source": [
    "import numpy as np\n",
    "import pandas as pd\n",
    "import matplotlib.pyplot as plt\n",
    "from sklearn.neighbors import KNeighborsClassifier"
   ]
  },
  {
   "cell_type": "code",
   "execution_count": 3,
   "metadata": {},
   "outputs": [],
   "source": [
    "np.random.seed(123)\n",
    "x = np.random.beta(1, 1, size = 50)\n",
    "y = np.random.beta(1, 1, size = 50)"
   ]
  },
  {
   "cell_type": "code",
   "execution_count": 4,
   "metadata": {},
   "outputs": [
    {
     "data": {
      "text/plain": [
       "array([0.7087962 , 0.29152056, 0.55086446, 0.88022503, 0.50983392,\n",
       "       0.61314719, 0.31763509, 0.17516902, 0.46602537, 0.57693427,\n",
       "       0.84366837, 0.43338398, 0.1273839 , 0.52986858, 0.9101117 ,\n",
       "       0.25332992, 0.09756236, 0.02641702, 0.77791018, 0.18038005,\n",
       "       0.58768512, 0.89129013, 0.43355352, 0.27477532, 0.41220433,\n",
       "       0.44724218, 0.32736746, 0.47207612, 0.3800845 , 0.00271239,\n",
       "       0.35998716, 0.31334921, 0.81945811, 0.67681143, 0.45135864,\n",
       "       0.23918427, 0.93854188, 0.17523667, 0.48319315, 0.8565742 ,\n",
       "       0.86948787, 0.90473082, 0.37139736, 0.48486792, 0.82140197,\n",
       "       0.01328466, 0.22308274, 0.04407522, 0.04143993, 0.79525637])"
      ]
     },
     "execution_count": 4,
     "metadata": {},
     "output_type": "execute_result"
    }
   ],
   "source": [
    "x"
   ]
  },
  {
   "cell_type": "code",
   "execution_count": 5,
   "metadata": {},
   "outputs": [
    {
     "data": {
      "text/plain": [
       "array([0.89042779, 0.12789929, 0.93087491, 0.46109265, 0.36112866,\n",
       "       0.48003683, 0.86886863, 0.71671022, 0.95393004, 0.01130666,\n",
       "       0.1736089 , 0.31958745, 0.08640259, 0.88156928, 0.63622229,\n",
       "       0.31203866, 0.32149015, 0.43703145, 0.01598992, 0.76718578,\n",
       "       0.67083178, 0.96020248, 0.98216398, 0.14042158, 0.06063628,\n",
       "       0.17201736, 0.02222478, 0.08359477, 0.40239262, 0.71588602,\n",
       "       0.41603702, 0.00729161, 0.11352046, 0.02810755, 0.48976635,\n",
       "       0.6038995 , 0.35467233, 0.57055532, 0.50696344, 0.63295131,\n",
       "       0.28055427, 0.611766  , 0.62343082, 0.74687897, 0.75851332,\n",
       "       0.62570307, 0.23758442, 0.79512636, 0.77113359, 0.9911493 ])"
      ]
     },
     "execution_count": 5,
     "metadata": {},
     "output_type": "execute_result"
    }
   ],
   "source": [
    "y"
   ]
  },
  {
   "cell_type": "markdown",
   "metadata": {},
   "source": [
    "### 2. Create a vector you will call true_label of size n = 50 which will contain the true labels: “orange” or “blue”\n",
    "• “orange” if x + y ≥ 1\n",
    "\n",
    "• “blue” otherwise."
   ]
  },
  {
   "cell_type": "code",
   "execution_count": 6,
   "metadata": {},
   "outputs": [],
   "source": [
    "true_label = np.where((x + y) >= 1, \"orange\", \"blue\")"
   ]
  },
  {
   "cell_type": "markdown",
   "metadata": {},
   "source": [
    "### 3. Create a new point ($x_0, y_0$) at which you will try to assign a label, depending on the values of the nearest neighbors. For example: ($x_0 = 0.75, y_0 = 0.5$). "
   ]
  },
  {
   "cell_type": "code",
   "execution_count": 7,
   "metadata": {},
   "outputs": [],
   "source": [
    "x0 = 0.75\n",
    "y0 = 0.5"
   ]
  },
  {
   "cell_type": "markdown",
   "metadata": {},
   "source": [
    "### 4. Create a matrix with 3 columns: the x and y coordinates of your generated points, and the assigned label."
   ]
  },
  {
   "cell_type": "code",
   "execution_count": 8,
   "metadata": {},
   "outputs": [
    {
     "data": {
      "text/plain": [
       "array([['0.7087962001482243', '0.2915205607261141', '0.5508644649938116',\n",
       "        '0.8802250282254706', '0.5098339187183689', '0.6131471890845918',\n",
       "        '0.31763509101815507', '0.17516901712177893',\n",
       "        '0.4660253746874307', '0.5769342725676896', '0.8436683687538818',\n",
       "        '0.43338398296132963', '0.1273839022883489', '0.529868575774588',\n",
       "        '0.9101116972695052', '0.2533299177414687',\n",
       "        '0.09756236312671537', '0.026417023719911423',\n",
       "        '0.7779101768817878', '0.1803800462018237', '0.5876851181488675',\n",
       "        '0.8912901339305496', '0.43355351771102546',\n",
       "        '0.27477531508023056', '0.41220432592794365',\n",
       "        '0.44724218098609664', '0.3273674565822664',\n",
       "        '0.4720761233937692', '0.380084503251582',\n",
       "        '0.002712385220183117', '0.3599871619390577',\n",
       "        '0.3133492118892728', '0.8194581071705033', '0.6768114266946713',\n",
       "        '0.45135863583385943', '0.23918427359707473',\n",
       "        '0.9385418753660365', '0.17523667424495792',\n",
       "        '0.4831931513665835', '0.8565741969044228', '0.8694878736733238',\n",
       "        '0.9047308227845763', '0.37139736151110486',\n",
       "        '0.4848679205692742', '0.8214019734818608',\n",
       "        '0.013284659655588033', '0.22308274456289423',\n",
       "        '0.04407522213523197', '0.04143992556425738',\n",
       "        '0.7952563666154341'],\n",
       "       ['0.8904277862336072', '0.12789929142996917',\n",
       "        '0.9308749118083619', '0.461092649247959', '0.3611286569981857',\n",
       "        '0.4800368331350451', '0.8688686307817283', '0.7167102217459016',\n",
       "        '0.953930038671206', '0.011306664387136295',\n",
       "        '0.17360889760850715', '0.31958745212745987',\n",
       "        '0.08640258665934386', '0.881569275073579', '0.6362222940357637',\n",
       "        '0.31203865575744993', '0.3214901479417498',\n",
       "        '0.43703144840440195', '0.015989916130272872',\n",
       "        '0.7671857829861372', '0.6708317805698351', '0.9602024752577694',\n",
       "        '0.982163976131514', '0.14042158326700857',\n",
       "        '0.06063628024733087', '0.17201735914804012',\n",
       "        '0.02222477690865484', '0.08359476609189666',\n",
       "        '0.40239261756225925', '0.7158860168038489',\n",
       "        '0.41603701686255057', '0.007291610206918296',\n",
       "        '0.11352045508844927', '0.028107551918003317',\n",
       "        '0.48976634963037', '0.6038994980474556', '0.35467232614366745',\n",
       "        '0.570555315278405', '0.5069634363592979', '0.6329513122161124',\n",
       "        '0.28055426809991013', '0.6117660019019887',\n",
       "        '0.6234308225582711', '0.7468789708062004', '0.7585133159984208',\n",
       "        '0.625703074992089', '0.23758441693512197', '0.7951263616358993',\n",
       "        '0.7711335864385477', '0.9911492981675565'],\n",
       "       ['orange', 'blue', 'orange', 'orange', 'blue', 'orange', 'orange',\n",
       "        'blue', 'orange', 'blue', 'orange', 'blue', 'blue', 'orange',\n",
       "        'orange', 'blue', 'blue', 'blue', 'blue', 'blue', 'orange',\n",
       "        'orange', 'orange', 'blue', 'blue', 'blue', 'blue', 'blue',\n",
       "        'blue', 'blue', 'blue', 'blue', 'blue', 'blue', 'blue', 'blue',\n",
       "        'orange', 'blue', 'blue', 'orange', 'orange', 'orange', 'blue',\n",
       "        'orange', 'orange', 'blue', 'blue', 'blue', 'blue', 'orange']],\n",
       "      dtype='<U32')"
      ]
     },
     "execution_count": 8,
     "metadata": {},
     "output_type": "execute_result"
    }
   ],
   "source": [
    "matrix = np.array([x, y, true_label])\n",
    "matrix"
   ]
  },
  {
   "cell_type": "code",
   "execution_count": 9,
   "metadata": {},
   "outputs": [],
   "source": [
    "df = pd.DataFrame({\"x\":x, \"y\":y, \"True_label\":true_label})"
   ]
  },
  {
   "cell_type": "code",
   "execution_count": 10,
   "metadata": {},
   "outputs": [
    {
     "data": {
      "text/html": [
       "<div>\n",
       "<style scoped>\n",
       "    .dataframe tbody tr th:only-of-type {\n",
       "        vertical-align: middle;\n",
       "    }\n",
       "\n",
       "    .dataframe tbody tr th {\n",
       "        vertical-align: top;\n",
       "    }\n",
       "\n",
       "    .dataframe thead th {\n",
       "        text-align: right;\n",
       "    }\n",
       "</style>\n",
       "<table border=\"1\" class=\"dataframe\">\n",
       "  <thead>\n",
       "    <tr style=\"text-align: right;\">\n",
       "      <th></th>\n",
       "      <th>x</th>\n",
       "      <th>y</th>\n",
       "      <th>True_label</th>\n",
       "    </tr>\n",
       "  </thead>\n",
       "  <tbody>\n",
       "    <tr>\n",
       "      <th>0</th>\n",
       "      <td>0.708796</td>\n",
       "      <td>0.890428</td>\n",
       "      <td>orange</td>\n",
       "    </tr>\n",
       "    <tr>\n",
       "      <th>1</th>\n",
       "      <td>0.291521</td>\n",
       "      <td>0.127899</td>\n",
       "      <td>blue</td>\n",
       "    </tr>\n",
       "    <tr>\n",
       "      <th>2</th>\n",
       "      <td>0.550864</td>\n",
       "      <td>0.930875</td>\n",
       "      <td>orange</td>\n",
       "    </tr>\n",
       "    <tr>\n",
       "      <th>3</th>\n",
       "      <td>0.880225</td>\n",
       "      <td>0.461093</td>\n",
       "      <td>orange</td>\n",
       "    </tr>\n",
       "    <tr>\n",
       "      <th>4</th>\n",
       "      <td>0.509834</td>\n",
       "      <td>0.361129</td>\n",
       "      <td>blue</td>\n",
       "    </tr>\n",
       "    <tr>\n",
       "      <th>5</th>\n",
       "      <td>0.613147</td>\n",
       "      <td>0.480037</td>\n",
       "      <td>orange</td>\n",
       "    </tr>\n",
       "    <tr>\n",
       "      <th>6</th>\n",
       "      <td>0.317635</td>\n",
       "      <td>0.868869</td>\n",
       "      <td>orange</td>\n",
       "    </tr>\n",
       "    <tr>\n",
       "      <th>7</th>\n",
       "      <td>0.175169</td>\n",
       "      <td>0.716710</td>\n",
       "      <td>blue</td>\n",
       "    </tr>\n",
       "    <tr>\n",
       "      <th>8</th>\n",
       "      <td>0.466025</td>\n",
       "      <td>0.953930</td>\n",
       "      <td>orange</td>\n",
       "    </tr>\n",
       "    <tr>\n",
       "      <th>9</th>\n",
       "      <td>0.576934</td>\n",
       "      <td>0.011307</td>\n",
       "      <td>blue</td>\n",
       "    </tr>\n",
       "    <tr>\n",
       "      <th>10</th>\n",
       "      <td>0.843668</td>\n",
       "      <td>0.173609</td>\n",
       "      <td>orange</td>\n",
       "    </tr>\n",
       "    <tr>\n",
       "      <th>11</th>\n",
       "      <td>0.433384</td>\n",
       "      <td>0.319587</td>\n",
       "      <td>blue</td>\n",
       "    </tr>\n",
       "    <tr>\n",
       "      <th>12</th>\n",
       "      <td>0.127384</td>\n",
       "      <td>0.086403</td>\n",
       "      <td>blue</td>\n",
       "    </tr>\n",
       "    <tr>\n",
       "      <th>13</th>\n",
       "      <td>0.529869</td>\n",
       "      <td>0.881569</td>\n",
       "      <td>orange</td>\n",
       "    </tr>\n",
       "    <tr>\n",
       "      <th>14</th>\n",
       "      <td>0.910112</td>\n",
       "      <td>0.636222</td>\n",
       "      <td>orange</td>\n",
       "    </tr>\n",
       "    <tr>\n",
       "      <th>15</th>\n",
       "      <td>0.253330</td>\n",
       "      <td>0.312039</td>\n",
       "      <td>blue</td>\n",
       "    </tr>\n",
       "    <tr>\n",
       "      <th>16</th>\n",
       "      <td>0.097562</td>\n",
       "      <td>0.321490</td>\n",
       "      <td>blue</td>\n",
       "    </tr>\n",
       "    <tr>\n",
       "      <th>17</th>\n",
       "      <td>0.026417</td>\n",
       "      <td>0.437031</td>\n",
       "      <td>blue</td>\n",
       "    </tr>\n",
       "    <tr>\n",
       "      <th>18</th>\n",
       "      <td>0.777910</td>\n",
       "      <td>0.015990</td>\n",
       "      <td>blue</td>\n",
       "    </tr>\n",
       "    <tr>\n",
       "      <th>19</th>\n",
       "      <td>0.180380</td>\n",
       "      <td>0.767186</td>\n",
       "      <td>blue</td>\n",
       "    </tr>\n",
       "    <tr>\n",
       "      <th>20</th>\n",
       "      <td>0.587685</td>\n",
       "      <td>0.670832</td>\n",
       "      <td>orange</td>\n",
       "    </tr>\n",
       "    <tr>\n",
       "      <th>21</th>\n",
       "      <td>0.891290</td>\n",
       "      <td>0.960202</td>\n",
       "      <td>orange</td>\n",
       "    </tr>\n",
       "    <tr>\n",
       "      <th>22</th>\n",
       "      <td>0.433554</td>\n",
       "      <td>0.982164</td>\n",
       "      <td>orange</td>\n",
       "    </tr>\n",
       "    <tr>\n",
       "      <th>23</th>\n",
       "      <td>0.274775</td>\n",
       "      <td>0.140422</td>\n",
       "      <td>blue</td>\n",
       "    </tr>\n",
       "    <tr>\n",
       "      <th>24</th>\n",
       "      <td>0.412204</td>\n",
       "      <td>0.060636</td>\n",
       "      <td>blue</td>\n",
       "    </tr>\n",
       "    <tr>\n",
       "      <th>25</th>\n",
       "      <td>0.447242</td>\n",
       "      <td>0.172017</td>\n",
       "      <td>blue</td>\n",
       "    </tr>\n",
       "    <tr>\n",
       "      <th>26</th>\n",
       "      <td>0.327367</td>\n",
       "      <td>0.022225</td>\n",
       "      <td>blue</td>\n",
       "    </tr>\n",
       "    <tr>\n",
       "      <th>27</th>\n",
       "      <td>0.472076</td>\n",
       "      <td>0.083595</td>\n",
       "      <td>blue</td>\n",
       "    </tr>\n",
       "    <tr>\n",
       "      <th>28</th>\n",
       "      <td>0.380085</td>\n",
       "      <td>0.402393</td>\n",
       "      <td>blue</td>\n",
       "    </tr>\n",
       "    <tr>\n",
       "      <th>29</th>\n",
       "      <td>0.002712</td>\n",
       "      <td>0.715886</td>\n",
       "      <td>blue</td>\n",
       "    </tr>\n",
       "    <tr>\n",
       "      <th>30</th>\n",
       "      <td>0.359987</td>\n",
       "      <td>0.416037</td>\n",
       "      <td>blue</td>\n",
       "    </tr>\n",
       "    <tr>\n",
       "      <th>31</th>\n",
       "      <td>0.313349</td>\n",
       "      <td>0.007292</td>\n",
       "      <td>blue</td>\n",
       "    </tr>\n",
       "    <tr>\n",
       "      <th>32</th>\n",
       "      <td>0.819458</td>\n",
       "      <td>0.113520</td>\n",
       "      <td>blue</td>\n",
       "    </tr>\n",
       "    <tr>\n",
       "      <th>33</th>\n",
       "      <td>0.676811</td>\n",
       "      <td>0.028108</td>\n",
       "      <td>blue</td>\n",
       "    </tr>\n",
       "    <tr>\n",
       "      <th>34</th>\n",
       "      <td>0.451359</td>\n",
       "      <td>0.489766</td>\n",
       "      <td>blue</td>\n",
       "    </tr>\n",
       "    <tr>\n",
       "      <th>35</th>\n",
       "      <td>0.239184</td>\n",
       "      <td>0.603899</td>\n",
       "      <td>blue</td>\n",
       "    </tr>\n",
       "    <tr>\n",
       "      <th>36</th>\n",
       "      <td>0.938542</td>\n",
       "      <td>0.354672</td>\n",
       "      <td>orange</td>\n",
       "    </tr>\n",
       "    <tr>\n",
       "      <th>37</th>\n",
       "      <td>0.175237</td>\n",
       "      <td>0.570555</td>\n",
       "      <td>blue</td>\n",
       "    </tr>\n",
       "    <tr>\n",
       "      <th>38</th>\n",
       "      <td>0.483193</td>\n",
       "      <td>0.506963</td>\n",
       "      <td>blue</td>\n",
       "    </tr>\n",
       "    <tr>\n",
       "      <th>39</th>\n",
       "      <td>0.856574</td>\n",
       "      <td>0.632951</td>\n",
       "      <td>orange</td>\n",
       "    </tr>\n",
       "    <tr>\n",
       "      <th>40</th>\n",
       "      <td>0.869488</td>\n",
       "      <td>0.280554</td>\n",
       "      <td>orange</td>\n",
       "    </tr>\n",
       "    <tr>\n",
       "      <th>41</th>\n",
       "      <td>0.904731</td>\n",
       "      <td>0.611766</td>\n",
       "      <td>orange</td>\n",
       "    </tr>\n",
       "    <tr>\n",
       "      <th>42</th>\n",
       "      <td>0.371397</td>\n",
       "      <td>0.623431</td>\n",
       "      <td>blue</td>\n",
       "    </tr>\n",
       "    <tr>\n",
       "      <th>43</th>\n",
       "      <td>0.484868</td>\n",
       "      <td>0.746879</td>\n",
       "      <td>orange</td>\n",
       "    </tr>\n",
       "    <tr>\n",
       "      <th>44</th>\n",
       "      <td>0.821402</td>\n",
       "      <td>0.758513</td>\n",
       "      <td>orange</td>\n",
       "    </tr>\n",
       "    <tr>\n",
       "      <th>45</th>\n",
       "      <td>0.013285</td>\n",
       "      <td>0.625703</td>\n",
       "      <td>blue</td>\n",
       "    </tr>\n",
       "    <tr>\n",
       "      <th>46</th>\n",
       "      <td>0.223083</td>\n",
       "      <td>0.237584</td>\n",
       "      <td>blue</td>\n",
       "    </tr>\n",
       "    <tr>\n",
       "      <th>47</th>\n",
       "      <td>0.044075</td>\n",
       "      <td>0.795126</td>\n",
       "      <td>blue</td>\n",
       "    </tr>\n",
       "    <tr>\n",
       "      <th>48</th>\n",
       "      <td>0.041440</td>\n",
       "      <td>0.771134</td>\n",
       "      <td>blue</td>\n",
       "    </tr>\n",
       "    <tr>\n",
       "      <th>49</th>\n",
       "      <td>0.795256</td>\n",
       "      <td>0.991149</td>\n",
       "      <td>orange</td>\n",
       "    </tr>\n",
       "  </tbody>\n",
       "</table>\n",
       "</div>"
      ],
      "text/plain": [
       "           x         y True_label\n",
       "0   0.708796  0.890428     orange\n",
       "1   0.291521  0.127899       blue\n",
       "2   0.550864  0.930875     orange\n",
       "3   0.880225  0.461093     orange\n",
       "4   0.509834  0.361129       blue\n",
       "5   0.613147  0.480037     orange\n",
       "6   0.317635  0.868869     orange\n",
       "7   0.175169  0.716710       blue\n",
       "8   0.466025  0.953930     orange\n",
       "9   0.576934  0.011307       blue\n",
       "10  0.843668  0.173609     orange\n",
       "11  0.433384  0.319587       blue\n",
       "12  0.127384  0.086403       blue\n",
       "13  0.529869  0.881569     orange\n",
       "14  0.910112  0.636222     orange\n",
       "15  0.253330  0.312039       blue\n",
       "16  0.097562  0.321490       blue\n",
       "17  0.026417  0.437031       blue\n",
       "18  0.777910  0.015990       blue\n",
       "19  0.180380  0.767186       blue\n",
       "20  0.587685  0.670832     orange\n",
       "21  0.891290  0.960202     orange\n",
       "22  0.433554  0.982164     orange\n",
       "23  0.274775  0.140422       blue\n",
       "24  0.412204  0.060636       blue\n",
       "25  0.447242  0.172017       blue\n",
       "26  0.327367  0.022225       blue\n",
       "27  0.472076  0.083595       blue\n",
       "28  0.380085  0.402393       blue\n",
       "29  0.002712  0.715886       blue\n",
       "30  0.359987  0.416037       blue\n",
       "31  0.313349  0.007292       blue\n",
       "32  0.819458  0.113520       blue\n",
       "33  0.676811  0.028108       blue\n",
       "34  0.451359  0.489766       blue\n",
       "35  0.239184  0.603899       blue\n",
       "36  0.938542  0.354672     orange\n",
       "37  0.175237  0.570555       blue\n",
       "38  0.483193  0.506963       blue\n",
       "39  0.856574  0.632951     orange\n",
       "40  0.869488  0.280554     orange\n",
       "41  0.904731  0.611766     orange\n",
       "42  0.371397  0.623431       blue\n",
       "43  0.484868  0.746879     orange\n",
       "44  0.821402  0.758513     orange\n",
       "45  0.013285  0.625703       blue\n",
       "46  0.223083  0.237584       blue\n",
       "47  0.044075  0.795126       blue\n",
       "48  0.041440  0.771134       blue\n",
       "49  0.795256  0.991149     orange"
      ]
     },
     "execution_count": 10,
     "metadata": {},
     "output_type": "execute_result"
    }
   ],
   "source": [
    "df"
   ]
  },
  {
   "cell_type": "markdown",
   "metadata": {},
   "source": [
    "### 5. Plot your 50 observations on a scatter plot and add the new $(x_0, y_0)$ observation using a different color/shape."
   ]
  },
  {
   "cell_type": "code",
   "execution_count": 11,
   "metadata": {},
   "outputs": [
    {
     "data": {
      "text/plain": [
       "<matplotlib.collections.PathCollection at 0x7f7ec1a2ac10>"
      ]
     },
     "execution_count": 11,
     "metadata": {},
     "output_type": "execute_result"
    },
    {
     "data": {
      "image/png": "[encoded data removed]",
      "text/plain": [
       "<Figure size 432x288 with 1 Axes>"
      ]
     },
     "metadata": {
      "needs_background": "light"
     },
     "output_type": "display_data"
    }
   ],
   "source": [
    "plt.scatter(df.x, df.y, c= df.True_label) #plot our observation in 2 diffrence color \n",
    "plt.scatter(x0, y0, color = \"red\") #add the new point"
   ]
  },
  {
   "cell_type": "markdown",
   "metadata": {},
   "source": [
    "## 3 The algorithm"
   ]
  },
  {
   "cell_type": "markdown",
   "metadata": {},
   "source": [
    "### 1. To know which are the K closests points of your new observation, you need to compute the distance between each point of your dataset and your new observation. To that end, create a function that computes the distances between two points:"
   ]
  },
  {
   "cell_type": "code",
   "execution_count": 12,
   "metadata": {},
   "outputs": [],
   "source": [
    "def distance(xA, yA, xB, yB): \n",
    "    df[\"distance\"] = ((xA - xB) ** 2 + (yA - yB) ** 2) ** 0.5\n",
    "    return df\n"
   ]
  },
  {
   "cell_type": "markdown",
   "metadata": {},
   "source": [
    "### 2. Using a loop, apply this function to your new point (x0, y0) and each of the points in your dataset. In other words, at iteration i, store the Euclidean distance between your point (x0, y0) and the i-th point from your data, i.e., (xi , yi). Once you have computed the distance from your point (x0, y0) to all points from your dataset, order your dataset by increasing distances to your new point."
   ]
  },
  {
   "cell_type": "code",
   "execution_count": 13,
   "metadata": {},
   "outputs": [
    {
     "data": {
      "text/html": [
       "<div>\n",
       "<style scoped>\n",
       "    .dataframe tbody tr th:only-of-type {\n",
       "        vertical-align: middle;\n",
       "    }\n",
       "\n",
       "    .dataframe tbody tr th {\n",
       "        vertical-align: top;\n",
       "    }\n",
       "\n",
       "    .dataframe thead th {\n",
       "        text-align: right;\n",
       "    }\n",
       "</style>\n",
       "<table border=\"1\" class=\"dataframe\">\n",
       "  <thead>\n",
       "    <tr style=\"text-align: right;\">\n",
       "      <th></th>\n",
       "      <th>x</th>\n",
       "      <th>y</th>\n",
       "      <th>True_label</th>\n",
       "      <th>distance</th>\n",
       "    </tr>\n",
       "  </thead>\n",
       "  <tbody>\n",
       "    <tr>\n",
       "      <th>0</th>\n",
       "      <td>0.708796</td>\n",
       "      <td>0.890428</td>\n",
       "      <td>orange</td>\n",
       "      <td>0.392596</td>\n",
       "    </tr>\n",
       "    <tr>\n",
       "      <th>1</th>\n",
       "      <td>0.291521</td>\n",
       "      <td>0.127899</td>\n",
       "      <td>blue</td>\n",
       "      <td>0.590476</td>\n",
       "    </tr>\n",
       "    <tr>\n",
       "      <th>2</th>\n",
       "      <td>0.550864</td>\n",
       "      <td>0.930875</td>\n",
       "      <td>orange</td>\n",
       "      <td>0.474666</td>\n",
       "    </tr>\n",
       "    <tr>\n",
       "      <th>3</th>\n",
       "      <td>0.880225</td>\n",
       "      <td>0.461093</td>\n",
       "      <td>orange</td>\n",
       "      <td>0.135913</td>\n",
       "    </tr>\n",
       "    <tr>\n",
       "      <th>4</th>\n",
       "      <td>0.509834</td>\n",
       "      <td>0.361129</td>\n",
       "      <td>blue</td>\n",
       "      <td>0.277426</td>\n",
       "    </tr>\n",
       "    <tr>\n",
       "      <th>5</th>\n",
       "      <td>0.613147</td>\n",
       "      <td>0.480037</td>\n",
       "      <td>orange</td>\n",
       "      <td>0.138301</td>\n",
       "    </tr>\n",
       "    <tr>\n",
       "      <th>6</th>\n",
       "      <td>0.317635</td>\n",
       "      <td>0.868869</td>\n",
       "      <td>orange</td>\n",
       "      <td>0.568334</td>\n",
       "    </tr>\n",
       "    <tr>\n",
       "      <th>7</th>\n",
       "      <td>0.175169</td>\n",
       "      <td>0.716710</td>\n",
       "      <td>blue</td>\n",
       "      <td>0.614324</td>\n",
       "    </tr>\n",
       "    <tr>\n",
       "      <th>8</th>\n",
       "      <td>0.466025</td>\n",
       "      <td>0.953930</td>\n",
       "      <td>orange</td>\n",
       "      <td>0.535438</td>\n",
       "    </tr>\n",
       "    <tr>\n",
       "      <th>9</th>\n",
       "      <td>0.576934</td>\n",
       "      <td>0.011307</td>\n",
       "      <td>blue</td>\n",
       "      <td>0.518433</td>\n",
       "    </tr>\n",
       "    <tr>\n",
       "      <th>10</th>\n",
       "      <td>0.843668</td>\n",
       "      <td>0.173609</td>\n",
       "      <td>orange</td>\n",
       "      <td>0.339566</td>\n",
       "    </tr>\n",
       "    <tr>\n",
       "      <th>11</th>\n",
       "      <td>0.433384</td>\n",
       "      <td>0.319587</td>\n",
       "      <td>blue</td>\n",
       "      <td>0.364410</td>\n",
       "    </tr>\n",
       "    <tr>\n",
       "      <th>12</th>\n",
       "      <td>0.127384</td>\n",
       "      <td>0.086403</td>\n",
       "      <td>blue</td>\n",
       "      <td>0.747471</td>\n",
       "    </tr>\n",
       "    <tr>\n",
       "      <th>13</th>\n",
       "      <td>0.529869</td>\n",
       "      <td>0.881569</td>\n",
       "      <td>orange</td>\n",
       "      <td>0.440514</td>\n",
       "    </tr>\n",
       "    <tr>\n",
       "      <th>14</th>\n",
       "      <td>0.910112</td>\n",
       "      <td>0.636222</td>\n",
       "      <td>orange</td>\n",
       "      <td>0.210220</td>\n",
       "    </tr>\n",
       "    <tr>\n",
       "      <th>15</th>\n",
       "      <td>0.253330</td>\n",
       "      <td>0.312039</td>\n",
       "      <td>blue</td>\n",
       "      <td>0.531047</td>\n",
       "    </tr>\n",
       "    <tr>\n",
       "      <th>16</th>\n",
       "      <td>0.097562</td>\n",
       "      <td>0.321490</td>\n",
       "      <td>blue</td>\n",
       "      <td>0.676418</td>\n",
       "    </tr>\n",
       "    <tr>\n",
       "      <th>17</th>\n",
       "      <td>0.026417</td>\n",
       "      <td>0.437031</td>\n",
       "      <td>blue</td>\n",
       "      <td>0.726318</td>\n",
       "    </tr>\n",
       "    <tr>\n",
       "      <th>18</th>\n",
       "      <td>0.777910</td>\n",
       "      <td>0.015990</td>\n",
       "      <td>blue</td>\n",
       "      <td>0.484814</td>\n",
       "    </tr>\n",
       "    <tr>\n",
       "      <th>19</th>\n",
       "      <td>0.180380</td>\n",
       "      <td>0.767186</td>\n",
       "      <td>blue</td>\n",
       "      <td>0.629170</td>\n",
       "    </tr>\n",
       "    <tr>\n",
       "      <th>20</th>\n",
       "      <td>0.587685</td>\n",
       "      <td>0.670832</td>\n",
       "      <td>orange</td>\n",
       "      <td>0.235647</td>\n",
       "    </tr>\n",
       "    <tr>\n",
       "      <th>21</th>\n",
       "      <td>0.891290</td>\n",
       "      <td>0.960202</td>\n",
       "      <td>orange</td>\n",
       "      <td>0.481403</td>\n",
       "    </tr>\n",
       "    <tr>\n",
       "      <th>22</th>\n",
       "      <td>0.433554</td>\n",
       "      <td>0.982164</td>\n",
       "      <td>orange</td>\n",
       "      <td>0.576733</td>\n",
       "    </tr>\n",
       "    <tr>\n",
       "      <th>23</th>\n",
       "      <td>0.274775</td>\n",
       "      <td>0.140422</td>\n",
       "      <td>blue</td>\n",
       "      <td>0.595932</td>\n",
       "    </tr>\n",
       "    <tr>\n",
       "      <th>24</th>\n",
       "      <td>0.412204</td>\n",
       "      <td>0.060636</td>\n",
       "      <td>blue</td>\n",
       "      <td>0.554208</td>\n",
       "    </tr>\n",
       "    <tr>\n",
       "      <th>25</th>\n",
       "      <td>0.447242</td>\n",
       "      <td>0.172017</td>\n",
       "      <td>blue</td>\n",
       "      <td>0.446357</td>\n",
       "    </tr>\n",
       "    <tr>\n",
       "      <th>26</th>\n",
       "      <td>0.327367</td>\n",
       "      <td>0.022225</td>\n",
       "      <td>blue</td>\n",
       "      <td>0.637877</td>\n",
       "    </tr>\n",
       "    <tr>\n",
       "      <th>27</th>\n",
       "      <td>0.472076</td>\n",
       "      <td>0.083595</td>\n",
       "      <td>blue</td>\n",
       "      <td>0.500635</td>\n",
       "    </tr>\n",
       "    <tr>\n",
       "      <th>28</th>\n",
       "      <td>0.380085</td>\n",
       "      <td>0.402393</td>\n",
       "      <td>blue</td>\n",
       "      <td>0.382576</td>\n",
       "    </tr>\n",
       "    <tr>\n",
       "      <th>29</th>\n",
       "      <td>0.002712</td>\n",
       "      <td>0.715886</td>\n",
       "      <td>blue</td>\n",
       "      <td>0.777847</td>\n",
       "    </tr>\n",
       "    <tr>\n",
       "      <th>30</th>\n",
       "      <td>0.359987</td>\n",
       "      <td>0.416037</td>\n",
       "      <td>blue</td>\n",
       "      <td>0.398948</td>\n",
       "    </tr>\n",
       "    <tr>\n",
       "      <th>31</th>\n",
       "      <td>0.313349</td>\n",
       "      <td>0.007292</td>\n",
       "      <td>blue</td>\n",
       "      <td>0.658351</td>\n",
       "    </tr>\n",
       "    <tr>\n",
       "      <th>32</th>\n",
       "      <td>0.819458</td>\n",
       "      <td>0.113520</td>\n",
       "      <td>blue</td>\n",
       "      <td>0.392671</td>\n",
       "    </tr>\n",
       "    <tr>\n",
       "      <th>33</th>\n",
       "      <td>0.676811</td>\n",
       "      <td>0.028108</td>\n",
       "      <td>blue</td>\n",
       "      <td>0.477534</td>\n",
       "    </tr>\n",
       "    <tr>\n",
       "      <th>34</th>\n",
       "      <td>0.451359</td>\n",
       "      <td>0.489766</td>\n",
       "      <td>blue</td>\n",
       "      <td>0.298817</td>\n",
       "    </tr>\n",
       "    <tr>\n",
       "      <th>35</th>\n",
       "      <td>0.239184</td>\n",
       "      <td>0.603899</td>\n",
       "      <td>blue</td>\n",
       "      <td>0.521275</td>\n",
       "    </tr>\n",
       "    <tr>\n",
       "      <th>36</th>\n",
       "      <td>0.938542</td>\n",
       "      <td>0.354672</td>\n",
       "      <td>orange</td>\n",
       "      <td>0.238051</td>\n",
       "    </tr>\n",
       "    <tr>\n",
       "      <th>37</th>\n",
       "      <td>0.175237</td>\n",
       "      <td>0.570555</td>\n",
       "      <td>blue</td>\n",
       "      <td>0.579078</td>\n",
       "    </tr>\n",
       "    <tr>\n",
       "      <th>38</th>\n",
       "      <td>0.483193</td>\n",
       "      <td>0.506963</td>\n",
       "      <td>blue</td>\n",
       "      <td>0.266898</td>\n",
       "    </tr>\n",
       "    <tr>\n",
       "      <th>39</th>\n",
       "      <td>0.856574</td>\n",
       "      <td>0.632951</td>\n",
       "      <td>orange</td>\n",
       "      <td>0.170394</td>\n",
       "    </tr>\n",
       "    <tr>\n",
       "      <th>40</th>\n",
       "      <td>0.869488</td>\n",
       "      <td>0.280554</td>\n",
       "      <td>orange</td>\n",
       "      <td>0.249868</td>\n",
       "    </tr>\n",
       "    <tr>\n",
       "      <th>41</th>\n",
       "      <td>0.904731</td>\n",
       "      <td>0.611766</td>\n",
       "      <td>orange</td>\n",
       "      <td>0.190875</td>\n",
       "    </tr>\n",
       "    <tr>\n",
       "      <th>42</th>\n",
       "      <td>0.371397</td>\n",
       "      <td>0.623431</td>\n",
       "      <td>blue</td>\n",
       "      <td>0.398215</td>\n",
       "    </tr>\n",
       "    <tr>\n",
       "      <th>43</th>\n",
       "      <td>0.484868</td>\n",
       "      <td>0.746879</td>\n",
       "      <td>orange</td>\n",
       "      <td>0.362276</td>\n",
       "    </tr>\n",
       "    <tr>\n",
       "      <th>44</th>\n",
       "      <td>0.821402</td>\n",
       "      <td>0.758513</td>\n",
       "      <td>orange</td>\n",
       "      <td>0.268193</td>\n",
       "    </tr>\n",
       "    <tr>\n",
       "      <th>45</th>\n",
       "      <td>0.013285</td>\n",
       "      <td>0.625703</td>\n",
       "      <td>blue</td>\n",
       "      <td>0.747363</td>\n",
       "    </tr>\n",
       "    <tr>\n",
       "      <th>46</th>\n",
       "      <td>0.223083</td>\n",
       "      <td>0.237584</td>\n",
       "      <td>blue</td>\n",
       "      <td>0.588646</td>\n",
       "    </tr>\n",
       "    <tr>\n",
       "      <th>47</th>\n",
       "      <td>0.044075</td>\n",
       "      <td>0.795126</td>\n",
       "      <td>blue</td>\n",
       "      <td>0.765134</td>\n",
       "    </tr>\n",
       "    <tr>\n",
       "      <th>48</th>\n",
       "      <td>0.041440</td>\n",
       "      <td>0.771134</td>\n",
       "      <td>blue</td>\n",
       "      <td>0.758664</td>\n",
       "    </tr>\n",
       "    <tr>\n",
       "      <th>49</th>\n",
       "      <td>0.795256</td>\n",
       "      <td>0.991149</td>\n",
       "      <td>orange</td>\n",
       "      <td>0.493230</td>\n",
       "    </tr>\n",
       "  </tbody>\n",
       "</table>\n",
       "</div>"
      ],
      "text/plain": [
       "           x         y True_label  distance\n",
       "0   0.708796  0.890428     orange  0.392596\n",
       "1   0.291521  0.127899       blue  0.590476\n",
       "2   0.550864  0.930875     orange  0.474666\n",
       "3   0.880225  0.461093     orange  0.135913\n",
       "4   0.509834  0.361129       blue  0.277426\n",
       "5   0.613147  0.480037     orange  0.138301\n",
       "6   0.317635  0.868869     orange  0.568334\n",
       "7   0.175169  0.716710       blue  0.614324\n",
       "8   0.466025  0.953930     orange  0.535438\n",
       "9   0.576934  0.011307       blue  0.518433\n",
       "10  0.843668  0.173609     orange  0.339566\n",
       "11  0.433384  0.319587       blue  0.364410\n",
       "12  0.127384  0.086403       blue  0.747471\n",
       "13  0.529869  0.881569     orange  0.440514\n",
       "14  0.910112  0.636222     orange  0.210220\n",
       "15  0.253330  0.312039       blue  0.531047\n",
       "16  0.097562  0.321490       blue  0.676418\n",
       "17  0.026417  0.437031       blue  0.726318\n",
       "18  0.777910  0.015990       blue  0.484814\n",
       "19  0.180380  0.767186       blue  0.629170\n",
       "20  0.587685  0.670832     orange  0.235647\n",
       "21  0.891290  0.960202     orange  0.481403\n",
       "22  0.433554  0.982164     orange  0.576733\n",
       "23  0.274775  0.140422       blue  0.595932\n",
       "24  0.412204  0.060636       blue  0.554208\n",
       "25  0.447242  0.172017       blue  0.446357\n",
       "26  0.327367  0.022225       blue  0.637877\n",
       "27  0.472076  0.083595       blue  0.500635\n",
       "28  0.380085  0.402393       blue  0.382576\n",
       "29  0.002712  0.715886       blue  0.777847\n",
       "30  0.359987  0.416037       blue  0.398948\n",
       "31  0.313349  0.007292       blue  0.658351\n",
       "32  0.819458  0.113520       blue  0.392671\n",
       "33  0.676811  0.028108       blue  0.477534\n",
       "34  0.451359  0.489766       blue  0.298817\n",
       "35  0.239184  0.603899       blue  0.521275\n",
       "36  0.938542  0.354672     orange  0.238051\n",
       "37  0.175237  0.570555       blue  0.579078\n",
       "38  0.483193  0.506963       blue  0.266898\n",
       "39  0.856574  0.632951     orange  0.170394\n",
       "40  0.869488  0.280554     orange  0.249868\n",
       "41  0.904731  0.611766     orange  0.190875\n",
       "42  0.371397  0.623431       blue  0.398215\n",
       "43  0.484868  0.746879     orange  0.362276\n",
       "44  0.821402  0.758513     orange  0.268193\n",
       "45  0.013285  0.625703       blue  0.747363\n",
       "46  0.223083  0.237584       blue  0.588646\n",
       "47  0.044075  0.795126       blue  0.765134\n",
       "48  0.041440  0.771134       blue  0.758664\n",
       "49  0.795256  0.991149     orange  0.493230"
      ]
     },
     "execution_count": 13,
     "metadata": {},
     "output_type": "execute_result"
    }
   ],
   "source": [
    "distance(x0, y0, df.x, df.y)"
   ]
  },
  {
   "cell_type": "markdown",
   "metadata": {},
   "source": [
    "Now, I make an order of my dataset by increasing distances to my new point"
   ]
  },
  {
   "cell_type": "code",
   "execution_count": 14,
   "metadata": {},
   "outputs": [],
   "source": [
    "df = df.sort_values('distance', ascending = True, ignore_index= True)"
   ]
  },
  {
   "cell_type": "markdown",
   "metadata": {},
   "source": [
    "### 3. Pick a value for K. For example, K = 3."
   ]
  },
  {
   "cell_type": "code",
   "execution_count": 15,
   "metadata": {},
   "outputs": [],
   "source": [
    "K = 9"
   ]
  },
  {
   "cell_type": "markdown",
   "metadata": {},
   "source": [
    "### 4. In a new object, copy the K first rows of your dataset that was previously ordered by ascending values of the distance to the new point: this allows you to keep the K nearest neighbors."
   ]
  },
  {
   "cell_type": "code",
   "execution_count": 16,
   "metadata": {},
   "outputs": [],
   "source": [
    "df2 = df.loc[0:K-1, :]"
   ]
  },
  {
   "cell_type": "code",
   "execution_count": 17,
   "metadata": {},
   "outputs": [
    {
     "data": {
      "text/html": [
       "<div>\n",
       "<style scoped>\n",
       "    .dataframe tbody tr th:only-of-type {\n",
       "        vertical-align: middle;\n",
       "    }\n",
       "\n",
       "    .dataframe tbody tr th {\n",
       "        vertical-align: top;\n",
       "    }\n",
       "\n",
       "    .dataframe thead th {\n",
       "        text-align: right;\n",
       "    }\n",
       "</style>\n",
       "<table border=\"1\" class=\"dataframe\">\n",
       "  <thead>\n",
       "    <tr style=\"text-align: right;\">\n",
       "      <th></th>\n",
       "      <th>x</th>\n",
       "      <th>y</th>\n",
       "      <th>True_label</th>\n",
       "      <th>distance</th>\n",
       "    </tr>\n",
       "  </thead>\n",
       "  <tbody>\n",
       "    <tr>\n",
       "      <th>0</th>\n",
       "      <td>0.880225</td>\n",
       "      <td>0.461093</td>\n",
       "      <td>orange</td>\n",
       "      <td>0.135913</td>\n",
       "    </tr>\n",
       "    <tr>\n",
       "      <th>1</th>\n",
       "      <td>0.613147</td>\n",
       "      <td>0.480037</td>\n",
       "      <td>orange</td>\n",
       "      <td>0.138301</td>\n",
       "    </tr>\n",
       "    <tr>\n",
       "      <th>2</th>\n",
       "      <td>0.856574</td>\n",
       "      <td>0.632951</td>\n",
       "      <td>orange</td>\n",
       "      <td>0.170394</td>\n",
       "    </tr>\n",
       "    <tr>\n",
       "      <th>3</th>\n",
       "      <td>0.904731</td>\n",
       "      <td>0.611766</td>\n",
       "      <td>orange</td>\n",
       "      <td>0.190875</td>\n",
       "    </tr>\n",
       "    <tr>\n",
       "      <th>4</th>\n",
       "      <td>0.910112</td>\n",
       "      <td>0.636222</td>\n",
       "      <td>orange</td>\n",
       "      <td>0.210220</td>\n",
       "    </tr>\n",
       "    <tr>\n",
       "      <th>5</th>\n",
       "      <td>0.587685</td>\n",
       "      <td>0.670832</td>\n",
       "      <td>orange</td>\n",
       "      <td>0.235647</td>\n",
       "    </tr>\n",
       "    <tr>\n",
       "      <th>6</th>\n",
       "      <td>0.938542</td>\n",
       "      <td>0.354672</td>\n",
       "      <td>orange</td>\n",
       "      <td>0.238051</td>\n",
       "    </tr>\n",
       "    <tr>\n",
       "      <th>7</th>\n",
       "      <td>0.869488</td>\n",
       "      <td>0.280554</td>\n",
       "      <td>orange</td>\n",
       "      <td>0.249868</td>\n",
       "    </tr>\n",
       "    <tr>\n",
       "      <th>8</th>\n",
       "      <td>0.483193</td>\n",
       "      <td>0.506963</td>\n",
       "      <td>blue</td>\n",
       "      <td>0.266898</td>\n",
       "    </tr>\n",
       "  </tbody>\n",
       "</table>\n",
       "</div>"
      ],
      "text/plain": [
       "          x         y True_label  distance\n",
       "0  0.880225  0.461093     orange  0.135913\n",
       "1  0.613147  0.480037     orange  0.138301\n",
       "2  0.856574  0.632951     orange  0.170394\n",
       "3  0.904731  0.611766     orange  0.190875\n",
       "4  0.910112  0.636222     orange  0.210220\n",
       "5  0.587685  0.670832     orange  0.235647\n",
       "6  0.938542  0.354672     orange  0.238051\n",
       "7  0.869488  0.280554     orange  0.249868\n",
       "8  0.483193  0.506963       blue  0.266898"
      ]
     },
     "execution_count": 17,
     "metadata": {},
     "output_type": "execute_result"
    }
   ],
   "source": [
    "df2"
   ]
  },
  {
   "cell_type": "markdown",
   "metadata": {},
   "source": [
    "### 5. Plot the points of this dataset in a different color."
   ]
  },
  {
   "cell_type": "code",
   "execution_count": 18,
   "metadata": {},
   "outputs": [
    {
     "data": {
      "text/plain": [
       "<matplotlib.collections.PathCollection at 0x7f7ee19c6520>"
      ]
     },
     "execution_count": 18,
     "metadata": {},
     "output_type": "execute_result"
    },
    {
     "data": {
      "image/png": "[encoded data removed]",
      "text/plain": [
       "<Figure size 432x288 with 1 Axes>"
      ]
     },
     "metadata": {
      "needs_background": "light"
     },
     "output_type": "display_data"
    }
   ],
   "source": [
    "plt.scatter(df.x, df.y, c= df.True_label) #plot our observation in 2 diffrence color \n",
    "plt.scatter(df2.x, df2.y, c= 'green')  #plot the 9 nearest neighbors of new point as green color\n",
    "plt.scatter(x0, y0, color = \"red\") #add new point "
   ]
  },
  {
   "cell_type": "markdown",
   "metadata": {},
   "source": [
    "In this grapth, when we set the green color for the group of 3 nearest point of the new point (x0, y0), we can the this sub - group is inside of orange group, so it means probably, the new point is an orange point"
   ]
  },
  {
   "cell_type": "markdown",
   "metadata": {},
   "source": [
    "### 6. Based on that dataset with only the K nearest neighbors, compute the number of \"blue\" and the number of \"orange\", then provide an estimation of the probability for the new observation to be blue."
   ]
  },
  {
   "cell_type": "code",
   "execution_count": 19,
   "metadata": {},
   "outputs": [
    {
     "data": {
      "text/plain": [
       "8"
      ]
     },
     "execution_count": 19,
     "metadata": {},
     "output_type": "execute_result"
    }
   ],
   "source": [
    "#Number of orange\n",
    "orange = len(df2.loc[df2.True_label == \"orange\"])\n",
    "orange\n"
   ]
  },
  {
   "cell_type": "code",
   "execution_count": 20,
   "metadata": {},
   "outputs": [
    {
     "data": {
      "text/plain": [
       "0.8888888888888888"
      ]
     },
     "execution_count": 20,
     "metadata": {},
     "output_type": "execute_result"
    }
   ],
   "source": [
    "#probability for new observation to be orange \n",
    "proba_orange = orange/len(df2.index)\n",
    "proba_orange"
   ]
  },
  {
   "cell_type": "code",
   "execution_count": 21,
   "metadata": {},
   "outputs": [
    {
     "data": {
      "text/plain": [
       "1"
      ]
     },
     "execution_count": 21,
     "metadata": {},
     "output_type": "execute_result"
    }
   ],
   "source": [
    "#number of blue\n",
    "len(df2.loc[df2.True_label == \"blue\"])"
   ]
  },
  {
   "cell_type": "code",
   "execution_count": 22,
   "metadata": {},
   "outputs": [
    {
     "data": {
      "text/plain": [
       "0.11111111111111116"
      ]
     },
     "execution_count": 22,
     "metadata": {},
     "output_type": "execute_result"
    }
   ],
   "source": [
    "#probability for new observation to be blue\n",
    "proba_blue = 1 - proba_orange\n",
    "proba_blue"
   ]
  },
  {
   "cell_type": "markdown",
   "metadata": {},
   "source": [
    "### 7. Based on that probability, assign a predicted class to your new observation."
   ]
  },
  {
   "cell_type": "markdown",
   "metadata": {},
   "source": [
    "We can see that from K = 9 points closest to the new point, and 8 points were in orange color, one in blue. Therefore we have the output for new point should belong to class orange color with probability is 88.88%"
   ]
  },
  {
   "cell_type": "markdown",
   "metadata": {},
   "source": [
    "### 8. Set a different value for K and look at how it may change your prediction."
   ]
  },
  {
   "cell_type": "code",
   "execution_count": 23,
   "metadata": {},
   "outputs": [
    {
     "data": {
      "image/png": "[encoded data removed]",
      "text/plain": [
       "<Figure size 432x288 with 1 Axes>"
      ]
     },
     "metadata": {
      "needs_background": "light"
     },
     "output_type": "display_data"
    }
   ],
   "source": [
    "list_proba = []\n",
    "for K in range(2,15):\n",
    "    df2 = df.loc[0:K-1, :]\n",
    "    proba_orange = len(df2.loc[df2.True_label == \"orange\"])/len(df2.index)\n",
    "    list_proba.append(proba_orange)\n",
    "plt.plot(range(2,15), list_proba, 'o-')\n",
    "plt.show()\n",
    "#The probability of new point will be orange by increasing the number of K "
   ]
  },
  {
   "cell_type": "markdown",
   "metadata": {},
   "source": [
    "This graph illustrates that The probability of new point will be an orange point was decreased as a function of increasing of K. Because K indices the number of nearest neighbors for the new point, when we increase the distance between the new point with their neighbors, the probability to be an orange point will be decreased. Therefore, K has an important role that effects KNN performance. "
   ]
  }
 ],
 "metadata": {
  "interpreter": {
   "hash": "40d3a090f54c6569ab1632332b64b2c03c39dcf918b08424e98f38b5ae0af88f"
  },
  "kernelspec": {
   "display_name": "Python 3.9.12 ('base')",
   "language": "python",
   "name": "python3"
  },
  "language_info": {
   "codemirror_mode": {
    "name": "ipython",
    "version": 3
   },
   "file_extension": ".py",
   "mimetype": "text/x-python",
   "name": "python",
   "nbconvert_exporter": "python",
   "pygments_lexer": "ipython3",
   "version": "3.9.12"
  },
  "orig_nbformat": 4
 },
 "nbformat": 4,
 "nbformat_minor": 2
}
