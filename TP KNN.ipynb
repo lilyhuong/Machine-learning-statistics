{
 "cells": [
  {
   "cell_type": "markdown",
   "metadata": {},
   "source": [
    "# Machine learning and statistical learning\n",
    "## K-Nearest Neighbors"
   ]
  },
  {
   "cell_type": "markdown",
   "metadata": {},
   "source": [
    "**<font color = red>NGUYEN Thi Huong</font>**\n",
    "\n",
    "**<font color = red>MAG3</font>**"
   ]
  },
  {
   "cell_type": "markdown",
   "metadata": {},
   "source": [
    "## 1. Context\n",
    "In this exercise, you will build a classifier using the K-Nearest Neighbors algorithm.\n",
    "\n",
    "## 2. Lab setup: generating data"
   ]
  },
  {
   "cell_type": "markdown",
   "metadata": {},
   "source": [
    "In a first step, you will generate data. To do so:\n",
    "### 1. Draw n = 50 observations in a unit square. To do so:\n",
    "\n",
    "• randomly generate 50 observations from a Beta distribution with parameters α = β = 1 and store the drawn values in an object you will call x.\n",
    "\n",
    "• Do the same procedure and store the draws in an object you will call y."
   ]
  },
  {
   "cell_type": "code",
   "execution_count": 3,
   "metadata": {},
   "outputs": [],
   "source": [
    "import numpy as np\n",
    "import pandas as pd\n",
    "import matplotlib.pyplot as plt"
   ]
  },
  {
   "cell_type": "code",
   "execution_count": 4,
   "metadata": {},
   "outputs": [],
   "source": [
    "x = np.random.beta(1, 1, size = 50)\n",
    "y = np.random.beta(1, 1, size = 50)"
   ]
  },
  {
   "cell_type": "code",
   "execution_count": 5,
   "metadata": {},
   "outputs": [
    {
     "data": {
      "text/plain": [
       "array([0.56221971, 0.51772845, 0.31604462, 0.76274349, 0.16840862,\n",
       "       0.51227224, 0.68890685, 0.26365219, 0.20252064, 0.63504551,\n",
       "       0.52049544, 0.42907699, 0.54045549, 0.59617319, 0.24277012,\n",
       "       0.74858269, 0.77227489, 0.61120733, 0.43678563, 0.61928814,\n",
       "       0.6046294 , 0.07718508, 0.023046  , 0.73036527, 0.93629811,\n",
       "       0.97082186, 0.49383635, 0.40762076, 0.95685935, 0.71210308,\n",
       "       0.88425492, 0.48541133, 0.01491883, 0.53073418, 0.13239886,\n",
       "       0.47057979, 0.76031003, 0.84939682, 0.57587115, 0.21503576,\n",
       "       0.47015523, 0.56152422, 0.29989428, 0.07803903, 0.9112172 ,\n",
       "       0.94210453, 0.91035534, 0.08670191, 0.83496756, 0.52719408])"
      ]
     },
     "execution_count": 5,
     "metadata": {},
     "output_type": "execute_result"
    }
   ],
   "source": [
    "x"
   ]
  },
  {
   "cell_type": "code",
   "execution_count": 6,
   "metadata": {},
   "outputs": [
    {
     "data": {
      "text/plain": [
       "array([0.19395416, 0.82578311, 0.8159248 , 0.71522691, 0.6179104 ,\n",
       "       0.47847571, 0.83609303, 0.24114874, 0.99648889, 0.4619453 ,\n",
       "       0.31664047, 0.0850266 , 0.15603284, 0.41889295, 0.63612461,\n",
       "       0.79933145, 0.21013758, 0.52264041, 0.18962613, 0.72425517,\n",
       "       0.33110052, 0.13947327, 0.14549138, 0.89446132, 0.49135686,\n",
       "       0.88663335, 0.93207979, 0.74936977, 0.5526662 , 0.59646013,\n",
       "       0.37724136, 0.61852968, 0.12498065, 0.67801374, 0.866785  ,\n",
       "       0.1126531 , 0.22102682, 0.23679058, 0.42278523, 0.12313071,\n",
       "       0.31763856, 0.8332431 , 0.40681522, 0.9196772 , 0.09274389,\n",
       "       0.73231926, 0.15248019, 0.02532372, 0.2440833 , 0.93716949])"
      ]
     },
     "execution_count": 6,
     "metadata": {},
     "output_type": "execute_result"
    }
   ],
   "source": [
    "y"
   ]
  },
  {
   "cell_type": "markdown",
   "metadata": {},
   "source": [
    "### 2. Create a vector you will call true_label of size n = 50 which will contain the true labels: “orange” or “blue”\n",
    "• “orange” if x + y ≥ 1\n",
    "\n",
    "• “blue” otherwise."
   ]
  },
  {
   "cell_type": "code",
   "execution_count": 7,
   "metadata": {},
   "outputs": [],
   "source": [
    "true_label = np.where((x + y) > 1, \"orange\", \"blue\")"
   ]
  },
  {
   "cell_type": "markdown",
   "metadata": {},
   "source": [
    "### 3. Create a new point ($x_0, y_0$) at which you will try to assign a label, depending on the values of the nearest neighbors. For example: ($x_0 = 0.75, y_0 = 0.5$). "
   ]
  },
  {
   "cell_type": "code",
   "execution_count": 8,
   "metadata": {},
   "outputs": [],
   "source": [
    "x0 = 0.75\n",
    "y0 = 0.5"
   ]
  },
  {
   "cell_type": "markdown",
   "metadata": {},
   "source": [
    "### 4. Create a matrix with 3 columns: the x and y coordinates of your generated points, and the assigned label."
   ]
  },
  {
   "cell_type": "code",
   "execution_count": 9,
   "metadata": {},
   "outputs": [
    {
     "data": {
      "text/plain": [
       "array([['0.562219706273212', '0.5177284523743413', '0.31604461708124965',\n",
       "        '0.7627434851656981', '0.16840861672978022',\n",
       "        '0.5122722387532663', '0.6889068486872157', '0.2636521909341289',\n",
       "        '0.2025206370407682', '0.6350455086837619', '0.520495441509532',\n",
       "        '0.4290769881091467', '0.540455486718556', '0.5961731882156623',\n",
       "        '0.24277012385588206', '0.748582691344127', '0.7722748893375543',\n",
       "        '0.611207334739008', '0.43678563435456697', '0.6192881417956884',\n",
       "        '0.6046293963328541', '0.07718507564903677',\n",
       "        '0.023046003503394235', '0.7303652729866833',\n",
       "        '0.9362981138347265', '0.970821856129161', '0.4938363536356886',\n",
       "        '0.40762075886175425', '0.9568593510078249',\n",
       "        '0.7121030837694848', '0.8842549224317859', '0.4854113301102609',\n",
       "        '0.014918828535720912', '0.5307341764496748',\n",
       "        '0.13239885982848457', '0.47057978697690955',\n",
       "        '0.7603100251891899', '0.8493968150461441', '0.5758711511192582',\n",
       "        '0.21503575998395055', '0.4701552295979817', '0.56152422021818',\n",
       "        '0.2998942765386895', '0.07803903162343558', '0.911217196111092',\n",
       "        '0.9421045264279283', '0.9103553373698929',\n",
       "        '0.08670191087213816', '0.8349675639230398',\n",
       "        '0.5271940758974308'],\n",
       "       ['0.19395415714265496', '0.8257831113743301',\n",
       "        '0.8159247975453802', '0.7152269057385283', '0.617910400084194',\n",
       "        '0.47847570723666727', '0.8360930347094933',\n",
       "        '0.24114874011334803', '0.9964888884816067',\n",
       "        '0.4619452988374177', '0.3166404656919219',\n",
       "        '0.08502659665433732', '0.15603284469788972',\n",
       "        '0.4188929470753534', '0.6361246082727016', '0.7993314452489847',\n",
       "        '0.2101375758932373', '0.5226404107988982',\n",
       "        '0.18962612903658005', '0.7242551671905555',\n",
       "        '0.3311005191235778', '0.1394732699245755', '0.1454913835593575',\n",
       "        '0.8944613228622269', '0.49135686238439225',\n",
       "        '0.8866333544751595', '0.932079787130349', '0.749369773284376',\n",
       "        '0.5526662003520781', '0.5964601292639479', '0.3772413570894878',\n",
       "        '0.6185296825127979', '0.1249806522529163', '0.678013738587876',\n",
       "        '0.8667849974299593', '0.11265310488983195',\n",
       "        '0.22102681718321263', '0.23679057614117538',\n",
       "        '0.42278522550060904', '0.12313070924425334',\n",
       "        '0.3176385612892077', '0.8332431027430413',\n",
       "        '0.40681521802042053', '0.9196772045838373',\n",
       "        '0.09274389366992375', '0.7323192636915924',\n",
       "        '0.15248018909074829', '0.025323720757493645',\n",
       "        '0.24408329754174202', '0.9371694879038748'],\n",
       "       ['blue', 'orange', 'orange', 'orange', 'blue', 'blue', 'orange',\n",
       "        'blue', 'orange', 'orange', 'blue', 'blue', 'blue', 'orange',\n",
       "        'blue', 'orange', 'blue', 'orange', 'blue', 'orange', 'blue',\n",
       "        'blue', 'blue', 'orange', 'orange', 'orange', 'orange', 'orange',\n",
       "        'orange', 'orange', 'orange', 'orange', 'blue', 'orange', 'blue',\n",
       "        'blue', 'blue', 'orange', 'blue', 'blue', 'blue', 'orange',\n",
       "        'blue', 'blue', 'orange', 'orange', 'orange', 'blue', 'orange',\n",
       "        'orange']], dtype='<U32')"
      ]
     },
     "execution_count": 9,
     "metadata": {},
     "output_type": "execute_result"
    }
   ],
   "source": [
    "matrix = np.array([x, y, true_label])\n",
    "matrix"
   ]
  },
  {
   "cell_type": "code",
   "execution_count": 10,
   "metadata": {},
   "outputs": [],
   "source": [
    "df = pd.DataFrame({\"x\":x, \"y\":y, \"True_label\":true_label})"
   ]
  },
  {
   "cell_type": "markdown",
   "metadata": {},
   "source": [
    "### 5. Plot your 50 observations on a scatter plot and add the new $(x_0, y_0)$ observation using a different color/shape."
   ]
  },
  {
   "cell_type": "code",
   "execution_count": 13,
   "metadata": {},
   "outputs": [
    {
     "data": {
      "text/plain": [
       "<matplotlib.collections.PathCollection at 0x7ff6b1c6fa30>"
      ]
     },
     "execution_count": 13,
     "metadata": {},
     "output_type": "execute_result"
    },
    {
     "data": {
      "image/png": "[encoded data removed]",
      "text/plain": [
       "<Figure size 432x288 with 1 Axes>"
      ]
     },
     "metadata": {
      "needs_background": "light"
     },
     "output_type": "display_data"
    }
   ],
   "source": [
    "plt.scatter(df.x, df.y, c= df.True_label) #plot our observation in 2 diffrence color \n",
    "plt.scatter(x0, y0, color = \"red\") #add the new point"
   ]
  },
  {
   "cell_type": "markdown",
   "metadata": {},
   "source": [
    "## 3 The algorithm"
   ]
  },
  {
   "cell_type": "markdown",
   "metadata": {},
   "source": [
    "### 1. To know which are the K closests points of your new observation, you need to compute the distance between each point of your dataset and your new observation. To that end, create a function that computes the distances between two points:"
   ]
  },
  {
   "cell_type": "code",
   "execution_count": 14,
   "metadata": {},
   "outputs": [],
   "source": [
    "def distance(xA, yA, xB, yB): \n",
    "    df[\"distance\"] = ((xA - xB) ** 2 + (yA - yB) ** 2) ** 0.5\n",
    "    return df\n"
   ]
  },
  {
   "cell_type": "markdown",
   "metadata": {},
   "source": [
    "### 2. Using a loop, apply this function to your new point (x0, y0) and each of the points in your dataset. In other words, at iteration i, store the Euclidean distance between your point (x0, y0) and the i-th point from your data, i.e., (xi , yi). Once you have computed the distance from your point (x0, y0) to all points from your dataset, order your dataset by increasing distances to your new point."
   ]
  },
  {
   "cell_type": "code",
   "execution_count": 21,
   "metadata": {},
   "outputs": [
    {
     "data": {
      "text/html": [
       "<div>\n",
       "<style scoped>\n",
       "    .dataframe tbody tr th:only-of-type {\n",
       "        vertical-align: middle;\n",
       "    }\n",
       "\n",
       "    .dataframe tbody tr th {\n",
       "        vertical-align: top;\n",
       "    }\n",
       "\n",
       "    .dataframe thead th {\n",
       "        text-align: right;\n",
       "    }\n",
       "</style>\n",
       "<table border=\"1\" class=\"dataframe\">\n",
       "  <thead>\n",
       "    <tr style=\"text-align: right;\">\n",
       "      <th></th>\n",
       "      <th>x</th>\n",
       "      <th>y</th>\n",
       "      <th>True_label</th>\n",
       "      <th>distance</th>\n",
       "    </tr>\n",
       "  </thead>\n",
       "  <tbody>\n",
       "    <tr>\n",
       "      <th>0</th>\n",
       "      <td>0.712103</td>\n",
       "      <td>0.596460</td>\n",
       "      <td>orange</td>\n",
       "      <td>0.103638</td>\n",
       "    </tr>\n",
       "    <tr>\n",
       "      <th>1</th>\n",
       "      <td>0.635046</td>\n",
       "      <td>0.461945</td>\n",
       "      <td>orange</td>\n",
       "      <td>0.121090</td>\n",
       "    </tr>\n",
       "    <tr>\n",
       "      <th>2</th>\n",
       "      <td>0.611207</td>\n",
       "      <td>0.522640</td>\n",
       "      <td>orange</td>\n",
       "      <td>0.140627</td>\n",
       "    </tr>\n",
       "    <tr>\n",
       "      <th>3</th>\n",
       "      <td>0.596173</td>\n",
       "      <td>0.418893</td>\n",
       "      <td>orange</td>\n",
       "      <td>0.173900</td>\n",
       "    </tr>\n",
       "    <tr>\n",
       "      <th>4</th>\n",
       "      <td>0.884255</td>\n",
       "      <td>0.377241</td>\n",
       "      <td>orange</td>\n",
       "      <td>0.181918</td>\n",
       "    </tr>\n",
       "    <tr>\n",
       "      <th>5</th>\n",
       "      <td>0.936298</td>\n",
       "      <td>0.491357</td>\n",
       "      <td>orange</td>\n",
       "      <td>0.186499</td>\n",
       "    </tr>\n",
       "    <tr>\n",
       "      <th>6</th>\n",
       "      <td>0.575871</td>\n",
       "      <td>0.422785</td>\n",
       "      <td>blue</td>\n",
       "      <td>0.190481</td>\n",
       "    </tr>\n",
       "    <tr>\n",
       "      <th>7</th>\n",
       "      <td>0.956859</td>\n",
       "      <td>0.552666</td>\n",
       "      <td>orange</td>\n",
       "      <td>0.213458</td>\n",
       "    </tr>\n",
       "    <tr>\n",
       "      <th>8</th>\n",
       "      <td>0.762743</td>\n",
       "      <td>0.715227</td>\n",
       "      <td>orange</td>\n",
       "      <td>0.215604</td>\n",
       "    </tr>\n",
       "    <tr>\n",
       "      <th>9</th>\n",
       "      <td>0.604629</td>\n",
       "      <td>0.331101</td>\n",
       "      <td>blue</td>\n",
       "      <td>0.222844</td>\n",
       "    </tr>\n",
       "    <tr>\n",
       "      <th>10</th>\n",
       "      <td>0.512272</td>\n",
       "      <td>0.478476</td>\n",
       "      <td>blue</td>\n",
       "      <td>0.238700</td>\n",
       "    </tr>\n",
       "    <tr>\n",
       "      <th>11</th>\n",
       "      <td>0.619288</td>\n",
       "      <td>0.724255</td>\n",
       "      <td>orange</td>\n",
       "      <td>0.259569</td>\n",
       "    </tr>\n",
       "    <tr>\n",
       "      <th>12</th>\n",
       "      <td>0.834968</td>\n",
       "      <td>0.244083</td>\n",
       "      <td>orange</td>\n",
       "      <td>0.269653</td>\n",
       "    </tr>\n",
       "    <tr>\n",
       "      <th>13</th>\n",
       "      <td>0.760310</td>\n",
       "      <td>0.221027</td>\n",
       "      <td>blue</td>\n",
       "      <td>0.279164</td>\n",
       "    </tr>\n",
       "    <tr>\n",
       "      <th>14</th>\n",
       "      <td>0.849397</td>\n",
       "      <td>0.236791</td>\n",
       "      <td>orange</td>\n",
       "      <td>0.281352</td>\n",
       "    </tr>\n",
       "    <tr>\n",
       "      <th>15</th>\n",
       "      <td>0.530734</td>\n",
       "      <td>0.678014</td>\n",
       "      <td>orange</td>\n",
       "      <td>0.282429</td>\n",
       "    </tr>\n",
       "    <tr>\n",
       "      <th>16</th>\n",
       "      <td>0.485411</td>\n",
       "      <td>0.618530</td>\n",
       "      <td>orange</td>\n",
       "      <td>0.289925</td>\n",
       "    </tr>\n",
       "    <tr>\n",
       "      <th>17</th>\n",
       "      <td>0.772275</td>\n",
       "      <td>0.210138</td>\n",
       "      <td>blue</td>\n",
       "      <td>0.290717</td>\n",
       "    </tr>\n",
       "    <tr>\n",
       "      <th>18</th>\n",
       "      <td>0.520495</td>\n",
       "      <td>0.316640</td>\n",
       "      <td>blue</td>\n",
       "      <td>0.293757</td>\n",
       "    </tr>\n",
       "    <tr>\n",
       "      <th>19</th>\n",
       "      <td>0.748583</td>\n",
       "      <td>0.799331</td>\n",
       "      <td>orange</td>\n",
       "      <td>0.299335</td>\n",
       "    </tr>\n",
       "    <tr>\n",
       "      <th>20</th>\n",
       "      <td>0.942105</td>\n",
       "      <td>0.732319</td>\n",
       "      <td>orange</td>\n",
       "      <td>0.301457</td>\n",
       "    </tr>\n",
       "    <tr>\n",
       "      <th>21</th>\n",
       "      <td>0.470155</td>\n",
       "      <td>0.317639</td>\n",
       "      <td>blue</td>\n",
       "      <td>0.334019</td>\n",
       "    </tr>\n",
       "    <tr>\n",
       "      <th>22</th>\n",
       "      <td>0.688907</td>\n",
       "      <td>0.836093</td>\n",
       "      <td>orange</td>\n",
       "      <td>0.341600</td>\n",
       "    </tr>\n",
       "    <tr>\n",
       "      <th>23</th>\n",
       "      <td>0.562220</td>\n",
       "      <td>0.193954</td>\n",
       "      <td>blue</td>\n",
       "      <td>0.359062</td>\n",
       "    </tr>\n",
       "    <tr>\n",
       "      <th>24</th>\n",
       "      <td>0.910355</td>\n",
       "      <td>0.152480</td>\n",
       "      <td>orange</td>\n",
       "      <td>0.382732</td>\n",
       "    </tr>\n",
       "    <tr>\n",
       "      <th>25</th>\n",
       "      <td>0.561524</td>\n",
       "      <td>0.833243</td>\n",
       "      <td>orange</td>\n",
       "      <td>0.382850</td>\n",
       "    </tr>\n",
       "    <tr>\n",
       "      <th>26</th>\n",
       "      <td>0.730365</td>\n",
       "      <td>0.894461</td>\n",
       "      <td>orange</td>\n",
       "      <td>0.394950</td>\n",
       "    </tr>\n",
       "    <tr>\n",
       "      <th>27</th>\n",
       "      <td>0.517728</td>\n",
       "      <td>0.825783</td>\n",
       "      <td>orange</td>\n",
       "      <td>0.400106</td>\n",
       "    </tr>\n",
       "    <tr>\n",
       "      <th>28</th>\n",
       "      <td>0.540455</td>\n",
       "      <td>0.156033</td>\n",
       "      <td>blue</td>\n",
       "      <td>0.402768</td>\n",
       "    </tr>\n",
       "    <tr>\n",
       "      <th>29</th>\n",
       "      <td>0.407621</td>\n",
       "      <td>0.749370</td>\n",
       "      <td>orange</td>\n",
       "      <td>0.423567</td>\n",
       "    </tr>\n",
       "    <tr>\n",
       "      <th>30</th>\n",
       "      <td>0.911217</td>\n",
       "      <td>0.092744</td>\n",
       "      <td>orange</td>\n",
       "      <td>0.438005</td>\n",
       "    </tr>\n",
       "    <tr>\n",
       "      <th>31</th>\n",
       "      <td>0.436786</td>\n",
       "      <td>0.189626</td>\n",
       "      <td>blue</td>\n",
       "      <td>0.440948</td>\n",
       "    </tr>\n",
       "    <tr>\n",
       "      <th>32</th>\n",
       "      <td>0.970822</td>\n",
       "      <td>0.886633</td>\n",
       "      <td>orange</td>\n",
       "      <td>0.445250</td>\n",
       "    </tr>\n",
       "    <tr>\n",
       "      <th>33</th>\n",
       "      <td>0.299894</td>\n",
       "      <td>0.406815</td>\n",
       "      <td>blue</td>\n",
       "      <td>0.459650</td>\n",
       "    </tr>\n",
       "    <tr>\n",
       "      <th>34</th>\n",
       "      <td>0.470580</td>\n",
       "      <td>0.112653</td>\n",
       "      <td>blue</td>\n",
       "      <td>0.477612</td>\n",
       "    </tr>\n",
       "    <tr>\n",
       "      <th>35</th>\n",
       "      <td>0.527194</td>\n",
       "      <td>0.937169</td>\n",
       "      <td>orange</td>\n",
       "      <td>0.490673</td>\n",
       "    </tr>\n",
       "    <tr>\n",
       "      <th>36</th>\n",
       "      <td>0.493836</td>\n",
       "      <td>0.932080</td>\n",
       "      <td>orange</td>\n",
       "      <td>0.502307</td>\n",
       "    </tr>\n",
       "    <tr>\n",
       "      <th>37</th>\n",
       "      <td>0.429077</td>\n",
       "      <td>0.085027</td>\n",
       "      <td>blue</td>\n",
       "      <td>0.524590</td>\n",
       "    </tr>\n",
       "    <tr>\n",
       "      <th>38</th>\n",
       "      <td>0.242770</td>\n",
       "      <td>0.636125</td>\n",
       "      <td>blue</td>\n",
       "      <td>0.525178</td>\n",
       "    </tr>\n",
       "    <tr>\n",
       "      <th>39</th>\n",
       "      <td>0.316045</td>\n",
       "      <td>0.815925</td>\n",
       "      <td>orange</td>\n",
       "      <td>0.536773</td>\n",
       "    </tr>\n",
       "    <tr>\n",
       "      <th>40</th>\n",
       "      <td>0.263652</td>\n",
       "      <td>0.241149</td>\n",
       "      <td>blue</td>\n",
       "      <td>0.550943</td>\n",
       "    </tr>\n",
       "    <tr>\n",
       "      <th>41</th>\n",
       "      <td>0.168409</td>\n",
       "      <td>0.617910</td>\n",
       "      <td>blue</td>\n",
       "      <td>0.593423</td>\n",
       "    </tr>\n",
       "    <tr>\n",
       "      <th>42</th>\n",
       "      <td>0.215036</td>\n",
       "      <td>0.123131</td>\n",
       "      <td>blue</td>\n",
       "      <td>0.654383</td>\n",
       "    </tr>\n",
       "    <tr>\n",
       "      <th>43</th>\n",
       "      <td>0.132399</td>\n",
       "      <td>0.866785</td>\n",
       "      <td>blue</td>\n",
       "      <td>0.718305</td>\n",
       "    </tr>\n",
       "    <tr>\n",
       "      <th>44</th>\n",
       "      <td>0.202521</td>\n",
       "      <td>0.996489</td>\n",
       "      <td>orange</td>\n",
       "      <td>0.739077</td>\n",
       "    </tr>\n",
       "    <tr>\n",
       "      <th>45</th>\n",
       "      <td>0.077185</td>\n",
       "      <td>0.139473</td>\n",
       "      <td>blue</td>\n",
       "      <td>0.763321</td>\n",
       "    </tr>\n",
       "    <tr>\n",
       "      <th>46</th>\n",
       "      <td>0.078039</td>\n",
       "      <td>0.919677</td>\n",
       "      <td>blue</td>\n",
       "      <td>0.792250</td>\n",
       "    </tr>\n",
       "    <tr>\n",
       "      <th>47</th>\n",
       "      <td>0.023046</td>\n",
       "      <td>0.145491</td>\n",
       "      <td>blue</td>\n",
       "      <td>0.808788</td>\n",
       "    </tr>\n",
       "    <tr>\n",
       "      <th>48</th>\n",
       "      <td>0.086702</td>\n",
       "      <td>0.025324</td>\n",
       "      <td>blue</td>\n",
       "      <td>0.815648</td>\n",
       "    </tr>\n",
       "    <tr>\n",
       "      <th>49</th>\n",
       "      <td>0.014919</td>\n",
       "      <td>0.124981</td>\n",
       "      <td>blue</td>\n",
       "      <td>0.825217</td>\n",
       "    </tr>\n",
       "  </tbody>\n",
       "</table>\n",
       "</div>"
      ],
      "text/plain": [
       "           x         y True_label  distance\n",
       "0   0.712103  0.596460     orange  0.103638\n",
       "1   0.635046  0.461945     orange  0.121090\n",
       "2   0.611207  0.522640     orange  0.140627\n",
       "3   0.596173  0.418893     orange  0.173900\n",
       "4   0.884255  0.377241     orange  0.181918\n",
       "5   0.936298  0.491357     orange  0.186499\n",
       "6   0.575871  0.422785       blue  0.190481\n",
       "7   0.956859  0.552666     orange  0.213458\n",
       "8   0.762743  0.715227     orange  0.215604\n",
       "9   0.604629  0.331101       blue  0.222844\n",
       "10  0.512272  0.478476       blue  0.238700\n",
       "11  0.619288  0.724255     orange  0.259569\n",
       "12  0.834968  0.244083     orange  0.269653\n",
       "13  0.760310  0.221027       blue  0.279164\n",
       "14  0.849397  0.236791     orange  0.281352\n",
       "15  0.530734  0.678014     orange  0.282429\n",
       "16  0.485411  0.618530     orange  0.289925\n",
       "17  0.772275  0.210138       blue  0.290717\n",
       "18  0.520495  0.316640       blue  0.293757\n",
       "19  0.748583  0.799331     orange  0.299335\n",
       "20  0.942105  0.732319     orange  0.301457\n",
       "21  0.470155  0.317639       blue  0.334019\n",
       "22  0.688907  0.836093     orange  0.341600\n",
       "23  0.562220  0.193954       blue  0.359062\n",
       "24  0.910355  0.152480     orange  0.382732\n",
       "25  0.561524  0.833243     orange  0.382850\n",
       "26  0.730365  0.894461     orange  0.394950\n",
       "27  0.517728  0.825783     orange  0.400106\n",
       "28  0.540455  0.156033       blue  0.402768\n",
       "29  0.407621  0.749370     orange  0.423567\n",
       "30  0.911217  0.092744     orange  0.438005\n",
       "31  0.436786  0.189626       blue  0.440948\n",
       "32  0.970822  0.886633     orange  0.445250\n",
       "33  0.299894  0.406815       blue  0.459650\n",
       "34  0.470580  0.112653       blue  0.477612\n",
       "35  0.527194  0.937169     orange  0.490673\n",
       "36  0.493836  0.932080     orange  0.502307\n",
       "37  0.429077  0.085027       blue  0.524590\n",
       "38  0.242770  0.636125       blue  0.525178\n",
       "39  0.316045  0.815925     orange  0.536773\n",
       "40  0.263652  0.241149       blue  0.550943\n",
       "41  0.168409  0.617910       blue  0.593423\n",
       "42  0.215036  0.123131       blue  0.654383\n",
       "43  0.132399  0.866785       blue  0.718305\n",
       "44  0.202521  0.996489     orange  0.739077\n",
       "45  0.077185  0.139473       blue  0.763321\n",
       "46  0.078039  0.919677       blue  0.792250\n",
       "47  0.023046  0.145491       blue  0.808788\n",
       "48  0.086702  0.025324       blue  0.815648\n",
       "49  0.014919  0.124981       blue  0.825217"
      ]
     },
     "execution_count": 21,
     "metadata": {},
     "output_type": "execute_result"
    }
   ],
   "source": [
    "distance(x0, y0, df.x, df.y)"
   ]
  },
  {
   "cell_type": "code",
   "execution_count": 20,
   "metadata": {},
   "outputs": [],
   "source": [
    "df = df.sort_values('distance', ascending = True, ignore_index= True)"
   ]
  },
  {
   "cell_type": "markdown",
   "metadata": {},
   "source": [
    "### 3. Pick a value for K. For example, K = 3."
   ]
  },
  {
   "cell_type": "code",
   "execution_count": 51,
   "metadata": {},
   "outputs": [],
   "source": [
    "K = 9"
   ]
  },
  {
   "cell_type": "markdown",
   "metadata": {},
   "source": [
    "### 4. In a new object, copy the K first rows of your dataset that was previously ordered by ascending values of the distance to the new point: this allows you to keep the K nearest neighbors."
   ]
  },
  {
   "cell_type": "code",
   "execution_count": 52,
   "metadata": {},
   "outputs": [],
   "source": [
    "df2 = df.loc[0:K-1, :]"
   ]
  },
  {
   "cell_type": "code",
   "execution_count": 53,
   "metadata": {},
   "outputs": [
    {
     "data": {
      "text/html": [
       "<div>\n",
       "<style scoped>\n",
       "    .dataframe tbody tr th:only-of-type {\n",
       "        vertical-align: middle;\n",
       "    }\n",
       "\n",
       "    .dataframe tbody tr th {\n",
       "        vertical-align: top;\n",
       "    }\n",
       "\n",
       "    .dataframe thead th {\n",
       "        text-align: right;\n",
       "    }\n",
       "</style>\n",
       "<table border=\"1\" class=\"dataframe\">\n",
       "  <thead>\n",
       "    <tr style=\"text-align: right;\">\n",
       "      <th></th>\n",
       "      <th>x</th>\n",
       "      <th>y</th>\n",
       "      <th>True_label</th>\n",
       "      <th>distance</th>\n",
       "    </tr>\n",
       "  </thead>\n",
       "  <tbody>\n",
       "    <tr>\n",
       "      <th>0</th>\n",
       "      <td>0.712103</td>\n",
       "      <td>0.596460</td>\n",
       "      <td>orange</td>\n",
       "      <td>0.103638</td>\n",
       "    </tr>\n",
       "    <tr>\n",
       "      <th>1</th>\n",
       "      <td>0.635046</td>\n",
       "      <td>0.461945</td>\n",
       "      <td>orange</td>\n",
       "      <td>0.121090</td>\n",
       "    </tr>\n",
       "    <tr>\n",
       "      <th>2</th>\n",
       "      <td>0.611207</td>\n",
       "      <td>0.522640</td>\n",
       "      <td>orange</td>\n",
       "      <td>0.140627</td>\n",
       "    </tr>\n",
       "    <tr>\n",
       "      <th>3</th>\n",
       "      <td>0.596173</td>\n",
       "      <td>0.418893</td>\n",
       "      <td>orange</td>\n",
       "      <td>0.173900</td>\n",
       "    </tr>\n",
       "    <tr>\n",
       "      <th>4</th>\n",
       "      <td>0.884255</td>\n",
       "      <td>0.377241</td>\n",
       "      <td>orange</td>\n",
       "      <td>0.181918</td>\n",
       "    </tr>\n",
       "    <tr>\n",
       "      <th>5</th>\n",
       "      <td>0.936298</td>\n",
       "      <td>0.491357</td>\n",
       "      <td>orange</td>\n",
       "      <td>0.186499</td>\n",
       "    </tr>\n",
       "    <tr>\n",
       "      <th>6</th>\n",
       "      <td>0.575871</td>\n",
       "      <td>0.422785</td>\n",
       "      <td>blue</td>\n",
       "      <td>0.190481</td>\n",
       "    </tr>\n",
       "    <tr>\n",
       "      <th>7</th>\n",
       "      <td>0.956859</td>\n",
       "      <td>0.552666</td>\n",
       "      <td>orange</td>\n",
       "      <td>0.213458</td>\n",
       "    </tr>\n",
       "    <tr>\n",
       "      <th>8</th>\n",
       "      <td>0.762743</td>\n",
       "      <td>0.715227</td>\n",
       "      <td>orange</td>\n",
       "      <td>0.215604</td>\n",
       "    </tr>\n",
       "  </tbody>\n",
       "</table>\n",
       "</div>"
      ],
      "text/plain": [
       "          x         y True_label  distance\n",
       "0  0.712103  0.596460     orange  0.103638\n",
       "1  0.635046  0.461945     orange  0.121090\n",
       "2  0.611207  0.522640     orange  0.140627\n",
       "3  0.596173  0.418893     orange  0.173900\n",
       "4  0.884255  0.377241     orange  0.181918\n",
       "5  0.936298  0.491357     orange  0.186499\n",
       "6  0.575871  0.422785       blue  0.190481\n",
       "7  0.956859  0.552666     orange  0.213458\n",
       "8  0.762743  0.715227     orange  0.215604"
      ]
     },
     "execution_count": 53,
     "metadata": {},
     "output_type": "execute_result"
    }
   ],
   "source": [
    "df2"
   ]
  },
  {
   "cell_type": "markdown",
   "metadata": {},
   "source": [
    "### 5. Plot the points of this dataset in a different color."
   ]
  },
  {
   "cell_type": "code",
   "execution_count": 54,
   "metadata": {},
   "outputs": [
    {
     "data": {
      "text/plain": [
       "<matplotlib.collections.PathCollection at 0x7ff69070ae20>"
      ]
     },
     "execution_count": 54,
     "metadata": {},
     "output_type": "execute_result"
    },
    {
     "data": {
      "image/png": "[encoded data removed]",
      "text/plain": [
       "<Figure size 432x288 with 1 Axes>"
      ]
     },
     "metadata": {
      "needs_background": "light"
     },
     "output_type": "display_data"
    }
   ],
   "source": [
    "plt.scatter(df2.x, df2.y, c= df2.distance)\n",
    "plt.scatter(x0, y0, color = \"red\")"
   ]
  },
  {
   "cell_type": "markdown",
   "metadata": {},
   "source": [
    "### 6. Based on that dataset with only the K nearest neighbors, compute the number of \"blue\" and the number of \"orange\", then provide an estimation of the probability for the new observation to be blue."
   ]
  },
  {
   "cell_type": "code",
   "execution_count": 55,
   "metadata": {},
   "outputs": [
    {
     "data": {
      "text/plain": [
       "8"
      ]
     },
     "execution_count": 55,
     "metadata": {},
     "output_type": "execute_result"
    }
   ],
   "source": [
    "#Number of orange\n",
    "orange = len(df2.loc[df2.True_label == \"orange\"])\n",
    "orange\n"
   ]
  },
  {
   "cell_type": "code",
   "execution_count": 56,
   "metadata": {},
   "outputs": [
    {
     "data": {
      "text/plain": [
       "0.8888888888888888"
      ]
     },
     "execution_count": 56,
     "metadata": {},
     "output_type": "execute_result"
    }
   ],
   "source": [
    "#probability for new observation to be orange \n",
    "proba_orange = orange/len(df2.index)\n",
    "proba_orange"
   ]
  },
  {
   "cell_type": "code",
   "execution_count": 57,
   "metadata": {},
   "outputs": [
    {
     "data": {
      "text/plain": [
       "1"
      ]
     },
     "execution_count": 57,
     "metadata": {},
     "output_type": "execute_result"
    }
   ],
   "source": [
    "#number of blue\n",
    "len(df2.loc[df2.True_label == \"blue\"])"
   ]
  },
  {
   "cell_type": "code",
   "execution_count": 58,
   "metadata": {},
   "outputs": [
    {
     "data": {
      "text/plain": [
       "0.11111111111111116"
      ]
     },
     "execution_count": 58,
     "metadata": {},
     "output_type": "execute_result"
    }
   ],
   "source": [
    "#probability for new observation to be orange \n",
    "proba_blue = 1 - proba_orange\n",
    "proba_blue"
   ]
  },
  {
   "cell_type": "markdown",
   "metadata": {},
   "source": [
    "### 7. Based on that probability, assign a predicted class to your new observation."
   ]
  },
  {
   "cell_type": "code",
   "execution_count": 71,
   "metadata": {},
   "outputs": [],
   "source": [
    "# from this question we can see that 88,88% that the new observation(x0 = 0.75, y0 = 0.5) will be orange point"
   ]
  },
  {
   "cell_type": "markdown",
   "metadata": {},
   "source": [
    "**With sklearn (not require in annoucement)**"
   ]
  },
  {
   "cell_type": "code",
   "execution_count": 61,
   "metadata": {},
   "outputs": [],
   "source": [
    "X = df[[\"x\", \"y\"]]\n",
    "y = df.True_label"
   ]
  },
  {
   "cell_type": "code",
   "execution_count": 64,
   "metadata": {},
   "outputs": [],
   "source": [
    "from sklearn.model_selection import train_test_split\n",
    "x_train, x_test, y_train, y_test = train_test_split(X, y, random_state=0, test_size=0.2)"
   ]
  },
  {
   "cell_type": "code",
   "execution_count": 65,
   "metadata": {},
   "outputs": [
    {
     "data": {
      "text/plain": [
       "KNeighborsClassifier(n_neighbors=9)"
      ]
     },
     "execution_count": 65,
     "metadata": {},
     "output_type": "execute_result"
    }
   ],
   "source": [
    "from sklearn.neighbors import KNeighborsClassifier\n",
    "neigh = KNeighborsClassifier(n_neighbors = 9)\n",
    "neigh.fit(X, y)"
   ]
  },
  {
   "cell_type": "code",
   "execution_count": 67,
   "metadata": {},
   "outputs": [
    {
     "data": {
      "text/plain": [
       "array(['orange', 'orange', 'orange', 'blue', 'orange', 'orange', 'blue',\n",
       "       'orange', 'orange', 'blue', 'blue', 'orange', 'orange', 'orange',\n",
       "       'orange', 'orange', 'orange', 'orange', 'blue', 'orange', 'orange',\n",
       "       'blue', 'orange', 'blue', 'orange', 'orange', 'orange', 'orange',\n",
       "       'blue', 'orange', 'orange', 'blue', 'orange', 'blue', 'blue',\n",
       "       'orange', 'orange', 'blue', 'blue', 'orange', 'blue', 'blue',\n",
       "       'blue', 'orange', 'orange', 'blue', 'orange', 'blue', 'blue',\n",
       "       'blue'], dtype=object)"
      ]
     },
     "execution_count": 67,
     "metadata": {},
     "output_type": "execute_result"
    }
   ],
   "source": [
    "prediction = neigh.predict(X)\n",
    "prediction"
   ]
  },
  {
   "cell_type": "markdown",
   "metadata": {},
   "source": [
    "### 8. Set a different value for K and look at how it may change your prediction."
   ]
  },
  {
   "cell_type": "code",
   "execution_count": 73,
   "metadata": {},
   "outputs": [
    {
     "data": {
      "image/png": "[encoded data removed]",
      "text/plain": [
       "<Figure size 432x288 with 1 Axes>"
      ]
     },
     "metadata": {
      "needs_background": "light"
     },
     "output_type": "display_data"
    }
   ],
   "source": [
    "list_proba = []\n",
    "for K in range(2,15):\n",
    "    df2 = df.loc[0:K-1, :]\n",
    "    proba_orange = len(df2.loc[df2.True_label == \"orange\"])/len(df2.index)\n",
    "    list_proba.append(proba_orange)\n",
    "plt.plot(range(2,15), list_proba, 'o-')\n",
    "plt.show()\n",
    "#The probability of new point will be orange by increasing the number of K "
   ]
  },
  {
   "cell_type": "code",
   "execution_count": 69,
   "metadata": {},
   "outputs": [
    {
     "data": {
      "image/png": "[encoded data removed]",
      "text/plain": [
       "<Figure size 432x288 with 1 Axes>"
      ]
     },
     "metadata": {
      "needs_background": "light"
     },
     "output_type": "display_data"
    }
   ],
   "source": [
    "errors = []\n",
    "for K in range(2,15):\n",
    "    knn = KNeighborsClassifier(K)\n",
    "    errors.append(100*(1 - knn.fit(X, y).score(X, y)))\n",
    "plt.plot(range(2,15), errors, 'o-')\n",
    "plt.show()\n",
    "#L'erreur en pourcentage pour les différents classifieurs"
   ]
  }
 ],
 "metadata": {
  "interpreter": {
   "hash": "40d3a090f54c6569ab1632332b64b2c03c39dcf918b08424e98f38b5ae0af88f"
  },
  "kernelspec": {
   "display_name": "Python 3.9.12 ('base')",
   "language": "python",
   "name": "python3"
  },
  "language_info": {
   "codemirror_mode": {
    "name": "ipython",
    "version": 3
   },
   "file_extension": ".py",
   "mimetype": "text/x-python",
   "name": "python",
   "nbconvert_exporter": "python",
   "pygments_lexer": "ipython3",
   "version": "3.9.12"
  },
  "orig_nbformat": 4
 },
 "nbformat": 4,
 "nbformat_minor": 2
}
