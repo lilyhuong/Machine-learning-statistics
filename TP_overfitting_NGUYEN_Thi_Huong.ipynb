{
 "cells": [
  {
   "cell_type": "markdown",
   "metadata": {},
   "source": [
    "<br>\n",
    "\n",
    "<b><font size=22>Machine learning and statistical learning</font></b>\n",
    "### (Error measure, Overfitting)\n",
    "\n",
    "**<font color = red>NGUYEN Thi Huong</font>**\n",
    "\n",
    "**<font color = red>MASTER 2 EBDS</font>**"
   ]
  },
  {
   "cell_type": "markdown",
   "metadata": {},
   "source": [
    "## 1. Context and objectives\n",
    "\n",
    "In this exercise, you will be asked to predict a continuous variable using a machine learning algorithm by varying the values of a hyperparameter of this algorithm. The objective is to observe the evolution of the measurement error on the training sample as well as on the test sample, according to the flexibility of the model.\n",
    "The data used in this exercise give the selling price of cars (in rupees) and provide details on the caracteristics of the car. These were downloaded from Kaggle1 and cleaned (you can download the raw dataset on Kaggle and clean it yourself if you prefer).\n",
    "The columns of the dataset are the following:\n",
    "\n",
    "* name: name of the car\n",
    "\n",
    "* year: year in which the car was bought\n",
    "\n",
    "* selling_price: price the owner wants to sell the car at (in thousand rupees) * km_driven: distance completed by the car in km\n",
    "\n",
    "* fuel: fuel type of the car\n",
    "\n",
    "* seller_type: tells if car is sold by individual or dealer\n",
    "\n",
    "* transmission: Gear transmission of the car (Automatic/Manual)\n",
    "\n",
    "* owner: number of previous owners\n",
    "\n",
    "* mileage: mileage of the car\n",
    "\n",
    "* engine: engine capacity of the car\n",
    "\n",
    "* max_power: max power of engine\n",
    "\n",
    "* torque: torque of the car\n",
    "\n",
    "* seats: number of seats in the car\n",
    "\n",
    "* sample: whether the observation belongs to the training or testing set"
   ]
  },
  {
   "cell_type": "markdown",
   "metadata": {},
   "source": [
    "## 2. First steps: preparing the data\n",
    "**1. From AMeTICE, download the cars dataset (cars.csv).**\n",
    "\n",
    "**2. Load the CSV file into R or Python.**\n",
    "\n",
    "**3. Randomly split your dataset into two parts:**\n",
    "\n",
    "a) a train set that will contain 80% of the observations\n",
    "\n",
    "b) a test set that will contain the remaining 20%.\n",
    "\n",
    "**4. From the train set, create two datasets:**\n",
    "\n",
    "• a training set that will contain 80% of the observations from the train set\n",
    "\n",
    "• a validation set that waill contain the remining 20%."
   ]
  },
  {
   "cell_type": "code",
   "execution_count": 243,
   "metadata": {},
   "outputs": [],
   "source": [
    "import pandas as pd\n",
    "import numpy as np\n",
    "from sklearn.model_selection import train_test_split\n",
    "from sklearn.ensemble import RandomForestRegressor\n",
    "from sklearn.svm import SVR\n",
    "from sklearn.metrics import mean_squared_error\n",
    "import matplotlib.pyplot as plt\n",
    "import seaborn as sns\n",
    "from sklearn.preprocessing import MinMaxScaler"
   ]
  },
  {
   "cell_type": "code",
   "execution_count": 244,
   "metadata": {},
   "outputs": [],
   "source": [
    "# I have public the data into a github link for all users can use this data without downloading.\n",
    "link_file = \"https://raw.githubusercontent.com/lilyhuong/Machine-learning-statistics/master/cars.csv\"\n",
    "df = pd.read_csv(link_file, index_col = 0)"
   ]
  },
  {
   "cell_type": "code",
   "execution_count": 245,
   "metadata": {},
   "outputs": [
    {
     "data": {
      "text/html": [
       "<div>\n",
       "<style scoped>\n",
       "    .dataframe tbody tr th:only-of-type {\n",
       "        vertical-align: middle;\n",
       "    }\n",
       "\n",
       "    .dataframe tbody tr th {\n",
       "        vertical-align: top;\n",
       "    }\n",
       "\n",
       "    .dataframe thead th {\n",
       "        text-align: right;\n",
       "    }\n",
       "</style>\n",
       "<table border=\"1\" class=\"dataframe\">\n",
       "  <thead>\n",
       "    <tr style=\"text-align: right;\">\n",
       "      <th></th>\n",
       "      <th>year</th>\n",
       "      <th>selling_price</th>\n",
       "      <th>km_driven</th>\n",
       "      <th>fuel</th>\n",
       "      <th>seller_type</th>\n",
       "      <th>transmission</th>\n",
       "      <th>owner</th>\n",
       "      <th>mileage</th>\n",
       "      <th>engine</th>\n",
       "      <th>max_power</th>\n",
       "      <th>seats</th>\n",
       "    </tr>\n",
       "    <tr>\n",
       "      <th>name</th>\n",
       "      <th></th>\n",
       "      <th></th>\n",
       "      <th></th>\n",
       "      <th></th>\n",
       "      <th></th>\n",
       "      <th></th>\n",
       "      <th></th>\n",
       "      <th></th>\n",
       "      <th></th>\n",
       "      <th></th>\n",
       "      <th></th>\n",
       "    </tr>\n",
       "  </thead>\n",
       "  <tbody>\n",
       "    <tr>\n",
       "      <th>Maruti Swift Dzire VDI</th>\n",
       "      <td>2014</td>\n",
       "      <td>450000</td>\n",
       "      <td>145500</td>\n",
       "      <td>Diesel</td>\n",
       "      <td>Individual</td>\n",
       "      <td>Manual</td>\n",
       "      <td>First Owner</td>\n",
       "      <td>23.40</td>\n",
       "      <td>1248.0</td>\n",
       "      <td>74.00</td>\n",
       "      <td>5.0</td>\n",
       "    </tr>\n",
       "    <tr>\n",
       "      <th>Skoda Rapid 1.5 TDI Ambition</th>\n",
       "      <td>2014</td>\n",
       "      <td>370000</td>\n",
       "      <td>120000</td>\n",
       "      <td>Diesel</td>\n",
       "      <td>Individual</td>\n",
       "      <td>Manual</td>\n",
       "      <td>Second Owner</td>\n",
       "      <td>21.14</td>\n",
       "      <td>1498.0</td>\n",
       "      <td>103.52</td>\n",
       "      <td>5.0</td>\n",
       "    </tr>\n",
       "    <tr>\n",
       "      <th>Honda City 2017-2020 EXi</th>\n",
       "      <td>2006</td>\n",
       "      <td>158000</td>\n",
       "      <td>140000</td>\n",
       "      <td>Petrol</td>\n",
       "      <td>Individual</td>\n",
       "      <td>Manual</td>\n",
       "      <td>Third Owner</td>\n",
       "      <td>17.70</td>\n",
       "      <td>1497.0</td>\n",
       "      <td>78.00</td>\n",
       "      <td>5.0</td>\n",
       "    </tr>\n",
       "    <tr>\n",
       "      <th>Hyundai i20 Sportz Diesel</th>\n",
       "      <td>2010</td>\n",
       "      <td>225000</td>\n",
       "      <td>127000</td>\n",
       "      <td>Diesel</td>\n",
       "      <td>Individual</td>\n",
       "      <td>Manual</td>\n",
       "      <td>First Owner</td>\n",
       "      <td>23.00</td>\n",
       "      <td>1396.0</td>\n",
       "      <td>90.00</td>\n",
       "      <td>5.0</td>\n",
       "    </tr>\n",
       "    <tr>\n",
       "      <th>Maruti Swift VXI BSIII</th>\n",
       "      <td>2007</td>\n",
       "      <td>130000</td>\n",
       "      <td>120000</td>\n",
       "      <td>Petrol</td>\n",
       "      <td>Individual</td>\n",
       "      <td>Manual</td>\n",
       "      <td>First Owner</td>\n",
       "      <td>16.10</td>\n",
       "      <td>1298.0</td>\n",
       "      <td>88.20</td>\n",
       "      <td>5.0</td>\n",
       "    </tr>\n",
       "    <tr>\n",
       "      <th>...</th>\n",
       "      <td>...</td>\n",
       "      <td>...</td>\n",
       "      <td>...</td>\n",
       "      <td>...</td>\n",
       "      <td>...</td>\n",
       "      <td>...</td>\n",
       "      <td>...</td>\n",
       "      <td>...</td>\n",
       "      <td>...</td>\n",
       "      <td>...</td>\n",
       "      <td>...</td>\n",
       "    </tr>\n",
       "    <tr>\n",
       "      <th>Hyundai i20 Magna</th>\n",
       "      <td>2013</td>\n",
       "      <td>320000</td>\n",
       "      <td>110000</td>\n",
       "      <td>Petrol</td>\n",
       "      <td>Individual</td>\n",
       "      <td>Manual</td>\n",
       "      <td>First Owner</td>\n",
       "      <td>18.50</td>\n",
       "      <td>1197.0</td>\n",
       "      <td>82.85</td>\n",
       "      <td>5.0</td>\n",
       "    </tr>\n",
       "    <tr>\n",
       "      <th>Hyundai Verna CRDi SX</th>\n",
       "      <td>2007</td>\n",
       "      <td>135000</td>\n",
       "      <td>119000</td>\n",
       "      <td>Diesel</td>\n",
       "      <td>Individual</td>\n",
       "      <td>Manual</td>\n",
       "      <td>Fourth &amp; Above Owner</td>\n",
       "      <td>16.80</td>\n",
       "      <td>1493.0</td>\n",
       "      <td>110.00</td>\n",
       "      <td>5.0</td>\n",
       "    </tr>\n",
       "    <tr>\n",
       "      <th>Maruti Swift Dzire ZDi</th>\n",
       "      <td>2009</td>\n",
       "      <td>382000</td>\n",
       "      <td>120000</td>\n",
       "      <td>Diesel</td>\n",
       "      <td>Individual</td>\n",
       "      <td>Manual</td>\n",
       "      <td>First Owner</td>\n",
       "      <td>19.30</td>\n",
       "      <td>1248.0</td>\n",
       "      <td>73.90</td>\n",
       "      <td>5.0</td>\n",
       "    </tr>\n",
       "    <tr>\n",
       "      <th>Tata Indigo CR4</th>\n",
       "      <td>2013</td>\n",
       "      <td>290000</td>\n",
       "      <td>25000</td>\n",
       "      <td>Diesel</td>\n",
       "      <td>Individual</td>\n",
       "      <td>Manual</td>\n",
       "      <td>First Owner</td>\n",
       "      <td>23.57</td>\n",
       "      <td>1396.0</td>\n",
       "      <td>70.00</td>\n",
       "      <td>5.0</td>\n",
       "    </tr>\n",
       "    <tr>\n",
       "      <th>Tata Indigo CR4</th>\n",
       "      <td>2013</td>\n",
       "      <td>290000</td>\n",
       "      <td>25000</td>\n",
       "      <td>Diesel</td>\n",
       "      <td>Individual</td>\n",
       "      <td>Manual</td>\n",
       "      <td>First Owner</td>\n",
       "      <td>23.57</td>\n",
       "      <td>1396.0</td>\n",
       "      <td>70.00</td>\n",
       "      <td>5.0</td>\n",
       "    </tr>\n",
       "  </tbody>\n",
       "</table>\n",
       "<p>8128 rows × 11 columns</p>\n",
       "</div>"
      ],
      "text/plain": [
       "                              year  selling_price  km_driven    fuel  \\\n",
       "name                                                                   \n",
       "Maruti Swift Dzire VDI        2014         450000     145500  Diesel   \n",
       "Skoda Rapid 1.5 TDI Ambition  2014         370000     120000  Diesel   \n",
       "Honda City 2017-2020 EXi      2006         158000     140000  Petrol   \n",
       "Hyundai i20 Sportz Diesel     2010         225000     127000  Diesel   \n",
       "Maruti Swift VXI BSIII        2007         130000     120000  Petrol   \n",
       "...                            ...            ...        ...     ...   \n",
       "Hyundai i20 Magna             2013         320000     110000  Petrol   \n",
       "Hyundai Verna CRDi SX         2007         135000     119000  Diesel   \n",
       "Maruti Swift Dzire ZDi        2009         382000     120000  Diesel   \n",
       "Tata Indigo CR4               2013         290000      25000  Diesel   \n",
       "Tata Indigo CR4               2013         290000      25000  Diesel   \n",
       "\n",
       "                             seller_type transmission                 owner  \\\n",
       "name                                                                          \n",
       "Maruti Swift Dzire VDI        Individual       Manual           First Owner   \n",
       "Skoda Rapid 1.5 TDI Ambition  Individual       Manual          Second Owner   \n",
       "Honda City 2017-2020 EXi      Individual       Manual           Third Owner   \n",
       "Hyundai i20 Sportz Diesel     Individual       Manual           First Owner   \n",
       "Maruti Swift VXI BSIII        Individual       Manual           First Owner   \n",
       "...                                  ...          ...                   ...   \n",
       "Hyundai i20 Magna             Individual       Manual           First Owner   \n",
       "Hyundai Verna CRDi SX         Individual       Manual  Fourth & Above Owner   \n",
       "Maruti Swift Dzire ZDi        Individual       Manual           First Owner   \n",
       "Tata Indigo CR4               Individual       Manual           First Owner   \n",
       "Tata Indigo CR4               Individual       Manual           First Owner   \n",
       "\n",
       "                              mileage  engine  max_power  seats  \n",
       "name                                                             \n",
       "Maruti Swift Dzire VDI          23.40  1248.0      74.00    5.0  \n",
       "Skoda Rapid 1.5 TDI Ambition    21.14  1498.0     103.52    5.0  \n",
       "Honda City 2017-2020 EXi        17.70  1497.0      78.00    5.0  \n",
       "Hyundai i20 Sportz Diesel       23.00  1396.0      90.00    5.0  \n",
       "Maruti Swift VXI BSIII          16.10  1298.0      88.20    5.0  \n",
       "...                               ...     ...        ...    ...  \n",
       "Hyundai i20 Magna               18.50  1197.0      82.85    5.0  \n",
       "Hyundai Verna CRDi SX           16.80  1493.0     110.00    5.0  \n",
       "Maruti Swift Dzire ZDi          19.30  1248.0      73.90    5.0  \n",
       "Tata Indigo CR4                 23.57  1396.0      70.00    5.0  \n",
       "Tata Indigo CR4                 23.57  1396.0      70.00    5.0  \n",
       "\n",
       "[8128 rows x 11 columns]"
      ]
     },
     "execution_count": 245,
     "metadata": {},
     "output_type": "execute_result"
    }
   ],
   "source": [
    "df"
   ]
  },
  {
   "cell_type": "code",
   "execution_count": 246,
   "metadata": {},
   "outputs": [
    {
     "data": {
      "text/plain": [
       "year               int64\n",
       "selling_price      int64\n",
       "km_driven          int64\n",
       "fuel              object\n",
       "seller_type       object\n",
       "transmission      object\n",
       "owner             object\n",
       "mileage          float64\n",
       "engine           float64\n",
       "max_power        float64\n",
       "seats            float64\n",
       "dtype: object"
      ]
     },
     "execution_count": 246,
     "metadata": {},
     "output_type": "execute_result"
    }
   ],
   "source": [
    "df.dtypes"
   ]
  },
  {
   "cell_type": "markdown",
   "metadata": {},
   "source": [
    "Firstly, we can see that in this dataframe, we have 2 types of variables: integer and string. Because Python can not handle on charater variable, so we convert this variale into numerical variable(it's better with one hot coding, however, with this exercise, I just convert to int type). In this exercise, we need only 3 explantory variables: fuel, year, km driven, only \"fuel\" variable need to be converted to numericial type by using cat.codes"
   ]
  },
  {
   "cell_type": "code",
   "execution_count": 247,
   "metadata": {},
   "outputs": [],
   "source": [
    "df.fuel = pd.Categorical(df.fuel)\n",
    "df['fuel_num'] = df.fuel.cat.codes"
   ]
  },
  {
   "cell_type": "markdown",
   "metadata": {},
   "source": [
    "The data is present of outliers in km_driven(see from statistic summary table). Therefore, to be better in using Support vector Machine, I will use scaling fearture to map the value into the same range. It will spend less time for fitting SVM model."
   ]
  },
  {
   "cell_type": "code",
   "execution_count": 248,
   "metadata": {},
   "outputs": [],
   "source": [
    "min_max = MinMaxScaler()\n",
    "df[\"km_driven\"] = min_max.fit_transform(df[[\"km_driven\"]].values.reshape(-1, 1))\n",
    "df[\"fuel_num\"] = min_max.fit_transform(df[[\"fuel_num\"]].values.reshape(-1, 1))\n",
    "df[\"year\"] = min_max.fit_transform(df[[\"year\"]].values.reshape(-1, 1))\n",
    "df[\"selling_price\"] = min_max.fit_transform(df[[\"selling_price\"]].values.reshape(-1, 1))"
   ]
  },
  {
   "cell_type": "code",
   "execution_count": 249,
   "metadata": {},
   "outputs": [],
   "source": [
    "y = df.selling_price   \n",
    "X = df[[\"year\", \"fuel_num\", \"km_driven\"]]"
   ]
  },
  {
   "cell_type": "code",
   "execution_count": 250,
   "metadata": {},
   "outputs": [],
   "source": [
    "X_train, X_test, y_train, y_test = train_test_split(X, y, test_size=0.2, random_state = 42)"
   ]
  },
  {
   "cell_type": "code",
   "execution_count": 251,
   "metadata": {},
   "outputs": [],
   "source": [
    "X_train_val, X_val, y_train_val, y_val = train_test_split(X_train, y_train, test_size=0.2, random_state = 42)"
   ]
  },
  {
   "cell_type": "markdown",
   "metadata": {},
   "source": [
    "## 3 Getting to know the data: descriptive statistics\n",
    "\n",
    "#### 1. Compute some summary statistics for the whole dataset (and comment the outputs):\n",
    "**• for numerical variables: mean, minimum, maximum, quartiles**\n",
    "\n",
    "**• for categorical variables: for each category: proportion of observations; mean, minimum, maximum, quartiles of the target variable (selling_price)**\n"
   ]
  },
  {
   "cell_type": "code",
   "execution_count": 252,
   "metadata": {},
   "outputs": [
    {
     "data": {
      "text/html": [
       "<div>\n",
       "<style scoped>\n",
       "    .dataframe tbody tr th:only-of-type {\n",
       "        vertical-align: middle;\n",
       "    }\n",
       "\n",
       "    .dataframe tbody tr th {\n",
       "        vertical-align: top;\n",
       "    }\n",
       "\n",
       "    .dataframe thead th {\n",
       "        text-align: right;\n",
       "    }\n",
       "</style>\n",
       "<table border=\"1\" class=\"dataframe\">\n",
       "  <thead>\n",
       "    <tr style=\"text-align: right;\">\n",
       "      <th></th>\n",
       "      <th>year</th>\n",
       "      <th>selling_price</th>\n",
       "      <th>km_driven</th>\n",
       "      <th>mileage</th>\n",
       "      <th>engine</th>\n",
       "      <th>max_power</th>\n",
       "      <th>seats</th>\n",
       "      <th>fuel_num</th>\n",
       "    </tr>\n",
       "  </thead>\n",
       "  <tbody>\n",
       "    <tr>\n",
       "      <th>count</th>\n",
       "      <td>8128.000000</td>\n",
       "      <td>8128.000000</td>\n",
       "      <td>8128.000000</td>\n",
       "      <td>8128.000000</td>\n",
       "      <td>7907.000000</td>\n",
       "      <td>7912.000000</td>\n",
       "      <td>7907.000000</td>\n",
       "      <td>8128.000000</td>\n",
       "    </tr>\n",
       "    <tr>\n",
       "      <th>mean</th>\n",
       "      <td>0.832541</td>\n",
       "      <td>0.061010</td>\n",
       "      <td>0.029578</td>\n",
       "      <td>18.802005</td>\n",
       "      <td>1458.625016</td>\n",
       "      <td>91.517919</td>\n",
       "      <td>5.416719</td>\n",
       "      <td>0.630372</td>\n",
       "    </tr>\n",
       "    <tr>\n",
       "      <th>std</th>\n",
       "      <td>0.109304</td>\n",
       "      <td>0.080868</td>\n",
       "      <td>0.023957</td>\n",
       "      <td>5.165302</td>\n",
       "      <td>503.916303</td>\n",
       "      <td>35.822499</td>\n",
       "      <td>0.959588</td>\n",
       "      <td>0.334104</td>\n",
       "    </tr>\n",
       "    <tr>\n",
       "      <th>min</th>\n",
       "      <td>0.000000</td>\n",
       "      <td>0.000000</td>\n",
       "      <td>0.000000</td>\n",
       "      <td>-1.000000</td>\n",
       "      <td>624.000000</td>\n",
       "      <td>0.000000</td>\n",
       "      <td>2.000000</td>\n",
       "      <td>0.000000</td>\n",
       "    </tr>\n",
       "    <tr>\n",
       "      <th>25%</th>\n",
       "      <td>0.756757</td>\n",
       "      <td>0.022568</td>\n",
       "      <td>0.014827</td>\n",
       "      <td>16.251852</td>\n",
       "      <td>1197.000000</td>\n",
       "      <td>68.050000</td>\n",
       "      <td>5.000000</td>\n",
       "      <td>0.333333</td>\n",
       "    </tr>\n",
       "    <tr>\n",
       "      <th>50%</th>\n",
       "      <td>0.864865</td>\n",
       "      <td>0.042126</td>\n",
       "      <td>0.025418</td>\n",
       "      <td>19.100000</td>\n",
       "      <td>1248.000000</td>\n",
       "      <td>82.000000</td>\n",
       "      <td>5.000000</td>\n",
       "      <td>0.333333</td>\n",
       "    </tr>\n",
       "    <tr>\n",
       "      <th>75%</th>\n",
       "      <td>0.918919</td>\n",
       "      <td>0.064694</td>\n",
       "      <td>0.041517</td>\n",
       "      <td>22.070000</td>\n",
       "      <td>1582.000000</td>\n",
       "      <td>102.000000</td>\n",
       "      <td>5.000000</td>\n",
       "      <td>1.000000</td>\n",
       "    </tr>\n",
       "    <tr>\n",
       "      <th>max</th>\n",
       "      <td>1.000000</td>\n",
       "      <td>1.000000</td>\n",
       "      <td>1.000000</td>\n",
       "      <td>42.000000</td>\n",
       "      <td>3604.000000</td>\n",
       "      <td>400.000000</td>\n",
       "      <td>14.000000</td>\n",
       "      <td>1.000000</td>\n",
       "    </tr>\n",
       "  </tbody>\n",
       "</table>\n",
       "</div>"
      ],
      "text/plain": [
       "              year  selling_price    km_driven      mileage       engine  \\\n",
       "count  8128.000000    8128.000000  8128.000000  8128.000000  7907.000000   \n",
       "mean      0.832541       0.061010     0.029578    18.802005  1458.625016   \n",
       "std       0.109304       0.080868     0.023957     5.165302   503.916303   \n",
       "min       0.000000       0.000000     0.000000    -1.000000   624.000000   \n",
       "25%       0.756757       0.022568     0.014827    16.251852  1197.000000   \n",
       "50%       0.864865       0.042126     0.025418    19.100000  1248.000000   \n",
       "75%       0.918919       0.064694     0.041517    22.070000  1582.000000   \n",
       "max       1.000000       1.000000     1.000000    42.000000  3604.000000   \n",
       "\n",
       "         max_power        seats     fuel_num  \n",
       "count  7912.000000  7907.000000  8128.000000  \n",
       "mean     91.517919     5.416719     0.630372  \n",
       "std      35.822499     0.959588     0.334104  \n",
       "min       0.000000     2.000000     0.000000  \n",
       "25%      68.050000     5.000000     0.333333  \n",
       "50%      82.000000     5.000000     0.333333  \n",
       "75%     102.000000     5.000000     1.000000  \n",
       "max     400.000000    14.000000     1.000000  "
      ]
     },
     "execution_count": 252,
     "metadata": {},
     "output_type": "execute_result"
    }
   ],
   "source": [
    "# Here we get all descriptive statistics for 4 variables: year, km_driven, fuel_num and selling_price\n",
    "df.describe()"
   ]
  },
  {
   "cell_type": "code",
   "execution_count": 253,
   "metadata": {},
   "outputs": [
    {
     "data": {
      "text/plain": [
       "8128"
      ]
     },
     "execution_count": 253,
     "metadata": {},
     "output_type": "execute_result"
    }
   ],
   "source": [
    "len(df[df.year <= 1991])"
   ]
  },
  {
   "cell_type": "code",
   "execution_count": 254,
   "metadata": {},
   "outputs": [
    {
     "data": {
      "text/plain": [
       "0.333333    0.541585\n",
       "1.000000    0.446727\n",
       "0.000000    0.007013\n",
       "0.666667    0.004675\n",
       "Name: fuel_num, dtype: float64"
      ]
     },
     "execution_count": 254,
     "metadata": {},
     "output_type": "execute_result"
    }
   ],
   "source": [
    "df.fuel_num.value_counts(normalize=True)"
   ]
  },
  {
   "cell_type": "code",
   "execution_count": 255,
   "metadata": {},
   "outputs": [
    {
     "data": {
      "text/plain": [
       "['Diesel', 'Petrol', 'LPG', 'CNG']\n",
       "Categories (4, object): ['CNG', 'Diesel', 'LPG', 'Petrol']"
      ]
     },
     "execution_count": 255,
     "metadata": {},
     "output_type": "execute_result"
    }
   ],
   "source": [
    "df.fuel.unique()"
   ]
  },
  {
   "cell_type": "markdown",
   "metadata": {},
   "source": [
    " Since the purpose of this exercise is to examine how to check overfitting in a model, the data was first considered for only 4 variables. The origine data shows that we have 8128 observations. However we can see the presence of missing values in engie, max_power and seats. A relevant aspect to mention is that in the original database once we generate this variable, we found that there were some cases for which this variable was extremely high(small) (outliers): for example, \"km_driven\" and \"year\" with only 2 values . Furthurmore, look at the fuel variable, about 99% of people prefer using petrol(54,15% equals to 4402 indivisuals) and next is Dielsel with 44,67%. Therefore this data presence of imbalance in feature, this issue can be addressed by imposing proportional weight loss, while fitting the model."
   ]
  },
  {
   "cell_type": "code",
   "execution_count": 256,
   "metadata": {},
   "outputs": [
    {
     "data": {
      "text/html": [
       "<div>\n",
       "<style scoped>\n",
       "    .dataframe tbody tr th:only-of-type {\n",
       "        vertical-align: middle;\n",
       "    }\n",
       "\n",
       "    .dataframe tbody tr th {\n",
       "        vertical-align: top;\n",
       "    }\n",
       "\n",
       "    .dataframe thead th {\n",
       "        text-align: right;\n",
       "    }\n",
       "</style>\n",
       "<table border=\"1\" class=\"dataframe\">\n",
       "  <thead>\n",
       "    <tr style=\"text-align: right;\">\n",
       "      <th></th>\n",
       "      <th>year</th>\n",
       "      <th>selling_price</th>\n",
       "      <th>km_driven</th>\n",
       "      <th>fuel</th>\n",
       "      <th>seller_type</th>\n",
       "      <th>transmission</th>\n",
       "      <th>owner</th>\n",
       "      <th>mileage</th>\n",
       "      <th>engine</th>\n",
       "      <th>max_power</th>\n",
       "      <th>seats</th>\n",
       "      <th>fuel_num</th>\n",
       "    </tr>\n",
       "  </thead>\n",
       "  <tbody>\n",
       "    <tr>\n",
       "      <th>count</th>\n",
       "      <td>8128.000000</td>\n",
       "      <td>8128.000000</td>\n",
       "      <td>8128.000000</td>\n",
       "      <td>8128</td>\n",
       "      <td>8128</td>\n",
       "      <td>8128</td>\n",
       "      <td>8128</td>\n",
       "      <td>8128.000000</td>\n",
       "      <td>7907.000000</td>\n",
       "      <td>7912.000000</td>\n",
       "      <td>7907.000000</td>\n",
       "      <td>8128.000000</td>\n",
       "    </tr>\n",
       "    <tr>\n",
       "      <th>unique</th>\n",
       "      <td>NaN</td>\n",
       "      <td>NaN</td>\n",
       "      <td>NaN</td>\n",
       "      <td>4</td>\n",
       "      <td>3</td>\n",
       "      <td>2</td>\n",
       "      <td>5</td>\n",
       "      <td>NaN</td>\n",
       "      <td>NaN</td>\n",
       "      <td>NaN</td>\n",
       "      <td>NaN</td>\n",
       "      <td>NaN</td>\n",
       "    </tr>\n",
       "    <tr>\n",
       "      <th>top</th>\n",
       "      <td>NaN</td>\n",
       "      <td>NaN</td>\n",
       "      <td>NaN</td>\n",
       "      <td>Diesel</td>\n",
       "      <td>Individual</td>\n",
       "      <td>Manual</td>\n",
       "      <td>First Owner</td>\n",
       "      <td>NaN</td>\n",
       "      <td>NaN</td>\n",
       "      <td>NaN</td>\n",
       "      <td>NaN</td>\n",
       "      <td>NaN</td>\n",
       "    </tr>\n",
       "    <tr>\n",
       "      <th>freq</th>\n",
       "      <td>NaN</td>\n",
       "      <td>NaN</td>\n",
       "      <td>NaN</td>\n",
       "      <td>4402</td>\n",
       "      <td>6766</td>\n",
       "      <td>7078</td>\n",
       "      <td>5289</td>\n",
       "      <td>NaN</td>\n",
       "      <td>NaN</td>\n",
       "      <td>NaN</td>\n",
       "      <td>NaN</td>\n",
       "      <td>NaN</td>\n",
       "    </tr>\n",
       "    <tr>\n",
       "      <th>mean</th>\n",
       "      <td>0.832541</td>\n",
       "      <td>0.061010</td>\n",
       "      <td>0.029578</td>\n",
       "      <td>NaN</td>\n",
       "      <td>NaN</td>\n",
       "      <td>NaN</td>\n",
       "      <td>NaN</td>\n",
       "      <td>18.802005</td>\n",
       "      <td>1458.625016</td>\n",
       "      <td>91.517919</td>\n",
       "      <td>5.416719</td>\n",
       "      <td>0.630372</td>\n",
       "    </tr>\n",
       "    <tr>\n",
       "      <th>std</th>\n",
       "      <td>0.109304</td>\n",
       "      <td>0.080868</td>\n",
       "      <td>0.023957</td>\n",
       "      <td>NaN</td>\n",
       "      <td>NaN</td>\n",
       "      <td>NaN</td>\n",
       "      <td>NaN</td>\n",
       "      <td>5.165302</td>\n",
       "      <td>503.916303</td>\n",
       "      <td>35.822499</td>\n",
       "      <td>0.959588</td>\n",
       "      <td>0.334104</td>\n",
       "    </tr>\n",
       "    <tr>\n",
       "      <th>min</th>\n",
       "      <td>0.000000</td>\n",
       "      <td>0.000000</td>\n",
       "      <td>0.000000</td>\n",
       "      <td>NaN</td>\n",
       "      <td>NaN</td>\n",
       "      <td>NaN</td>\n",
       "      <td>NaN</td>\n",
       "      <td>-1.000000</td>\n",
       "      <td>624.000000</td>\n",
       "      <td>0.000000</td>\n",
       "      <td>2.000000</td>\n",
       "      <td>0.000000</td>\n",
       "    </tr>\n",
       "    <tr>\n",
       "      <th>25%</th>\n",
       "      <td>0.756757</td>\n",
       "      <td>0.022568</td>\n",
       "      <td>0.014827</td>\n",
       "      <td>NaN</td>\n",
       "      <td>NaN</td>\n",
       "      <td>NaN</td>\n",
       "      <td>NaN</td>\n",
       "      <td>16.251852</td>\n",
       "      <td>1197.000000</td>\n",
       "      <td>68.050000</td>\n",
       "      <td>5.000000</td>\n",
       "      <td>0.333333</td>\n",
       "    </tr>\n",
       "    <tr>\n",
       "      <th>50%</th>\n",
       "      <td>0.864865</td>\n",
       "      <td>0.042126</td>\n",
       "      <td>0.025418</td>\n",
       "      <td>NaN</td>\n",
       "      <td>NaN</td>\n",
       "      <td>NaN</td>\n",
       "      <td>NaN</td>\n",
       "      <td>19.100000</td>\n",
       "      <td>1248.000000</td>\n",
       "      <td>82.000000</td>\n",
       "      <td>5.000000</td>\n",
       "      <td>0.333333</td>\n",
       "    </tr>\n",
       "    <tr>\n",
       "      <th>75%</th>\n",
       "      <td>0.918919</td>\n",
       "      <td>0.064694</td>\n",
       "      <td>0.041517</td>\n",
       "      <td>NaN</td>\n",
       "      <td>NaN</td>\n",
       "      <td>NaN</td>\n",
       "      <td>NaN</td>\n",
       "      <td>22.070000</td>\n",
       "      <td>1582.000000</td>\n",
       "      <td>102.000000</td>\n",
       "      <td>5.000000</td>\n",
       "      <td>1.000000</td>\n",
       "    </tr>\n",
       "    <tr>\n",
       "      <th>max</th>\n",
       "      <td>1.000000</td>\n",
       "      <td>1.000000</td>\n",
       "      <td>1.000000</td>\n",
       "      <td>NaN</td>\n",
       "      <td>NaN</td>\n",
       "      <td>NaN</td>\n",
       "      <td>NaN</td>\n",
       "      <td>42.000000</td>\n",
       "      <td>3604.000000</td>\n",
       "      <td>400.000000</td>\n",
       "      <td>14.000000</td>\n",
       "      <td>1.000000</td>\n",
       "    </tr>\n",
       "  </tbody>\n",
       "</table>\n",
       "</div>"
      ],
      "text/plain": [
       "               year  selling_price    km_driven    fuel seller_type  \\\n",
       "count   8128.000000    8128.000000  8128.000000    8128        8128   \n",
       "unique          NaN            NaN          NaN       4           3   \n",
       "top             NaN            NaN          NaN  Diesel  Individual   \n",
       "freq            NaN            NaN          NaN    4402        6766   \n",
       "mean       0.832541       0.061010     0.029578     NaN         NaN   \n",
       "std        0.109304       0.080868     0.023957     NaN         NaN   \n",
       "min        0.000000       0.000000     0.000000     NaN         NaN   \n",
       "25%        0.756757       0.022568     0.014827     NaN         NaN   \n",
       "50%        0.864865       0.042126     0.025418     NaN         NaN   \n",
       "75%        0.918919       0.064694     0.041517     NaN         NaN   \n",
       "max        1.000000       1.000000     1.000000     NaN         NaN   \n",
       "\n",
       "       transmission        owner      mileage       engine    max_power  \\\n",
       "count          8128         8128  8128.000000  7907.000000  7912.000000   \n",
       "unique            2            5          NaN          NaN          NaN   \n",
       "top          Manual  First Owner          NaN          NaN          NaN   \n",
       "freq           7078         5289          NaN          NaN          NaN   \n",
       "mean            NaN          NaN    18.802005  1458.625016    91.517919   \n",
       "std             NaN          NaN     5.165302   503.916303    35.822499   \n",
       "min             NaN          NaN    -1.000000   624.000000     0.000000   \n",
       "25%             NaN          NaN    16.251852  1197.000000    68.050000   \n",
       "50%             NaN          NaN    19.100000  1248.000000    82.000000   \n",
       "75%             NaN          NaN    22.070000  1582.000000   102.000000   \n",
       "max             NaN          NaN    42.000000  3604.000000   400.000000   \n",
       "\n",
       "              seats     fuel_num  \n",
       "count   7907.000000  8128.000000  \n",
       "unique          NaN          NaN  \n",
       "top             NaN          NaN  \n",
       "freq            NaN          NaN  \n",
       "mean       5.416719     0.630372  \n",
       "std        0.959588     0.334104  \n",
       "min        2.000000     0.000000  \n",
       "25%        5.000000     0.333333  \n",
       "50%        5.000000     0.333333  \n",
       "75%        5.000000     1.000000  \n",
       "max       14.000000     1.000000  "
      ]
     },
     "execution_count": 256,
     "metadata": {},
     "output_type": "execute_result"
    }
   ],
   "source": [
    "df.describe(include = \"all\")"
   ]
  },
  {
   "cell_type": "markdown",
   "metadata": {},
   "source": [
    "#### 2. Create graphs to show the relationship between the target variable and the explanatory variables. Comment on these."
   ]
  },
  {
   "cell_type": "code",
   "execution_count": 257,
   "metadata": {},
   "outputs": [
    {
     "data": {
      "text/plain": [
       "Text(0, 0.5, 'Selling price')"
      ]
     },
     "execution_count": 257,
     "metadata": {},
     "output_type": "execute_result"
    },
    {
     "data": {
      "image/png": "[encoded data removed]",
      "text/plain": [
       "<Figure size 432x288 with 1 Axes>"
      ]
     },
     "metadata": {},
     "output_type": "display_data"
    }
   ],
   "source": [
    "X = df.km_driven\n",
    "#create basic scatterplot\n",
    "plt.plot(X, y, 'o')\n",
    "\n",
    "#obtain m (slope) and b(intercept) of linear regression line\n",
    "m, b = np.polyfit(X, y, 1)\n",
    "\n",
    "#add linear regression line to scatterplot \n",
    "plt.plot(X, m * X + b, color = \"red\")\n",
    "plt.xlabel(\"km_driven\")\n",
    "plt.ylabel(\"Selling price\")"
   ]
  },
  {
   "cell_type": "markdown",
   "metadata": {},
   "source": [
    "This graph illustrate a strong negative correlation between the selling price of a motor and number of Kilometres the car is driven"
   ]
  },
  {
   "cell_type": "code",
   "execution_count": 258,
   "metadata": {},
   "outputs": [
    {
     "data": {
      "text/plain": [
       "Text(0, 0.5, 'Selling price')"
      ]
     },
     "execution_count": 258,
     "metadata": {},
     "output_type": "execute_result"
    },
    {
     "data": {
      "image/png": "[encoded data removed]",
      "text/plain": [
       "<Figure size 432x288 with 1 Axes>"
      ]
     },
     "metadata": {},
     "output_type": "display_data"
    }
   ],
   "source": [
    "X = df.year\n",
    "#create basic scatterplot\n",
    "plt.plot(X, y, 'o')\n",
    "\n",
    "#obtain m (slope) and b(intercept) of linear regression line\n",
    "m, b = np.polyfit(X, y, 1)\n",
    "\n",
    "#add linear regression line to scatterplot \n",
    "plt.plot(X , m * X + b, color = \"red\")\n",
    "plt.xlabel(\"Year\")\n",
    "plt.ylabel(\"Selling price\")"
   ]
  },
  {
   "cell_type": "markdown",
   "metadata": {},
   "source": [
    "The correlation between two variables is positive. We can simplify why car pricing are rasing overyear : high demand and limited supplies, inflation is another factor of increasing in price. "
   ]
  },
  {
   "cell_type": "code",
   "execution_count": 259,
   "metadata": {},
   "outputs": [
    {
     "data": {
      "text/plain": [
       "Text(0, 0.5, 'Selling price')"
      ]
     },
     "execution_count": 259,
     "metadata": {},
     "output_type": "execute_result"
    },
    {
     "data": {
      "image/png": "[encoded data removed]",
      "text/plain": [
       "<Figure size 432x288 with 1 Axes>"
      ]
     },
     "metadata": {},
     "output_type": "display_data"
    }
   ],
   "source": [
    "X = df.fuel\n",
    "#create basic scatterplot\n",
    "plt.plot(X, y, 'o')\n",
    "plt.xlabel(\"Fuel\")\n",
    "plt.ylabel(\"Selling price\")"
   ]
  },
  {
   "cell_type": "markdown",
   "metadata": {},
   "source": [
    "As I had explainded in summary statistics, we can see implanced data in feature by this graph"
   ]
  },
  {
   "cell_type": "markdown",
   "metadata": {},
   "source": [
    "Another relevant point that may affect classification performance is the correlation between features: the presence of highly correlated features may lead to a decrease in the performance of some classification algorithms that assume that the predictors are all independent. In another way, I will show these correlation between features and the depedent variable by Peason's correlation"
   ]
  },
  {
   "cell_type": "code",
   "execution_count": 260,
   "metadata": {},
   "outputs": [
    {
     "name": "stderr",
     "output_type": "stream",
     "text": [
      "/var/folders/q2/tks8t2v53c95y3jqch98mqrc0000gn/T/ipykernel_26750/2338550395.py:5: DeprecationWarning: `np.bool` is a deprecated alias for the builtin `bool`. To silence this warning, use `bool` by itself. Doing this will not modify any behavior and is safe. If you specifically wanted the numpy scalar type, use `np.bool_` here.\n",
      "Deprecated in NumPy 1.20; for more details and guidance: https://numpy.org/devdocs/release/1.20.0-notes.html#deprecations\n",
      "  mask = np.triu(np.ones_like(corr, dtype=np.bool))\n"
     ]
    },
    {
     "data": {
      "image/png": "[encoded data removed]",
      "text/plain": [
       "<Figure size 1440x936 with 2 Axes>"
      ]
     },
     "metadata": {},
     "output_type": "display_data"
    }
   ],
   "source": [
    "sns.set(style=\"white\", font_scale=1)\n",
    "numeric = [\"selling_price\", \"year\", \"fuel_num\", \"km_driven\" ]\n",
    "corr = df[numeric].corr()\n",
    "\n",
    "mask = np.triu(np.ones_like(corr, dtype=np.bool))\n",
    "f, ax = plt.subplots(figsize=(20, 13))\n",
    "cmap = sns.diverging_palette(220, 10, as_cmap=True)\n",
    "ax=sns.heatmap(corr, mask=mask, vmax=1, vmin=-1, center=0,\n",
    "            square=True, linewidths=.5, cmap=cmap, cbar_kws={\"shrink\": .5}, annot=True, annot_kws={\"size\": 10})\n",
    "cbar=ax.collections[0].colorbar\n",
    "cbar.set_ticks([-1, -0.50, 0, 0.50, 1])\n",
    "plt.savefig('Fig - Correlation matrix by means of the Pearson’s coefficient for all feature pairs.png')"
   ]
  },
  {
   "cell_type": "markdown",
   "metadata": {},
   "source": [
    "## 4.  Estimations\n",
    "**You will train two different models: a random forest and a SVM. You will understand in more\n",
    "details how both algorithm work in the subsequent lessons. For now, all you need to understand\n",
    "is that you can vary some hyperparameters for both models.**\n",
    "\n",
    "**Among the different values that you will try for these hyperparameters, you need to select which provides the best fit, on the\n",
    "validation set.**"
   ]
  },
  {
   "cell_type": "markdown",
   "metadata": {},
   "source": [
    "**Using a random forest algorithm, predict the selling price of the car in the training set.**\n",
    "\n",
    "**Use the following variables: year, fuel, km_driven.**\n",
    "\n",
    "**If you use R, you can use the randomForest function from { randomForest }. If you use\n",
    "Python, you can use the RandomForestRegressor function from sklearn.ensemble. You\n",
    "will use the following hyperparameters for the algorithm:**"
   ]
  },
  {
   "cell_type": "code",
   "execution_count": 261,
   "metadata": {},
   "outputs": [
    {
     "data": {
      "text/html": [
       "<div>\n",
       "<style scoped>\n",
       "    .dataframe tbody tr th:only-of-type {\n",
       "        vertical-align: middle;\n",
       "    }\n",
       "\n",
       "    .dataframe tbody tr th {\n",
       "        vertical-align: top;\n",
       "    }\n",
       "\n",
       "    .dataframe thead th {\n",
       "        text-align: right;\n",
       "    }\n",
       "</style>\n",
       "<table border=\"1\" class=\"dataframe\">\n",
       "  <thead>\n",
       "    <tr style=\"text-align: right;\">\n",
       "      <th></th>\n",
       "      <th>year</th>\n",
       "      <th>selling_price</th>\n",
       "      <th>km_driven</th>\n",
       "      <th>fuel</th>\n",
       "      <th>seller_type</th>\n",
       "      <th>transmission</th>\n",
       "      <th>owner</th>\n",
       "      <th>mileage</th>\n",
       "      <th>engine</th>\n",
       "      <th>max_power</th>\n",
       "      <th>seats</th>\n",
       "      <th>fuel_num</th>\n",
       "    </tr>\n",
       "    <tr>\n",
       "      <th>name</th>\n",
       "      <th></th>\n",
       "      <th></th>\n",
       "      <th></th>\n",
       "      <th></th>\n",
       "      <th></th>\n",
       "      <th></th>\n",
       "      <th></th>\n",
       "      <th></th>\n",
       "      <th></th>\n",
       "      <th></th>\n",
       "      <th></th>\n",
       "      <th></th>\n",
       "    </tr>\n",
       "  </thead>\n",
       "  <tbody>\n",
       "    <tr>\n",
       "      <th>Maruti Swift Dzire VDI</th>\n",
       "      <td>0.837838</td>\n",
       "      <td>0.042126</td>\n",
       "      <td>0.061640</td>\n",
       "      <td>Diesel</td>\n",
       "      <td>Individual</td>\n",
       "      <td>Manual</td>\n",
       "      <td>First Owner</td>\n",
       "      <td>23.40</td>\n",
       "      <td>1248.0</td>\n",
       "      <td>74.00</td>\n",
       "      <td>5.0</td>\n",
       "      <td>0.333333</td>\n",
       "    </tr>\n",
       "    <tr>\n",
       "      <th>Skoda Rapid 1.5 TDI Ambition</th>\n",
       "      <td>0.837838</td>\n",
       "      <td>0.034102</td>\n",
       "      <td>0.050837</td>\n",
       "      <td>Diesel</td>\n",
       "      <td>Individual</td>\n",
       "      <td>Manual</td>\n",
       "      <td>Second Owner</td>\n",
       "      <td>21.14</td>\n",
       "      <td>1498.0</td>\n",
       "      <td>103.52</td>\n",
       "      <td>5.0</td>\n",
       "      <td>0.333333</td>\n",
       "    </tr>\n",
       "    <tr>\n",
       "      <th>Honda City 2017-2020 EXi</th>\n",
       "      <td>0.621622</td>\n",
       "      <td>0.012839</td>\n",
       "      <td>0.059310</td>\n",
       "      <td>Petrol</td>\n",
       "      <td>Individual</td>\n",
       "      <td>Manual</td>\n",
       "      <td>Third Owner</td>\n",
       "      <td>17.70</td>\n",
       "      <td>1497.0</td>\n",
       "      <td>78.00</td>\n",
       "      <td>5.0</td>\n",
       "      <td>1.000000</td>\n",
       "    </tr>\n",
       "    <tr>\n",
       "      <th>Hyundai i20 Sportz Diesel</th>\n",
       "      <td>0.729730</td>\n",
       "      <td>0.019559</td>\n",
       "      <td>0.053803</td>\n",
       "      <td>Diesel</td>\n",
       "      <td>Individual</td>\n",
       "      <td>Manual</td>\n",
       "      <td>First Owner</td>\n",
       "      <td>23.00</td>\n",
       "      <td>1396.0</td>\n",
       "      <td>90.00</td>\n",
       "      <td>5.0</td>\n",
       "      <td>0.333333</td>\n",
       "    </tr>\n",
       "    <tr>\n",
       "      <th>Maruti Swift VXI BSIII</th>\n",
       "      <td>0.648649</td>\n",
       "      <td>0.010030</td>\n",
       "      <td>0.050837</td>\n",
       "      <td>Petrol</td>\n",
       "      <td>Individual</td>\n",
       "      <td>Manual</td>\n",
       "      <td>First Owner</td>\n",
       "      <td>16.10</td>\n",
       "      <td>1298.0</td>\n",
       "      <td>88.20</td>\n",
       "      <td>5.0</td>\n",
       "      <td>1.000000</td>\n",
       "    </tr>\n",
       "    <tr>\n",
       "      <th>...</th>\n",
       "      <td>...</td>\n",
       "      <td>...</td>\n",
       "      <td>...</td>\n",
       "      <td>...</td>\n",
       "      <td>...</td>\n",
       "      <td>...</td>\n",
       "      <td>...</td>\n",
       "      <td>...</td>\n",
       "      <td>...</td>\n",
       "      <td>...</td>\n",
       "      <td>...</td>\n",
       "      <td>...</td>\n",
       "    </tr>\n",
       "    <tr>\n",
       "      <th>Hyundai i20 Magna</th>\n",
       "      <td>0.810811</td>\n",
       "      <td>0.029087</td>\n",
       "      <td>0.046601</td>\n",
       "      <td>Petrol</td>\n",
       "      <td>Individual</td>\n",
       "      <td>Manual</td>\n",
       "      <td>First Owner</td>\n",
       "      <td>18.50</td>\n",
       "      <td>1197.0</td>\n",
       "      <td>82.85</td>\n",
       "      <td>5.0</td>\n",
       "      <td>1.000000</td>\n",
       "    </tr>\n",
       "    <tr>\n",
       "      <th>Hyundai Verna CRDi SX</th>\n",
       "      <td>0.648649</td>\n",
       "      <td>0.010532</td>\n",
       "      <td>0.050414</td>\n",
       "      <td>Diesel</td>\n",
       "      <td>Individual</td>\n",
       "      <td>Manual</td>\n",
       "      <td>Fourth &amp; Above Owner</td>\n",
       "      <td>16.80</td>\n",
       "      <td>1493.0</td>\n",
       "      <td>110.00</td>\n",
       "      <td>5.0</td>\n",
       "      <td>0.333333</td>\n",
       "    </tr>\n",
       "    <tr>\n",
       "      <th>Maruti Swift Dzire ZDi</th>\n",
       "      <td>0.702703</td>\n",
       "      <td>0.035306</td>\n",
       "      <td>0.050837</td>\n",
       "      <td>Diesel</td>\n",
       "      <td>Individual</td>\n",
       "      <td>Manual</td>\n",
       "      <td>First Owner</td>\n",
       "      <td>19.30</td>\n",
       "      <td>1248.0</td>\n",
       "      <td>73.90</td>\n",
       "      <td>5.0</td>\n",
       "      <td>0.333333</td>\n",
       "    </tr>\n",
       "    <tr>\n",
       "      <th>Tata Indigo CR4</th>\n",
       "      <td>0.810811</td>\n",
       "      <td>0.026078</td>\n",
       "      <td>0.010591</td>\n",
       "      <td>Diesel</td>\n",
       "      <td>Individual</td>\n",
       "      <td>Manual</td>\n",
       "      <td>First Owner</td>\n",
       "      <td>23.57</td>\n",
       "      <td>1396.0</td>\n",
       "      <td>70.00</td>\n",
       "      <td>5.0</td>\n",
       "      <td>0.333333</td>\n",
       "    </tr>\n",
       "    <tr>\n",
       "      <th>Tata Indigo CR4</th>\n",
       "      <td>0.810811</td>\n",
       "      <td>0.026078</td>\n",
       "      <td>0.010591</td>\n",
       "      <td>Diesel</td>\n",
       "      <td>Individual</td>\n",
       "      <td>Manual</td>\n",
       "      <td>First Owner</td>\n",
       "      <td>23.57</td>\n",
       "      <td>1396.0</td>\n",
       "      <td>70.00</td>\n",
       "      <td>5.0</td>\n",
       "      <td>0.333333</td>\n",
       "    </tr>\n",
       "  </tbody>\n",
       "</table>\n",
       "<p>8128 rows × 12 columns</p>\n",
       "</div>"
      ],
      "text/plain": [
       "                                  year  selling_price  km_driven    fuel  \\\n",
       "name                                                                       \n",
       "Maruti Swift Dzire VDI        0.837838       0.042126   0.061640  Diesel   \n",
       "Skoda Rapid 1.5 TDI Ambition  0.837838       0.034102   0.050837  Diesel   \n",
       "Honda City 2017-2020 EXi      0.621622       0.012839   0.059310  Petrol   \n",
       "Hyundai i20 Sportz Diesel     0.729730       0.019559   0.053803  Diesel   \n",
       "Maruti Swift VXI BSIII        0.648649       0.010030   0.050837  Petrol   \n",
       "...                                ...            ...        ...     ...   \n",
       "Hyundai i20 Magna             0.810811       0.029087   0.046601  Petrol   \n",
       "Hyundai Verna CRDi SX         0.648649       0.010532   0.050414  Diesel   \n",
       "Maruti Swift Dzire ZDi        0.702703       0.035306   0.050837  Diesel   \n",
       "Tata Indigo CR4               0.810811       0.026078   0.010591  Diesel   \n",
       "Tata Indigo CR4               0.810811       0.026078   0.010591  Diesel   \n",
       "\n",
       "                             seller_type transmission                 owner  \\\n",
       "name                                                                          \n",
       "Maruti Swift Dzire VDI        Individual       Manual           First Owner   \n",
       "Skoda Rapid 1.5 TDI Ambition  Individual       Manual          Second Owner   \n",
       "Honda City 2017-2020 EXi      Individual       Manual           Third Owner   \n",
       "Hyundai i20 Sportz Diesel     Individual       Manual           First Owner   \n",
       "Maruti Swift VXI BSIII        Individual       Manual           First Owner   \n",
       "...                                  ...          ...                   ...   \n",
       "Hyundai i20 Magna             Individual       Manual           First Owner   \n",
       "Hyundai Verna CRDi SX         Individual       Manual  Fourth & Above Owner   \n",
       "Maruti Swift Dzire ZDi        Individual       Manual           First Owner   \n",
       "Tata Indigo CR4               Individual       Manual           First Owner   \n",
       "Tata Indigo CR4               Individual       Manual           First Owner   \n",
       "\n",
       "                              mileage  engine  max_power  seats  fuel_num  \n",
       "name                                                                       \n",
       "Maruti Swift Dzire VDI          23.40  1248.0      74.00    5.0  0.333333  \n",
       "Skoda Rapid 1.5 TDI Ambition    21.14  1498.0     103.52    5.0  0.333333  \n",
       "Honda City 2017-2020 EXi        17.70  1497.0      78.00    5.0  1.000000  \n",
       "Hyundai i20 Sportz Diesel       23.00  1396.0      90.00    5.0  0.333333  \n",
       "Maruti Swift VXI BSIII          16.10  1298.0      88.20    5.0  1.000000  \n",
       "...                               ...     ...        ...    ...       ...  \n",
       "Hyundai i20 Magna               18.50  1197.0      82.85    5.0  1.000000  \n",
       "Hyundai Verna CRDi SX           16.80  1493.0     110.00    5.0  0.333333  \n",
       "Maruti Swift Dzire ZDi          19.30  1248.0      73.90    5.0  0.333333  \n",
       "Tata Indigo CR4                 23.57  1396.0      70.00    5.0  0.333333  \n",
       "Tata Indigo CR4                 23.57  1396.0      70.00    5.0  0.333333  \n",
       "\n",
       "[8128 rows x 12 columns]"
      ]
     },
     "execution_count": 261,
     "metadata": {},
     "output_type": "execute_result"
    }
   ],
   "source": [
    "df"
   ]
  },
  {
   "cell_type": "markdown",
   "metadata": {},
   "source": [
    "The objective of this exercise is how to observe the evolution of the measurement error by calculating the means square error MSE. Then, for each method, I will create a function called MSE** with parameter(hyperparameter):\n",
    "\n",
    "* max_features will set up by default value 3\n",
    "\n",
    "* n_estimateurs: default value by 20\n",
    "\n",
    "* min_samples_leaf: default value by 10\n",
    "\n",
    "This function have using `` RandomForestRegressor `` and ``mean_squared_error `` from sklearn. It depents on what is the usage for question, we can choose predecting value and/ or calculating MSE"
   ]
  },
  {
   "cell_type": "code",
   "execution_count": 262,
   "metadata": {},
   "outputs": [],
   "source": [
    "def MSE_RandomForestR(Xtrain, ytrain, Xtest, ytest, **params):\n",
    "    max_features = params.get(\"max_features\", 3)\n",
    "    n_estimators = params.get(\"n_estimators\", 20)\n",
    "    min_samples_leaf = params.get(\"min_samples_leaf\", 10)\n",
    "    Prediction = params.get(\"Prediction\", False)\n",
    "    MSE = params.get(\"MSE\", False)\n",
    "    global mse\n",
    "    #create a model\n",
    "    regr = RandomForestRegressor(max_features =  max_features,  n_estimators = n_estimators, min_samples_leaf = min_samples_leaf, random_state= 42)\n",
    "    regr.fit(Xtrain, ytrain)\n",
    "    prediction = regr.predict(Xtest)\n",
    "    mse = mean_squared_error(ytest, prediction)\n",
    "    if(Prediction):\n",
    "        print(\"Predict the selling price of the car in the data set: {} \".format(prediction))\n",
    "    if (MSE):\n",
    "        print(\"The mean squared error: \" , mse)\n"
   ]
  },
  {
   "cell_type": "code",
   "execution_count": 263,
   "metadata": {},
   "outputs": [
    {
     "name": "stdout",
     "output_type": "stream",
     "text": [
      "Predict the selling price of the car in the data set: [0.01717115 0.01959951 0.33266832 ... 0.2611999  0.05110222 0.00878122] \n"
     ]
    }
   ],
   "source": [
    "MSE_RandomForestR(X_train_val, y_train_val, X_train_val, y_train_val, Prediction = True)"
   ]
  },
  {
   "cell_type": "markdown",
   "metadata": {},
   "source": [
    "### 2. Compute the mean squared error both for the training and the validation datasets. Compare them with each other."
   ]
  },
  {
   "cell_type": "markdown",
   "metadata": {},
   "source": [
    "For training set"
   ]
  },
  {
   "cell_type": "code",
   "execution_count": 264,
   "metadata": {},
   "outputs": [
    {
     "name": "stdout",
     "output_type": "stream",
     "text": [
      "The mean squared error:  0.0021319577019993405\n"
     ]
    }
   ],
   "source": [
    "MSE_RandomForestR(X_train_val, y_train_val, X_train_val, y_train_val, MSE = True)"
   ]
  },
  {
   "cell_type": "markdown",
   "metadata": {},
   "source": [
    "For Validation set"
   ]
  },
  {
   "cell_type": "code",
   "execution_count": 265,
   "metadata": {},
   "outputs": [
    {
     "name": "stdout",
     "output_type": "stream",
     "text": [
      "The mean squared error:  0.0029681897794714474\n"
     ]
    }
   ],
   "source": [
    "MSE_RandomForestR(X_train_val, y_train_val, X_val, y_val, MSE = True)"
   ]
  },
  {
   "cell_type": "markdown",
   "metadata": {},
   "source": [
    "In this case, MSE in training set is smaller than validation set. So it means the model present of overfitting. However, \n",
    "To get a better machine learning-based model, MSE of training and testing (predictions)(in this exercise is validation set) should be similar. In other words, the difference in MSE obtained during model training and  should validation be relatively small in validation data set. Therefore, we will move on next part. "
   ]
  },
  {
   "cell_type": "markdown",
   "metadata": {},
   "source": [
    "### 3. Now, using a loop, make the minimum size of terminal nodes vary as follows: 10, 20,30, . . . , 100. At each iteration, compute the mean squared error (and store it) for both samples."
   ]
  },
  {
   "cell_type": "code",
   "execution_count": 266,
   "metadata": {},
   "outputs": [
    {
     "name": "stdout",
     "output_type": "stream",
     "text": [
      "With 10 terminal node, the mean squared error is 0.0021319577019993405\n",
      "With 20 terminal node, the mean squared error is 0.002424039748717204\n",
      "With 30 terminal node, the mean squared error is 0.002803839333964384\n",
      "With 40 terminal node, the mean squared error is 0.0029855065976825503\n",
      "With 50 terminal node, the mean squared error is 0.0032385438075597218\n",
      "With 60 terminal node, the mean squared error is 0.003406066942978413\n",
      "With 70 terminal node, the mean squared error is 0.0035058288827800694\n",
      "With 80 terminal node, the mean squared error is 0.0036939668889803177\n",
      "With 90 terminal node, the mean squared error is 0.003759051984550525\n",
      "With 100 terminal node, the mean squared error is 0.00377823191742963\n"
     ]
    }
   ],
   "source": [
    "#For training set \n",
    "list_MSE_train = []\n",
    "for i in range(10,101, 10):\n",
    "      MSE_RandomForestR(X_train_val, y_train_val, X_train_val, y_train_val, min_samples_leaf = i )  \n",
    "      list_MSE_train.append(mse)\n",
    "      print(\"With {} terminal node, the mean squared error is {}\".format(i, mse))\n",
    "    "
   ]
  },
  {
   "cell_type": "code",
   "execution_count": 267,
   "metadata": {},
   "outputs": [
    {
     "name": "stdout",
     "output_type": "stream",
     "text": [
      "With 10 terminal node, the mean squared error is 0.0029681897794714474\n",
      "With 20 terminal node, the mean squared error is 0.0030540255390656655\n",
      "With 30 terminal node, the mean squared error is 0.00338125466288152\n",
      "With 40 terminal node, the mean squared error is 0.0035626876620239475\n",
      "With 50 terminal node, the mean squared error is 0.003752803418157476\n",
      "With 60 terminal node, the mean squared error is 0.0039822713266138695\n",
      "With 70 terminal node, the mean squared error is 0.004087440646532878\n",
      "With 80 terminal node, the mean squared error is 0.0041915140065717825\n",
      "With 90 terminal node, the mean squared error is 0.0042294006646237114\n",
      "With 100 terminal node, the mean squared error is 0.004243747195415733\n"
     ]
    }
   ],
   "source": [
    "list_MSE_val = []\n",
    "for i in range(10,101, 10):\n",
    "      MSE_RandomForestR(X_train_val, y_train_val, X_val, y_val, min_samples_leaf = i )  \n",
    "      list_MSE_val.append(mse)\n",
    "      print(\"With {} terminal node, the mean squared error is {}\".format(i, mse))"
   ]
  },
  {
   "cell_type": "markdown",
   "metadata": {},
   "source": [
    "### 4. On a graph, plot the mean squared error as a function of the node size, for both samples (one curve for each sample). Comment."
   ]
  },
  {
   "cell_type": "code",
   "execution_count": 268,
   "metadata": {},
   "outputs": [
    {
     "data": {
      "image/png": "[encoded data removed]",
      "text/plain": [
       "<Figure size 432x288 with 1 Axes>"
      ]
     },
     "metadata": {},
     "output_type": "display_data"
    }
   ],
   "source": [
    "x = np.array(list(range(10, 101, 10)))\n",
    "y = np.array(list_MSE_train)\n",
    "yval = np.array(list_MSE_val)\n",
    "x_min = np.argmin(list_MSE_val) + 10\n",
    "min_test = np.min(list_MSE_val)\n",
    "plt.plot(x, y)\n",
    "plt.plot(x, yval)\n",
    "plt.scatter(x_min, min_test, c = 'r', label = 'minimum')\n",
    "plt.text(x_min, min_test, '({}, {})'.format(x_min, min_test))\n",
    "plt.legend([\"Train\", \"Test\", 'minimum'])\n",
    "plt.xlabel(\"The node size\")\n",
    "plt.ylabel(\"The mean squared error\")\n",
    "plt.show()"
   ]
  },
  {
   "cell_type": "markdown",
   "metadata": {},
   "source": [
    "From this graphic, MSE in test set is always higher than training set, there this model present of overfitting. It can be seen in this graphic that the training MSE (given by the blue curve) increases sharply as the flexibility of the model increases. Furthurmore, if we plot the test MSE (given by the orange curve) the situation is not far from training curve. The test MSE initially increase sligtly as we increase the flexibility of the model but eventually starts to increase again after we introduce a lot of flexibility. As flexibility is increased the bias will tend to drop quickly (faster than the variance can increase) and so we see a drop in test MSE. "
   ]
  },
  {
   "cell_type": "markdown",
   "metadata": {},
   "source": [
    "### 5. What are the values for your hyperparameters (the number of trees, the number of variables randomly sampled as candidates at each split, and the minimum size of terminal nodes) that provide the best fit with regard to the MSE?"
   ]
  },
  {
   "cell_type": "code",
   "execution_count": 269,
   "metadata": {},
   "outputs": [
    {
     "name": "stdout",
     "output_type": "stream",
     "text": [
      " If the node size vary between 10 and 100, I will chose the coordinate of 10 node size and MSE  = 0.0029681897794714474 will present the best selection for this model with regard to MSE\n"
     ]
    }
   ],
   "source": [
    "print (\" If the node size vary between 10 and 100, I will chose the coordinate of {} node size and MSE  = {} will present the best selection for this model with regard to MSE\".format (x_min, min_test))"
   ]
  },
  {
   "cell_type": "markdown",
   "metadata": {},
   "source": [
    "In this question, we can see the difference between MSE from training set and validation set, it presents of overfitting. I will reduce the complexity of model by decreasing the number of max_features and the node size. To show that, I will test the choice for hyperparameters by difference value of trees, number of variables for each split and the minimum size of terminode to see the effect of reducing the complexity of model "
   ]
  },
  {
   "cell_type": "code",
   "execution_count": 270,
   "metadata": {},
   "outputs": [],
   "source": [
    "df2 = pd.DataFrame(columns= [\"max_feature\", \"n_estimators\",\"min_samples_leaf\" , \"MSE_train\", \"MSE_test\"])\n",
    "for i in range(1,4):\n",
    "    for n in range(10, 300, 10):\n",
    "        for leaf in range(2, 10, 2):\n",
    "            regr = RandomForestRegressor(max_features= i, n_estimators = n, min_samples_leaf = leaf)\n",
    "            regr.fit(X_train_val, y_train_val)\n",
    "            #for train sample\n",
    "            prediction_random1 = regr.predict(X_train_val)\n",
    "            mse_train = mean_squared_error(y_train_val, prediction_random1 )\n",
    "            #for valid sample \n",
    "            prediction_random = regr.predict(X_val)\n",
    "            mse = mean_squared_error(y_val, prediction_random )\n",
    "            new_row = pd.Series({\"max_feature\": i, \"n_estimators\": n,\"min_samples_leaf\": leaf , \"MSE_train\":mse_train, \"MSE_test\":mse})\n",
    "            df2 = pd.concat([df2, new_row.to_frame().T], ignore_index= True)   "
   ]
  },
  {
   "cell_type": "code",
   "execution_count": 271,
   "metadata": {},
   "outputs": [
    {
     "data": {
      "text/html": [
       "<div>\n",
       "<style scoped>\n",
       "    .dataframe tbody tr th:only-of-type {\n",
       "        vertical-align: middle;\n",
       "    }\n",
       "\n",
       "    .dataframe tbody tr th {\n",
       "        vertical-align: top;\n",
       "    }\n",
       "\n",
       "    .dataframe thead th {\n",
       "        text-align: right;\n",
       "    }\n",
       "</style>\n",
       "<table border=\"1\" class=\"dataframe\">\n",
       "  <thead>\n",
       "    <tr style=\"text-align: right;\">\n",
       "      <th></th>\n",
       "      <th>max_feature</th>\n",
       "      <th>n_estimators</th>\n",
       "      <th>min_samples_leaf</th>\n",
       "      <th>MSE_train</th>\n",
       "      <th>MSE_test</th>\n",
       "    </tr>\n",
       "  </thead>\n",
       "  <tbody>\n",
       "    <tr>\n",
       "      <th>0</th>\n",
       "      <td>1.0</td>\n",
       "      <td>10.0</td>\n",
       "      <td>2.0</td>\n",
       "      <td>0.001705</td>\n",
       "      <td>0.002707</td>\n",
       "    </tr>\n",
       "    <tr>\n",
       "      <th>1</th>\n",
       "      <td>1.0</td>\n",
       "      <td>10.0</td>\n",
       "      <td>4.0</td>\n",
       "      <td>0.001986</td>\n",
       "      <td>0.002683</td>\n",
       "    </tr>\n",
       "    <tr>\n",
       "      <th>2</th>\n",
       "      <td>1.0</td>\n",
       "      <td>10.0</td>\n",
       "      <td>6.0</td>\n",
       "      <td>0.002236</td>\n",
       "      <td>0.002813</td>\n",
       "    </tr>\n",
       "    <tr>\n",
       "      <th>3</th>\n",
       "      <td>1.0</td>\n",
       "      <td>10.0</td>\n",
       "      <td>8.0</td>\n",
       "      <td>0.002304</td>\n",
       "      <td>0.002853</td>\n",
       "    </tr>\n",
       "    <tr>\n",
       "      <th>4</th>\n",
       "      <td>1.0</td>\n",
       "      <td>20.0</td>\n",
       "      <td>2.0</td>\n",
       "      <td>0.00169</td>\n",
       "      <td>0.002653</td>\n",
       "    </tr>\n",
       "    <tr>\n",
       "      <th>...</th>\n",
       "      <td>...</td>\n",
       "      <td>...</td>\n",
       "      <td>...</td>\n",
       "      <td>...</td>\n",
       "      <td>...</td>\n",
       "    </tr>\n",
       "    <tr>\n",
       "      <th>343</th>\n",
       "      <td>3.0</td>\n",
       "      <td>280.0</td>\n",
       "      <td>8.0</td>\n",
       "      <td>0.002015</td>\n",
       "      <td>0.002999</td>\n",
       "    </tr>\n",
       "    <tr>\n",
       "      <th>344</th>\n",
       "      <td>3.0</td>\n",
       "      <td>290.0</td>\n",
       "      <td>2.0</td>\n",
       "      <td>0.001646</td>\n",
       "      <td>0.002892</td>\n",
       "    </tr>\n",
       "    <tr>\n",
       "      <th>345</th>\n",
       "      <td>3.0</td>\n",
       "      <td>290.0</td>\n",
       "      <td>4.0</td>\n",
       "      <td>0.001842</td>\n",
       "      <td>0.002955</td>\n",
       "    </tr>\n",
       "    <tr>\n",
       "      <th>346</th>\n",
       "      <td>3.0</td>\n",
       "      <td>290.0</td>\n",
       "      <td>6.0</td>\n",
       "      <td>0.001935</td>\n",
       "      <td>0.002984</td>\n",
       "    </tr>\n",
       "    <tr>\n",
       "      <th>347</th>\n",
       "      <td>3.0</td>\n",
       "      <td>290.0</td>\n",
       "      <td>8.0</td>\n",
       "      <td>0.00202</td>\n",
       "      <td>0.002978</td>\n",
       "    </tr>\n",
       "  </tbody>\n",
       "</table>\n",
       "<p>348 rows × 5 columns</p>\n",
       "</div>"
      ],
      "text/plain": [
       "    max_feature n_estimators min_samples_leaf MSE_train  MSE_test\n",
       "0           1.0         10.0              2.0  0.001705  0.002707\n",
       "1           1.0         10.0              4.0  0.001986  0.002683\n",
       "2           1.0         10.0              6.0  0.002236  0.002813\n",
       "3           1.0         10.0              8.0  0.002304  0.002853\n",
       "4           1.0         20.0              2.0   0.00169  0.002653\n",
       "..          ...          ...              ...       ...       ...\n",
       "343         3.0        280.0              8.0  0.002015  0.002999\n",
       "344         3.0        290.0              2.0  0.001646  0.002892\n",
       "345         3.0        290.0              4.0  0.001842  0.002955\n",
       "346         3.0        290.0              6.0  0.001935  0.002984\n",
       "347         3.0        290.0              8.0   0.00202  0.002978\n",
       "\n",
       "[348 rows x 5 columns]"
      ]
     },
     "execution_count": 271,
     "metadata": {},
     "output_type": "execute_result"
    }
   ],
   "source": [
    "df2"
   ]
  },
  {
   "cell_type": "code",
   "execution_count": 272,
   "metadata": {},
   "outputs": [],
   "source": [
    "df2[\"MSE_test\"] = df2[\"MSE_test\"].astype(str).astype(float)"
   ]
  },
  {
   "cell_type": "code",
   "execution_count": 273,
   "metadata": {},
   "outputs": [
    {
     "data": {
      "text/plain": [
       "max_feature              1.0\n",
       "n_estimators            50.0\n",
       "min_samples_leaf         2.0\n",
       "MSE_train           0.001678\n",
       "MSE_test            0.002519\n",
       "Name: 16, dtype: object"
      ]
     },
     "execution_count": 273,
     "metadata": {},
     "output_type": "execute_result"
    }
   ],
   "source": [
    "df3 = df2.loc[df2[\"MSE_test\"].idxmin()]\n",
    "df3"
   ]
  },
  {
   "cell_type": "code",
   "execution_count": 274,
   "metadata": {},
   "outputs": [
    {
     "name": "stdout",
     "output_type": "stream",
     "text": [
      "With 1.0 variables randomly sampled as candidates at each split, 50.0 trees, and 2.0 terminal node will be the best selection for this model with regard to MSE\n"
     ]
    }
   ],
   "source": [
    "print (\"With {} variables randomly sampled as candidates at each split, {} trees, and {} terminal node will be the best selection for this model with regard to MSE\".format (df3[0], df3[1], df3[2]))"
   ]
  },
  {
   "cell_type": "markdown",
   "metadata": {},
   "source": [
    "Note: Without checking MSE, we can find the best parameters (hyberparameter) by looking Grid Search"
   ]
  },
  {
   "cell_type": "code",
   "execution_count": 275,
   "metadata": {},
   "outputs": [],
   "source": [
    "# Number of trees in random forest\n",
    "n_estimators = [int(i) for i in np.linspace(start = 10, stop = 500, num = 200)]\n",
    "#Number of features to consider at every split\n",
    "max_feature = list(range(1,4))\n",
    "leaf = list(range(2, 30 , 2))"
   ]
  },
  {
   "cell_type": "code",
   "execution_count": 276,
   "metadata": {},
   "outputs": [
    {
     "name": "stdout",
     "output_type": "stream",
     "text": [
      "Fitting 3 folds for each of 100 candidates, totalling 300 fits\n",
      "[CV] END max_features=1, min_samples_leaf=2, n_estimators=91; total time=   0.5s\n",
      "[CV] END max_features=1, min_samples_leaf=2, n_estimators=91; total time=   0.5s\n",
      "[CV] END max_features=1, min_samples_leaf=2, n_estimators=91; total time=   0.5s\n",
      "[CV] END max_features=2, min_samples_leaf=26, n_estimators=209; total time=   1.1s\n",
      "[CV] END max_features=2, min_samples_leaf=26, n_estimators=209; total time=   1.1s\n",
      "[CV] END max_features=2, min_samples_leaf=26, n_estimators=209; total time=   1.1s\n",
      "[CV] END max_features=2, min_samples_leaf=22, n_estimators=285; total time=   1.4s\n",
      "[CV] END max_features=2, min_samples_leaf=22, n_estimators=285; total time=   1.4s\n",
      "[CV] END max_features=2, min_samples_leaf=22, n_estimators=285; total time=   1.4s\n",
      "[CV] END max_features=2, min_samples_leaf=6, n_estimators=251; total time=   1.4s\n",
      "[CV] END max_features=2, min_samples_leaf=6, n_estimators=251; total time=   1.4s\n",
      "[CV] END max_features=2, min_samples_leaf=28, n_estimators=91; total time=   0.4s\n",
      "[CV] END max_features=1, min_samples_leaf=16, n_estimators=81; total time=   0.3s\n",
      "[CV] END max_features=1, min_samples_leaf=16, n_estimators=81; total time=   0.3s\n",
      "[CV] END max_features=2, min_samples_leaf=28, n_estimators=91; total time=   0.4s\n",
      "[CV] END max_features=2, min_samples_leaf=28, n_estimators=91; total time=   0.4s\n",
      "[CV] END max_features=2, min_samples_leaf=6, n_estimators=251; total time=   1.5s\n",
      "[CV] END max_features=1, min_samples_leaf=16, n_estimators=81; total time=   0.4s\n",
      "[CV] END max_features=2, min_samples_leaf=20, n_estimators=394; total time=   2.0s\n",
      "[CV] END max_features=2, min_samples_leaf=20, n_estimators=394; total time=   2.0s\n",
      "[CV] END max_features=1, min_samples_leaf=14, n_estimators=248; total time=   0.9s\n",
      "[CV] END max_features=1, min_samples_leaf=14, n_estimators=248; total time=   1.0s\n",
      "[CV] END max_features=1, min_samples_leaf=14, n_estimators=248; total time=   1.1s\n",
      "[CV] END max_features=3, min_samples_leaf=20, n_estimators=12; total time=   0.1s\n",
      "[CV] END max_features=2, min_samples_leaf=20, n_estimators=394; total time=   2.1s\n",
      "[CV] END max_features=3, min_samples_leaf=20, n_estimators=12; total time=   0.1s\n",
      "[CV] END max_features=3, min_samples_leaf=20, n_estimators=12; total time=   0.1s\n",
      "[CV] END max_features=2, min_samples_leaf=22, n_estimators=307; total time=   1.5s\n",
      "[CV] END max_features=2, min_samples_leaf=22, n_estimators=307; total time=   1.5s\n",
      "[CV] END max_features=2, min_samples_leaf=22, n_estimators=307; total time=   1.5s\n",
      "[CV] END max_features=1, min_samples_leaf=6, n_estimators=337; total time=   1.7s\n",
      "[CV] END max_features=1, min_samples_leaf=6, n_estimators=337; total time=   1.6s\n",
      "[CV] END max_features=2, min_samples_leaf=4, n_estimators=199; total time=   1.3s\n",
      "[CV] END max_features=2, min_samples_leaf=4, n_estimators=199; total time=   1.2s\n",
      "[CV] END max_features=1, min_samples_leaf=6, n_estimators=337; total time=   1.6s\n",
      "[CV] END max_features=1, min_samples_leaf=18, n_estimators=263; total time=   0.9s\n",
      "[CV] END max_features=2, min_samples_leaf=4, n_estimators=199; total time=   1.1s\n",
      "[CV] END max_features=1, min_samples_leaf=18, n_estimators=263; total time=   0.9s\n",
      "[CV] END max_features=1, min_samples_leaf=18, n_estimators=263; total time=   1.0s\n",
      "[CV] END max_features=2, min_samples_leaf=10, n_estimators=211; total time=   1.1s\n",
      "[CV] END max_features=2, min_samples_leaf=10, n_estimators=211; total time=   1.2s\n",
      "[CV] END max_features=2, min_samples_leaf=10, n_estimators=211; total time=   1.2s\n",
      "[CV] END max_features=3, min_samples_leaf=24, n_estimators=187; total time=   1.2s\n",
      "[CV] END max_features=3, min_samples_leaf=24, n_estimators=187; total time=   1.1s\n",
      "[CV] END max_features=3, min_samples_leaf=2, n_estimators=110; total time=   1.0s\n",
      "[CV] END max_features=3, min_samples_leaf=24, n_estimators=187; total time=   1.3s\n",
      "[CV] END max_features=1, min_samples_leaf=12, n_estimators=64; total time=   0.4s\n",
      "[CV] END max_features=3, min_samples_leaf=2, n_estimators=110; total time=   1.0s\n",
      "[CV] END max_features=1, min_samples_leaf=12, n_estimators=64; total time=   0.3s\n",
      "[CV] END max_features=1, min_samples_leaf=12, n_estimators=64; total time=   0.3s\n",
      "[CV] END max_features=3, min_samples_leaf=2, n_estimators=110; total time=   1.1s\n",
      "[CV] END max_features=3, min_samples_leaf=20, n_estimators=187; total time=   1.3s\n",
      "[CV] END max_features=3, min_samples_leaf=20, n_estimators=187; total time=   1.3s\n",
      "[CV] END max_features=3, min_samples_leaf=20, n_estimators=187; total time=   1.3s\n",
      "[CV] END max_features=2, min_samples_leaf=20, n_estimators=224; total time=   1.2s\n",
      "[CV] END max_features=2, min_samples_leaf=20, n_estimators=224; total time=   1.1s\n",
      "[CV] END max_features=2, min_samples_leaf=20, n_estimators=224; total time=   1.2s\n",
      "[CV] END max_features=1, min_samples_leaf=4, n_estimators=300; total time=   1.6s\n",
      "[CV] END max_features=1, min_samples_leaf=4, n_estimators=300; total time=   1.6s\n",
      "[CV] END max_features=3, min_samples_leaf=2, n_estimators=342; total time=   2.8s\n",
      "[CV] END max_features=3, min_samples_leaf=2, n_estimators=342; total time=   2.8s\n",
      "[CV] END max_features=1, min_samples_leaf=4, n_estimators=300; total time=   1.5s\n",
      "[CV] END max_features=3, min_samples_leaf=2, n_estimators=342; total time=   2.9s\n",
      "[CV] END max_features=2, min_samples_leaf=22, n_estimators=411; total time=   2.0s\n",
      "[CV] END max_features=2, min_samples_leaf=22, n_estimators=411; total time=   2.0s\n",
      "[CV] END max_features=1, min_samples_leaf=8, n_estimators=418; total time=   1.8s\n",
      "[CV] END max_features=2, min_samples_leaf=22, n_estimators=411; total time=   1.9s\n",
      "[CV] END max_features=1, min_samples_leaf=8, n_estimators=418; total time=   1.8s\n",
      "[CV] END max_features=2, min_samples_leaf=2, n_estimators=248; total time=   1.6s\n",
      "[CV] END max_features=2, min_samples_leaf=2, n_estimators=248; total time=   1.5s\n",
      "[CV] END max_features=1, min_samples_leaf=8, n_estimators=418; total time=   1.7s\n",
      "[CV] END max_features=1, min_samples_leaf=4, n_estimators=61; total time=   0.3s\n",
      "[CV] END max_features=1, min_samples_leaf=4, n_estimators=61; total time=   0.3s\n",
      "[CV] END max_features=1, min_samples_leaf=4, n_estimators=61; total time=   0.3s\n",
      "[CV] END max_features=2, min_samples_leaf=2, n_estimators=248; total time=   1.7s\n",
      "[CV] END max_features=1, min_samples_leaf=26, n_estimators=189; total time=   0.6s\n",
      "[CV] END max_features=3, min_samples_leaf=20, n_estimators=179; total time=   1.0s\n",
      "[CV] END max_features=3, min_samples_leaf=20, n_estimators=179; total time=   1.0s\n",
      "[CV] END max_features=1, min_samples_leaf=26, n_estimators=189; total time=   0.6s\n",
      "[CV] END max_features=3, min_samples_leaf=20, n_estimators=179; total time=   1.1s\n",
      "[CV] END max_features=2, min_samples_leaf=10, n_estimators=406; total time=   2.1s\n",
      "[CV] END max_features=1, min_samples_leaf=26, n_estimators=189; total time=   0.6s\n",
      "[CV] END max_features=2, min_samples_leaf=10, n_estimators=406; total time=   2.1s\n",
      "[CV] END max_features=2, min_samples_leaf=10, n_estimators=406; total time=   2.1s\n",
      "[CV] END max_features=2, min_samples_leaf=8, n_estimators=339; total time=   1.9s\n",
      "[CV] END max_features=2, min_samples_leaf=8, n_estimators=339; total time=   1.9s\n",
      "[CV] END max_features=2, min_samples_leaf=8, n_estimators=339; total time=   1.8s\n",
      "[CV] END max_features=2, min_samples_leaf=18, n_estimators=401; total time=   2.0s\n",
      "[CV] END max_features=2, min_samples_leaf=18, n_estimators=401; total time=   2.1s\n",
      "[CV] END max_features=1, min_samples_leaf=16, n_estimators=467; total time=   1.8s\n",
      "[CV] END max_features=1, min_samples_leaf=16, n_estimators=467; total time=   1.8s\n",
      "[CV] END max_features=2, min_samples_leaf=18, n_estimators=401; total time=   2.0s\n",
      "[CV] END max_features=1, min_samples_leaf=16, n_estimators=22; total time=   0.1s\n",
      "[CV] END max_features=1, min_samples_leaf=16, n_estimators=22; total time=   0.1s\n",
      "[CV] END max_features=1, min_samples_leaf=16, n_estimators=22; total time=   0.1s\n",
      "[CV] END max_features=3, min_samples_leaf=16, n_estimators=211; total time=   1.5s\n",
      "[CV] END max_features=3, min_samples_leaf=16, n_estimators=211; total time=   1.5s\n",
      "[CV] END max_features=1, min_samples_leaf=16, n_estimators=467; total time=   2.1s\n",
      "[CV] END max_features=3, min_samples_leaf=16, n_estimators=211; total time=   1.6s\n",
      "[CV] END max_features=1, min_samples_leaf=14, n_estimators=243; total time=   1.3s\n",
      "[CV] END max_features=3, min_samples_leaf=2, n_estimators=251; total time=   2.5s\n",
      "[CV] END max_features=3, min_samples_leaf=2, n_estimators=251; total time=   2.6s\n",
      "[CV] END max_features=3, min_samples_leaf=2, n_estimators=251; total time=   2.5s\n",
      "[CV] END max_features=1, min_samples_leaf=14, n_estimators=243; total time=   1.3s\n",
      "[CV] END max_features=1, min_samples_leaf=14, n_estimators=243; total time=   1.4s\n",
      "[CV] END max_features=1, min_samples_leaf=20, n_estimators=367; total time=   1.6s\n",
      "[CV] END max_features=1, min_samples_leaf=20, n_estimators=367; total time=   1.5s\n",
      "[CV] END max_features=3, min_samples_leaf=26, n_estimators=330; total time=   2.2s\n",
      "[CV] END max_features=1, min_samples_leaf=20, n_estimators=367; total time=   1.5s\n",
      "[CV] END max_features=3, min_samples_leaf=26, n_estimators=330; total time=   2.3s\n",
      "[CV] END max_features=3, min_samples_leaf=26, n_estimators=330; total time=   2.2s\n",
      "[CV] END max_features=1, min_samples_leaf=26, n_estimators=197; total time=   0.8s\n",
      "[CV] END max_features=1, min_samples_leaf=26, n_estimators=197; total time=   0.8s\n",
      "[CV] END max_features=1, min_samples_leaf=26, n_estimators=197; total time=   0.8s\n",
      "[CV] END max_features=1, min_samples_leaf=22, n_estimators=24; total time=   0.1s\n",
      "[CV] END max_features=1, min_samples_leaf=22, n_estimators=24; total time=   0.1s\n",
      "[CV] END max_features=1, min_samples_leaf=22, n_estimators=24; total time=   0.1s\n",
      "[CV] END max_features=1, min_samples_leaf=24, n_estimators=206; total time=   0.7s\n",
      "[CV] END max_features=1, min_samples_leaf=24, n_estimators=206; total time=   0.6s\n",
      "[CV] END max_features=3, min_samples_leaf=28, n_estimators=497; total time=   2.8s\n",
      "[CV] END max_features=3, min_samples_leaf=28, n_estimators=497; total time=   2.8s\n",
      "[CV] END max_features=1, min_samples_leaf=24, n_estimators=206; total time=   0.7s\n",
      "[CV] END max_features=2, min_samples_leaf=16, n_estimators=487; total time=   2.3s\n",
      "[CV] END max_features=3, min_samples_leaf=28, n_estimators=497; total time=   2.6s\n",
      "[CV] END max_features=2, min_samples_leaf=16, n_estimators=487; total time=   2.4s\n",
      "[CV] END max_features=3, min_samples_leaf=22, n_estimators=209; total time=   1.1s\n",
      "[CV] END max_features=3, min_samples_leaf=22, n_estimators=209; total time=   1.1s\n",
      "[CV] END max_features=2, min_samples_leaf=16, n_estimators=487; total time=   2.1s\n",
      "[CV] END max_features=3, min_samples_leaf=22, n_estimators=209; total time=   1.1s\n",
      "[CV] END max_features=2, min_samples_leaf=24, n_estimators=162; total time=   0.7s\n",
      "[CV] END max_features=2, min_samples_leaf=24, n_estimators=162; total time=   0.7s\n",
      "[CV] END max_features=2, min_samples_leaf=24, n_estimators=162; total time=   0.7s\n",
      "[CV] END max_features=1, min_samples_leaf=8, n_estimators=337; total time=   1.4s\n",
      "[CV] END max_features=1, min_samples_leaf=8, n_estimators=337; total time=   1.5s\n",
      "[CV] END max_features=1, min_samples_leaf=8, n_estimators=337; total time=   1.5s\n",
      "[CV] END max_features=1, min_samples_leaf=22, n_estimators=359; total time=   1.2s\n",
      "[CV] END max_features=1, min_samples_leaf=22, n_estimators=359; total time=   1.2s\n",
      "[CV] END max_features=1, min_samples_leaf=22, n_estimators=359; total time=   1.3s\n",
      "[CV] END max_features=1, min_samples_leaf=20, n_estimators=174; total time=   0.6s\n",
      "[CV] END max_features=1, min_samples_leaf=20, n_estimators=174; total time=   0.6s\n",
      "[CV] END max_features=1, min_samples_leaf=12, n_estimators=500; total time=   1.9s\n",
      "[CV] END max_features=1, min_samples_leaf=20, n_estimators=174; total time=   0.6s\n",
      "[CV] END max_features=1, min_samples_leaf=12, n_estimators=500; total time=   1.9s\n",
      "[CV] END max_features=1, min_samples_leaf=12, n_estimators=500; total time=   1.9s\n",
      "[CV] END max_features=1, min_samples_leaf=28, n_estimators=110; total time=   0.4s\n",
      "[CV] END max_features=2, min_samples_leaf=2, n_estimators=335; total time=   2.1s\n",
      "[CV] END max_features=2, min_samples_leaf=2, n_estimators=335; total time=   2.0s\n",
      "[CV] END max_features=1, min_samples_leaf=28, n_estimators=110; total time=   0.4s\n",
      "[CV] END max_features=2, min_samples_leaf=2, n_estimators=335; total time=   2.0s\n",
      "[CV] END max_features=1, min_samples_leaf=28, n_estimators=78; total time=   0.3s\n",
      "[CV] END max_features=1, min_samples_leaf=28, n_estimators=78; total time=   0.3s\n",
      "[CV] END max_features=1, min_samples_leaf=28, n_estimators=78; total time=   0.3s\n",
      "[CV] END max_features=1, min_samples_leaf=28, n_estimators=110; total time=   0.4s\n",
      "[CV] END max_features=3, min_samples_leaf=14, n_estimators=78; total time=   0.4s\n",
      "[CV] END max_features=3, min_samples_leaf=14, n_estimators=78; total time=   0.4s\n",
      "[CV] END max_features=3, min_samples_leaf=14, n_estimators=78; total time=   0.4s\n",
      "[CV] END max_features=3, min_samples_leaf=22, n_estimators=86; total time=   0.4s\n",
      "[CV] END max_features=3, min_samples_leaf=22, n_estimators=86; total time=   0.4s\n",
      "[CV] END max_features=3, min_samples_leaf=4, n_estimators=300; total time=   2.0s\n",
      "[CV] END max_features=3, min_samples_leaf=4, n_estimators=300; total time=   1.9s\n",
      "[CV] END max_features=3, min_samples_leaf=4, n_estimators=300; total time=   2.0s\n",
      "[CV] END max_features=3, min_samples_leaf=12, n_estimators=14; total time=   0.1s\n",
      "[CV] END max_features=3, min_samples_leaf=22, n_estimators=86; total time=   0.4s\n",
      "[CV] END max_features=3, min_samples_leaf=12, n_estimators=14; total time=   0.1s\n",
      "[CV] END max_features=3, min_samples_leaf=12, n_estimators=14; total time=   0.1s\n",
      "[CV] END max_features=1, min_samples_leaf=10, n_estimators=416; total time=   1.6s\n",
      "[CV] END max_features=1, min_samples_leaf=10, n_estimators=416; total time=   1.7s\n",
      "[CV] END max_features=1, min_samples_leaf=10, n_estimators=416; total time=   1.7s\n",
      "[CV] END max_features=2, min_samples_leaf=28, n_estimators=224; total time=   1.0s\n",
      "[CV] END max_features=2, min_samples_leaf=28, n_estimators=224; total time=   1.0s\n",
      "[CV] END max_features=2, min_samples_leaf=28, n_estimators=224; total time=   1.0s\n",
      "[CV] END max_features=1, min_samples_leaf=2, n_estimators=51; total time=   0.3s\n",
      "[CV] END max_features=1, min_samples_leaf=2, n_estimators=51; total time=   0.3s\n",
      "[CV] END max_features=1, min_samples_leaf=2, n_estimators=51; total time=   0.3s\n",
      "[CV] END max_features=1, min_samples_leaf=14, n_estimators=460; total time=   1.8s\n",
      "[CV] END max_features=3, min_samples_leaf=6, n_estimators=416; total time=   2.7s\n",
      "[CV] END max_features=3, min_samples_leaf=6, n_estimators=416; total time=   2.8s\n",
      "[CV] END max_features=3, min_samples_leaf=24, n_estimators=133; total time=   0.8s\n",
      "[CV] END max_features=2, min_samples_leaf=24, n_estimators=32; total time=   0.1s\n",
      "[CV] END max_features=3, min_samples_leaf=6, n_estimators=416; total time=   2.7s\n",
      "[CV] END max_features=2, min_samples_leaf=24, n_estimators=32; total time=   0.2s\n",
      "[CV] END max_features=3, min_samples_leaf=24, n_estimators=133; total time=   0.8s\n",
      "[CV] END max_features=2, min_samples_leaf=24, n_estimators=32; total time=   0.2s\n",
      "[CV] END max_features=1, min_samples_leaf=14, n_estimators=460; total time=   1.9s\n",
      "[CV] END max_features=3, min_samples_leaf=24, n_estimators=133; total time=   0.8s\n",
      "[CV] END max_features=1, min_samples_leaf=14, n_estimators=460; total time=   1.9s\n",
      "[CV] END max_features=2, min_samples_leaf=8, n_estimators=113; total time=   0.7s\n",
      "[CV] END max_features=2, min_samples_leaf=8, n_estimators=113; total time=   0.6s\n",
      "[CV] END max_features=2, min_samples_leaf=8, n_estimators=113; total time=   0.7s\n",
      "[CV] END max_features=1, min_samples_leaf=6, n_estimators=160; total time=   0.8s\n",
      "[CV] END max_features=1, min_samples_leaf=6, n_estimators=160; total time=   0.8s\n",
      "[CV] END max_features=1, min_samples_leaf=6, n_estimators=160; total time=   0.8s\n",
      "[CV] END max_features=2, min_samples_leaf=26, n_estimators=76; total time=   0.4s\n",
      "[CV] END max_features=2, min_samples_leaf=26, n_estimators=76; total time=   0.4s\n",
      "[CV] END max_features=2, min_samples_leaf=26, n_estimators=76; total time=   0.4s\n",
      "[CV] END max_features=1, min_samples_leaf=10, n_estimators=275; total time=   1.3s\n",
      "[CV] END max_features=3, min_samples_leaf=20, n_estimators=367; total time=   2.3s\n",
      "[CV] END max_features=3, min_samples_leaf=20, n_estimators=367; total time=   2.2s\n",
      "[CV] END max_features=3, min_samples_leaf=20, n_estimators=367; total time=   2.4s\n",
      "[CV] END max_features=2, min_samples_leaf=14, n_estimators=403; total time=   2.3s\n",
      "[CV] END max_features=1, min_samples_leaf=10, n_estimators=275; total time=   1.4s\n",
      "[CV] END max_features=2, min_samples_leaf=14, n_estimators=403; total time=   2.6s\n",
      "[CV] END max_features=2, min_samples_leaf=14, n_estimators=403; total time=   2.5s\n",
      "[CV] END max_features=1, min_samples_leaf=10, n_estimators=275; total time=   1.4s\n",
      "[CV] END max_features=2, min_samples_leaf=14, n_estimators=325; total time=   2.0s\n",
      "[CV] END max_features=2, min_samples_leaf=14, n_estimators=325; total time=   2.0s\n",
      "[CV] END max_features=2, min_samples_leaf=14, n_estimators=325; total time=   2.0s\n",
      "[CV] END max_features=2, min_samples_leaf=26, n_estimators=371; total time=   2.0s\n",
      "[CV] END max_features=2, min_samples_leaf=26, n_estimators=371; total time=   1.8s\n",
      "[CV] END max_features=3, min_samples_leaf=28, n_estimators=492; total time=   3.0s\n",
      "[CV] END max_features=1, min_samples_leaf=26, n_estimators=376; total time=   1.3s\n",
      "[CV] END max_features=1, min_samples_leaf=26, n_estimators=376; total time=   1.3s\n",
      "[CV] END max_features=3, min_samples_leaf=28, n_estimators=492; total time=   3.1s\n",
      "[CV] END max_features=3, min_samples_leaf=28, n_estimators=492; total time=   2.9s\n",
      "[CV] END max_features=3, min_samples_leaf=16, n_estimators=46; total time=   0.3s\n",
      "[CV] END max_features=3, min_samples_leaf=16, n_estimators=46; total time=   0.3s\n",
      "[CV] END max_features=3, min_samples_leaf=16, n_estimators=46; total time=   0.3s\n",
      "[CV] END max_features=2, min_samples_leaf=26, n_estimators=371; total time=   1.6s\n",
      "[CV] END max_features=1, min_samples_leaf=26, n_estimators=376; total time=   1.2s\n",
      "[CV] END max_features=3, min_samples_leaf=4, n_estimators=103; total time=   0.7s\n",
      "[CV] END max_features=3, min_samples_leaf=4, n_estimators=103; total time=   0.8s\n",
      "[CV] END max_features=3, min_samples_leaf=4, n_estimators=103; total time=   0.7s\n",
      "[CV] END max_features=2, min_samples_leaf=2, n_estimators=167; total time=   1.0s\n",
      "[CV] END max_features=2, min_samples_leaf=2, n_estimators=167; total time=   1.0s\n",
      "[CV] END max_features=2, min_samples_leaf=2, n_estimators=167; total time=   1.0s\n",
      "[CV] END max_features=2, min_samples_leaf=24, n_estimators=184; total time=   0.8s\n",
      "[CV] END max_features=2, min_samples_leaf=24, n_estimators=184; total time=   0.8s\n",
      "[CV] END max_features=2, min_samples_leaf=24, n_estimators=184; total time=   0.8s\n",
      "[CV] END max_features=1, min_samples_leaf=10, n_estimators=335; total time=   1.3s\n",
      "[CV] END max_features=1, min_samples_leaf=10, n_estimators=335; total time=   1.3s\n",
      "[CV] END max_features=3, min_samples_leaf=12, n_estimators=416; total time=   2.5s\n",
      "[CV] END max_features=3, min_samples_leaf=12, n_estimators=416; total time=   2.6s\n",
      "[CV] END max_features=3, min_samples_leaf=12, n_estimators=194; total time=   1.3s\n",
      "[CV] END max_features=3, min_samples_leaf=12, n_estimators=194; total time=   1.3s\n",
      "[CV] END max_features=1, min_samples_leaf=10, n_estimators=335; total time=   1.5s\n",
      "[CV] END max_features=3, min_samples_leaf=12, n_estimators=416; total time=   2.6s\n",
      "[CV] END max_features=3, min_samples_leaf=12, n_estimators=194; total time=   1.3s\n",
      "[CV] END max_features=3, min_samples_leaf=12, n_estimators=226; total time=   1.5s\n",
      "[CV] END max_features=3, min_samples_leaf=12, n_estimators=226; total time=   1.5s\n",
      "[CV] END max_features=3, min_samples_leaf=12, n_estimators=226; total time=   1.6s\n",
      "[CV] END max_features=3, min_samples_leaf=28, n_estimators=342; total time=   2.0s\n",
      "[CV] END max_features=3, min_samples_leaf=28, n_estimators=342; total time=   2.2s\n",
      "[CV] END max_features=3, min_samples_leaf=28, n_estimators=342; total time=   2.1s\n",
      "[CV] END max_features=3, min_samples_leaf=18, n_estimators=349; total time=   2.3s\n",
      "[CV] END max_features=3, min_samples_leaf=18, n_estimators=349; total time=   2.5s\n",
      "[CV] END max_features=3, min_samples_leaf=18, n_estimators=349; total time=   2.5s\n",
      "[CV] END max_features=3, min_samples_leaf=20, n_estimators=165; total time=   1.3s\n",
      "[CV] END max_features=3, min_samples_leaf=20, n_estimators=165; total time=   1.3s\n",
      "[CV] END max_features=3, min_samples_leaf=20, n_estimators=165; total time=   1.2s\n",
      "[CV] END max_features=2, min_samples_leaf=24, n_estimators=231; total time=   1.5s\n",
      "[CV] END max_features=2, min_samples_leaf=24, n_estimators=231; total time=   1.4s\n",
      "[CV] END max_features=2, min_samples_leaf=12, n_estimators=295; total time=   2.0s\n",
      "[CV] END max_features=2, min_samples_leaf=12, n_estimators=295; total time=   1.8s\n",
      "[CV] END max_features=2, min_samples_leaf=12, n_estimators=295; total time=   1.9s\n",
      "[CV] END max_features=3, min_samples_leaf=4, n_estimators=477; total time=   4.1s\n",
      "[CV] END max_features=3, min_samples_leaf=4, n_estimators=477; total time=   4.2s\n",
      "[CV] END max_features=3, min_samples_leaf=4, n_estimators=477; total time=   4.2s\n",
      "[CV] END max_features=2, min_samples_leaf=24, n_estimators=231; total time=   1.3s\n",
      "[CV] END max_features=1, min_samples_leaf=10, n_estimators=37; total time=   0.2s\n",
      "[CV] END max_features=1, min_samples_leaf=10, n_estimators=37; total time=   0.2s\n",
      "[CV] END max_features=1, min_samples_leaf=10, n_estimators=37; total time=   0.2s\n",
      "[CV] END max_features=1, min_samples_leaf=16, n_estimators=418; total time=   1.7s\n",
      "[CV] END max_features=1, min_samples_leaf=16, n_estimators=418; total time=   1.7s\n",
      "[CV] END max_features=2, min_samples_leaf=22, n_estimators=312; total time=   1.7s\n",
      "[CV] END max_features=2, min_samples_leaf=22, n_estimators=312; total time=   1.6s\n",
      "[CV] END max_features=1, min_samples_leaf=16, n_estimators=418; total time=   1.8s\n",
      "[CV] END max_features=2, min_samples_leaf=18, n_estimators=123; total time=   0.7s\n",
      "[CV] END max_features=2, min_samples_leaf=22, n_estimators=312; total time=   1.5s\n",
      "[CV] END max_features=2, min_samples_leaf=18, n_estimators=123; total time=   0.7s\n",
      "[CV] END max_features=2, min_samples_leaf=18, n_estimators=123; total time=   0.7s\n",
      "[CV] END max_features=1, min_samples_leaf=10, n_estimators=152; total time=   0.8s\n",
      "[CV] END max_features=1, min_samples_leaf=10, n_estimators=152; total time=   0.8s\n",
      "[CV] END max_features=1, min_samples_leaf=10, n_estimators=152; total time=   0.8s\n",
      "[CV] END max_features=3, min_samples_leaf=16, n_estimators=145; total time=   1.0s\n",
      "[CV] END max_features=3, min_samples_leaf=16, n_estimators=145; total time=   1.0s\n",
      "[CV] END max_features=3, min_samples_leaf=16, n_estimators=145; total time=   1.0s\n",
      "[CV] END max_features=1, min_samples_leaf=28, n_estimators=165; total time=   0.8s\n",
      "[CV] END max_features=1, min_samples_leaf=28, n_estimators=165; total time=   0.7s\n",
      "[CV] END max_features=3, min_samples_leaf=28, n_estimators=344; total time=   2.2s\n",
      "[CV] END max_features=1, min_samples_leaf=28, n_estimators=165; total time=   0.7s\n",
      "[CV] END max_features=3, min_samples_leaf=28, n_estimators=344; total time=   2.2s\n",
      "[CV] END max_features=3, min_samples_leaf=28, n_estimators=344; total time=   2.2s\n",
      "[CV] END max_features=2, min_samples_leaf=14, n_estimators=184; total time=   1.1s\n",
      "[CV] END max_features=2, min_samples_leaf=24, n_estimators=482; total time=   2.6s\n",
      "[CV] END max_features=2, min_samples_leaf=24, n_estimators=482; total time=   2.7s\n",
      "[CV] END max_features=2, min_samples_leaf=14, n_estimators=184; total time=   1.0s\n",
      "[CV] END max_features=2, min_samples_leaf=24, n_estimators=482; total time=   2.7s\n",
      "[CV] END max_features=2, min_samples_leaf=14, n_estimators=184; total time=   1.0s\n",
      "[CV] END max_features=2, min_samples_leaf=14, n_estimators=261; total time=   1.4s\n",
      "[CV] END max_features=2, min_samples_leaf=14, n_estimators=261; total time=   1.3s\n",
      "[CV] END max_features=2, min_samples_leaf=14, n_estimators=261; total time=   1.4s\n",
      "[CV] END max_features=2, min_samples_leaf=4, n_estimators=290; total time=   1.8s\n",
      "[CV] END max_features=2, min_samples_leaf=4, n_estimators=290; total time=   1.9s\n",
      "[CV] END max_features=2, min_samples_leaf=4, n_estimators=290; total time=   1.9s\n",
      "[CV] END max_features=2, min_samples_leaf=24, n_estimators=386; total time=   1.9s\n",
      "[CV] END max_features=2, min_samples_leaf=24, n_estimators=386; total time=   1.8s\n",
      "[CV] END max_features=3, min_samples_leaf=12, n_estimators=458; total time=   2.7s\n",
      "[CV] END max_features=3, min_samples_leaf=12, n_estimators=458; total time=   2.7s\n",
      "[CV] END max_features=2, min_samples_leaf=24, n_estimators=386; total time=   1.4s\n",
      "[CV] END max_features=3, min_samples_leaf=12, n_estimators=458; total time=   2.4s\n"
     ]
    },
    {
     "data": {
      "text/plain": [
       "RandomizedSearchCV(cv=3, estimator=RandomForestRegressor(), n_iter=100,\n",
       "                   n_jobs=-1,\n",
       "                   param_distributions={'max_features': [1, 2, 3],\n",
       "                                        'min_samples_leaf': [2, 4, 6, 8, 10, 12,\n",
       "                                                             14, 16, 18, 20, 22,\n",
       "                                                             24, 26, 28],\n",
       "                                        'n_estimators': [10, 12, 14, 17, 19, 22,\n",
       "                                                         24, 27, 29, 32, 34, 37,\n",
       "                                                         39, 42, 44, 46, 49, 51,\n",
       "                                                         54, 56, 59, 61, 64, 66,\n",
       "                                                         69, 71, 74, 76, 78, 81, ...]},\n",
       "                   random_state=42, verbose=2)"
      ]
     },
     "execution_count": 276,
     "metadata": {},
     "output_type": "execute_result"
    }
   ],
   "source": [
    "# Create the random grid\n",
    "from sklearn.model_selection import RandomizedSearchCV\n",
    "random_grid = {'n_estimators': n_estimators,\n",
    "               'max_features': max_feature,\n",
    "               'min_samples_leaf': leaf}\n",
    "regr = RandomForestRegressor()\n",
    "rf_random = RandomizedSearchCV(estimator = regr, param_distributions = random_grid, n_iter = 100, cv = 3, verbose=2, random_state=42, n_jobs = -1)\n",
    "rf_random.fit(X_train_val, y_train_val)"
   ]
  },
  {
   "cell_type": "code",
   "execution_count": 277,
   "metadata": {},
   "outputs": [
    {
     "data": {
      "text/plain": [
       "{'n_estimators': 51, 'min_samples_leaf': 2, 'max_features': 1}"
      ]
     },
     "execution_count": 277,
     "metadata": {},
     "output_type": "execute_result"
    }
   ],
   "source": [
    "rf_random.best_params_"
   ]
  },
  {
   "cell_type": "markdown",
   "metadata": {},
   "source": [
    "## 4.2 A second model: SVM"
   ]
  },
  {
   "cell_type": "markdown",
   "metadata": {},
   "source": [
    "Now you will train another machine learning model: a support vector machine. You will only\n",
    "consider a linear kernel, and make only one hyperparameter vary (called the cost parameter;\n",
    "low values for this hyperparameter lead to a smoother decision surface)\n",
    "\n",
    "### 1. Using a Support Vector Machine (SVM) with a linear kernel, predict the selling price of the car in the training set. \n",
    "\n",
    "Use the following variables: year, fuel, km_driven."
   ]
  },
  {
   "cell_type": "markdown",
   "metadata": {},
   "source": [
    "The objective of this exercise is how to observe the evolution of the measurement error by calculating the means square error MSE. Then, for each method, I will create a function called MSE** with parameter(hyperparameter):\n",
    "\n",
    "* ``kernel `` will set up by default ``linear``\n",
    "\n",
    "* ``C``: default value by 10\n",
    "\n",
    "This function have using `` SVM.SVC`` and ``mean_squared_error `` from sklearn. It depents on what is the usage for question, we can choose predecting value and/ or calculating MSE"
   ]
  },
  {
   "cell_type": "code",
   "execution_count": 278,
   "metadata": {},
   "outputs": [],
   "source": [
    "def MSE_SVM(Xtrain, ytrain, Xtest, ytest, **params):\n",
    "    kernel = params.get(\"kernel\", \"linear\")\n",
    "    C = params.get(\"C\", 10)\n",
    "    Prediction = params.get(\"Prediction\", False)\n",
    "    MSE = params.get(\"MSE\", False)\n",
    "    global mse\n",
    "\n",
    "    #create a model\n",
    "    svc = SVR(kernel = kernel, C = C)\n",
    "    svc.fit(Xtrain, ytrain)\n",
    "    prediction = svc.predict(Xtest)\n",
    "    mse = mean_squared_error(ytest, prediction)\n",
    "    if(Prediction):\n",
    "        print(\"Predict the selling price of the car in the data set: {} \".format(prediction))\n",
    "    if (MSE):\n",
    "        print(\"The mean squared error: \" , mse)"
   ]
  },
  {
   "cell_type": "code",
   "execution_count": 279,
   "metadata": {},
   "outputs": [
    {
     "name": "stdout",
     "output_type": "stream",
     "text": [
      "Predict the selling price of the car in the data set: [ 0.02777413  0.04177984  0.17614979 ...  0.16030491  0.11249497\n",
      " -0.02031476] \n"
     ]
    }
   ],
   "source": [
    "MSE_SVM(X_train_val, y_train_val, X_train_val, y_train_val, Prediction = True)"
   ]
  },
  {
   "cell_type": "markdown",
   "metadata": {},
   "source": [
    "### 2. Compute the mean squared error both for the training and the validation datasets. Compare them with each other."
   ]
  },
  {
   "cell_type": "code",
   "execution_count": 280,
   "metadata": {},
   "outputs": [
    {
     "name": "stdout",
     "output_type": "stream",
     "text": [
      "The mean squared error:  0.00683191410134645\n"
     ]
    }
   ],
   "source": [
    "# Training dataset\n",
    "MSE_SVM(X_train_val, y_train_val, X_train_val, y_train_val, MSE = True)"
   ]
  },
  {
   "cell_type": "code",
   "execution_count": 281,
   "metadata": {},
   "outputs": [
    {
     "name": "stdout",
     "output_type": "stream",
     "text": [
      "The mean squared error:  0.006653980520520459\n"
     ]
    }
   ],
   "source": [
    "#Validation dataset\n",
    "MSE_SVM(X_train_val, y_train_val, X_val, y_val, MSE = True)"
   ]
  },
  {
   "cell_type": "markdown",
   "metadata": {},
   "source": [
    "In this case, MSE in training set is smaller than validation set. So it means the model present of overfitting."
   ]
  },
  {
   "cell_type": "markdown",
   "metadata": {},
   "source": [
    "### 3. Now, using a loop, make the cost vary:\n",
    "\n",
    "a) with R: 10ˆseq(3, -2, length = 50)\n",
    "\n",
    "b) with python: 10**np.linspace(start=3, stop=-2, num=50)\n",
    "\n",
    "At each iteration, compute the mean squared error (and store it) for both samples."
   ]
  },
  {
   "cell_type": "code",
   "execution_count": 282,
   "metadata": {},
   "outputs": [
    {
     "name": "stdout",
     "output_type": "stream",
     "text": [
      "In Training dataset, with 1000.0 value of cost, the mean squared error is 0.00680624167179646\n",
      "In validation dataset, with 1000.0 value of cost, the mean squared error is 0.006622399922143883\n",
      "In Training dataset, with 790.6043210907702 value of cost, the mean squared error is 0.006838085065779199\n",
      "In validation dataset, with 790.6043210907702 value of cost, the mean squared error is 0.006659452114489921\n",
      "In Training dataset, with 625.0551925273976 value of cost, the mean squared error is 0.006829731894432288\n",
      "In validation dataset, with 625.0551925273976 value of cost, the mean squared error is 0.00664889340329408\n",
      "In Training dataset, with 494.1713361323833 value of cost, the mean squared error is 0.006817540499414355\n",
      "In validation dataset, with 494.1713361323833 value of cost, the mean squared error is 0.006638355926782362\n",
      "In Training dataset, with 390.6939937054617 value of cost, the mean squared error is 0.006816491209355613\n",
      "In validation dataset, with 390.6939937054617 value of cost, the mean squared error is 0.006634463860334551\n",
      "In Training dataset, with 308.88435964774817 value of cost, the mean squared error is 0.006812801174638275\n",
      "In validation dataset, with 308.88435964774817 value of cost, the mean squared error is 0.006631377894011418\n",
      "In Training dataset, with 244.205309454865 value of cost, the mean squared error is 0.006825517589517187\n",
      "In validation dataset, with 244.205309454865 value of cost, the mean squared error is 0.006640123991805616\n",
      "In Training dataset, with 193.06977288832496 value of cost, the mean squared error is 0.0068076692259417355\n",
      "In validation dataset, with 193.06977288832496 value of cost, the mean squared error is 0.006625646416563678\n",
      "In Training dataset, with 152.64179671752333 value of cost, the mean squared error is 0.006803219788918376\n",
      "In validation dataset, with 152.64179671752333 value of cost, the mean squared error is 0.006620959866837651\n",
      "In Training dataset, with 120.67926406393289 value of cost, the mean squared error is 0.006804389672741919\n",
      "In validation dataset, with 120.67926406393289 value of cost, the mean squared error is 0.006621943121936782\n",
      "In Training dataset, with 95.40954763499938 value of cost, the mean squared error is 0.006808995406822802\n",
      "In validation dataset, with 95.40954763499938 value of cost, the mean squared error is 0.006627054860760659\n",
      "In Training dataset, with 75.43120063354615 value of cost, the mean squared error is 0.006793431726949006\n",
      "In validation dataset, with 75.43120063354615 value of cost, the mean squared error is 0.0066102741380746404\n",
      "In Training dataset, with 59.63623316594643 value of cost, the mean squared error is 0.006810116723631996\n",
      "In validation dataset, with 59.63623316594643 value of cost, the mean squared error is 0.006629044841036991\n",
      "In Training dataset, with 47.14866363457394 value of cost, the mean squared error is 0.00681111664167698\n",
      "In validation dataset, with 47.14866363457394 value of cost, the mean squared error is 0.0066303135841783885\n",
      "In Training dataset, with 37.2759372031494 value of cost, the mean squared error is 0.006812687668916852\n",
      "In validation dataset, with 37.2759372031494 value of cost, the mean squared error is 0.006632124820182676\n",
      "In Training dataset, with 29.4705170255181 value of cost, the mean squared error is 0.006799599342552613\n",
      "In validation dataset, with 29.4705170255181 value of cost, the mean squared error is 0.006616372082396684\n",
      "In Training dataset, with 23.29951810515372 value of cost, the mean squared error is 0.00681377609691521\n",
      "In validation dataset, with 23.29951810515372 value of cost, the mean squared error is 0.006633472785270344\n",
      "In Training dataset, with 18.420699693267164 value of cost, the mean squared error is 0.00681696894525709\n",
      "In validation dataset, with 18.420699693267164 value of cost, the mean squared error is 0.006636731630772494\n",
      "In Training dataset, with 14.563484775012437 value of cost, the mean squared error is 0.006814905331372185\n",
      "In validation dataset, with 14.563484775012437 value of cost, the mean squared error is 0.006633887933692133\n",
      "In Training dataset, with 11.513953993264469 value of cost, the mean squared error is 0.006835687754309166\n",
      "In validation dataset, with 11.513953993264469 value of cost, the mean squared error is 0.006657304899116327\n",
      "In Training dataset, with 9.102981779915218 value of cost, the mean squared error is 0.006833475809524214\n",
      "In validation dataset, with 9.102981779915218 value of cost, the mean squared error is 0.00665631109183448\n",
      "In Training dataset, with 7.196856730011521 value of cost, the mean squared error is 0.00683507311487516\n",
      "In validation dataset, with 7.196856730011521 value of cost, the mean squared error is 0.006657659054736274\n",
      "In Training dataset, with 5.689866029018293 value of cost, the mean squared error is 0.006832347997123705\n",
      "In validation dataset, with 5.689866029018293 value of cost, the mean squared error is 0.006654446072761348\n",
      "In Training dataset, with 4.498432668969444 value of cost, the mean squared error is 0.006833842919067672\n",
      "In validation dataset, with 4.498432668969444 value of cost, the mean squared error is 0.006656108378699191\n",
      "In Training dataset, with 3.5564803062231287 value of cost, the mean squared error is 0.006836748499060164\n",
      "In validation dataset, with 3.5564803062231287 value of cost, the mean squared error is 0.0066597696922389244\n",
      "In Training dataset, with 2.8117686979742307 value of cost, the mean squared error is 0.006831615100123843\n",
      "In validation dataset, with 2.8117686979742307 value of cost, the mean squared error is 0.006653902985006275\n",
      "In Training dataset, with 2.2229964825261956 value of cost, the mean squared error is 0.006836122259845689\n",
      "In validation dataset, with 2.2229964825261956 value of cost, the mean squared error is 0.0066610449978927585\n",
      "In Training dataset, with 1.7575106248547911 value of cost, the mean squared error is 0.006848018988555766\n",
      "In validation dataset, with 1.7575106248547911 value of cost, the mean squared error is 0.006675160051099124\n",
      "In Training dataset, with 1.3894954943731375 value of cost, the mean squared error is 0.006848048141399204\n",
      "In validation dataset, with 1.3894954943731375 value of cost, the mean squared error is 0.006675255400705877\n",
      "In Training dataset, with 1.0985411419875584 value of cost, the mean squared error is 0.00690470241099496\n",
      "In validation dataset, with 1.0985411419875584 value of cost, the mean squared error is 0.006739017224387971\n",
      "In Training dataset, with 0.868511373751352 value of cost, the mean squared error is 0.006887141125062978\n",
      "In validation dataset, with 0.868511373751352 value of cost, the mean squared error is 0.006721980693450597\n",
      "In Training dataset, with 0.6866488450042998 value of cost, the mean squared error is 0.006896991124513693\n",
      "In validation dataset, with 0.6866488450042998 value of cost, the mean squared error is 0.006732770968556921\n",
      "In Training dataset, with 0.5428675439323859 value of cost, the mean squared error is 0.006912631070778393\n",
      "In validation dataset, with 0.5428675439323859 value of cost, the mean squared error is 0.006752595982579165\n",
      "In Training dataset, with 0.42919342601287785 value of cost, the mean squared error is 0.0069818430224239635\n",
      "In validation dataset, with 0.42919342601287785 value of cost, the mean squared error is 0.00682560522424758\n",
      "In Training dataset, with 0.33932217718953295 value of cost, the mean squared error is 0.007033435427475082\n",
      "In validation dataset, with 0.33932217718953295 value of cost, the mean squared error is 0.00687748357217926\n",
      "In Training dataset, with 0.2682695795279725 value of cost, the mean squared error is 0.0070856843307803\n",
      "In validation dataset, with 0.2682695795279725 value of cost, the mean squared error is 0.006924539300243173\n",
      "In Training dataset, with 0.21209508879201905 value of cost, the mean squared error is 0.007090642595508707\n",
      "In validation dataset, with 0.21209508879201905 value of cost, the mean squared error is 0.006928376994467816\n",
      "In Training dataset, with 0.16768329368110083 value of cost, the mean squared error is 0.007100090315872152\n",
      "In validation dataset, with 0.16768329368110083 value of cost, the mean squared error is 0.006942129207230918\n",
      "In Training dataset, with 0.13257113655901082 value of cost, the mean squared error is 0.007162151196838332\n",
      "In validation dataset, with 0.13257113655901082 value of cost, the mean squared error is 0.007001716132271956\n",
      "In Training dataset, with 0.10481131341546852 value of cost, the mean squared error is 0.007210418802809093\n",
      "In validation dataset, with 0.10481131341546852 value of cost, the mean squared error is 0.007052537262784174\n",
      "In Training dataset, with 0.08286427728546843 value of cost, the mean squared error is 0.007330052396102659\n",
      "In validation dataset, with 0.08286427728546843 value of cost, the mean squared error is 0.0071707497596481306\n",
      "In Training dataset, with 0.0655128556859551 value of cost, the mean squared error is 0.007506927284095711\n",
      "In validation dataset, with 0.0655128556859551 value of cost, the mean squared error is 0.007345484509085163\n",
      "In Training dataset, with 0.05179474679231213 value of cost, the mean squared error is 0.007583940239145294\n",
      "In validation dataset, with 0.05179474679231213 value of cost, the mean squared error is 0.007415585140133396\n",
      "In Training dataset, with 0.040949150623804276 value of cost, the mean squared error is 0.00773768598161391\n",
      "In validation dataset, with 0.040949150623804276 value of cost, the mean squared error is 0.007562694531538637\n",
      "In Training dataset, with 0.0323745754281764 value of cost, the mean squared error is 0.00782012031181566\n",
      "In validation dataset, with 0.0323745754281764 value of cost, the mean squared error is 0.007644515529524252\n",
      "In Training dataset, with 0.025595479226995333 value of cost, the mean squared error is 0.007946546399622842\n",
      "In validation dataset, with 0.025595479226995333 value of cost, the mean squared error is 0.0077653289550596504\n",
      "In Training dataset, with 0.020235896477251554 value of cost, the mean squared error is 0.008049808779131255\n",
      "In validation dataset, with 0.020235896477251554 value of cost, the mean squared error is 0.00786256012465306\n",
      "In Training dataset, with 0.015998587196060572 value of cost, the mean squared error is 0.00823795986158986\n",
      "In validation dataset, with 0.015998587196060572 value of cost, the mean squared error is 0.00804469901509966\n",
      "In Training dataset, with 0.012648552168552958 value of cost, the mean squared error is 0.00846477644783408\n",
      "In validation dataset, with 0.012648552168552958 value of cost, the mean squared error is 0.00827383178975537\n",
      "In Training dataset, with 0.01 value of cost, the mean squared error is 0.008638883496829479\n",
      "In validation dataset, with 0.01 value of cost, the mean squared error is 0.00843988613040894\n"
     ]
    }
   ],
   "source": [
    "#because the time for fit the model is little bit long, I dont want to re-use this function 2 times for trainning and validation datat set\n",
    "#therefore I will apply directly  fitted model on 2 samples \n",
    "list_MSE_train_svm = []\n",
    "list_MSE_val_svm = []\n",
    "for i in (10**np.linspace(start=3, stop=-2, num=50)):\n",
    "    #create a model \n",
    "    svc = SVR(kernel = \"linear\", C = i)\n",
    "    #train model\n",
    "    svc.fit(X_train_val, y_train_val)\n",
    "    #predict value for train set\n",
    "    prediction_train_svm = svc.predict(X_train_val)\n",
    "    #calculate MSE\n",
    "    mse_train_svm = mean_squared_error(y_train_val, prediction_train_svm)\n",
    "    list_MSE_train_svm.append(mse_train_svm)\n",
    "    print(\"In Training dataset, with {} value of cost, the mean squared error is {}\".format(i, mse_train_svm))\n",
    "\n",
    "    prediction_val_svm = svc.predict(X_val)\n",
    "    #calculate MSE\n",
    "    mse_val_svm = mean_squared_error(y_val, prediction_val_svm)\n",
    "    list_MSE_val_svm.append(mse_val_svm)\n",
    "    print(\"In validation dataset, with {} value of cost, the mean squared error is {}\".format(i, mse_val_svm))"
   ]
  },
  {
   "cell_type": "markdown",
   "metadata": {},
   "source": [
    "### 4. On a graph, plot the mean squared error as a function of the node size, for both samples (one curve for each sample). Comment."
   ]
  },
  {
   "cell_type": "code",
   "execution_count": 283,
   "metadata": {},
   "outputs": [
    {
     "data": {
      "image/png": "[encoded data removed]",
      "text/plain": [
       "<Figure size 432x288 with 1 Axes>"
      ]
     },
     "metadata": {},
     "output_type": "display_data"
    }
   ],
   "source": [
    "x = np.array(sorted(list(10**np.linspace(start=3, stop=-2, num=50))))\n",
    "y = np.array(list_MSE_train_svm)\n",
    "yval = np.array(list_MSE_val_svm)\n",
    "x_min = np.argmin(list_MSE_val_svm) \n",
    "min_test = np.min(list_MSE_val_svm)\n",
    "plt.plot(x, y)\n",
    "plt.plot(x, yval)\n",
    "plt.scatter(x_min, min_test,c = 'r', label = 'minimum')\n",
    "plt.text(x_min , min_test, '({}, {})'.format(x_min, min_test))\n",
    "plt.legend([\"Train\", \"Test\", 'minimum'])\n",
    "plt.xlabel(\"The cost C\")\n",
    "plt.ylabel(\"The mean squared error\")\n",
    "plt.show()"
   ]
  },
  {
   "cell_type": "markdown",
   "metadata": {},
   "source": [
    "This graph illustrates that MSE in Test set is always smaller than training dataset, therefore it is underfitting model "
   ]
  },
  {
   "cell_type": "markdown",
   "metadata": {},
   "source": [
    "### 5. What is the value for your hyperparameter ? "
   ]
  },
  {
   "cell_type": "code",
   "execution_count": 284,
   "metadata": {},
   "outputs": [
    {
     "name": "stdout",
     "output_type": "stream",
     "text": [
      " If the cost value C vary between 0.01 and 1000, I will chose the coordinate of 11 value of cost C and MSE  = 0.0066102741380746404 will present the best selection for this model with regard to MSE\n"
     ]
    }
   ],
   "source": [
    "print (\" If the cost value C vary between 0.01 and 1000, I will chose the coordinate of {} value of cost C and MSE  = {} will present the best selection for this model with regard to MSE\".format (x_min, min_test))"
   ]
  },
  {
   "cell_type": "markdown",
   "metadata": {},
   "source": [
    "## 4.3 Select your model\n",
    "Now that you have selected, both for the random forest and for the SVM the values of the\n",
    "hyperparameters that produce the best fits on the validation set, you can select the model that\n",
    "gives the best results on the test set."
   ]
  },
  {
   "cell_type": "markdown",
   "metadata": {},
   "source": [
    "### 1. Compute the MSE on the test set for the random forest with the selected values for the hyperparameters."
   ]
  },
  {
   "cell_type": "code",
   "execution_count": 285,
   "metadata": {},
   "outputs": [
    {
     "name": "stdout",
     "output_type": "stream",
     "text": [
      "The mean squared error:  0.002493649937567762\n"
     ]
    }
   ],
   "source": [
    "MSE_RandomForestR(X_train_val, y_train_val, X_test, y_test, MSE = True, max_features = df3[0], n_estimators = int(df3[1]), min_samples_leaf = int(df3[2]))"
   ]
  },
  {
   "cell_type": "markdown",
   "metadata": {},
   "source": [
    "### 2. Do the same for your best SVM."
   ]
  },
  {
   "cell_type": "code",
   "execution_count": 286,
   "metadata": {},
   "outputs": [
    {
     "name": "stdout",
     "output_type": "stream",
     "text": [
      "The mean squared error:  0.006869125455890346\n"
     ]
    }
   ],
   "source": [
    "MSE_SVM(X_train_val, y_train_val, X_test, y_test, C = x_min , MSE = True)"
   ]
  },
  {
   "cell_type": "markdown",
   "metadata": {},
   "source": [
    "### 3. Which model gives the best results on the test set? Comment."
   ]
  },
  {
   "cell_type": "markdown",
   "metadata": {},
   "source": [
    "From Validation datatset, MSE in SVM is higher than MSE random forest so I will choose random forest model "
   ]
  }
 ],
 "metadata": {
  "interpreter": {
   "hash": "40d3a090f54c6569ab1632332b64b2c03c39dcf918b08424e98f38b5ae0af88f"
  },
  "kernelspec": {
   "display_name": "Python 3.9.12 ('base')",
   "language": "python",
   "name": "python3"
  },
  "language_info": {
   "codemirror_mode": {
    "name": "ipython",
    "version": 3
   },
   "file_extension": ".py",
   "mimetype": "text/x-python",
   "name": "python",
   "nbconvert_exporter": "python",
   "pygments_lexer": "ipython3",
   "version": "3.9.12"
  },
  "orig_nbformat": 4
 },
 "nbformat": 4,
 "nbformat_minor": 2
}
