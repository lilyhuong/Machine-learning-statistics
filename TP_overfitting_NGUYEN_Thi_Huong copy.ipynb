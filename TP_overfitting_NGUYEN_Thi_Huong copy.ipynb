{
 "cells": [
  {
   "cell_type": "markdown",
   "metadata": {},
   "source": [
    "<br>\n",
    "\n",
    "<b><font size=22>Machine learning and statistical learning</font></b>\n",
    "### (Error measure, Overfitting)\n",
    "\n",
    "**<font color = red>NGUYEN Thi Huong</font>**\n",
    "\n",
    "**<font color = red>MASTER 2 EBDS</font>**"
   ]
  },
  {
   "cell_type": "markdown",
   "metadata": {},
   "source": [
    "## 1. Context and objectives"
   ]
  },
  {
   "cell_type": "markdown",
   "metadata": {},
   "source": [
    "## 2. First steps: preparing the data\n",
    "**1. From AMeTICE, download the cars dataset (cars.csv).**\n",
    "\n",
    "**2. Load the CSV file into R or Python.**\n",
    "\n",
    "**3. Randomly split your dataset into two parts:**\n",
    "\n",
    "a) a train set that will contain 80% of the observations\n",
    "\n",
    "b) a test set that will contain the remaining 20%.\n",
    "\n",
    "**4. From the train set, create two datasets:**\n",
    "\n",
    "• a training set that will contain 80% of the observations from the train set\n",
    "\n",
    "• a validation set that waill contain the remining 20%."
   ]
  },
  {
   "cell_type": "code",
   "execution_count": 276,
   "metadata": {},
   "outputs": [],
   "source": [
    "import pandas as pd\n",
    "import numpy as np\n",
    "from sklearn.model_selection import train_test_split\n",
    "from sklearn.linear_model import LinearRegression\n",
    "import matplotlib.pyplot as plt\n",
    "import seaborn as sns"
   ]
  },
  {
   "cell_type": "code",
   "execution_count": 277,
   "metadata": {},
   "outputs": [],
   "source": [
    "# I have public the data into a github link for all users can use this data without downloading.\n",
    "link_file = \"https://raw.githubusercontent.com/lilyhuong/Machine-learning-statistics/master/cars.csv\"\n",
    "df = pd.read_csv(link_file, index_col = 0)"
   ]
  },
  {
   "cell_type": "code",
   "execution_count": 278,
   "metadata": {},
   "outputs": [
    {
     "data": {
      "text/html": [
       "<div>\n",
       "<style scoped>\n",
       "    .dataframe tbody tr th:only-of-type {\n",
       "        vertical-align: middle;\n",
       "    }\n",
       "\n",
       "    .dataframe tbody tr th {\n",
       "        vertical-align: top;\n",
       "    }\n",
       "\n",
       "    .dataframe thead th {\n",
       "        text-align: right;\n",
       "    }\n",
       "</style>\n",
       "<table border=\"1\" class=\"dataframe\">\n",
       "  <thead>\n",
       "    <tr style=\"text-align: right;\">\n",
       "      <th></th>\n",
       "      <th>year</th>\n",
       "      <th>selling_price</th>\n",
       "      <th>km_driven</th>\n",
       "      <th>fuel</th>\n",
       "      <th>seller_type</th>\n",
       "      <th>transmission</th>\n",
       "      <th>owner</th>\n",
       "      <th>mileage</th>\n",
       "      <th>engine</th>\n",
       "      <th>max_power</th>\n",
       "      <th>seats</th>\n",
       "    </tr>\n",
       "    <tr>\n",
       "      <th>name</th>\n",
       "      <th></th>\n",
       "      <th></th>\n",
       "      <th></th>\n",
       "      <th></th>\n",
       "      <th></th>\n",
       "      <th></th>\n",
       "      <th></th>\n",
       "      <th></th>\n",
       "      <th></th>\n",
       "      <th></th>\n",
       "      <th></th>\n",
       "    </tr>\n",
       "  </thead>\n",
       "  <tbody>\n",
       "    <tr>\n",
       "      <th>Maruti Swift Dzire VDI</th>\n",
       "      <td>2014</td>\n",
       "      <td>450000</td>\n",
       "      <td>145500</td>\n",
       "      <td>Diesel</td>\n",
       "      <td>Individual</td>\n",
       "      <td>Manual</td>\n",
       "      <td>First Owner</td>\n",
       "      <td>23.40</td>\n",
       "      <td>1248.0</td>\n",
       "      <td>74.00</td>\n",
       "      <td>5.0</td>\n",
       "    </tr>\n",
       "    <tr>\n",
       "      <th>Skoda Rapid 1.5 TDI Ambition</th>\n",
       "      <td>2014</td>\n",
       "      <td>370000</td>\n",
       "      <td>120000</td>\n",
       "      <td>Diesel</td>\n",
       "      <td>Individual</td>\n",
       "      <td>Manual</td>\n",
       "      <td>Second Owner</td>\n",
       "      <td>21.14</td>\n",
       "      <td>1498.0</td>\n",
       "      <td>103.52</td>\n",
       "      <td>5.0</td>\n",
       "    </tr>\n",
       "    <tr>\n",
       "      <th>Honda City 2017-2020 EXi</th>\n",
       "      <td>2006</td>\n",
       "      <td>158000</td>\n",
       "      <td>140000</td>\n",
       "      <td>Petrol</td>\n",
       "      <td>Individual</td>\n",
       "      <td>Manual</td>\n",
       "      <td>Third Owner</td>\n",
       "      <td>17.70</td>\n",
       "      <td>1497.0</td>\n",
       "      <td>78.00</td>\n",
       "      <td>5.0</td>\n",
       "    </tr>\n",
       "    <tr>\n",
       "      <th>Hyundai i20 Sportz Diesel</th>\n",
       "      <td>2010</td>\n",
       "      <td>225000</td>\n",
       "      <td>127000</td>\n",
       "      <td>Diesel</td>\n",
       "      <td>Individual</td>\n",
       "      <td>Manual</td>\n",
       "      <td>First Owner</td>\n",
       "      <td>23.00</td>\n",
       "      <td>1396.0</td>\n",
       "      <td>90.00</td>\n",
       "      <td>5.0</td>\n",
       "    </tr>\n",
       "    <tr>\n",
       "      <th>Maruti Swift VXI BSIII</th>\n",
       "      <td>2007</td>\n",
       "      <td>130000</td>\n",
       "      <td>120000</td>\n",
       "      <td>Petrol</td>\n",
       "      <td>Individual</td>\n",
       "      <td>Manual</td>\n",
       "      <td>First Owner</td>\n",
       "      <td>16.10</td>\n",
       "      <td>1298.0</td>\n",
       "      <td>88.20</td>\n",
       "      <td>5.0</td>\n",
       "    </tr>\n",
       "    <tr>\n",
       "      <th>...</th>\n",
       "      <td>...</td>\n",
       "      <td>...</td>\n",
       "      <td>...</td>\n",
       "      <td>...</td>\n",
       "      <td>...</td>\n",
       "      <td>...</td>\n",
       "      <td>...</td>\n",
       "      <td>...</td>\n",
       "      <td>...</td>\n",
       "      <td>...</td>\n",
       "      <td>...</td>\n",
       "    </tr>\n",
       "    <tr>\n",
       "      <th>Hyundai i20 Magna</th>\n",
       "      <td>2013</td>\n",
       "      <td>320000</td>\n",
       "      <td>110000</td>\n",
       "      <td>Petrol</td>\n",
       "      <td>Individual</td>\n",
       "      <td>Manual</td>\n",
       "      <td>First Owner</td>\n",
       "      <td>18.50</td>\n",
       "      <td>1197.0</td>\n",
       "      <td>82.85</td>\n",
       "      <td>5.0</td>\n",
       "    </tr>\n",
       "    <tr>\n",
       "      <th>Hyundai Verna CRDi SX</th>\n",
       "      <td>2007</td>\n",
       "      <td>135000</td>\n",
       "      <td>119000</td>\n",
       "      <td>Diesel</td>\n",
       "      <td>Individual</td>\n",
       "      <td>Manual</td>\n",
       "      <td>Fourth &amp; Above Owner</td>\n",
       "      <td>16.80</td>\n",
       "      <td>1493.0</td>\n",
       "      <td>110.00</td>\n",
       "      <td>5.0</td>\n",
       "    </tr>\n",
       "    <tr>\n",
       "      <th>Maruti Swift Dzire ZDi</th>\n",
       "      <td>2009</td>\n",
       "      <td>382000</td>\n",
       "      <td>120000</td>\n",
       "      <td>Diesel</td>\n",
       "      <td>Individual</td>\n",
       "      <td>Manual</td>\n",
       "      <td>First Owner</td>\n",
       "      <td>19.30</td>\n",
       "      <td>1248.0</td>\n",
       "      <td>73.90</td>\n",
       "      <td>5.0</td>\n",
       "    </tr>\n",
       "    <tr>\n",
       "      <th>Tata Indigo CR4</th>\n",
       "      <td>2013</td>\n",
       "      <td>290000</td>\n",
       "      <td>25000</td>\n",
       "      <td>Diesel</td>\n",
       "      <td>Individual</td>\n",
       "      <td>Manual</td>\n",
       "      <td>First Owner</td>\n",
       "      <td>23.57</td>\n",
       "      <td>1396.0</td>\n",
       "      <td>70.00</td>\n",
       "      <td>5.0</td>\n",
       "    </tr>\n",
       "    <tr>\n",
       "      <th>Tata Indigo CR4</th>\n",
       "      <td>2013</td>\n",
       "      <td>290000</td>\n",
       "      <td>25000</td>\n",
       "      <td>Diesel</td>\n",
       "      <td>Individual</td>\n",
       "      <td>Manual</td>\n",
       "      <td>First Owner</td>\n",
       "      <td>23.57</td>\n",
       "      <td>1396.0</td>\n",
       "      <td>70.00</td>\n",
       "      <td>5.0</td>\n",
       "    </tr>\n",
       "  </tbody>\n",
       "</table>\n",
       "<p>8128 rows × 11 columns</p>\n",
       "</div>"
      ],
      "text/plain": [
       "                              year  selling_price  km_driven    fuel  \\\n",
       "name                                                                   \n",
       "Maruti Swift Dzire VDI        2014         450000     145500  Diesel   \n",
       "Skoda Rapid 1.5 TDI Ambition  2014         370000     120000  Diesel   \n",
       "Honda City 2017-2020 EXi      2006         158000     140000  Petrol   \n",
       "Hyundai i20 Sportz Diesel     2010         225000     127000  Diesel   \n",
       "Maruti Swift VXI BSIII        2007         130000     120000  Petrol   \n",
       "...                            ...            ...        ...     ...   \n",
       "Hyundai i20 Magna             2013         320000     110000  Petrol   \n",
       "Hyundai Verna CRDi SX         2007         135000     119000  Diesel   \n",
       "Maruti Swift Dzire ZDi        2009         382000     120000  Diesel   \n",
       "Tata Indigo CR4               2013         290000      25000  Diesel   \n",
       "Tata Indigo CR4               2013         290000      25000  Diesel   \n",
       "\n",
       "                             seller_type transmission                 owner  \\\n",
       "name                                                                          \n",
       "Maruti Swift Dzire VDI        Individual       Manual           First Owner   \n",
       "Skoda Rapid 1.5 TDI Ambition  Individual       Manual          Second Owner   \n",
       "Honda City 2017-2020 EXi      Individual       Manual           Third Owner   \n",
       "Hyundai i20 Sportz Diesel     Individual       Manual           First Owner   \n",
       "Maruti Swift VXI BSIII        Individual       Manual           First Owner   \n",
       "...                                  ...          ...                   ...   \n",
       "Hyundai i20 Magna             Individual       Manual           First Owner   \n",
       "Hyundai Verna CRDi SX         Individual       Manual  Fourth & Above Owner   \n",
       "Maruti Swift Dzire ZDi        Individual       Manual           First Owner   \n",
       "Tata Indigo CR4               Individual       Manual           First Owner   \n",
       "Tata Indigo CR4               Individual       Manual           First Owner   \n",
       "\n",
       "                              mileage  engine  max_power  seats  \n",
       "name                                                             \n",
       "Maruti Swift Dzire VDI          23.40  1248.0      74.00    5.0  \n",
       "Skoda Rapid 1.5 TDI Ambition    21.14  1498.0     103.52    5.0  \n",
       "Honda City 2017-2020 EXi        17.70  1497.0      78.00    5.0  \n",
       "Hyundai i20 Sportz Diesel       23.00  1396.0      90.00    5.0  \n",
       "Maruti Swift VXI BSIII          16.10  1298.0      88.20    5.0  \n",
       "...                               ...     ...        ...    ...  \n",
       "Hyundai i20 Magna               18.50  1197.0      82.85    5.0  \n",
       "Hyundai Verna CRDi SX           16.80  1493.0     110.00    5.0  \n",
       "Maruti Swift Dzire ZDi          19.30  1248.0      73.90    5.0  \n",
       "Tata Indigo CR4                 23.57  1396.0      70.00    5.0  \n",
       "Tata Indigo CR4                 23.57  1396.0      70.00    5.0  \n",
       "\n",
       "[8128 rows x 11 columns]"
      ]
     },
     "execution_count": 278,
     "metadata": {},
     "output_type": "execute_result"
    }
   ],
   "source": [
    "df"
   ]
  },
  {
   "cell_type": "code",
   "execution_count": 279,
   "metadata": {},
   "outputs": [
    {
     "data": {
      "text/plain": [
       "year               int64\n",
       "selling_price      int64\n",
       "km_driven          int64\n",
       "fuel              object\n",
       "seller_type       object\n",
       "transmission      object\n",
       "owner             object\n",
       "mileage          float64\n",
       "engine           float64\n",
       "max_power        float64\n",
       "seats            float64\n",
       "dtype: object"
      ]
     },
     "execution_count": 279,
     "metadata": {},
     "output_type": "execute_result"
    }
   ],
   "source": [
    "df.dtypes"
   ]
  },
  {
   "cell_type": "markdown",
   "metadata": {},
   "source": [
    "Firstly, we can see that in this dataframe, we 2 types of variables: integer and string. Because Python can not handle on charater variable, so we convert this variale into numerical variable. In this exercise, we need only 3 explantory variables: fuel, year, km driven, only \"fuel\" variable need to be converted to numericial type by using cat.codes"
   ]
  },
  {
   "cell_type": "code",
   "execution_count": 280,
   "metadata": {},
   "outputs": [],
   "source": [
    "df.fuel = pd.Categorical(df.fuel)\n",
    "df['fuel_num'] = df.fuel.cat.codes"
   ]
  },
  {
   "cell_type": "code",
   "execution_count": 281,
   "metadata": {},
   "outputs": [],
   "source": [
    "from sklearn.preprocessing import MinMaxScaler\n",
    "min_max = MinMaxScaler()\n",
    "df[\"km_driven\"] = min_max.fit_transform(df[[\"km_driven\"]].values.reshape(-1, 1))\n",
    "#df[\"selling_price\"] = min_max.fit_transform(df[\"selling_price\"].values.reshape(-1, 1))"
   ]
  },
  {
   "cell_type": "code",
   "execution_count": 282,
   "metadata": {},
   "outputs": [],
   "source": [
    "y = df.selling_price    #set target variable \n",
    "X = df[[\"year\", \"fuel_num\", \"km_driven\"]] #set "
   ]
  },
  {
   "cell_type": "code",
   "execution_count": 283,
   "metadata": {},
   "outputs": [],
   "source": [
    "X_train, X_test, y_train, y_test = train_test_split(X, y, test_size=0.2,random_state = 8)"
   ]
  },
  {
   "cell_type": "code",
   "execution_count": 284,
   "metadata": {},
   "outputs": [],
   "source": [
    "X_train_val, X_val, y_train_val, y_val = train_test_split(X_train, y_train, test_size=0.2,random_state = 42)"
   ]
  },
  {
   "cell_type": "markdown",
   "metadata": {},
   "source": [
    "## 3 Getting to know the data: descriptive statistics\n",
    "\n",
    "#### 1. Compute some summary statistics for the whole dataset (and comment the outputs):\n",
    "**• for numerical variables: mean, minimum, maximum, quartiles**\n",
    "\n",
    "**• for categorical variables: for each category: proportion of observations; mean, minimum, maximum, quartiles of the target variable (selling_price)**\n"
   ]
  },
  {
   "cell_type": "code",
   "execution_count": 285,
   "metadata": {},
   "outputs": [
    {
     "data": {
      "text/html": [
       "<div>\n",
       "<style scoped>\n",
       "    .dataframe tbody tr th:only-of-type {\n",
       "        vertical-align: middle;\n",
       "    }\n",
       "\n",
       "    .dataframe tbody tr th {\n",
       "        vertical-align: top;\n",
       "    }\n",
       "\n",
       "    .dataframe thead th {\n",
       "        text-align: right;\n",
       "    }\n",
       "</style>\n",
       "<table border=\"1\" class=\"dataframe\">\n",
       "  <thead>\n",
       "    <tr style=\"text-align: right;\">\n",
       "      <th></th>\n",
       "      <th>year</th>\n",
       "      <th>selling_price</th>\n",
       "      <th>km_driven</th>\n",
       "      <th>mileage</th>\n",
       "      <th>engine</th>\n",
       "      <th>max_power</th>\n",
       "      <th>seats</th>\n",
       "      <th>fuel_num</th>\n",
       "    </tr>\n",
       "  </thead>\n",
       "  <tbody>\n",
       "    <tr>\n",
       "      <th>count</th>\n",
       "      <td>8128.000000</td>\n",
       "      <td>8.128000e+03</td>\n",
       "      <td>8128.000000</td>\n",
       "      <td>8128.000000</td>\n",
       "      <td>7907.000000</td>\n",
       "      <td>7912.000000</td>\n",
       "      <td>7907.000000</td>\n",
       "      <td>8128.000000</td>\n",
       "    </tr>\n",
       "    <tr>\n",
       "      <th>mean</th>\n",
       "      <td>2013.804011</td>\n",
       "      <td>6.382718e+05</td>\n",
       "      <td>0.029578</td>\n",
       "      <td>18.802005</td>\n",
       "      <td>1458.625016</td>\n",
       "      <td>91.517919</td>\n",
       "      <td>5.416719</td>\n",
       "      <td>1.891117</td>\n",
       "    </tr>\n",
       "    <tr>\n",
       "      <th>std</th>\n",
       "      <td>4.044249</td>\n",
       "      <td>8.062534e+05</td>\n",
       "      <td>0.023957</td>\n",
       "      <td>5.165302</td>\n",
       "      <td>503.916303</td>\n",
       "      <td>35.822499</td>\n",
       "      <td>0.959588</td>\n",
       "      <td>1.002313</td>\n",
       "    </tr>\n",
       "    <tr>\n",
       "      <th>min</th>\n",
       "      <td>1983.000000</td>\n",
       "      <td>2.999900e+04</td>\n",
       "      <td>0.000000</td>\n",
       "      <td>-1.000000</td>\n",
       "      <td>624.000000</td>\n",
       "      <td>0.000000</td>\n",
       "      <td>2.000000</td>\n",
       "      <td>0.000000</td>\n",
       "    </tr>\n",
       "    <tr>\n",
       "      <th>25%</th>\n",
       "      <td>2011.000000</td>\n",
       "      <td>2.549990e+05</td>\n",
       "      <td>0.014827</td>\n",
       "      <td>16.251852</td>\n",
       "      <td>1197.000000</td>\n",
       "      <td>68.050000</td>\n",
       "      <td>5.000000</td>\n",
       "      <td>1.000000</td>\n",
       "    </tr>\n",
       "    <tr>\n",
       "      <th>50%</th>\n",
       "      <td>2015.000000</td>\n",
       "      <td>4.500000e+05</td>\n",
       "      <td>0.025418</td>\n",
       "      <td>19.100000</td>\n",
       "      <td>1248.000000</td>\n",
       "      <td>82.000000</td>\n",
       "      <td>5.000000</td>\n",
       "      <td>1.000000</td>\n",
       "    </tr>\n",
       "    <tr>\n",
       "      <th>75%</th>\n",
       "      <td>2017.000000</td>\n",
       "      <td>6.750000e+05</td>\n",
       "      <td>0.041517</td>\n",
       "      <td>22.070000</td>\n",
       "      <td>1582.000000</td>\n",
       "      <td>102.000000</td>\n",
       "      <td>5.000000</td>\n",
       "      <td>3.000000</td>\n",
       "    </tr>\n",
       "    <tr>\n",
       "      <th>max</th>\n",
       "      <td>2020.000000</td>\n",
       "      <td>1.000000e+07</td>\n",
       "      <td>1.000000</td>\n",
       "      <td>42.000000</td>\n",
       "      <td>3604.000000</td>\n",
       "      <td>400.000000</td>\n",
       "      <td>14.000000</td>\n",
       "      <td>3.000000</td>\n",
       "    </tr>\n",
       "  </tbody>\n",
       "</table>\n",
       "</div>"
      ],
      "text/plain": [
       "              year  selling_price    km_driven      mileage       engine  \\\n",
       "count  8128.000000   8.128000e+03  8128.000000  8128.000000  7907.000000   \n",
       "mean   2013.804011   6.382718e+05     0.029578    18.802005  1458.625016   \n",
       "std       4.044249   8.062534e+05     0.023957     5.165302   503.916303   \n",
       "min    1983.000000   2.999900e+04     0.000000    -1.000000   624.000000   \n",
       "25%    2011.000000   2.549990e+05     0.014827    16.251852  1197.000000   \n",
       "50%    2015.000000   4.500000e+05     0.025418    19.100000  1248.000000   \n",
       "75%    2017.000000   6.750000e+05     0.041517    22.070000  1582.000000   \n",
       "max    2020.000000   1.000000e+07     1.000000    42.000000  3604.000000   \n",
       "\n",
       "         max_power        seats     fuel_num  \n",
       "count  7912.000000  7907.000000  8128.000000  \n",
       "mean     91.517919     5.416719     1.891117  \n",
       "std      35.822499     0.959588     1.002313  \n",
       "min       0.000000     2.000000     0.000000  \n",
       "25%      68.050000     5.000000     1.000000  \n",
       "50%      82.000000     5.000000     1.000000  \n",
       "75%     102.000000     5.000000     3.000000  \n",
       "max     400.000000    14.000000     3.000000  "
      ]
     },
     "execution_count": 285,
     "metadata": {},
     "output_type": "execute_result"
    }
   ],
   "source": [
    "# Here we get all descriptive statistics for 4 variables: year, km_driven, fuel_num and selling_price\n",
    "df.describe()"
   ]
  },
  {
   "cell_type": "code",
   "execution_count": 286,
   "metadata": {},
   "outputs": [
    {
     "data": {
      "text/plain": [
       "2"
      ]
     },
     "execution_count": 286,
     "metadata": {},
     "output_type": "execute_result"
    }
   ],
   "source": [
    "len(df[df.year <= 1991])"
   ]
  },
  {
   "cell_type": "code",
   "execution_count": 287,
   "metadata": {},
   "outputs": [
    {
     "data": {
      "text/plain": [
       "1    0.541585\n",
       "3    0.446727\n",
       "0    0.007013\n",
       "2    0.004675\n",
       "Name: fuel_num, dtype: float64"
      ]
     },
     "execution_count": 287,
     "metadata": {},
     "output_type": "execute_result"
    }
   ],
   "source": [
    "df.fuel_num.value_counts(normalize=True)"
   ]
  },
  {
   "cell_type": "code",
   "execution_count": 288,
   "metadata": {},
   "outputs": [
    {
     "data": {
      "text/plain": [
       "['Diesel', 'Petrol', 'LPG', 'CNG']\n",
       "Categories (4, object): ['CNG', 'Diesel', 'LPG', 'Petrol']"
      ]
     },
     "execution_count": 288,
     "metadata": {},
     "output_type": "execute_result"
    }
   ],
   "source": [
    "df.fuel.unique()"
   ]
  },
  {
   "cell_type": "markdown",
   "metadata": {},
   "source": [
    " Since the purpose of this exercise is to examine how to check overfitting in a model, the data was first considered for only 4 variables. The origine data shows that we have 8128 observations. However we can see the presence of missing values in engie, max_power and seats. A relevant aspect to mention is that in the original database once we generate this variable, we found that there were some cases for which this variable was extremely high(small) (outliers): for example, \"km_driven\" and \"year\" with only 2 values . Furthurmore, look at the fuel variable, about 99% of people prefer using petrol(54,15% equals to 4402 indivisuals) and next is Dielsel with 44,67%. Therefore this data presence of imbalance in feature, this issue can be addressed by imposing proportional weight loss, while fitting the model."
   ]
  },
  {
   "cell_type": "code",
   "execution_count": 289,
   "metadata": {},
   "outputs": [
    {
     "data": {
      "text/html": [
       "<div>\n",
       "<style scoped>\n",
       "    .dataframe tbody tr th:only-of-type {\n",
       "        vertical-align: middle;\n",
       "    }\n",
       "\n",
       "    .dataframe tbody tr th {\n",
       "        vertical-align: top;\n",
       "    }\n",
       "\n",
       "    .dataframe thead th {\n",
       "        text-align: right;\n",
       "    }\n",
       "</style>\n",
       "<table border=\"1\" class=\"dataframe\">\n",
       "  <thead>\n",
       "    <tr style=\"text-align: right;\">\n",
       "      <th></th>\n",
       "      <th>year</th>\n",
       "      <th>selling_price</th>\n",
       "      <th>km_driven</th>\n",
       "      <th>fuel</th>\n",
       "      <th>seller_type</th>\n",
       "      <th>transmission</th>\n",
       "      <th>owner</th>\n",
       "      <th>mileage</th>\n",
       "      <th>engine</th>\n",
       "      <th>max_power</th>\n",
       "      <th>seats</th>\n",
       "      <th>fuel_num</th>\n",
       "    </tr>\n",
       "  </thead>\n",
       "  <tbody>\n",
       "    <tr>\n",
       "      <th>count</th>\n",
       "      <td>8128.000000</td>\n",
       "      <td>8.128000e+03</td>\n",
       "      <td>8128.000000</td>\n",
       "      <td>8128</td>\n",
       "      <td>8128</td>\n",
       "      <td>8128</td>\n",
       "      <td>8128</td>\n",
       "      <td>8128.000000</td>\n",
       "      <td>7907.000000</td>\n",
       "      <td>7912.000000</td>\n",
       "      <td>7907.000000</td>\n",
       "      <td>8128.000000</td>\n",
       "    </tr>\n",
       "    <tr>\n",
       "      <th>unique</th>\n",
       "      <td>NaN</td>\n",
       "      <td>NaN</td>\n",
       "      <td>NaN</td>\n",
       "      <td>4</td>\n",
       "      <td>3</td>\n",
       "      <td>2</td>\n",
       "      <td>5</td>\n",
       "      <td>NaN</td>\n",
       "      <td>NaN</td>\n",
       "      <td>NaN</td>\n",
       "      <td>NaN</td>\n",
       "      <td>NaN</td>\n",
       "    </tr>\n",
       "    <tr>\n",
       "      <th>top</th>\n",
       "      <td>NaN</td>\n",
       "      <td>NaN</td>\n",
       "      <td>NaN</td>\n",
       "      <td>Diesel</td>\n",
       "      <td>Individual</td>\n",
       "      <td>Manual</td>\n",
       "      <td>First Owner</td>\n",
       "      <td>NaN</td>\n",
       "      <td>NaN</td>\n",
       "      <td>NaN</td>\n",
       "      <td>NaN</td>\n",
       "      <td>NaN</td>\n",
       "    </tr>\n",
       "    <tr>\n",
       "      <th>freq</th>\n",
       "      <td>NaN</td>\n",
       "      <td>NaN</td>\n",
       "      <td>NaN</td>\n",
       "      <td>4402</td>\n",
       "      <td>6766</td>\n",
       "      <td>7078</td>\n",
       "      <td>5289</td>\n",
       "      <td>NaN</td>\n",
       "      <td>NaN</td>\n",
       "      <td>NaN</td>\n",
       "      <td>NaN</td>\n",
       "      <td>NaN</td>\n",
       "    </tr>\n",
       "    <tr>\n",
       "      <th>mean</th>\n",
       "      <td>2013.804011</td>\n",
       "      <td>6.382718e+05</td>\n",
       "      <td>0.029578</td>\n",
       "      <td>NaN</td>\n",
       "      <td>NaN</td>\n",
       "      <td>NaN</td>\n",
       "      <td>NaN</td>\n",
       "      <td>18.802005</td>\n",
       "      <td>1458.625016</td>\n",
       "      <td>91.517919</td>\n",
       "      <td>5.416719</td>\n",
       "      <td>1.891117</td>\n",
       "    </tr>\n",
       "    <tr>\n",
       "      <th>std</th>\n",
       "      <td>4.044249</td>\n",
       "      <td>8.062534e+05</td>\n",
       "      <td>0.023957</td>\n",
       "      <td>NaN</td>\n",
       "      <td>NaN</td>\n",
       "      <td>NaN</td>\n",
       "      <td>NaN</td>\n",
       "      <td>5.165302</td>\n",
       "      <td>503.916303</td>\n",
       "      <td>35.822499</td>\n",
       "      <td>0.959588</td>\n",
       "      <td>1.002313</td>\n",
       "    </tr>\n",
       "    <tr>\n",
       "      <th>min</th>\n",
       "      <td>1983.000000</td>\n",
       "      <td>2.999900e+04</td>\n",
       "      <td>0.000000</td>\n",
       "      <td>NaN</td>\n",
       "      <td>NaN</td>\n",
       "      <td>NaN</td>\n",
       "      <td>NaN</td>\n",
       "      <td>-1.000000</td>\n",
       "      <td>624.000000</td>\n",
       "      <td>0.000000</td>\n",
       "      <td>2.000000</td>\n",
       "      <td>0.000000</td>\n",
       "    </tr>\n",
       "    <tr>\n",
       "      <th>25%</th>\n",
       "      <td>2011.000000</td>\n",
       "      <td>2.549990e+05</td>\n",
       "      <td>0.014827</td>\n",
       "      <td>NaN</td>\n",
       "      <td>NaN</td>\n",
       "      <td>NaN</td>\n",
       "      <td>NaN</td>\n",
       "      <td>16.251852</td>\n",
       "      <td>1197.000000</td>\n",
       "      <td>68.050000</td>\n",
       "      <td>5.000000</td>\n",
       "      <td>1.000000</td>\n",
       "    </tr>\n",
       "    <tr>\n",
       "      <th>50%</th>\n",
       "      <td>2015.000000</td>\n",
       "      <td>4.500000e+05</td>\n",
       "      <td>0.025418</td>\n",
       "      <td>NaN</td>\n",
       "      <td>NaN</td>\n",
       "      <td>NaN</td>\n",
       "      <td>NaN</td>\n",
       "      <td>19.100000</td>\n",
       "      <td>1248.000000</td>\n",
       "      <td>82.000000</td>\n",
       "      <td>5.000000</td>\n",
       "      <td>1.000000</td>\n",
       "    </tr>\n",
       "    <tr>\n",
       "      <th>75%</th>\n",
       "      <td>2017.000000</td>\n",
       "      <td>6.750000e+05</td>\n",
       "      <td>0.041517</td>\n",
       "      <td>NaN</td>\n",
       "      <td>NaN</td>\n",
       "      <td>NaN</td>\n",
       "      <td>NaN</td>\n",
       "      <td>22.070000</td>\n",
       "      <td>1582.000000</td>\n",
       "      <td>102.000000</td>\n",
       "      <td>5.000000</td>\n",
       "      <td>3.000000</td>\n",
       "    </tr>\n",
       "    <tr>\n",
       "      <th>max</th>\n",
       "      <td>2020.000000</td>\n",
       "      <td>1.000000e+07</td>\n",
       "      <td>1.000000</td>\n",
       "      <td>NaN</td>\n",
       "      <td>NaN</td>\n",
       "      <td>NaN</td>\n",
       "      <td>NaN</td>\n",
       "      <td>42.000000</td>\n",
       "      <td>3604.000000</td>\n",
       "      <td>400.000000</td>\n",
       "      <td>14.000000</td>\n",
       "      <td>3.000000</td>\n",
       "    </tr>\n",
       "  </tbody>\n",
       "</table>\n",
       "</div>"
      ],
      "text/plain": [
       "               year  selling_price    km_driven    fuel seller_type  \\\n",
       "count   8128.000000   8.128000e+03  8128.000000    8128        8128   \n",
       "unique          NaN            NaN          NaN       4           3   \n",
       "top             NaN            NaN          NaN  Diesel  Individual   \n",
       "freq            NaN            NaN          NaN    4402        6766   \n",
       "mean    2013.804011   6.382718e+05     0.029578     NaN         NaN   \n",
       "std        4.044249   8.062534e+05     0.023957     NaN         NaN   \n",
       "min     1983.000000   2.999900e+04     0.000000     NaN         NaN   \n",
       "25%     2011.000000   2.549990e+05     0.014827     NaN         NaN   \n",
       "50%     2015.000000   4.500000e+05     0.025418     NaN         NaN   \n",
       "75%     2017.000000   6.750000e+05     0.041517     NaN         NaN   \n",
       "max     2020.000000   1.000000e+07     1.000000     NaN         NaN   \n",
       "\n",
       "       transmission        owner      mileage       engine    max_power  \\\n",
       "count          8128         8128  8128.000000  7907.000000  7912.000000   \n",
       "unique            2            5          NaN          NaN          NaN   \n",
       "top          Manual  First Owner          NaN          NaN          NaN   \n",
       "freq           7078         5289          NaN          NaN          NaN   \n",
       "mean            NaN          NaN    18.802005  1458.625016    91.517919   \n",
       "std             NaN          NaN     5.165302   503.916303    35.822499   \n",
       "min             NaN          NaN    -1.000000   624.000000     0.000000   \n",
       "25%             NaN          NaN    16.251852  1197.000000    68.050000   \n",
       "50%             NaN          NaN    19.100000  1248.000000    82.000000   \n",
       "75%             NaN          NaN    22.070000  1582.000000   102.000000   \n",
       "max             NaN          NaN    42.000000  3604.000000   400.000000   \n",
       "\n",
       "              seats     fuel_num  \n",
       "count   7907.000000  8128.000000  \n",
       "unique          NaN          NaN  \n",
       "top             NaN          NaN  \n",
       "freq            NaN          NaN  \n",
       "mean       5.416719     1.891117  \n",
       "std        0.959588     1.002313  \n",
       "min        2.000000     0.000000  \n",
       "25%        5.000000     1.000000  \n",
       "50%        5.000000     1.000000  \n",
       "75%        5.000000     3.000000  \n",
       "max       14.000000     3.000000  "
      ]
     },
     "execution_count": 289,
     "metadata": {},
     "output_type": "execute_result"
    }
   ],
   "source": [
    "df.describe(include = \"all\")"
   ]
  },
  {
   "cell_type": "markdown",
   "metadata": {},
   "source": [
    "#### 2. Create graphs to show the relationship between the target variable and the explanatory variables. Comment on these."
   ]
  },
  {
   "cell_type": "code",
   "execution_count": 290,
   "metadata": {},
   "outputs": [
    {
     "data": {
      "text/plain": [
       "Text(0, 0.5, 'Selling price')"
      ]
     },
     "execution_count": 290,
     "metadata": {},
     "output_type": "execute_result"
    },
    {
     "data": {
      "image/png": "[encoded data removed]",
      "text/plain": [
       "<Figure size 432x288 with 1 Axes>"
      ]
     },
     "metadata": {},
     "output_type": "display_data"
    }
   ],
   "source": [
    "X = df.km_driven\n",
    "#create basic scatterplot\n",
    "plt.plot(X, y, 'o')\n",
    "\n",
    "#obtain m (slope) and b(intercept) of linear regression line\n",
    "m, b = np.polyfit(X, y, 1)\n",
    "\n",
    "#add linear regression line to scatterplot \n",
    "plt.plot(X, m * X + b, color = \"red\")\n",
    "plt.xlabel(\"km_driven\")\n",
    "plt.ylabel(\"Selling price\")"
   ]
  },
  {
   "cell_type": "markdown",
   "metadata": {},
   "source": [
    "This graph illustrate a strong negative correlation between the selling price of a motor and number of Kilometres the car is driven"
   ]
  },
  {
   "cell_type": "code",
   "execution_count": 291,
   "metadata": {},
   "outputs": [
    {
     "data": {
      "text/plain": [
       "Text(0, 0.5, 'Selling price')"
      ]
     },
     "execution_count": 291,
     "metadata": {},
     "output_type": "execute_result"
    },
    {
     "data": {
      "image/png": "[encoded data removed]",
      "text/plain": [
       "<Figure size 432x288 with 1 Axes>"
      ]
     },
     "metadata": {},
     "output_type": "display_data"
    }
   ],
   "source": [
    "X = df.year\n",
    "#create basic scatterplot\n",
    "plt.plot(X, y, 'o')\n",
    "\n",
    "#obtain m (slope) and b(intercept) of linear regression line\n",
    "m, b = np.polyfit(X, y, 1)\n",
    "\n",
    "#add linear regression line to scatterplot \n",
    "plt.plot(X , m * X + b, color = \"red\")\n",
    "plt.xlabel(\"Year\")\n",
    "plt.ylabel(\"Selling price\")"
   ]
  },
  {
   "cell_type": "markdown",
   "metadata": {},
   "source": [
    "The correlation between two variables is positive. We can simplify why car pricing are rasing overyear : high demand and limited supplies, inflation is another factor of increasing in price. "
   ]
  },
  {
   "cell_type": "code",
   "execution_count": 292,
   "metadata": {},
   "outputs": [
    {
     "data": {
      "text/plain": [
       "Text(0, 0.5, 'Selling price')"
      ]
     },
     "execution_count": 292,
     "metadata": {},
     "output_type": "execute_result"
    },
    {
     "data": {
      "image/png": "[encoded data removed]",
      "text/plain": [
       "<Figure size 432x288 with 1 Axes>"
      ]
     },
     "metadata": {},
     "output_type": "display_data"
    }
   ],
   "source": [
    "X = df.fuel\n",
    "#create basic scatterplot\n",
    "plt.plot(X, y, 'o')\n",
    "plt.xlabel(\"Fuel\")\n",
    "plt.ylabel(\"Selling price\")"
   ]
  },
  {
   "cell_type": "markdown",
   "metadata": {},
   "source": [
    "As I had explainded in summary statistics, we can see implanced data in feature by this graph"
   ]
  },
  {
   "cell_type": "markdown",
   "metadata": {},
   "source": [
    "Another relevant point that may affect classification performance is the correlation between features: the presence of highly correlated features may lead to a decrease in the performance of some classification algorithms that assume that the predictors are all independent. In another way, I will show these correlation between features and the depedent variable by Peason's correlation"
   ]
  },
  {
   "cell_type": "code",
   "execution_count": 293,
   "metadata": {},
   "outputs": [
    {
     "name": "stderr",
     "output_type": "stream",
     "text": [
      "/var/folders/q2/tks8t2v53c95y3jqch98mqrc0000gn/T/ipykernel_84347/2338550395.py:5: DeprecationWarning: `np.bool` is a deprecated alias for the builtin `bool`. To silence this warning, use `bool` by itself. Doing this will not modify any behavior and is safe. If you specifically wanted the numpy scalar type, use `np.bool_` here.\n",
      "Deprecated in NumPy 1.20; for more details and guidance: https://numpy.org/devdocs/release/1.20.0-notes.html#deprecations\n",
      "  mask = np.triu(np.ones_like(corr, dtype=np.bool))\n"
     ]
    },
    {
     "data": {
      "image/png": "[encoded data removed]",
      "text/plain": [
       "<Figure size 1440x936 with 2 Axes>"
      ]
     },
     "metadata": {},
     "output_type": "display_data"
    }
   ],
   "source": [
    "sns.set(style=\"white\", font_scale=1)\n",
    "numeric = [\"selling_price\", \"year\", \"fuel_num\", \"km_driven\" ]\n",
    "corr = df[numeric].corr()\n",
    "\n",
    "mask = np.triu(np.ones_like(corr, dtype=np.bool))\n",
    "f, ax = plt.subplots(figsize=(20, 13))\n",
    "cmap = sns.diverging_palette(220, 10, as_cmap=True)\n",
    "ax=sns.heatmap(corr, mask=mask, vmax=1, vmin=-1, center=0,\n",
    "            square=True, linewidths=.5, cmap=cmap, cbar_kws={\"shrink\": .5}, annot=True, annot_kws={\"size\": 10})\n",
    "cbar=ax.collections[0].colorbar\n",
    "cbar.set_ticks([-1, -0.50, 0, 0.50, 1])\n",
    "plt.savefig('Fig - Correlation matrix by means of the Pearson’s coefficient for all feature pairs.png')"
   ]
  },
  {
   "cell_type": "markdown",
   "metadata": {},
   "source": [
    "## 4.  Estimations\n",
    "**You will train two different models: a random forest and a SVM. You will understand in more\n",
    "details how both algorithm work in the subsequent lessons. For now, all you need to understand\n",
    "is that you can vary some hyperparameters for both models.**\n",
    "\n",
    "**Among the different values that you will try for these hyperparameters, you need to select which provides the best fit, on the\n",
    "validation set.**"
   ]
  },
  {
   "cell_type": "markdown",
   "metadata": {},
   "source": [
    "**Using a random forest algorithm, predict the selling price of the car in the training set.**\n",
    "\n",
    "**Use the following variables: year, fuel, km_driven.**\n",
    "\n",
    "**If you use R, you can use the randomForest function from { randomForest }. If you use\n",
    "Python, you can use the RandomForestRegressor function from sklearn.ensemble. You\n",
    "will use the following hyperparameters for the algorithm:**"
   ]
  },
  {
   "cell_type": "code",
   "execution_count": 322,
   "metadata": {},
   "outputs": [
    {
     "data": {
      "text/html": [
       "<div>\n",
       "<style scoped>\n",
       "    .dataframe tbody tr th:only-of-type {\n",
       "        vertical-align: middle;\n",
       "    }\n",
       "\n",
       "    .dataframe tbody tr th {\n",
       "        vertical-align: top;\n",
       "    }\n",
       "\n",
       "    .dataframe thead th {\n",
       "        text-align: right;\n",
       "    }\n",
       "</style>\n",
       "<table border=\"1\" class=\"dataframe\">\n",
       "  <thead>\n",
       "    <tr style=\"text-align: right;\">\n",
       "      <th></th>\n",
       "      <th>year</th>\n",
       "      <th>selling_price</th>\n",
       "      <th>km_driven</th>\n",
       "      <th>fuel</th>\n",
       "      <th>seller_type</th>\n",
       "      <th>transmission</th>\n",
       "      <th>owner</th>\n",
       "      <th>mileage</th>\n",
       "      <th>engine</th>\n",
       "      <th>max_power</th>\n",
       "      <th>seats</th>\n",
       "      <th>fuel_num</th>\n",
       "    </tr>\n",
       "    <tr>\n",
       "      <th>name</th>\n",
       "      <th></th>\n",
       "      <th></th>\n",
       "      <th></th>\n",
       "      <th></th>\n",
       "      <th></th>\n",
       "      <th></th>\n",
       "      <th></th>\n",
       "      <th></th>\n",
       "      <th></th>\n",
       "      <th></th>\n",
       "      <th></th>\n",
       "      <th></th>\n",
       "    </tr>\n",
       "  </thead>\n",
       "  <tbody>\n",
       "    <tr>\n",
       "      <th>Maruti Swift Dzire VDI</th>\n",
       "      <td>2014</td>\n",
       "      <td>450000</td>\n",
       "      <td>0.061640</td>\n",
       "      <td>Diesel</td>\n",
       "      <td>Individual</td>\n",
       "      <td>Manual</td>\n",
       "      <td>First Owner</td>\n",
       "      <td>23.40</td>\n",
       "      <td>1248.0</td>\n",
       "      <td>74.00</td>\n",
       "      <td>5.0</td>\n",
       "      <td>1</td>\n",
       "    </tr>\n",
       "    <tr>\n",
       "      <th>Skoda Rapid 1.5 TDI Ambition</th>\n",
       "      <td>2014</td>\n",
       "      <td>370000</td>\n",
       "      <td>0.050837</td>\n",
       "      <td>Diesel</td>\n",
       "      <td>Individual</td>\n",
       "      <td>Manual</td>\n",
       "      <td>Second Owner</td>\n",
       "      <td>21.14</td>\n",
       "      <td>1498.0</td>\n",
       "      <td>103.52</td>\n",
       "      <td>5.0</td>\n",
       "      <td>1</td>\n",
       "    </tr>\n",
       "    <tr>\n",
       "      <th>Honda City 2017-2020 EXi</th>\n",
       "      <td>2006</td>\n",
       "      <td>158000</td>\n",
       "      <td>0.059310</td>\n",
       "      <td>Petrol</td>\n",
       "      <td>Individual</td>\n",
       "      <td>Manual</td>\n",
       "      <td>Third Owner</td>\n",
       "      <td>17.70</td>\n",
       "      <td>1497.0</td>\n",
       "      <td>78.00</td>\n",
       "      <td>5.0</td>\n",
       "      <td>3</td>\n",
       "    </tr>\n",
       "    <tr>\n",
       "      <th>Hyundai i20 Sportz Diesel</th>\n",
       "      <td>2010</td>\n",
       "      <td>225000</td>\n",
       "      <td>0.053803</td>\n",
       "      <td>Diesel</td>\n",
       "      <td>Individual</td>\n",
       "      <td>Manual</td>\n",
       "      <td>First Owner</td>\n",
       "      <td>23.00</td>\n",
       "      <td>1396.0</td>\n",
       "      <td>90.00</td>\n",
       "      <td>5.0</td>\n",
       "      <td>1</td>\n",
       "    </tr>\n",
       "    <tr>\n",
       "      <th>Maruti Swift VXI BSIII</th>\n",
       "      <td>2007</td>\n",
       "      <td>130000</td>\n",
       "      <td>0.050837</td>\n",
       "      <td>Petrol</td>\n",
       "      <td>Individual</td>\n",
       "      <td>Manual</td>\n",
       "      <td>First Owner</td>\n",
       "      <td>16.10</td>\n",
       "      <td>1298.0</td>\n",
       "      <td>88.20</td>\n",
       "      <td>5.0</td>\n",
       "      <td>3</td>\n",
       "    </tr>\n",
       "    <tr>\n",
       "      <th>...</th>\n",
       "      <td>...</td>\n",
       "      <td>...</td>\n",
       "      <td>...</td>\n",
       "      <td>...</td>\n",
       "      <td>...</td>\n",
       "      <td>...</td>\n",
       "      <td>...</td>\n",
       "      <td>...</td>\n",
       "      <td>...</td>\n",
       "      <td>...</td>\n",
       "      <td>...</td>\n",
       "      <td>...</td>\n",
       "    </tr>\n",
       "    <tr>\n",
       "      <th>Hyundai i20 Magna</th>\n",
       "      <td>2013</td>\n",
       "      <td>320000</td>\n",
       "      <td>0.046601</td>\n",
       "      <td>Petrol</td>\n",
       "      <td>Individual</td>\n",
       "      <td>Manual</td>\n",
       "      <td>First Owner</td>\n",
       "      <td>18.50</td>\n",
       "      <td>1197.0</td>\n",
       "      <td>82.85</td>\n",
       "      <td>5.0</td>\n",
       "      <td>3</td>\n",
       "    </tr>\n",
       "    <tr>\n",
       "      <th>Hyundai Verna CRDi SX</th>\n",
       "      <td>2007</td>\n",
       "      <td>135000</td>\n",
       "      <td>0.050414</td>\n",
       "      <td>Diesel</td>\n",
       "      <td>Individual</td>\n",
       "      <td>Manual</td>\n",
       "      <td>Fourth &amp; Above Owner</td>\n",
       "      <td>16.80</td>\n",
       "      <td>1493.0</td>\n",
       "      <td>110.00</td>\n",
       "      <td>5.0</td>\n",
       "      <td>1</td>\n",
       "    </tr>\n",
       "    <tr>\n",
       "      <th>Maruti Swift Dzire ZDi</th>\n",
       "      <td>2009</td>\n",
       "      <td>382000</td>\n",
       "      <td>0.050837</td>\n",
       "      <td>Diesel</td>\n",
       "      <td>Individual</td>\n",
       "      <td>Manual</td>\n",
       "      <td>First Owner</td>\n",
       "      <td>19.30</td>\n",
       "      <td>1248.0</td>\n",
       "      <td>73.90</td>\n",
       "      <td>5.0</td>\n",
       "      <td>1</td>\n",
       "    </tr>\n",
       "    <tr>\n",
       "      <th>Tata Indigo CR4</th>\n",
       "      <td>2013</td>\n",
       "      <td>290000</td>\n",
       "      <td>0.010591</td>\n",
       "      <td>Diesel</td>\n",
       "      <td>Individual</td>\n",
       "      <td>Manual</td>\n",
       "      <td>First Owner</td>\n",
       "      <td>23.57</td>\n",
       "      <td>1396.0</td>\n",
       "      <td>70.00</td>\n",
       "      <td>5.0</td>\n",
       "      <td>1</td>\n",
       "    </tr>\n",
       "    <tr>\n",
       "      <th>Tata Indigo CR4</th>\n",
       "      <td>2013</td>\n",
       "      <td>290000</td>\n",
       "      <td>0.010591</td>\n",
       "      <td>Diesel</td>\n",
       "      <td>Individual</td>\n",
       "      <td>Manual</td>\n",
       "      <td>First Owner</td>\n",
       "      <td>23.57</td>\n",
       "      <td>1396.0</td>\n",
       "      <td>70.00</td>\n",
       "      <td>5.0</td>\n",
       "      <td>1</td>\n",
       "    </tr>\n",
       "  </tbody>\n",
       "</table>\n",
       "<p>8128 rows × 12 columns</p>\n",
       "</div>"
      ],
      "text/plain": [
       "                              year  selling_price  km_driven    fuel  \\\n",
       "name                                                                   \n",
       "Maruti Swift Dzire VDI        2014         450000   0.061640  Diesel   \n",
       "Skoda Rapid 1.5 TDI Ambition  2014         370000   0.050837  Diesel   \n",
       "Honda City 2017-2020 EXi      2006         158000   0.059310  Petrol   \n",
       "Hyundai i20 Sportz Diesel     2010         225000   0.053803  Diesel   \n",
       "Maruti Swift VXI BSIII        2007         130000   0.050837  Petrol   \n",
       "...                            ...            ...        ...     ...   \n",
       "Hyundai i20 Magna             2013         320000   0.046601  Petrol   \n",
       "Hyundai Verna CRDi SX         2007         135000   0.050414  Diesel   \n",
       "Maruti Swift Dzire ZDi        2009         382000   0.050837  Diesel   \n",
       "Tata Indigo CR4               2013         290000   0.010591  Diesel   \n",
       "Tata Indigo CR4               2013         290000   0.010591  Diesel   \n",
       "\n",
       "                             seller_type transmission                 owner  \\\n",
       "name                                                                          \n",
       "Maruti Swift Dzire VDI        Individual       Manual           First Owner   \n",
       "Skoda Rapid 1.5 TDI Ambition  Individual       Manual          Second Owner   \n",
       "Honda City 2017-2020 EXi      Individual       Manual           Third Owner   \n",
       "Hyundai i20 Sportz Diesel     Individual       Manual           First Owner   \n",
       "Maruti Swift VXI BSIII        Individual       Manual           First Owner   \n",
       "...                                  ...          ...                   ...   \n",
       "Hyundai i20 Magna             Individual       Manual           First Owner   \n",
       "Hyundai Verna CRDi SX         Individual       Manual  Fourth & Above Owner   \n",
       "Maruti Swift Dzire ZDi        Individual       Manual           First Owner   \n",
       "Tata Indigo CR4               Individual       Manual           First Owner   \n",
       "Tata Indigo CR4               Individual       Manual           First Owner   \n",
       "\n",
       "                              mileage  engine  max_power  seats  fuel_num  \n",
       "name                                                                       \n",
       "Maruti Swift Dzire VDI          23.40  1248.0      74.00    5.0         1  \n",
       "Skoda Rapid 1.5 TDI Ambition    21.14  1498.0     103.52    5.0         1  \n",
       "Honda City 2017-2020 EXi        17.70  1497.0      78.00    5.0         3  \n",
       "Hyundai i20 Sportz Diesel       23.00  1396.0      90.00    5.0         1  \n",
       "Maruti Swift VXI BSIII          16.10  1298.0      88.20    5.0         3  \n",
       "...                               ...     ...        ...    ...       ...  \n",
       "Hyundai i20 Magna               18.50  1197.0      82.85    5.0         3  \n",
       "Hyundai Verna CRDi SX           16.80  1493.0     110.00    5.0         1  \n",
       "Maruti Swift Dzire ZDi          19.30  1248.0      73.90    5.0         1  \n",
       "Tata Indigo CR4                 23.57  1396.0      70.00    5.0         1  \n",
       "Tata Indigo CR4                 23.57  1396.0      70.00    5.0         1  \n",
       "\n",
       "[8128 rows x 12 columns]"
      ]
     },
     "execution_count": 322,
     "metadata": {},
     "output_type": "execute_result"
    }
   ],
   "source": [
    "df"
   ]
  },
  {
   "cell_type": "code",
   "execution_count": 323,
   "metadata": {},
   "outputs": [],
   "source": [
    "from sklearn.ensemble import RandomForestRegressor\n"
   ]
  },
  {
   "cell_type": "code",
   "execution_count": 324,
   "metadata": {},
   "outputs": [
    {
     "data": {
      "text/plain": [
       "RandomForestRegressor(max_features=3, min_samples_leaf=10, n_estimators=20)"
      ]
     },
     "execution_count": 324,
     "metadata": {},
     "output_type": "execute_result"
    }
   ],
   "source": [
    "#creat random forest classifier object\n",
    "regr = RandomForestRegressor(max_features = 3,  n_estimators = 20, min_samples_leaf = 10)\n",
    "#train model\n",
    "regr.fit(X_train_val, y_train_val)"
   ]
  },
  {
   "cell_type": "code",
   "execution_count": 325,
   "metadata": {},
   "outputs": [
    {
     "data": {
      "text/plain": [
       "array([ 424559.36279939,  380219.53380941, 1018646.93925005, ...,\n",
       "        344158.61000847,  772709.82638115,  143677.72498808])"
      ]
     },
     "execution_count": 325,
     "metadata": {},
     "output_type": "execute_result"
    }
   ],
   "source": [
    "prediction_random = regr.predict(X_val)\n",
    "prediction_random"
   ]
  },
  {
   "cell_type": "markdown",
   "metadata": {},
   "source": [
    "### 2. Compute the mean squared error both for the training and the validation datasets. Compare them with each other."
   ]
  },
  {
   "cell_type": "code",
   "execution_count": 326,
   "metadata": {},
   "outputs": [],
   "source": [
    "from sklearn.metrics import mean_squared_error"
   ]
  },
  {
   "cell_type": "code",
   "execution_count": 327,
   "metadata": {},
   "outputs": [
    {
     "name": "stdout",
     "output_type": "stream",
     "text": [
      "218836517106.0499\n"
     ]
    }
   ],
   "source": [
    "#for train data set\n",
    "prediction_random1 = regr.predict(X_train_val)\n",
    "mse_train = mean_squared_error(y_train_val, prediction_random1)\n",
    "print(mse_train)"
   ]
  },
  {
   "cell_type": "code",
   "execution_count": 328,
   "metadata": {},
   "outputs": [
    {
     "name": "stdout",
     "output_type": "stream",
     "text": [
      "267685257064.17752\n"
     ]
    }
   ],
   "source": [
    "mse_val = mean_squared_error(y_val, prediction_random )\n",
    "print(mse_val)"
   ]
  },
  {
   "cell_type": "code",
   "execution_count": 329,
   "metadata": {},
   "outputs": [
    {
     "data": {
      "text/plain": [
       "True"
      ]
     },
     "execution_count": 329,
     "metadata": {},
     "output_type": "execute_result"
    }
   ],
   "source": [
    "mse_train < mse_val"
   ]
  },
  {
   "cell_type": "markdown",
   "metadata": {},
   "source": [
    "In this case, MSE in training set is smaller than validation set. So it means the model present of overfitting. However, \n",
    "To get a better machine learning-based model, MSE of training and testing (predictions)(in this exercise is validation set) should be similar. In other words, the difference in MSE obtained during model training and  should validation be relatively small. Therefore, we will move on next part. "
   ]
  },
  {
   "cell_type": "markdown",
   "metadata": {},
   "source": [
    "### 3. Now, using a loop, make the minimum size of terminal nodes vary as follows: 10, 20,30, . . . , 100. At each iteration, compute the mean squared error (and store it) for both samples."
   ]
  },
  {
   "cell_type": "code",
   "execution_count": 330,
   "metadata": {},
   "outputs": [],
   "source": [
    "def mse_compute(Xval, yval):\n",
    "    global list_MSE\n",
    "    list_MSE = []\n",
    "    for i in range(10,101, 10):\n",
    "        #create a model \n",
    "        regr = RandomForestRegressor(max_features = 3,  n_estimators = 20, min_samples_leaf = i)\n",
    "        #train model\n",
    "        regr.fit(X_train_val, y_train_val)\n",
    "        #predict value for valid set\n",
    "        prediction_random = regr.predict(Xval)\n",
    "        #calculate MSE\n",
    "        mse = mean_squared_error(yval, prediction_random )\n",
    "        list_MSE.append(mse)\n",
    "        print(\"With {} of terminal node, the mean squared error is {}\".format(i, mse))\n",
    "    "
   ]
  },
  {
   "cell_type": "markdown",
   "metadata": {},
   "source": [
    "Mean squarred error for train sample "
   ]
  },
  {
   "cell_type": "code",
   "execution_count": 331,
   "metadata": {},
   "outputs": [
    {
     "name": "stdout",
     "output_type": "stream",
     "text": [
      "With 10 of terminal node, the mean squared error is 218561606499.9016\n",
      "With 20 of terminal node, the mean squared error is 246406277670.69168\n",
      "With 30 of terminal node, the mean squared error is 283714841539.6625\n",
      "With 40 of terminal node, the mean squared error is 311303566489.17316\n",
      "With 50 of terminal node, the mean squared error is 325676170868.3977\n",
      "With 60 of terminal node, the mean squared error is 330165257881.3612\n",
      "With 70 of terminal node, the mean squared error is 340684896718.8482\n",
      "With 80 of terminal node, the mean squared error is 360542016480.5107\n",
      "With 90 of terminal node, the mean squared error is 372496390369.74634\n",
      "With 100 of terminal node, the mean squared error is 376261069637.5171\n"
     ]
    }
   ],
   "source": [
    "mse_compute(X_train_val, y_train_val)\n",
    "list_MSE_train = list_MSE"
   ]
  },
  {
   "cell_type": "markdown",
   "metadata": {},
   "source": [
    "Mean squarred error for validation sample "
   ]
  },
  {
   "cell_type": "code",
   "execution_count": 332,
   "metadata": {},
   "outputs": [
    {
     "name": "stdout",
     "output_type": "stream",
     "text": [
      "With 10 of terminal node, the mean squared error is 271299637952.189\n",
      "With 20 of terminal node, the mean squared error is 284432242144.28674\n",
      "With 30 of terminal node, the mean squared error is 333096104717.7838\n",
      "With 40 of terminal node, the mean squared error is 354964976564.1161\n",
      "With 50 of terminal node, the mean squared error is 365234241280.044\n",
      "With 60 of terminal node, the mean squared error is 375612701613.0254\n",
      "With 70 of terminal node, the mean squared error is 375291784354.19055\n",
      "With 80 of terminal node, the mean squared error is 391389695723.0002\n",
      "With 90 of terminal node, the mean squared error is 401806814778.5281\n",
      "With 100 of terminal node, the mean squared error is 407912612711.06256\n"
     ]
    }
   ],
   "source": [
    "mse_compute(X_val, y_val)\n",
    "list_MSE_val = list_MSE"
   ]
  },
  {
   "cell_type": "markdown",
   "metadata": {},
   "source": [
    "### 4. On a graph, plot the mean squared error as a function of the node size, for both samples (one curve for each sample). Comment."
   ]
  },
  {
   "cell_type": "code",
   "execution_count": 333,
   "metadata": {},
   "outputs": [],
   "source": [
    "from scipy.interpolate import make_interp_spline\n",
    "import matplotlib.pyplot as plt"
   ]
  },
  {
   "cell_type": "code",
   "execution_count": 365,
   "metadata": {},
   "outputs": [
    {
     "data": {
      "image/png": "[encoded data removed]",
      "text/plain": [
       "<Figure size 432x288 with 1 Axes>"
      ]
     },
     "metadata": {},
     "output_type": "display_data"
    }
   ],
   "source": [
    "x = np.array(list(range(10, 101, 10)))\n",
    "y = np.array(list_MSE_train)\n",
    "yval = np.array(list_MSE_val)\n",
    "x_min = np.argmin(list_MSE_val) + 10\n",
    "min_test = np.min(list_MSE_val)\n",
    "plt.plot(x, y)\n",
    "plt.plot(x, yval)\n",
    "plt.scatter(x_min, min_test,c='r', label='minimum')\n",
    "plt.text(x_min + 1, min_test + 1, '({}, {})'.format(x_min, min_test))\n",
    "plt.legend([\"Train\", \"Test\", 'minimum'])\n",
    "plt.xlabel(\"The node size\")\n",
    "plt.ylabel(\"The mean squared error\")\n",
    "plt.show()"
   ]
  },
  {
   "cell_type": "markdown",
   "metadata": {},
   "source": [
    "From this graphic, MSE in test set is always higher than training set, there this model present of overfitting. It can be seen in this graphic that the training MSE (given by the blue curve) increases sharply as the flexibility of the model increases. Furthurmore, if we plot the test MSE (given by the orange curve) the situation is not far from train. The test MSE initially increase sligtly as we increase the flexibility of the model but eventually starts to increase again after we introduce a lot of flexibility. As flexibility is increased the bias will tend to drop quickly (faster than the variance can increase) and so we see a drop in test MSE. "
   ]
  },
  {
   "cell_type": "markdown",
   "metadata": {},
   "source": [
    "From this graph, we cans see that when we inscrease the number of node size"
   ]
  },
  {
   "cell_type": "markdown",
   "metadata": {},
   "source": [
    "### 5. What are the values for your hyperparameters (the number of trees, the number of variables randomly sampled as candidates at each split, and the minimum size of terminal nodes) that provide the best fit with regard to the MSE?"
   ]
  },
  {
   "cell_type": "code",
   "execution_count": 367,
   "metadata": {},
   "outputs": [
    {
     "name": "stdout",
     "output_type": "stream",
     "text": [
      " If the node size vary between 10 and 100, I will chose the coordinate of 10 node size and MSE  = 271299637952.189 will present the best selection for this model with regard to MSE\n"
     ]
    }
   ],
   "source": [
    "print (\" If the node size vary between 10 and 100, I will chose the coordinate of {} node size and MSE  = {} will present the best selection for this model with regard to MSE\".format (x_min, min_test))"
   ]
  },
  {
   "cell_type": "markdown",
   "metadata": {},
   "source": [
    "In this question, we can see the difference between MSE from training set and validation set, it presents overfitting. I will reduce the complexity of model by decreasing the number of max_features and the node size. To show that, I will test the choice for hyperparameters by difference value of trees, number of variables for each split and the minimum size of terminode to see the effect of reducing the complexity of model "
   ]
  },
  {
   "cell_type": "code",
   "execution_count": 168,
   "metadata": {},
   "outputs": [
    {
     "name": "stdout",
     "output_type": "stream",
     "text": [
      "3 190 26\n"
     ]
    }
   ],
   "source": [
    "df2 = pd.DataFrame(columns= [\"max_feature\", \"n_estimators\",\"min_samples_leaf\" , \"MSE_train\", \"MSE_test\"])\n",
    "for i in range(1,4):\n",
    "    for n in range(10, 200, 10):\n",
    "        for leaf in range(2, 27, 2):\n",
    "            regr = RandomForestRegressor(max_features= i, n_estimators = n, min_samples_leaf = leaf)\n",
    "            regr.fit(X_train_val, y_train_val)\n",
    "            #for train sample \n",
    "            prediction_random1 = regr.predict(X_train_val)\n",
    "            mse_train = mean_squared_error(y_train_val, prediction_random1 )\n",
    "            #for valid sample \n",
    "            prediction_random = regr.predict(X_val)\n",
    "            mse = mean_squared_error(y_val, prediction_random )\n",
    "            #If test MSE is similar to train MSE, we add this set of caracteristics\n",
    "            #  into dataframe df to compare and select the best fit\n",
    "            #if ((mse_train / mse) > 0.999) & ((mse_train / mse) < 1.02):\n",
    "            new_row = pd.Series({\"max_feature\": i, \"n_estimators\": n,\"min_samples_leaf\": leaf , \"MSE_train\":mse_train, \"MSE_test\":mse})\n",
    "            df2 = pd.concat([df2, new_row.to_frame().T], ignore_index= True)   \n",
    "print(i, n, leaf) "
   ]
  },
  {
   "cell_type": "code",
   "execution_count": 169,
   "metadata": {},
   "outputs": [
    {
     "data": {
      "text/html": [
       "<div>\n",
       "<style scoped>\n",
       "    .dataframe tbody tr th:only-of-type {\n",
       "        vertical-align: middle;\n",
       "    }\n",
       "\n",
       "    .dataframe tbody tr th {\n",
       "        vertical-align: top;\n",
       "    }\n",
       "\n",
       "    .dataframe thead th {\n",
       "        text-align: right;\n",
       "    }\n",
       "</style>\n",
       "<table border=\"1\" class=\"dataframe\">\n",
       "  <thead>\n",
       "    <tr style=\"text-align: right;\">\n",
       "      <th></th>\n",
       "      <th>max_feature</th>\n",
       "      <th>n_estimators</th>\n",
       "      <th>min_samples_leaf</th>\n",
       "      <th>MSE_train</th>\n",
       "      <th>MSE_test</th>\n",
       "    </tr>\n",
       "  </thead>\n",
       "  <tbody>\n",
       "    <tr>\n",
       "      <th>0</th>\n",
       "      <td>1.0</td>\n",
       "      <td>10.0</td>\n",
       "      <td>2.0</td>\n",
       "      <td>0.001715</td>\n",
       "      <td>0.002322</td>\n",
       "    </tr>\n",
       "    <tr>\n",
       "      <th>1</th>\n",
       "      <td>1.0</td>\n",
       "      <td>10.0</td>\n",
       "      <td>4.0</td>\n",
       "      <td>0.002053</td>\n",
       "      <td>0.002467</td>\n",
       "    </tr>\n",
       "    <tr>\n",
       "      <th>2</th>\n",
       "      <td>1.0</td>\n",
       "      <td>10.0</td>\n",
       "      <td>6.0</td>\n",
       "      <td>0.002254</td>\n",
       "      <td>0.002508</td>\n",
       "    </tr>\n",
       "    <tr>\n",
       "      <th>3</th>\n",
       "      <td>1.0</td>\n",
       "      <td>10.0</td>\n",
       "      <td>8.0</td>\n",
       "      <td>0.002481</td>\n",
       "      <td>0.002571</td>\n",
       "    </tr>\n",
       "    <tr>\n",
       "      <th>4</th>\n",
       "      <td>1.0</td>\n",
       "      <td>10.0</td>\n",
       "      <td>10.0</td>\n",
       "      <td>0.002761</td>\n",
       "      <td>0.002834</td>\n",
       "    </tr>\n",
       "    <tr>\n",
       "      <th>...</th>\n",
       "      <td>...</td>\n",
       "      <td>...</td>\n",
       "      <td>...</td>\n",
       "      <td>...</td>\n",
       "      <td>...</td>\n",
       "    </tr>\n",
       "    <tr>\n",
       "      <th>736</th>\n",
       "      <td>3.0</td>\n",
       "      <td>190.0</td>\n",
       "      <td>18.0</td>\n",
       "      <td>0.00242</td>\n",
       "      <td>0.002569</td>\n",
       "    </tr>\n",
       "    <tr>\n",
       "      <th>737</th>\n",
       "      <td>3.0</td>\n",
       "      <td>190.0</td>\n",
       "      <td>20.0</td>\n",
       "      <td>0.002464</td>\n",
       "      <td>0.002578</td>\n",
       "    </tr>\n",
       "    <tr>\n",
       "      <th>738</th>\n",
       "      <td>3.0</td>\n",
       "      <td>190.0</td>\n",
       "      <td>22.0</td>\n",
       "      <td>0.002516</td>\n",
       "      <td>0.002611</td>\n",
       "    </tr>\n",
       "    <tr>\n",
       "      <th>739</th>\n",
       "      <td>3.0</td>\n",
       "      <td>190.0</td>\n",
       "      <td>24.0</td>\n",
       "      <td>0.002571</td>\n",
       "      <td>0.002651</td>\n",
       "    </tr>\n",
       "    <tr>\n",
       "      <th>740</th>\n",
       "      <td>3.0</td>\n",
       "      <td>190.0</td>\n",
       "      <td>26.0</td>\n",
       "      <td>0.002692</td>\n",
       "      <td>0.002721</td>\n",
       "    </tr>\n",
       "  </tbody>\n",
       "</table>\n",
       "<p>741 rows × 5 columns</p>\n",
       "</div>"
      ],
      "text/plain": [
       "    max_feature n_estimators min_samples_leaf MSE_train  MSE_test\n",
       "0           1.0         10.0              2.0  0.001715  0.002322\n",
       "1           1.0         10.0              4.0  0.002053  0.002467\n",
       "2           1.0         10.0              6.0  0.002254  0.002508\n",
       "3           1.0         10.0              8.0  0.002481  0.002571\n",
       "4           1.0         10.0             10.0  0.002761  0.002834\n",
       "..          ...          ...              ...       ...       ...\n",
       "736         3.0        190.0             18.0   0.00242  0.002569\n",
       "737         3.0        190.0             20.0  0.002464  0.002578\n",
       "738         3.0        190.0             22.0  0.002516  0.002611\n",
       "739         3.0        190.0             24.0  0.002571  0.002651\n",
       "740         3.0        190.0             26.0  0.002692  0.002721\n",
       "\n",
       "[741 rows x 5 columns]"
      ]
     },
     "execution_count": 169,
     "metadata": {},
     "output_type": "execute_result"
    }
   ],
   "source": [
    "df2"
   ]
  },
  {
   "cell_type": "code",
   "execution_count": 170,
   "metadata": {},
   "outputs": [],
   "source": [
    "df2[\"MSE_test\"] = df2[\"MSE_test\"].astype(str).astype(float)"
   ]
  },
  {
   "cell_type": "code",
   "execution_count": 171,
   "metadata": {},
   "outputs": [
    {
     "data": {
      "text/plain": [
       "max_feature              1.0\n",
       "n_estimators            70.0\n",
       "min_samples_leaf         2.0\n",
       "MSE_train           0.001667\n",
       "MSE_test            0.002287\n",
       "Name: 78, dtype: object"
      ]
     },
     "execution_count": 171,
     "metadata": {},
     "output_type": "execute_result"
    }
   ],
   "source": [
    "df2.loc[df2[\"MSE_test\"].idxmin()]"
   ]
  },
  {
   "cell_type": "markdown",
   "metadata": {},
   "source": [
    "Underfitting – Validation and training error high\n",
    "\n",
    "Overfitting – Validation error is high, training error low\n",
    "\n",
    "Good fit – Validation error low, slightly higher than the training error\n",
    "\n",
    "Unknown fit - Validation error low, training error 'high'"
   ]
  },
  {
   "cell_type": "markdown",
   "metadata": {},
   "source": [
    "Without checking MSE, we can find the best parameters (hyberparameter) by looking Grid Search"
   ]
  },
  {
   "cell_type": "code",
   "execution_count": 173,
   "metadata": {},
   "outputs": [],
   "source": [
    "# Number of trees in random forest\n",
    "n_estimators = [int(i) for i in np.linspace(start = 10, stop = 500, num = 200)]\n",
    "#Number of features to consider at every split\n",
    "max_feature = list(range(1,4))\n",
    "leaf = list(range(2, 30 , 2))"
   ]
  },
  {
   "cell_type": "code",
   "execution_count": 174,
   "metadata": {},
   "outputs": [
    {
     "name": "stdout",
     "output_type": "stream",
     "text": [
      "Fitting 3 folds for each of 100 candidates, totalling 300 fits\n",
      "[CV] END max_features=1, min_samples_leaf=2, n_estimators=91; total time=   0.6s\n",
      "[CV] END max_features=1, min_samples_leaf=2, n_estimators=91; total time=   0.5s\n",
      "[CV] END max_features=1, min_samples_leaf=2, n_estimators=91; total time=   0.5s\n",
      "[CV] END max_features=2, min_samples_leaf=26, n_estimators=209; total time=   1.1s\n",
      "[CV] END max_features=2, min_samples_leaf=26, n_estimators=209; total time=   1.2s\n",
      "[CV] END max_features=2, min_samples_leaf=26, n_estimators=209; total time=   1.2s\n",
      "[CV] END max_features=2, min_samples_leaf=22, n_estimators=285; total time=   1.6s\n",
      "[CV] END max_features=2, min_samples_leaf=22, n_estimators=285; total time=   1.7s\n",
      "[CV] END max_features=2, min_samples_leaf=22, n_estimators=285; total time=   1.5s\n",
      "[CV] END max_features=2, min_samples_leaf=6, n_estimators=251; total time=   1.6s\n",
      "[CV] END max_features=2, min_samples_leaf=6, n_estimators=251; total time=   1.6s\n",
      "[CV] END max_features=2, min_samples_leaf=28, n_estimators=91; total time=   0.4s\n",
      "[CV] END max_features=1, min_samples_leaf=16, n_estimators=81; total time=   0.3s\n",
      "[CV] END max_features=1, min_samples_leaf=16, n_estimators=81; total time=   0.3s\n",
      "[CV] END max_features=2, min_samples_leaf=28, n_estimators=91; total time=   0.4s\n",
      "[CV] END max_features=2, min_samples_leaf=28, n_estimators=91; total time=   0.4s\n",
      "[CV] END max_features=2, min_samples_leaf=6, n_estimators=251; total time=   1.5s\n",
      "[CV] END max_features=1, min_samples_leaf=16, n_estimators=81; total time=   0.3s\n",
      "[CV] END max_features=2, min_samples_leaf=20, n_estimators=394; total time=   2.0s\n",
      "[CV] END max_features=2, min_samples_leaf=20, n_estimators=394; total time=   2.0s\n",
      "[CV] END max_features=1, min_samples_leaf=14, n_estimators=248; total time=   0.9s\n",
      "[CV] END max_features=1, min_samples_leaf=14, n_estimators=248; total time=   0.9s\n",
      "[CV] END max_features=1, min_samples_leaf=14, n_estimators=248; total time=   0.9s\n",
      "[CV] END max_features=2, min_samples_leaf=20, n_estimators=394; total time=   1.8s\n",
      "[CV] END max_features=3, min_samples_leaf=20, n_estimators=12; total time=   0.1s\n",
      "[CV] END max_features=3, min_samples_leaf=20, n_estimators=12; total time=   0.1s\n",
      "[CV] END max_features=3, min_samples_leaf=20, n_estimators=12; total time=   0.1s\n",
      "[CV] END max_features=2, min_samples_leaf=22, n_estimators=307; total time=   1.4s\n",
      "[CV] END max_features=2, min_samples_leaf=22, n_estimators=307; total time=   1.4s\n",
      "[CV] END max_features=2, min_samples_leaf=22, n_estimators=307; total time=   1.5s\n",
      "[CV] END max_features=2, min_samples_leaf=4, n_estimators=199; total time=   1.1s\n",
      "[CV] END max_features=2, min_samples_leaf=4, n_estimators=199; total time=   1.1s\n",
      "[CV] END max_features=1, min_samples_leaf=6, n_estimators=337; total time=   1.5s\n",
      "[CV] END max_features=1, min_samples_leaf=6, n_estimators=337; total time=   1.4s\n",
      "[CV] END max_features=1, min_samples_leaf=6, n_estimators=337; total time=   1.4s\n",
      "[CV] END max_features=1, min_samples_leaf=18, n_estimators=263; total time=   0.9s\n",
      "[CV] END max_features=2, min_samples_leaf=4, n_estimators=199; total time=   1.1s\n",
      "[CV] END max_features=1, min_samples_leaf=18, n_estimators=263; total time=   0.9s\n",
      "[CV] END max_features=1, min_samples_leaf=18, n_estimators=263; total time=   0.9s\n",
      "[CV] END max_features=2, min_samples_leaf=10, n_estimators=211; total time=   1.0s\n",
      "[CV] END max_features=2, min_samples_leaf=10, n_estimators=211; total time=   1.0s\n",
      "[CV] END max_features=2, min_samples_leaf=10, n_estimators=211; total time=   1.0s\n",
      "[CV] END max_features=3, min_samples_leaf=24, n_estimators=187; total time=   1.1s\n",
      "[CV] END max_features=3, min_samples_leaf=24, n_estimators=187; total time=   1.0s\n",
      "[CV] END max_features=3, min_samples_leaf=24, n_estimators=187; total time=   1.0s\n",
      "[CV] END max_features=1, min_samples_leaf=12, n_estimators=64; total time=   0.3s\n",
      "[CV] END max_features=3, min_samples_leaf=2, n_estimators=110; total time=   0.8s\n",
      "[CV] END max_features=1, min_samples_leaf=12, n_estimators=64; total time=   0.3s\n",
      "[CV] END max_features=3, min_samples_leaf=2, n_estimators=110; total time=   0.9s\n",
      "[CV] END max_features=3, min_samples_leaf=2, n_estimators=110; total time=   0.8s\n",
      "[CV] END max_features=1, min_samples_leaf=12, n_estimators=64; total time=   0.3s\n",
      "[CV] END max_features=3, min_samples_leaf=20, n_estimators=187; total time=   1.1s\n",
      "[CV] END max_features=3, min_samples_leaf=20, n_estimators=187; total time=   1.1s\n",
      "[CV] END max_features=3, min_samples_leaf=20, n_estimators=187; total time=   1.1s\n",
      "[CV] END max_features=2, min_samples_leaf=20, n_estimators=224; total time=   1.1s\n",
      "[CV] END max_features=2, min_samples_leaf=20, n_estimators=224; total time=   1.2s\n",
      "[CV] END max_features=2, min_samples_leaf=20, n_estimators=224; total time=   1.2s\n",
      "[CV] END max_features=1, min_samples_leaf=4, n_estimators=300; total time=   1.5s\n",
      "[CV] END max_features=1, min_samples_leaf=4, n_estimators=300; total time=   1.6s\n",
      "[CV] END max_features=3, min_samples_leaf=2, n_estimators=342; total time=   2.6s\n",
      "[CV] END max_features=3, min_samples_leaf=2, n_estimators=342; total time=   2.6s\n",
      "[CV] END max_features=3, min_samples_leaf=2, n_estimators=342; total time=   2.6s\n",
      "[CV] END max_features=1, min_samples_leaf=4, n_estimators=300; total time=   1.5s\n",
      "[CV] END max_features=2, min_samples_leaf=22, n_estimators=411; total time=   2.2s\n",
      "[CV] END max_features=2, min_samples_leaf=22, n_estimators=411; total time=   2.2s\n",
      "[CV] END max_features=1, min_samples_leaf=8, n_estimators=418; total time=   2.1s\n",
      "[CV] END max_features=2, min_samples_leaf=22, n_estimators=411; total time=   2.3s\n",
      "[CV] END max_features=2, min_samples_leaf=2, n_estimators=248; total time=   2.0s\n",
      "[CV] END max_features=2, min_samples_leaf=2, n_estimators=248; total time=   2.0s\n",
      "[CV] END max_features=1, min_samples_leaf=8, n_estimators=418; total time=   2.3s\n",
      "[CV] END max_features=1, min_samples_leaf=8, n_estimators=418; total time=   2.3s\n",
      "[CV] END max_features=1, min_samples_leaf=4, n_estimators=61; total time=   0.4s\n",
      "[CV] END max_features=1, min_samples_leaf=4, n_estimators=61; total time=   0.4s\n",
      "[CV] END max_features=1, min_samples_leaf=4, n_estimators=61; total time=   0.4s\n",
      "[CV] END max_features=2, min_samples_leaf=2, n_estimators=248; total time=   2.0s\n",
      "[CV] END max_features=1, min_samples_leaf=26, n_estimators=189; total time=   0.9s\n",
      "[CV] END max_features=3, min_samples_leaf=20, n_estimators=179; total time=   1.3s\n",
      "[CV] END max_features=3, min_samples_leaf=20, n_estimators=179; total time=   1.2s\n",
      "[CV] END max_features=3, min_samples_leaf=20, n_estimators=179; total time=   1.2s\n",
      "[CV] END max_features=2, min_samples_leaf=10, n_estimators=406; total time=   2.6s\n",
      "[CV] END max_features=1, min_samples_leaf=26, n_estimators=189; total time=   0.8s\n",
      "[CV] END max_features=2, min_samples_leaf=10, n_estimators=406; total time=   2.9s\n",
      "[CV] END max_features=1, min_samples_leaf=26, n_estimators=189; total time=   1.1s\n",
      "[CV] END max_features=2, min_samples_leaf=10, n_estimators=406; total time=   2.8s\n",
      "[CV] END max_features=2, min_samples_leaf=8, n_estimators=339; total time=   2.1s\n",
      "[CV] END max_features=2, min_samples_leaf=8, n_estimators=339; total time=   2.2s\n",
      "[CV] END max_features=2, min_samples_leaf=8, n_estimators=339; total time=   2.2s\n",
      "[CV] END max_features=2, min_samples_leaf=18, n_estimators=401; total time=   2.3s\n",
      "[CV] END max_features=2, min_samples_leaf=18, n_estimators=401; total time=   2.5s\n",
      "[CV] END max_features=1, min_samples_leaf=16, n_estimators=467; total time=   1.7s\n",
      "[CV] END max_features=1, min_samples_leaf=16, n_estimators=467; total time=   1.7s\n",
      "[CV] END max_features=2, min_samples_leaf=18, n_estimators=401; total time=   1.9s\n",
      "[CV] END max_features=1, min_samples_leaf=16, n_estimators=22; total time=   0.1s\n",
      "[CV] END max_features=1, min_samples_leaf=16, n_estimators=22; total time=   0.1s\n",
      "[CV] END max_features=1, min_samples_leaf=16, n_estimators=22; total time=   0.1s\n",
      "[CV] END max_features=3, min_samples_leaf=16, n_estimators=211; total time=   1.1s\n",
      "[CV] END max_features=3, min_samples_leaf=16, n_estimators=211; total time=   1.1s\n",
      "[CV] END max_features=1, min_samples_leaf=16, n_estimators=467; total time=   1.6s\n",
      "[CV] END max_features=3, min_samples_leaf=16, n_estimators=211; total time=   1.1s\n",
      "[CV] END max_features=1, min_samples_leaf=14, n_estimators=243; total time=   0.9s\n",
      "[CV] END max_features=3, min_samples_leaf=2, n_estimators=251; total time=   1.7s\n",
      "[CV] END max_features=3, min_samples_leaf=2, n_estimators=251; total time=   1.8s\n",
      "[CV] END max_features=3, min_samples_leaf=2, n_estimators=251; total time=   1.8s\n",
      "[CV] END max_features=1, min_samples_leaf=14, n_estimators=243; total time=   0.9s\n",
      "[CV] END max_features=1, min_samples_leaf=14, n_estimators=243; total time=   0.9s\n",
      "[CV] END max_features=1, min_samples_leaf=20, n_estimators=367; total time=   1.2s\n",
      "[CV] END max_features=1, min_samples_leaf=20, n_estimators=367; total time=   1.2s\n",
      "[CV] END max_features=3, min_samples_leaf=26, n_estimators=330; total time=   1.6s\n",
      "[CV] END max_features=3, min_samples_leaf=26, n_estimators=330; total time=   1.6s\n",
      "[CV] END max_features=1, min_samples_leaf=20, n_estimators=367; total time=   1.2s\n",
      "[CV] END max_features=3, min_samples_leaf=26, n_estimators=330; total time=   1.6s\n",
      "[CV] END max_features=1, min_samples_leaf=26, n_estimators=197; total time=   0.6s\n",
      "[CV] END max_features=1, min_samples_leaf=26, n_estimators=197; total time=   0.7s\n",
      "[CV] END max_features=1, min_samples_leaf=26, n_estimators=197; total time=   0.6s\n",
      "[CV] END max_features=1, min_samples_leaf=22, n_estimators=24; total time=   0.1s\n",
      "[CV] END max_features=1, min_samples_leaf=22, n_estimators=24; total time=   0.1s\n",
      "[CV] END max_features=1, min_samples_leaf=22, n_estimators=24; total time=   0.1s\n",
      "[CV] END max_features=1, min_samples_leaf=24, n_estimators=206; total time=   0.6s\n",
      "[CV] END max_features=1, min_samples_leaf=24, n_estimators=206; total time=   0.6s\n",
      "[CV] END max_features=3, min_samples_leaf=28, n_estimators=497; total time=   2.4s\n",
      "[CV] END max_features=3, min_samples_leaf=28, n_estimators=497; total time=   2.4s\n",
      "[CV] END max_features=3, min_samples_leaf=28, n_estimators=497; total time=   2.3s\n",
      "[CV] END max_features=1, min_samples_leaf=24, n_estimators=206; total time=   0.6s\n",
      "[CV] END max_features=2, min_samples_leaf=16, n_estimators=487; total time=   2.1s\n",
      "[CV] END max_features=2, min_samples_leaf=16, n_estimators=487; total time=   2.2s\n",
      "[CV] END max_features=3, min_samples_leaf=22, n_estimators=209; total time=   1.0s\n",
      "[CV] END max_features=2, min_samples_leaf=16, n_estimators=487; total time=   2.1s\n",
      "[CV] END max_features=3, min_samples_leaf=22, n_estimators=209; total time=   1.0s\n",
      "[CV] END max_features=3, min_samples_leaf=22, n_estimators=209; total time=   1.0s\n",
      "[CV] END max_features=2, min_samples_leaf=24, n_estimators=162; total time=   0.7s\n",
      "[CV] END max_features=2, min_samples_leaf=24, n_estimators=162; total time=   0.7s\n",
      "[CV] END max_features=2, min_samples_leaf=24, n_estimators=162; total time=   0.7s\n",
      "[CV] END max_features=1, min_samples_leaf=8, n_estimators=337; total time=   1.3s\n",
      "[CV] END max_features=1, min_samples_leaf=8, n_estimators=337; total time=   1.4s\n",
      "[CV] END max_features=1, min_samples_leaf=8, n_estimators=337; total time=   1.3s\n",
      "[CV] END max_features=1, min_samples_leaf=22, n_estimators=359; total time=   1.2s\n",
      "[CV] END max_features=1, min_samples_leaf=22, n_estimators=359; total time=   1.2s\n",
      "[CV] END max_features=1, min_samples_leaf=22, n_estimators=359; total time=   1.2s\n",
      "[CV] END max_features=1, min_samples_leaf=20, n_estimators=174; total time=   0.6s\n",
      "[CV] END max_features=1, min_samples_leaf=20, n_estimators=174; total time=   0.6s\n",
      "[CV] END max_features=1, min_samples_leaf=20, n_estimators=174; total time=   0.6s\n",
      "[CV] END max_features=1, min_samples_leaf=12, n_estimators=500; total time=   1.9s\n",
      "[CV] END max_features=1, min_samples_leaf=12, n_estimators=500; total time=   1.8s\n",
      "[CV] END max_features=1, min_samples_leaf=12, n_estimators=500; total time=   1.8s\n",
      "[CV] END max_features=2, min_samples_leaf=2, n_estimators=335; total time=   1.9s\n",
      "[CV] END max_features=1, min_samples_leaf=28, n_estimators=110; total time=   0.3s\n",
      "[CV] END max_features=2, min_samples_leaf=2, n_estimators=335; total time=   2.0s\n",
      "[CV] END max_features=1, min_samples_leaf=28, n_estimators=110; total time=   0.4s\n",
      "[CV] END max_features=1, min_samples_leaf=28, n_estimators=78; total time=   0.2s\n",
      "[CV] END max_features=2, min_samples_leaf=2, n_estimators=335; total time=   1.9s\n",
      "[CV] END max_features=1, min_samples_leaf=28, n_estimators=110; total time=   0.4s\n",
      "[CV] END max_features=1, min_samples_leaf=28, n_estimators=78; total time=   0.3s\n",
      "[CV] END max_features=1, min_samples_leaf=28, n_estimators=78; total time=   0.3s\n",
      "[CV] END max_features=3, min_samples_leaf=14, n_estimators=78; total time=   0.4s\n",
      "[CV] END max_features=3, min_samples_leaf=14, n_estimators=78; total time=   0.4s\n",
      "[CV] END max_features=3, min_samples_leaf=14, n_estimators=78; total time=   0.4s\n",
      "[CV] END max_features=3, min_samples_leaf=22, n_estimators=86; total time=   0.5s\n",
      "[CV] END max_features=3, min_samples_leaf=22, n_estimators=86; total time=   0.5s\n",
      "[CV] END max_features=3, min_samples_leaf=4, n_estimators=300; total time=   1.9s\n",
      "[CV] END max_features=3, min_samples_leaf=4, n_estimators=300; total time=   1.9s\n",
      "[CV] END max_features=3, min_samples_leaf=4, n_estimators=300; total time=   2.0s\n",
      "[CV] END max_features=3, min_samples_leaf=12, n_estimators=14; total time=   0.1s\n",
      "[CV] END max_features=3, min_samples_leaf=22, n_estimators=86; total time=   0.5s\n",
      "[CV] END max_features=3, min_samples_leaf=12, n_estimators=14; total time=   0.1s\n",
      "[CV] END max_features=3, min_samples_leaf=12, n_estimators=14; total time=   0.1s\n",
      "[CV] END max_features=1, min_samples_leaf=10, n_estimators=416; total time=   1.7s\n",
      "[CV] END max_features=1, min_samples_leaf=10, n_estimators=416; total time=   1.7s\n",
      "[CV] END max_features=1, min_samples_leaf=10, n_estimators=416; total time=   1.7s\n",
      "[CV] END max_features=2, min_samples_leaf=28, n_estimators=224; total time=   1.2s\n",
      "[CV] END max_features=2, min_samples_leaf=28, n_estimators=224; total time=   1.2s\n",
      "[CV] END max_features=2, min_samples_leaf=28, n_estimators=224; total time=   1.2s\n",
      "[CV] END max_features=1, min_samples_leaf=2, n_estimators=51; total time=   0.4s\n",
      "[CV] END max_features=1, min_samples_leaf=2, n_estimators=51; total time=   0.3s\n",
      "[CV] END max_features=1, min_samples_leaf=2, n_estimators=51; total time=   0.3s\n",
      "[CV] END max_features=3, min_samples_leaf=6, n_estimators=416; total time=   2.9s\n",
      "[CV] END max_features=3, min_samples_leaf=6, n_estimators=416; total time=   2.9s\n",
      "[CV] END max_features=1, min_samples_leaf=14, n_estimators=460; total time=   2.1s\n",
      "[CV] END max_features=2, min_samples_leaf=24, n_estimators=32; total time=   0.2s\n",
      "[CV] END max_features=2, min_samples_leaf=24, n_estimators=32; total time=   0.1s\n",
      "[CV] END max_features=1, min_samples_leaf=14, n_estimators=460; total time=   2.0s\n",
      "[CV] END max_features=3, min_samples_leaf=24, n_estimators=133; total time=   0.8s\n",
      "[CV] END max_features=3, min_samples_leaf=24, n_estimators=133; total time=   0.8s\n",
      "[CV] END max_features=3, min_samples_leaf=6, n_estimators=416; total time=   3.0s\n",
      "[CV] END max_features=2, min_samples_leaf=24, n_estimators=32; total time=   0.3s\n",
      "[CV] END max_features=1, min_samples_leaf=14, n_estimators=460; total time=   1.9s\n",
      "[CV] END max_features=3, min_samples_leaf=24, n_estimators=133; total time=   0.8s\n",
      "[CV] END max_features=2, min_samples_leaf=8, n_estimators=113; total time=   0.6s\n",
      "[CV] END max_features=2, min_samples_leaf=8, n_estimators=113; total time=   0.6s\n",
      "[CV] END max_features=2, min_samples_leaf=8, n_estimators=113; total time=   0.6s\n",
      "[CV] END max_features=1, min_samples_leaf=6, n_estimators=160; total time=   0.7s\n",
      "[CV] END max_features=1, min_samples_leaf=6, n_estimators=160; total time=   0.7s\n",
      "[CV] END max_features=1, min_samples_leaf=6, n_estimators=160; total time=   0.7s\n",
      "[CV] END max_features=2, min_samples_leaf=26, n_estimators=76; total time=   0.3s\n",
      "[CV] END max_features=2, min_samples_leaf=26, n_estimators=76; total time=   0.3s\n",
      "[CV] END max_features=2, min_samples_leaf=26, n_estimators=76; total time=   0.3s\n",
      "[CV] END max_features=1, min_samples_leaf=10, n_estimators=275; total time=   1.1s\n",
      "[CV] END max_features=3, min_samples_leaf=20, n_estimators=367; total time=   2.0s\n",
      "[CV] END max_features=3, min_samples_leaf=20, n_estimators=367; total time=   2.0s\n",
      "[CV] END max_features=3, min_samples_leaf=20, n_estimators=367; total time=   1.9s\n",
      "[CV] END max_features=2, min_samples_leaf=14, n_estimators=403; total time=   1.9s\n",
      "[CV] END max_features=2, min_samples_leaf=14, n_estimators=403; total time=   1.9s\n",
      "[CV] END max_features=1, min_samples_leaf=10, n_estimators=275; total time=   1.1s\n",
      "[CV] END max_features=2, min_samples_leaf=14, n_estimators=403; total time=   2.0s\n",
      "[CV] END max_features=1, min_samples_leaf=10, n_estimators=275; total time=   1.1s\n",
      "[CV] END max_features=2, min_samples_leaf=14, n_estimators=325; total time=   1.5s\n",
      "[CV] END max_features=2, min_samples_leaf=14, n_estimators=325; total time=   1.5s\n",
      "[CV] END max_features=2, min_samples_leaf=14, n_estimators=325; total time=   1.5s\n",
      "[CV] END max_features=2, min_samples_leaf=26, n_estimators=371; total time=   1.6s\n",
      "[CV] END max_features=3, min_samples_leaf=28, n_estimators=492; total time=   2.3s\n",
      "[CV] END max_features=3, min_samples_leaf=28, n_estimators=492; total time=   2.4s\n",
      "[CV] END max_features=3, min_samples_leaf=28, n_estimators=492; total time=   2.4s\n",
      "[CV] END max_features=2, min_samples_leaf=26, n_estimators=371; total time=   1.6s\n",
      "[CV] END max_features=3, min_samples_leaf=16, n_estimators=46; total time=   0.3s\n",
      "[CV] END max_features=1, min_samples_leaf=26, n_estimators=376; total time=   1.2s\n",
      "[CV] END max_features=3, min_samples_leaf=16, n_estimators=46; total time=   0.2s\n",
      "[CV] END max_features=3, min_samples_leaf=16, n_estimators=46; total time=   0.2s\n",
      "[CV] END max_features=1, min_samples_leaf=26, n_estimators=376; total time=   1.2s\n",
      "[CV] END max_features=2, min_samples_leaf=26, n_estimators=371; total time=   1.5s\n",
      "[CV] END max_features=1, min_samples_leaf=26, n_estimators=376; total time=   1.2s\n",
      "[CV] END max_features=3, min_samples_leaf=4, n_estimators=103; total time=   0.6s\n",
      "[CV] END max_features=3, min_samples_leaf=4, n_estimators=103; total time=   0.6s\n",
      "[CV] END max_features=3, min_samples_leaf=4, n_estimators=103; total time=   0.7s\n",
      "[CV] END max_features=2, min_samples_leaf=2, n_estimators=167; total time=   0.9s\n",
      "[CV] END max_features=2, min_samples_leaf=2, n_estimators=167; total time=   0.9s\n",
      "[CV] END max_features=2, min_samples_leaf=2, n_estimators=167; total time=   0.9s\n",
      "[CV] END max_features=2, min_samples_leaf=24, n_estimators=184; total time=   0.8s\n",
      "[CV] END max_features=2, min_samples_leaf=24, n_estimators=184; total time=   0.8s\n",
      "[CV] END max_features=2, min_samples_leaf=24, n_estimators=184; total time=   0.7s\n",
      "[CV] END max_features=1, min_samples_leaf=10, n_estimators=335; total time=   1.3s\n",
      "[CV] END max_features=1, min_samples_leaf=10, n_estimators=335; total time=   1.2s\n",
      "[CV] END max_features=3, min_samples_leaf=12, n_estimators=416; total time=   2.2s\n",
      "[CV] END max_features=3, min_samples_leaf=12, n_estimators=194; total time=   1.1s\n",
      "[CV] END max_features=3, min_samples_leaf=12, n_estimators=416; total time=   2.2s\n",
      "[CV] END max_features=3, min_samples_leaf=12, n_estimators=194; total time=   1.1s\n",
      "[CV] END max_features=1, min_samples_leaf=10, n_estimators=335; total time=   1.3s\n",
      "[CV] END max_features=3, min_samples_leaf=12, n_estimators=416; total time=   2.3s\n",
      "[CV] END max_features=3, min_samples_leaf=12, n_estimators=194; total time=   1.1s\n",
      "[CV] END max_features=3, min_samples_leaf=12, n_estimators=226; total time=   1.4s\n",
      "[CV] END max_features=3, min_samples_leaf=12, n_estimators=226; total time=   1.4s\n",
      "[CV] END max_features=3, min_samples_leaf=12, n_estimators=226; total time=   1.4s\n",
      "[CV] END max_features=3, min_samples_leaf=28, n_estimators=342; total time=   1.8s\n",
      "[CV] END max_features=3, min_samples_leaf=28, n_estimators=342; total time=   1.8s\n",
      "[CV] END max_features=3, min_samples_leaf=28, n_estimators=342; total time=   1.8s\n",
      "[CV] END max_features=3, min_samples_leaf=18, n_estimators=349; total time=   1.9s\n",
      "[CV] END max_features=3, min_samples_leaf=18, n_estimators=349; total time=   1.9s\n",
      "[CV] END max_features=3, min_samples_leaf=20, n_estimators=165; total time=   0.8s\n",
      "[CV] END max_features=3, min_samples_leaf=18, n_estimators=349; total time=   1.8s\n",
      "[CV] END max_features=3, min_samples_leaf=20, n_estimators=165; total time=   0.9s\n",
      "[CV] END max_features=3, min_samples_leaf=20, n_estimators=165; total time=   0.8s\n",
      "[CV] END max_features=2, min_samples_leaf=24, n_estimators=231; total time=   1.0s\n",
      "[CV] END max_features=2, min_samples_leaf=12, n_estimators=295; total time=   1.3s\n",
      "[CV] END max_features=2, min_samples_leaf=12, n_estimators=295; total time=   1.3s\n",
      "[CV] END max_features=2, min_samples_leaf=12, n_estimators=295; total time=   1.3s\n",
      "[CV] END max_features=2, min_samples_leaf=24, n_estimators=231; total time=   1.0s\n",
      "[CV] END max_features=3, min_samples_leaf=4, n_estimators=477; total time=   2.9s\n",
      "[CV] END max_features=3, min_samples_leaf=4, n_estimators=477; total time=   2.9s\n",
      "[CV] END max_features=3, min_samples_leaf=4, n_estimators=477; total time=   2.9s\n",
      "[CV] END max_features=2, min_samples_leaf=24, n_estimators=231; total time=   0.9s\n",
      "[CV] END max_features=1, min_samples_leaf=10, n_estimators=37; total time=   0.1s\n",
      "[CV] END max_features=1, min_samples_leaf=10, n_estimators=37; total time=   0.1s\n",
      "[CV] END max_features=1, min_samples_leaf=10, n_estimators=37; total time=   0.1s\n",
      "[CV] END max_features=1, min_samples_leaf=16, n_estimators=418; total time=   1.4s\n",
      "[CV] END max_features=2, min_samples_leaf=22, n_estimators=312; total time=   1.3s\n",
      "[CV] END max_features=2, min_samples_leaf=22, n_estimators=312; total time=   1.3s\n",
      "[CV] END max_features=1, min_samples_leaf=16, n_estimators=418; total time=   1.4s\n",
      "[CV] END max_features=2, min_samples_leaf=18, n_estimators=123; total time=   0.5s\n",
      "[CV] END max_features=1, min_samples_leaf=16, n_estimators=418; total time=   1.4s\n",
      "[CV] END max_features=2, min_samples_leaf=18, n_estimators=123; total time=   0.6s\n",
      "[CV] END max_features=2, min_samples_leaf=22, n_estimators=312; total time=   1.3s\n",
      "[CV] END max_features=2, min_samples_leaf=18, n_estimators=123; total time=   0.5s\n",
      "[CV] END max_features=1, min_samples_leaf=10, n_estimators=152; total time=   0.6s\n",
      "[CV] END max_features=1, min_samples_leaf=10, n_estimators=152; total time=   0.6s\n",
      "[CV] END max_features=1, min_samples_leaf=10, n_estimators=152; total time=   0.6s\n",
      "[CV] END max_features=3, min_samples_leaf=16, n_estimators=145; total time=   0.8s\n",
      "[CV] END max_features=3, min_samples_leaf=16, n_estimators=145; total time=   0.8s\n",
      "[CV] END max_features=3, min_samples_leaf=16, n_estimators=145; total time=   0.8s\n",
      "[CV] END max_features=1, min_samples_leaf=28, n_estimators=165; total time=   0.5s\n",
      "[CV] END max_features=1, min_samples_leaf=28, n_estimators=165; total time=   0.5s\n",
      "[CV] END max_features=1, min_samples_leaf=28, n_estimators=165; total time=   0.5s\n",
      "[CV] END max_features=3, min_samples_leaf=28, n_estimators=344; total time=   1.7s\n",
      "[CV] END max_features=3, min_samples_leaf=28, n_estimators=344; total time=   1.7s\n",
      "[CV] END max_features=3, min_samples_leaf=28, n_estimators=344; total time=   1.7s\n",
      "[CV] END max_features=2, min_samples_leaf=14, n_estimators=184; total time=   0.8s\n",
      "[CV] END max_features=2, min_samples_leaf=24, n_estimators=482; total time=   2.0s\n",
      "[CV] END max_features=2, min_samples_leaf=24, n_estimators=482; total time=   2.0s\n",
      "[CV] END max_features=2, min_samples_leaf=14, n_estimators=184; total time=   0.8s\n",
      "[CV] END max_features=2, min_samples_leaf=14, n_estimators=184; total time=   0.8s\n",
      "[CV] END max_features=2, min_samples_leaf=24, n_estimators=482; total time=   2.0s\n",
      "[CV] END max_features=2, min_samples_leaf=14, n_estimators=261; total time=   1.1s\n",
      "[CV] END max_features=2, min_samples_leaf=14, n_estimators=261; total time=   1.1s\n",
      "[CV] END max_features=2, min_samples_leaf=14, n_estimators=261; total time=   1.2s\n",
      "[CV] END max_features=2, min_samples_leaf=4, n_estimators=290; total time=   1.6s\n",
      "[CV] END max_features=2, min_samples_leaf=4, n_estimators=290; total time=   1.5s\n",
      "[CV] END max_features=2, min_samples_leaf=4, n_estimators=290; total time=   1.6s\n",
      "[CV] END max_features=2, min_samples_leaf=24, n_estimators=386; total time=   1.5s\n",
      "[CV] END max_features=2, min_samples_leaf=24, n_estimators=386; total time=   1.5s\n",
      "[CV] END max_features=3, min_samples_leaf=12, n_estimators=458; total time=   2.3s\n",
      "[CV] END max_features=3, min_samples_leaf=12, n_estimators=458; total time=   2.3s\n",
      "[CV] END max_features=3, min_samples_leaf=12, n_estimators=458; total time=   2.1s\n",
      "[CV] END max_features=2, min_samples_leaf=24, n_estimators=386; total time=   1.2s\n"
     ]
    },
    {
     "data": {
      "text/plain": [
       "RandomizedSearchCV(cv=3, estimator=RandomForestRegressor(), n_iter=100,\n",
       "                   n_jobs=-1,\n",
       "                   param_distributions={'max_features': [1, 2, 3],\n",
       "                                        'min_samples_leaf': [2, 4, 6, 8, 10, 12,\n",
       "                                                             14, 16, 18, 20, 22,\n",
       "                                                             24, 26, 28],\n",
       "                                        'n_estimators': [10, 12, 14, 17, 19, 22,\n",
       "                                                         24, 27, 29, 32, 34, 37,\n",
       "                                                         39, 42, 44, 46, 49, 51,\n",
       "                                                         54, 56, 59, 61, 64, 66,\n",
       "                                                         69, 71, 74, 76, 78, 81, ...]},\n",
       "                   random_state=42, verbose=2)"
      ]
     },
     "execution_count": 174,
     "metadata": {},
     "output_type": "execute_result"
    }
   ],
   "source": [
    "# Create the random grid\n",
    "from sklearn.model_selection import RandomizedSearchCV\n",
    "random_grid = {'n_estimators': n_estimators,\n",
    "               'max_features': max_feature,\n",
    "               'min_samples_leaf': leaf}\n",
    "regr = RandomForestRegressor()\n",
    "rf_random = RandomizedSearchCV(estimator = regr, param_distributions = random_grid, n_iter = 100, cv = 3, verbose=2, random_state=42, n_jobs = -1)\n",
    "rf_random.fit(X_train_val, y_train_val)"
   ]
  },
  {
   "cell_type": "code",
   "execution_count": 175,
   "metadata": {},
   "outputs": [
    {
     "data": {
      "text/plain": [
       "{'n_estimators': 51, 'min_samples_leaf': 2, 'max_features': 1}"
      ]
     },
     "execution_count": 175,
     "metadata": {},
     "output_type": "execute_result"
    }
   ],
   "source": [
    "rf_random.best_params_"
   ]
  },
  {
   "cell_type": "markdown",
   "metadata": {},
   "source": [
    "## 4.2 A second model: SVM"
   ]
  },
  {
   "cell_type": "markdown",
   "metadata": {},
   "source": [
    "Now you will train another machine learning model: a support vector machine. You will only\n",
    "consider a linear kernel, and make only one hyperparameter vary (called the cost parameter;\n",
    "low values for this hyperparameter lead to a smoother decision surface)\n",
    "\n",
    "### 1. Using a Support Vector Machine (SVM) with a linear kernel, predict the selling price of the car in the training set. \n",
    "\n",
    "Use the following variables: year, fuel, km_driven."
   ]
  },
  {
   "cell_type": "code",
   "execution_count": 294,
   "metadata": {},
   "outputs": [],
   "source": [
    "from sklearn.svm import SVR"
   ]
  },
  {
   "cell_type": "code",
   "execution_count": 295,
   "metadata": {},
   "outputs": [],
   "source": [
    "svc = SVR(kernel = \"linear\", C = 10.0)\n",
    "svc.fit(X_train_val, y_train_val)\n",
    "prediction_random_SVM2 = svc.predict(X_val)"
   ]
  },
  {
   "cell_type": "markdown",
   "metadata": {},
   "source": [
    "### 2. Compute the mean squared error both for the training and the validation datasets. Compare them with each other."
   ]
  },
  {
   "cell_type": "code",
   "execution_count": 296,
   "metadata": {},
   "outputs": [
    {
     "name": "stdout",
     "output_type": "stream",
     "text": [
      "580601218668.714\n"
     ]
    }
   ],
   "source": [
    "prediction_random_SVM1 = svc.predict(X_train_val)\n",
    "mse_train = mean_squared_error(y_train_val, prediction_random_SVM1)\n",
    "print(mse_train)"
   ]
  },
  {
   "cell_type": "code",
   "execution_count": 297,
   "metadata": {},
   "outputs": [
    {
     "name": "stdout",
     "output_type": "stream",
     "text": [
      "605284959138.3336\n"
     ]
    }
   ],
   "source": [
    "mse_val = mean_squared_error(y_val, prediction_random_SVM2 )\n",
    "print(mse_val)"
   ]
  },
  {
   "cell_type": "markdown",
   "metadata": {},
   "source": [
    "In this case, MSE in training set is smaller than validation set. So it means the model present of overfitting."
   ]
  },
  {
   "cell_type": "markdown",
   "metadata": {},
   "source": [
    "### 3. Now, using a loop, make the cost vary:\n",
    "\n",
    "a) with R: 10ˆseq(3, -2, length = 50)\n",
    "\n",
    "b) with python: 10**np.linspace(start=3, stop=-2, num=50)\n",
    "\n",
    "At each iteration, compute the mean squared error (and store it) for both samples."
   ]
  },
  {
   "cell_type": "code",
   "execution_count": 310,
   "metadata": {},
   "outputs": [],
   "source": [
    "def mse_compute(Xval, yval):\n",
    "    global list_MSE\n",
    "    list_MSE = []\n",
    "    for i in (10**np.linspace(start=3, stop=-2, num=50)):\n",
    "        #create a model \n",
    "        svc = SVR(kernel = \"linear\", C = i)\n",
    "        #train model\n",
    "        svc.fit(X_train_val, y_train_val)\n",
    "        #predict value for valid set\n",
    "        prediction_random = svc.predict(Xval)\n",
    "        #calculate MSE\n",
    "        mse = mean_squared_error(yval, prediction_random)\n",
    "        list_MSE.append(mse)\n",
    "        print(\"With {} of terminal node, the mean squared error is {}\".format(i, mse))"
   ]
  },
  {
   "cell_type": "code",
   "execution_count": 311,
   "metadata": {},
   "outputs": [
    {
     "name": "stdout",
     "output_type": "stream",
     "text": [
      "With 1000.0 of terminal node, the mean squared error is 580176706373.5449\n",
      "With 790.6043210907702 of terminal node, the mean squared error is 580649073514.3085\n",
      "With 625.0551925273976 of terminal node, the mean squared error is 580733001993.8169\n",
      "With 494.1713361323833 of terminal node, the mean squared error is 581223769377.3684\n",
      "With 390.6939937054617 of terminal node, the mean squared error is 581176136120.7242\n",
      "With 308.88435964774817 of terminal node, the mean squared error is 581826837588.9238\n",
      "With 244.205309454865 of terminal node, the mean squared error is 582029125479.8668\n",
      "With 193.06977288832496 of terminal node, the mean squared error is 582930727988.2546\n",
      "With 152.64179671752333 of terminal node, the mean squared error is 583772984091.4735\n",
      "With 120.67926406393289 of terminal node, the mean squared error is 584439679984.6659\n",
      "With 95.40954763499938 of terminal node, the mean squared error is 585468878210.6666\n",
      "With 75.43120063354615 of terminal node, the mean squared error is 586465563855.8026\n",
      "With 59.63623316594643 of terminal node, the mean squared error is 587927247686.0558\n",
      "With 47.14866363457394 of terminal node, the mean squared error is 589803090101.9377\n",
      "With 37.2759372031494 of terminal node, the mean squared error is 591606958084.6909\n",
      "With 29.4705170255181 of terminal node, the mean squared error is 593679390893.849\n",
      "With 23.29951810515372 of terminal node, the mean squared error is 595774637867.2913\n",
      "With 18.420699693267164 of terminal node, the mean squared error is 597662631089.1232\n",
      "With 14.563484775012437 of terminal node, the mean squared error is 599443579489.0071\n",
      "With 11.513953993264469 of terminal node, the mean squared error is 603692662494.9\n",
      "With 9.102981779915218 of terminal node, the mean squared error is 606211768262.3079\n",
      "With 7.196856730011521 of terminal node, the mean squared error is 610668604655.4706\n",
      "With 5.689866029018293 of terminal node, the mean squared error is 615039992624.5714\n",
      "With 4.498432668969444 of terminal node, the mean squared error is 621318420606.8419\n",
      "With 3.5564803062231287 of terminal node, the mean squared error is 627951609460.2788\n",
      "With 2.8117686979742307 of terminal node, the mean squared error is 633788779517.9543\n",
      "With 2.2229964825261956 of terminal node, the mean squared error is 639540179483.1254\n",
      "With 1.7575106248547911 of terminal node, the mean squared error is 645690645900.0884\n",
      "With 1.3894954943731375 of terminal node, the mean squared error is 653259537484.5616\n",
      "With 1.0985411419875584 of terminal node, the mean squared error is 658081805397.3445\n",
      "With 0.868511373751352 of terminal node, the mean squared error is 662744931623.1373\n",
      "With 0.6866488450042998 of terminal node, the mean squared error is 667335971447.2974\n",
      "With 0.5428675439323859 of terminal node, the mean squared error is 671204521156.1866\n",
      "With 0.42919342601287785 of terminal node, the mean squared error is 674062401413.4183\n",
      "With 0.33932217718953295 of terminal node, the mean squared error is 676564217284.209\n",
      "With 0.2682695795279725 of terminal node, the mean squared error is 678649697779.7723\n",
      "With 0.21209508879201905 of terminal node, the mean squared error is 680324213005.3309\n",
      "With 0.16768329368110083 of terminal node, the mean squared error is 681610812531.4736\n",
      "With 0.13257113655901082 of terminal node, the mean squared error is 682636309475.0999\n",
      "With 0.10481131341546852 of terminal node, the mean squared error is 683513556927.2343\n",
      "With 0.08286427728546843 of terminal node, the mean squared error is 683933799124.8597\n",
      "With 0.0655128556859551 of terminal node, the mean squared error is 684546156568.8136\n",
      "With 0.05179474679231213 of terminal node, the mean squared error is 685035528060.8644\n",
      "With 0.040949150623804276 of terminal node, the mean squared error is 685423124630.1365\n",
      "With 0.0323745754281764 of terminal node, the mean squared error is 685729044008.9666\n",
      "With 0.025595479226995333 of terminal node, the mean squared error is 685972128923.6265\n",
      "With 0.020235896477251554 of terminal node, the mean squared error is 686164483485.1743\n",
      "With 0.015998587196060572 of terminal node, the mean squared error is 686316666453.1456\n",
      "With 0.012648552168552958 of terminal node, the mean squared error is 686437049608.8732\n",
      "With 0.01 of terminal node, the mean squared error is 686532266707.9441\n"
     ]
    }
   ],
   "source": [
    "mse_compute(X_val, y_val)\n",
    "list_MSE_val = list_MSE"
   ]
  },
  {
   "cell_type": "code",
   "execution_count": 312,
   "metadata": {},
   "outputs": [
    {
     "name": "stdout",
     "output_type": "stream",
     "text": [
      "With 1000.0 of terminal node, the mean squared error is 552961680289.0562\n",
      "With 790.6043210907702 of terminal node, the mean squared error is 553489127725.548\n",
      "With 625.0551925273976 of terminal node, the mean squared error is 553592738407.0604\n",
      "With 494.1713361323833 of terminal node, the mean squared error is 554148332296.1731\n",
      "With 390.6939937054617 of terminal node, the mean squared error is 554127167811.0764\n",
      "With 308.88435964774817 of terminal node, the mean squared error is 554851647700.1401\n",
      "With 244.205309454865 of terminal node, the mean squared error is 555094748798.7943\n",
      "With 193.06977288832496 of terminal node, the mean squared error is 556102640545.7656\n",
      "With 152.64179671752333 of terminal node, the mean squared error is 557044977305.1492\n",
      "With 120.67926406393289 of terminal node, the mean squared error is 557826623645.3794\n",
      "With 95.40954763499938 of terminal node, the mean squared error is 558969021866.6361\n",
      "With 75.43120063354615 of terminal node, the mean squared error is 560111767549.6871\n",
      "With 59.63623316594643 of terminal node, the mean squared error is 561727749725.8147\n",
      "With 47.14866363457394 of terminal node, the mean squared error is 563795733528.6228\n",
      "With 37.2759372031494 of terminal node, the mean squared error is 565774999475.4122\n",
      "With 29.4705170255181 of terminal node, the mean squared error is 568046911392.4841\n",
      "With 23.29951810515372 of terminal node, the mean squared error is 570341963256.3561\n",
      "With 18.420699693267164 of terminal node, the mean squared error is 572408161832.4307\n",
      "With 14.563484775012437 of terminal node, the mean squared error is 574346749637.7413\n",
      "With 11.513953993264469 of terminal node, the mean squared error is 578889448605.4049\n",
      "With 9.102981779915218 of terminal node, the mean squared error is 581592898191.4342\n",
      "With 7.196856730011521 of terminal node, the mean squared error is 586332133660.906\n",
      "With 5.689866029018293 of terminal node, the mean squared error is 590963031824.6968\n",
      "With 4.498432668969444 of terminal node, the mean squared error is 597592953302.26\n",
      "With 3.5564803062231287 of terminal node, the mean squared error is 604571440720.5778\n",
      "With 2.8117686979742307 of terminal node, the mean squared error is 610691539341.6597\n",
      "With 2.2229964825261956 of terminal node, the mean squared error is 616695793388.9523\n",
      "With 1.7575106248547911 of terminal node, the mean squared error is 623085387059.1508\n",
      "With 1.3894954943731375 of terminal node, the mean squared error is 630960480590.6385\n",
      "With 1.0985411419875584 of terminal node, the mean squared error is 635923131761.7743\n",
      "With 0.868511373751352 of terminal node, the mean squared error is 640725692125.1725\n",
      "With 0.6866488450042998 of terminal node, the mean squared error is 645463065877.8484\n",
      "With 0.5428675439323859 of terminal node, the mean squared error is 649450607569.5726\n",
      "With 0.42919342601287785 of terminal node, the mean squared error is 652383757872.3186\n",
      "With 0.33932217718953295 of terminal node, the mean squared error is 654956802533.8866\n",
      "With 0.2682695795279725 of terminal node, the mean squared error is 657100642399.8102\n",
      "With 0.21209508879201905 of terminal node, the mean squared error is 658821381479.7015\n",
      "With 0.16768329368110083 of terminal node, the mean squared error is 660140907558.3214\n",
      "With 0.13257113655901082 of terminal node, the mean squared error is 661192391715.7908\n",
      "With 0.10481131341546852 of terminal node, the mean squared error is 662094036424.5515\n",
      "With 0.08286427728546843 of terminal node, the mean squared error is 662516165937.7222\n",
      "With 0.0655128556859551 of terminal node, the mean squared error is 663147325109.6161\n",
      "With 0.05179474679231213 of terminal node, the mean squared error is 663651806292.6874\n",
      "With 0.040949150623804276 of terminal node, the mean squared error is 664051344262.7686\n",
      "With 0.0323745754281764 of terminal node, the mean squared error is 664366672964.5529\n",
      "With 0.025595479226995333 of terminal node, the mean squared error is 664617224078.8448\n",
      "With 0.020235896477251554 of terminal node, the mean squared error is 664815480377.6736\n",
      "With 0.015998587196060572 of terminal node, the mean squared error is 664972328614.3247\n",
      "With 0.012648552168552958 of terminal node, the mean squared error is 665096399732.6445\n",
      "With 0.01 of terminal node, the mean squared error is 665194532288.9895\n"
     ]
    }
   ],
   "source": [
    "mse_compute(X_train_val, y_train_val)\n",
    "list_MSE_train = list_MSE"
   ]
  },
  {
   "cell_type": "markdown",
   "metadata": {},
   "source": [
    "### 4. On a graph, plot the mean squared error as a function of the node size, for both samples (one curve for each sample). Comment."
   ]
  },
  {
   "cell_type": "code",
   "execution_count": 319,
   "metadata": {},
   "outputs": [],
   "source": [
    "def plot_mse(list_mse):\n",
    "    x = np.array(sorted(list(10**np.linspace(start=3, stop=-2, num=50))))\n",
    "    y = np.array(list_mse)\n",
    "    X_Y_Spline = make_interp_spline(x, y)\n",
    "    # Returns evenly spaced numbers\n",
    "    # over a specified interval.\n",
    "    X_ = x\n",
    "    Y_ = X_Y_Spline(X_)\n",
    "    # Plotting the Graph\n",
    "    plt.plot(X_, Y_)\n",
    "    plt.xlabel(\"The cost C\")\n",
    "    plt.ylabel(\"The mean squared error\")\n",
    "    plt.show()"
   ]
  },
  {
   "cell_type": "code",
   "execution_count": 320,
   "metadata": {},
   "outputs": [
    {
     "data": {
      "image/png": "[encoded data removed]",
      "text/plain": [
       "<Figure size 432x288 with 1 Axes>"
      ]
     },
     "metadata": {},
     "output_type": "display_data"
    }
   ],
   "source": [
    "plot_mse(list_MSE_train)"
   ]
  },
  {
   "cell_type": "code",
   "execution_count": 318,
   "metadata": {},
   "outputs": [
    {
     "data": {
      "image/png": "[encoded data removed]",
      "text/plain": [
       "<Figure size 432x288 with 1 Axes>"
      ]
     },
     "metadata": {},
     "output_type": "display_data"
    }
   ],
   "source": [
    "plot_mse(list_MSE_val)"
   ]
  },
  {
   "cell_type": "markdown",
   "metadata": {},
   "source": [
    "### 5. What is the value for your hyperparameter ? "
   ]
  },
  {
   "cell_type": "markdown",
   "metadata": {},
   "source": [
    "## 4.3 Select your model\n",
    "Now that you have selected, both for the random forest and for the SVM the values of the\n",
    "hyperparameters that produce the best fits on the validation set, you can select the model that\n",
    "gives the best results on the test set."
   ]
  },
  {
   "cell_type": "markdown",
   "metadata": {},
   "source": [
    "### 1. Compute the MSE on the test set for the random forest with the selected values for the hyperparameters."
   ]
  },
  {
   "cell_type": "code",
   "execution_count": null,
   "metadata": {},
   "outputs": [],
   "source": [
    "regr = RandomForestRegressor(max_features = 1,  n_estimators = 70, min_samples_leaf = 2)\n",
    "#train model\n",
    "regr.fit(X_train_val, y_train_val)\n",
    "prediction_random = svc.predict(X_test)\n",
    "#calculate MSE\n",
    "mse = mean_squared_error(y_test, prediction_random)"
   ]
  },
  {
   "cell_type": "markdown",
   "metadata": {},
   "source": [
    "### 2. Do the same for your best SVM."
   ]
  },
  {
   "cell_type": "code",
   "execution_count": null,
   "metadata": {},
   "outputs": [],
   "source": []
  },
  {
   "cell_type": "markdown",
   "metadata": {},
   "source": [
    "### 3. Which model gives the best results on the test set? Comment."
   ]
  }
 ],
 "metadata": {
  "interpreter": {
   "hash": "40d3a090f54c6569ab1632332b64b2c03c39dcf918b08424e98f38b5ae0af88f"
  },
  "kernelspec": {
   "display_name": "Python 3.9.12 ('base')",
   "language": "python",
   "name": "python3"
  },
  "language_info": {
   "codemirror_mode": {
    "name": "ipython",
    "version": 3
   },
   "file_extension": ".py",
   "mimetype": "text/x-python",
   "name": "python",
   "nbconvert_exporter": "python",
   "pygments_lexer": "ipython3",
   "version": "3.9.12"
  },
  "orig_nbformat": 4
 },
 "nbformat": 4,
 "nbformat_minor": 2
}
