{
 "cells": [
  {
   "cell_type": "markdown",
   "metadata": {},
   "source": [
    "#   Machine learning and statistical learning\n",
    "### (Error measure, Overfitting)\n",
    "\n",
    "**<font color = red>NGUYEN Thi Huong</font>**\n",
    "\n",
    "**<font color = red>MAG3</font>**"
   ]
  },
  {
   "cell_type": "markdown",
   "metadata": {},
   "source": [
    "## 1. Context and objectives"
   ]
  },
  {
   "cell_type": "markdown",
   "metadata": {},
   "source": [
    "## 2. First steps: preparing the data\n",
    "**1. From AMeTICE, download the cars dataset (cars.csv).**\n",
    "\n",
    "**2. Load the CSV file into R or Python.**\n",
    "\n",
    "**3. Randomly split your dataset into two parts:**\n",
    "\n",
    "a) a train set that will contain 80% of the observations\n",
    "\n",
    "b) a test set that will contain the remaining 20%.\n",
    "\n",
    "**4. From the train set, create two datasets:**\n",
    "\n",
    "• a training set that will contain 80% of the observations from the train set\n",
    "\n",
    "• a validation set that waill contain the remining 20%."
   ]
  },
  {
   "cell_type": "code",
   "execution_count": 1,
   "metadata": {},
   "outputs": [],
   "source": [
    "import pandas as pd\n",
    "import numpy as np\n",
    "from sklearn.model_selection import train_test_split\n",
    "from sklearn.linear_model import LinearRegression\n",
    "import matplotlib.pyplot as plt"
   ]
  },
  {
   "cell_type": "code",
   "execution_count": 2,
   "metadata": {},
   "outputs": [],
   "source": [
    "# I have public the data into a github link for all users can use this data without downloading.\n",
    "link_file = \"https://raw.githubusercontent.com/lilyhuong/Machine-learning-statistics/master/cars.csv\"\n",
    "df = pd.read_csv(link_file, index_col = 0)"
   ]
  },
  {
   "cell_type": "code",
   "execution_count": 3,
   "metadata": {},
   "outputs": [
    {
     "data": {
      "text/html": [
       "<div>\n",
       "<style scoped>\n",
       "    .dataframe tbody tr th:only-of-type {\n",
       "        vertical-align: middle;\n",
       "    }\n",
       "\n",
       "    .dataframe tbody tr th {\n",
       "        vertical-align: top;\n",
       "    }\n",
       "\n",
       "    .dataframe thead th {\n",
       "        text-align: right;\n",
       "    }\n",
       "</style>\n",
       "<table border=\"1\" class=\"dataframe\">\n",
       "  <thead>\n",
       "    <tr style=\"text-align: right;\">\n",
       "      <th></th>\n",
       "      <th>year</th>\n",
       "      <th>selling_price</th>\n",
       "      <th>km_driven</th>\n",
       "      <th>fuel</th>\n",
       "      <th>seller_type</th>\n",
       "      <th>transmission</th>\n",
       "      <th>owner</th>\n",
       "      <th>mileage</th>\n",
       "      <th>engine</th>\n",
       "      <th>max_power</th>\n",
       "      <th>seats</th>\n",
       "    </tr>\n",
       "    <tr>\n",
       "      <th>name</th>\n",
       "      <th></th>\n",
       "      <th></th>\n",
       "      <th></th>\n",
       "      <th></th>\n",
       "      <th></th>\n",
       "      <th></th>\n",
       "      <th></th>\n",
       "      <th></th>\n",
       "      <th></th>\n",
       "      <th></th>\n",
       "      <th></th>\n",
       "    </tr>\n",
       "  </thead>\n",
       "  <tbody>\n",
       "    <tr>\n",
       "      <th>Maruti Swift Dzire VDI</th>\n",
       "      <td>2014</td>\n",
       "      <td>450000</td>\n",
       "      <td>145500</td>\n",
       "      <td>Diesel</td>\n",
       "      <td>Individual</td>\n",
       "      <td>Manual</td>\n",
       "      <td>First Owner</td>\n",
       "      <td>23.40</td>\n",
       "      <td>1248.0</td>\n",
       "      <td>74.00</td>\n",
       "      <td>5.0</td>\n",
       "    </tr>\n",
       "    <tr>\n",
       "      <th>Skoda Rapid 1.5 TDI Ambition</th>\n",
       "      <td>2014</td>\n",
       "      <td>370000</td>\n",
       "      <td>120000</td>\n",
       "      <td>Diesel</td>\n",
       "      <td>Individual</td>\n",
       "      <td>Manual</td>\n",
       "      <td>Second Owner</td>\n",
       "      <td>21.14</td>\n",
       "      <td>1498.0</td>\n",
       "      <td>103.52</td>\n",
       "      <td>5.0</td>\n",
       "    </tr>\n",
       "    <tr>\n",
       "      <th>Honda City 2017-2020 EXi</th>\n",
       "      <td>2006</td>\n",
       "      <td>158000</td>\n",
       "      <td>140000</td>\n",
       "      <td>Petrol</td>\n",
       "      <td>Individual</td>\n",
       "      <td>Manual</td>\n",
       "      <td>Third Owner</td>\n",
       "      <td>17.70</td>\n",
       "      <td>1497.0</td>\n",
       "      <td>78.00</td>\n",
       "      <td>5.0</td>\n",
       "    </tr>\n",
       "    <tr>\n",
       "      <th>Hyundai i20 Sportz Diesel</th>\n",
       "      <td>2010</td>\n",
       "      <td>225000</td>\n",
       "      <td>127000</td>\n",
       "      <td>Diesel</td>\n",
       "      <td>Individual</td>\n",
       "      <td>Manual</td>\n",
       "      <td>First Owner</td>\n",
       "      <td>23.00</td>\n",
       "      <td>1396.0</td>\n",
       "      <td>90.00</td>\n",
       "      <td>5.0</td>\n",
       "    </tr>\n",
       "    <tr>\n",
       "      <th>Maruti Swift VXI BSIII</th>\n",
       "      <td>2007</td>\n",
       "      <td>130000</td>\n",
       "      <td>120000</td>\n",
       "      <td>Petrol</td>\n",
       "      <td>Individual</td>\n",
       "      <td>Manual</td>\n",
       "      <td>First Owner</td>\n",
       "      <td>16.10</td>\n",
       "      <td>1298.0</td>\n",
       "      <td>88.20</td>\n",
       "      <td>5.0</td>\n",
       "    </tr>\n",
       "    <tr>\n",
       "      <th>...</th>\n",
       "      <td>...</td>\n",
       "      <td>...</td>\n",
       "      <td>...</td>\n",
       "      <td>...</td>\n",
       "      <td>...</td>\n",
       "      <td>...</td>\n",
       "      <td>...</td>\n",
       "      <td>...</td>\n",
       "      <td>...</td>\n",
       "      <td>...</td>\n",
       "      <td>...</td>\n",
       "    </tr>\n",
       "    <tr>\n",
       "      <th>Hyundai i20 Magna</th>\n",
       "      <td>2013</td>\n",
       "      <td>320000</td>\n",
       "      <td>110000</td>\n",
       "      <td>Petrol</td>\n",
       "      <td>Individual</td>\n",
       "      <td>Manual</td>\n",
       "      <td>First Owner</td>\n",
       "      <td>18.50</td>\n",
       "      <td>1197.0</td>\n",
       "      <td>82.85</td>\n",
       "      <td>5.0</td>\n",
       "    </tr>\n",
       "    <tr>\n",
       "      <th>Hyundai Verna CRDi SX</th>\n",
       "      <td>2007</td>\n",
       "      <td>135000</td>\n",
       "      <td>119000</td>\n",
       "      <td>Diesel</td>\n",
       "      <td>Individual</td>\n",
       "      <td>Manual</td>\n",
       "      <td>Fourth &amp; Above Owner</td>\n",
       "      <td>16.80</td>\n",
       "      <td>1493.0</td>\n",
       "      <td>110.00</td>\n",
       "      <td>5.0</td>\n",
       "    </tr>\n",
       "    <tr>\n",
       "      <th>Maruti Swift Dzire ZDi</th>\n",
       "      <td>2009</td>\n",
       "      <td>382000</td>\n",
       "      <td>120000</td>\n",
       "      <td>Diesel</td>\n",
       "      <td>Individual</td>\n",
       "      <td>Manual</td>\n",
       "      <td>First Owner</td>\n",
       "      <td>19.30</td>\n",
       "      <td>1248.0</td>\n",
       "      <td>73.90</td>\n",
       "      <td>5.0</td>\n",
       "    </tr>\n",
       "    <tr>\n",
       "      <th>Tata Indigo CR4</th>\n",
       "      <td>2013</td>\n",
       "      <td>290000</td>\n",
       "      <td>25000</td>\n",
       "      <td>Diesel</td>\n",
       "      <td>Individual</td>\n",
       "      <td>Manual</td>\n",
       "      <td>First Owner</td>\n",
       "      <td>23.57</td>\n",
       "      <td>1396.0</td>\n",
       "      <td>70.00</td>\n",
       "      <td>5.0</td>\n",
       "    </tr>\n",
       "    <tr>\n",
       "      <th>Tata Indigo CR4</th>\n",
       "      <td>2013</td>\n",
       "      <td>290000</td>\n",
       "      <td>25000</td>\n",
       "      <td>Diesel</td>\n",
       "      <td>Individual</td>\n",
       "      <td>Manual</td>\n",
       "      <td>First Owner</td>\n",
       "      <td>23.57</td>\n",
       "      <td>1396.0</td>\n",
       "      <td>70.00</td>\n",
       "      <td>5.0</td>\n",
       "    </tr>\n",
       "  </tbody>\n",
       "</table>\n",
       "<p>8128 rows × 11 columns</p>\n",
       "</div>"
      ],
      "text/plain": [
       "                              year  selling_price  km_driven    fuel  \\\n",
       "name                                                                   \n",
       "Maruti Swift Dzire VDI        2014         450000     145500  Diesel   \n",
       "Skoda Rapid 1.5 TDI Ambition  2014         370000     120000  Diesel   \n",
       "Honda City 2017-2020 EXi      2006         158000     140000  Petrol   \n",
       "Hyundai i20 Sportz Diesel     2010         225000     127000  Diesel   \n",
       "Maruti Swift VXI BSIII        2007         130000     120000  Petrol   \n",
       "...                            ...            ...        ...     ...   \n",
       "Hyundai i20 Magna             2013         320000     110000  Petrol   \n",
       "Hyundai Verna CRDi SX         2007         135000     119000  Diesel   \n",
       "Maruti Swift Dzire ZDi        2009         382000     120000  Diesel   \n",
       "Tata Indigo CR4               2013         290000      25000  Diesel   \n",
       "Tata Indigo CR4               2013         290000      25000  Diesel   \n",
       "\n",
       "                             seller_type transmission                 owner  \\\n",
       "name                                                                          \n",
       "Maruti Swift Dzire VDI        Individual       Manual           First Owner   \n",
       "Skoda Rapid 1.5 TDI Ambition  Individual       Manual          Second Owner   \n",
       "Honda City 2017-2020 EXi      Individual       Manual           Third Owner   \n",
       "Hyundai i20 Sportz Diesel     Individual       Manual           First Owner   \n",
       "Maruti Swift VXI BSIII        Individual       Manual           First Owner   \n",
       "...                                  ...          ...                   ...   \n",
       "Hyundai i20 Magna             Individual       Manual           First Owner   \n",
       "Hyundai Verna CRDi SX         Individual       Manual  Fourth & Above Owner   \n",
       "Maruti Swift Dzire ZDi        Individual       Manual           First Owner   \n",
       "Tata Indigo CR4               Individual       Manual           First Owner   \n",
       "Tata Indigo CR4               Individual       Manual           First Owner   \n",
       "\n",
       "                              mileage  engine  max_power  seats  \n",
       "name                                                             \n",
       "Maruti Swift Dzire VDI          23.40  1248.0      74.00    5.0  \n",
       "Skoda Rapid 1.5 TDI Ambition    21.14  1498.0     103.52    5.0  \n",
       "Honda City 2017-2020 EXi        17.70  1497.0      78.00    5.0  \n",
       "Hyundai i20 Sportz Diesel       23.00  1396.0      90.00    5.0  \n",
       "Maruti Swift VXI BSIII          16.10  1298.0      88.20    5.0  \n",
       "...                               ...     ...        ...    ...  \n",
       "Hyundai i20 Magna               18.50  1197.0      82.85    5.0  \n",
       "Hyundai Verna CRDi SX           16.80  1493.0     110.00    5.0  \n",
       "Maruti Swift Dzire ZDi          19.30  1248.0      73.90    5.0  \n",
       "Tata Indigo CR4                 23.57  1396.0      70.00    5.0  \n",
       "Tata Indigo CR4                 23.57  1396.0      70.00    5.0  \n",
       "\n",
       "[8128 rows x 11 columns]"
      ]
     },
     "execution_count": 3,
     "metadata": {},
     "output_type": "execute_result"
    }
   ],
   "source": [
    "df"
   ]
  },
  {
   "cell_type": "code",
   "execution_count": 4,
   "metadata": {},
   "outputs": [
    {
     "data": {
      "text/plain": [
       "year               int64\n",
       "selling_price      int64\n",
       "km_driven          int64\n",
       "fuel              object\n",
       "seller_type       object\n",
       "transmission      object\n",
       "owner             object\n",
       "mileage          float64\n",
       "engine           float64\n",
       "max_power        float64\n",
       "seats            float64\n",
       "dtype: object"
      ]
     },
     "execution_count": 4,
     "metadata": {},
     "output_type": "execute_result"
    }
   ],
   "source": [
    "df.dtypes"
   ]
  },
  {
   "cell_type": "markdown",
   "metadata": {},
   "source": [
    "Firstly, we can see that in this dataframe, we 2 types of variables: integer and string. Because Python can not handle on charater variable, so we need convert this varile into numerical variable. In this exercise, we need only 3 explantory variables: fuel, year, km driven"
   ]
  },
  {
   "cell_type": "code",
   "execution_count": 5,
   "metadata": {},
   "outputs": [],
   "source": [
    "df.fuel = pd.Categorical(df.fuel)\n",
    "df['fuel_num'] = df.fuel.cat.codes"
   ]
  },
  {
   "cell_type": "code",
   "execution_count": 6,
   "metadata": {},
   "outputs": [],
   "source": [
    "y = df.selling_price    #set target variable \n",
    "X = df[[\"year\", \"fuel_num\", \"km_driven\"]] #set "
   ]
  },
  {
   "cell_type": "code",
   "execution_count": 7,
   "metadata": {},
   "outputs": [],
   "source": [
    "X_train, X_test, y_train, y_test = train_test_split(X, y, test_size=0.2,random_state = 8)"
   ]
  },
  {
   "cell_type": "code",
   "execution_count": 8,
   "metadata": {},
   "outputs": [],
   "source": [
    "X_train_val, X_val, y_train_val, y_val = train_test_split(X_train, y_train, test_size=0.2,random_state = 8)"
   ]
  },
  {
   "cell_type": "markdown",
   "metadata": {},
   "source": [
    "## 3 Getting to know the data: descriptive statistics\n",
    "\n",
    "#### 1. Compute some summary statistics for the whole dataset (and comment the outputs):\n",
    "• for numerical variables: mean, minimum, maximum, quartiles\n",
    "\n",
    "• for categorical variables: for each category: proportion of observations; mean, minimum, maximum, quartiles of the target variable (selling_price)\n",
    "\n",
    "#### 2. Create graphs to show the relationship between the target variable and the explanatory variables. Comment on these."
   ]
  },
  {
   "cell_type": "code",
   "execution_count": 9,
   "metadata": {},
   "outputs": [
    {
     "data": {
      "text/html": [
       "<div>\n",
       "<style scoped>\n",
       "    .dataframe tbody tr th:only-of-type {\n",
       "        vertical-align: middle;\n",
       "    }\n",
       "\n",
       "    .dataframe tbody tr th {\n",
       "        vertical-align: top;\n",
       "    }\n",
       "\n",
       "    .dataframe thead th {\n",
       "        text-align: right;\n",
       "    }\n",
       "</style>\n",
       "<table border=\"1\" class=\"dataframe\">\n",
       "  <thead>\n",
       "    <tr style=\"text-align: right;\">\n",
       "      <th></th>\n",
       "      <th>year</th>\n",
       "      <th>selling_price</th>\n",
       "      <th>km_driven</th>\n",
       "      <th>mileage</th>\n",
       "      <th>engine</th>\n",
       "      <th>max_power</th>\n",
       "      <th>seats</th>\n",
       "      <th>fuel_num</th>\n",
       "    </tr>\n",
       "  </thead>\n",
       "  <tbody>\n",
       "    <tr>\n",
       "      <th>count</th>\n",
       "      <td>8128.000000</td>\n",
       "      <td>8.128000e+03</td>\n",
       "      <td>8.128000e+03</td>\n",
       "      <td>8128.000000</td>\n",
       "      <td>7907.000000</td>\n",
       "      <td>7912.000000</td>\n",
       "      <td>7907.000000</td>\n",
       "      <td>8128.000000</td>\n",
       "    </tr>\n",
       "    <tr>\n",
       "      <th>mean</th>\n",
       "      <td>2013.804011</td>\n",
       "      <td>6.382718e+05</td>\n",
       "      <td>6.981951e+04</td>\n",
       "      <td>18.802005</td>\n",
       "      <td>1458.625016</td>\n",
       "      <td>91.517919</td>\n",
       "      <td>5.416719</td>\n",
       "      <td>1.891117</td>\n",
       "    </tr>\n",
       "    <tr>\n",
       "      <th>std</th>\n",
       "      <td>4.044249</td>\n",
       "      <td>8.062534e+05</td>\n",
       "      <td>5.655055e+04</td>\n",
       "      <td>5.165302</td>\n",
       "      <td>503.916303</td>\n",
       "      <td>35.822499</td>\n",
       "      <td>0.959588</td>\n",
       "      <td>1.002313</td>\n",
       "    </tr>\n",
       "    <tr>\n",
       "      <th>min</th>\n",
       "      <td>1983.000000</td>\n",
       "      <td>2.999900e+04</td>\n",
       "      <td>1.000000e+00</td>\n",
       "      <td>-1.000000</td>\n",
       "      <td>624.000000</td>\n",
       "      <td>0.000000</td>\n",
       "      <td>2.000000</td>\n",
       "      <td>0.000000</td>\n",
       "    </tr>\n",
       "    <tr>\n",
       "      <th>25%</th>\n",
       "      <td>2011.000000</td>\n",
       "      <td>2.549990e+05</td>\n",
       "      <td>3.500000e+04</td>\n",
       "      <td>16.251852</td>\n",
       "      <td>1197.000000</td>\n",
       "      <td>68.050000</td>\n",
       "      <td>5.000000</td>\n",
       "      <td>1.000000</td>\n",
       "    </tr>\n",
       "    <tr>\n",
       "      <th>50%</th>\n",
       "      <td>2015.000000</td>\n",
       "      <td>4.500000e+05</td>\n",
       "      <td>6.000000e+04</td>\n",
       "      <td>19.100000</td>\n",
       "      <td>1248.000000</td>\n",
       "      <td>82.000000</td>\n",
       "      <td>5.000000</td>\n",
       "      <td>1.000000</td>\n",
       "    </tr>\n",
       "    <tr>\n",
       "      <th>75%</th>\n",
       "      <td>2017.000000</td>\n",
       "      <td>6.750000e+05</td>\n",
       "      <td>9.800000e+04</td>\n",
       "      <td>22.070000</td>\n",
       "      <td>1582.000000</td>\n",
       "      <td>102.000000</td>\n",
       "      <td>5.000000</td>\n",
       "      <td>3.000000</td>\n",
       "    </tr>\n",
       "    <tr>\n",
       "      <th>max</th>\n",
       "      <td>2020.000000</td>\n",
       "      <td>1.000000e+07</td>\n",
       "      <td>2.360457e+06</td>\n",
       "      <td>42.000000</td>\n",
       "      <td>3604.000000</td>\n",
       "      <td>400.000000</td>\n",
       "      <td>14.000000</td>\n",
       "      <td>3.000000</td>\n",
       "    </tr>\n",
       "  </tbody>\n",
       "</table>\n",
       "</div>"
      ],
      "text/plain": [
       "              year  selling_price     km_driven      mileage       engine  \\\n",
       "count  8128.000000   8.128000e+03  8.128000e+03  8128.000000  7907.000000   \n",
       "mean   2013.804011   6.382718e+05  6.981951e+04    18.802005  1458.625016   \n",
       "std       4.044249   8.062534e+05  5.655055e+04     5.165302   503.916303   \n",
       "min    1983.000000   2.999900e+04  1.000000e+00    -1.000000   624.000000   \n",
       "25%    2011.000000   2.549990e+05  3.500000e+04    16.251852  1197.000000   \n",
       "50%    2015.000000   4.500000e+05  6.000000e+04    19.100000  1248.000000   \n",
       "75%    2017.000000   6.750000e+05  9.800000e+04    22.070000  1582.000000   \n",
       "max    2020.000000   1.000000e+07  2.360457e+06    42.000000  3604.000000   \n",
       "\n",
       "         max_power        seats     fuel_num  \n",
       "count  7912.000000  7907.000000  8128.000000  \n",
       "mean     91.517919     5.416719     1.891117  \n",
       "std      35.822499     0.959588     1.002313  \n",
       "min       0.000000     2.000000     0.000000  \n",
       "25%      68.050000     5.000000     1.000000  \n",
       "50%      82.000000     5.000000     1.000000  \n",
       "75%     102.000000     5.000000     3.000000  \n",
       "max     400.000000    14.000000     3.000000  "
      ]
     },
     "execution_count": 9,
     "metadata": {},
     "output_type": "execute_result"
    }
   ],
   "source": [
    "df.describe()"
   ]
  },
  {
   "cell_type": "code",
   "execution_count": 10,
   "metadata": {},
   "outputs": [
    {
     "data": {
      "text/html": [
       "<div>\n",
       "<style scoped>\n",
       "    .dataframe tbody tr th:only-of-type {\n",
       "        vertical-align: middle;\n",
       "    }\n",
       "\n",
       "    .dataframe tbody tr th {\n",
       "        vertical-align: top;\n",
       "    }\n",
       "\n",
       "    .dataframe thead th {\n",
       "        text-align: right;\n",
       "    }\n",
       "</style>\n",
       "<table border=\"1\" class=\"dataframe\">\n",
       "  <thead>\n",
       "    <tr style=\"text-align: right;\">\n",
       "      <th></th>\n",
       "      <th>year</th>\n",
       "      <th>selling_price</th>\n",
       "      <th>km_driven</th>\n",
       "      <th>fuel</th>\n",
       "      <th>seller_type</th>\n",
       "      <th>transmission</th>\n",
       "      <th>owner</th>\n",
       "      <th>mileage</th>\n",
       "      <th>engine</th>\n",
       "      <th>max_power</th>\n",
       "      <th>seats</th>\n",
       "      <th>fuel_num</th>\n",
       "    </tr>\n",
       "  </thead>\n",
       "  <tbody>\n",
       "    <tr>\n",
       "      <th>count</th>\n",
       "      <td>8128.000000</td>\n",
       "      <td>8.128000e+03</td>\n",
       "      <td>8.128000e+03</td>\n",
       "      <td>8128</td>\n",
       "      <td>8128</td>\n",
       "      <td>8128</td>\n",
       "      <td>8128</td>\n",
       "      <td>8128.000000</td>\n",
       "      <td>7907.000000</td>\n",
       "      <td>7912.000000</td>\n",
       "      <td>7907.000000</td>\n",
       "      <td>8128.000000</td>\n",
       "    </tr>\n",
       "    <tr>\n",
       "      <th>unique</th>\n",
       "      <td>NaN</td>\n",
       "      <td>NaN</td>\n",
       "      <td>NaN</td>\n",
       "      <td>4</td>\n",
       "      <td>3</td>\n",
       "      <td>2</td>\n",
       "      <td>5</td>\n",
       "      <td>NaN</td>\n",
       "      <td>NaN</td>\n",
       "      <td>NaN</td>\n",
       "      <td>NaN</td>\n",
       "      <td>NaN</td>\n",
       "    </tr>\n",
       "    <tr>\n",
       "      <th>top</th>\n",
       "      <td>NaN</td>\n",
       "      <td>NaN</td>\n",
       "      <td>NaN</td>\n",
       "      <td>Diesel</td>\n",
       "      <td>Individual</td>\n",
       "      <td>Manual</td>\n",
       "      <td>First Owner</td>\n",
       "      <td>NaN</td>\n",
       "      <td>NaN</td>\n",
       "      <td>NaN</td>\n",
       "      <td>NaN</td>\n",
       "      <td>NaN</td>\n",
       "    </tr>\n",
       "    <tr>\n",
       "      <th>freq</th>\n",
       "      <td>NaN</td>\n",
       "      <td>NaN</td>\n",
       "      <td>NaN</td>\n",
       "      <td>4402</td>\n",
       "      <td>6766</td>\n",
       "      <td>7078</td>\n",
       "      <td>5289</td>\n",
       "      <td>NaN</td>\n",
       "      <td>NaN</td>\n",
       "      <td>NaN</td>\n",
       "      <td>NaN</td>\n",
       "      <td>NaN</td>\n",
       "    </tr>\n",
       "    <tr>\n",
       "      <th>mean</th>\n",
       "      <td>2013.804011</td>\n",
       "      <td>6.382718e+05</td>\n",
       "      <td>6.981951e+04</td>\n",
       "      <td>NaN</td>\n",
       "      <td>NaN</td>\n",
       "      <td>NaN</td>\n",
       "      <td>NaN</td>\n",
       "      <td>18.802005</td>\n",
       "      <td>1458.625016</td>\n",
       "      <td>91.517919</td>\n",
       "      <td>5.416719</td>\n",
       "      <td>1.891117</td>\n",
       "    </tr>\n",
       "    <tr>\n",
       "      <th>std</th>\n",
       "      <td>4.044249</td>\n",
       "      <td>8.062534e+05</td>\n",
       "      <td>5.655055e+04</td>\n",
       "      <td>NaN</td>\n",
       "      <td>NaN</td>\n",
       "      <td>NaN</td>\n",
       "      <td>NaN</td>\n",
       "      <td>5.165302</td>\n",
       "      <td>503.916303</td>\n",
       "      <td>35.822499</td>\n",
       "      <td>0.959588</td>\n",
       "      <td>1.002313</td>\n",
       "    </tr>\n",
       "    <tr>\n",
       "      <th>min</th>\n",
       "      <td>1983.000000</td>\n",
       "      <td>2.999900e+04</td>\n",
       "      <td>1.000000e+00</td>\n",
       "      <td>NaN</td>\n",
       "      <td>NaN</td>\n",
       "      <td>NaN</td>\n",
       "      <td>NaN</td>\n",
       "      <td>-1.000000</td>\n",
       "      <td>624.000000</td>\n",
       "      <td>0.000000</td>\n",
       "      <td>2.000000</td>\n",
       "      <td>0.000000</td>\n",
       "    </tr>\n",
       "    <tr>\n",
       "      <th>25%</th>\n",
       "      <td>2011.000000</td>\n",
       "      <td>2.549990e+05</td>\n",
       "      <td>3.500000e+04</td>\n",
       "      <td>NaN</td>\n",
       "      <td>NaN</td>\n",
       "      <td>NaN</td>\n",
       "      <td>NaN</td>\n",
       "      <td>16.251852</td>\n",
       "      <td>1197.000000</td>\n",
       "      <td>68.050000</td>\n",
       "      <td>5.000000</td>\n",
       "      <td>1.000000</td>\n",
       "    </tr>\n",
       "    <tr>\n",
       "      <th>50%</th>\n",
       "      <td>2015.000000</td>\n",
       "      <td>4.500000e+05</td>\n",
       "      <td>6.000000e+04</td>\n",
       "      <td>NaN</td>\n",
       "      <td>NaN</td>\n",
       "      <td>NaN</td>\n",
       "      <td>NaN</td>\n",
       "      <td>19.100000</td>\n",
       "      <td>1248.000000</td>\n",
       "      <td>82.000000</td>\n",
       "      <td>5.000000</td>\n",
       "      <td>1.000000</td>\n",
       "    </tr>\n",
       "    <tr>\n",
       "      <th>75%</th>\n",
       "      <td>2017.000000</td>\n",
       "      <td>6.750000e+05</td>\n",
       "      <td>9.800000e+04</td>\n",
       "      <td>NaN</td>\n",
       "      <td>NaN</td>\n",
       "      <td>NaN</td>\n",
       "      <td>NaN</td>\n",
       "      <td>22.070000</td>\n",
       "      <td>1582.000000</td>\n",
       "      <td>102.000000</td>\n",
       "      <td>5.000000</td>\n",
       "      <td>3.000000</td>\n",
       "    </tr>\n",
       "    <tr>\n",
       "      <th>max</th>\n",
       "      <td>2020.000000</td>\n",
       "      <td>1.000000e+07</td>\n",
       "      <td>2.360457e+06</td>\n",
       "      <td>NaN</td>\n",
       "      <td>NaN</td>\n",
       "      <td>NaN</td>\n",
       "      <td>NaN</td>\n",
       "      <td>42.000000</td>\n",
       "      <td>3604.000000</td>\n",
       "      <td>400.000000</td>\n",
       "      <td>14.000000</td>\n",
       "      <td>3.000000</td>\n",
       "    </tr>\n",
       "  </tbody>\n",
       "</table>\n",
       "</div>"
      ],
      "text/plain": [
       "               year  selling_price     km_driven    fuel seller_type  \\\n",
       "count   8128.000000   8.128000e+03  8.128000e+03    8128        8128   \n",
       "unique          NaN            NaN           NaN       4           3   \n",
       "top             NaN            NaN           NaN  Diesel  Individual   \n",
       "freq            NaN            NaN           NaN    4402        6766   \n",
       "mean    2013.804011   6.382718e+05  6.981951e+04     NaN         NaN   \n",
       "std        4.044249   8.062534e+05  5.655055e+04     NaN         NaN   \n",
       "min     1983.000000   2.999900e+04  1.000000e+00     NaN         NaN   \n",
       "25%     2011.000000   2.549990e+05  3.500000e+04     NaN         NaN   \n",
       "50%     2015.000000   4.500000e+05  6.000000e+04     NaN         NaN   \n",
       "75%     2017.000000   6.750000e+05  9.800000e+04     NaN         NaN   \n",
       "max     2020.000000   1.000000e+07  2.360457e+06     NaN         NaN   \n",
       "\n",
       "       transmission        owner      mileage       engine    max_power  \\\n",
       "count          8128         8128  8128.000000  7907.000000  7912.000000   \n",
       "unique            2            5          NaN          NaN          NaN   \n",
       "top          Manual  First Owner          NaN          NaN          NaN   \n",
       "freq           7078         5289          NaN          NaN          NaN   \n",
       "mean            NaN          NaN    18.802005  1458.625016    91.517919   \n",
       "std             NaN          NaN     5.165302   503.916303    35.822499   \n",
       "min             NaN          NaN    -1.000000   624.000000     0.000000   \n",
       "25%             NaN          NaN    16.251852  1197.000000    68.050000   \n",
       "50%             NaN          NaN    19.100000  1248.000000    82.000000   \n",
       "75%             NaN          NaN    22.070000  1582.000000   102.000000   \n",
       "max             NaN          NaN    42.000000  3604.000000   400.000000   \n",
       "\n",
       "              seats     fuel_num  \n",
       "count   7907.000000  8128.000000  \n",
       "unique          NaN          NaN  \n",
       "top             NaN          NaN  \n",
       "freq            NaN          NaN  \n",
       "mean       5.416719     1.891117  \n",
       "std        0.959588     1.002313  \n",
       "min        2.000000     0.000000  \n",
       "25%        5.000000     1.000000  \n",
       "50%        5.000000     1.000000  \n",
       "75%        5.000000     3.000000  \n",
       "max       14.000000     3.000000  "
      ]
     },
     "execution_count": 10,
     "metadata": {},
     "output_type": "execute_result"
    }
   ],
   "source": [
    "df.describe(include = \"all\")"
   ]
  },
  {
   "cell_type": "code",
   "execution_count": 11,
   "metadata": {},
   "outputs": [
    {
     "data": {
      "text/plain": [
       "[<matplotlib.lines.Line2D at 0x7fa37220baf0>]"
      ]
     },
     "execution_count": 11,
     "metadata": {},
     "output_type": "execute_result"
    },
    {
     "data": {
      "image/png": "[encoded data removed]",
      "text/plain": [
       "<Figure size 432x288 with 1 Axes>"
      ]
     },
     "metadata": {
      "needs_background": "light"
     },
     "output_type": "display_data"
    }
   ],
   "source": [
    "X = df.km_driven\n",
    "#create basic scatterplot\n",
    "plt.plot(X, y, 'o')\n",
    "\n",
    "#obtain m (slope) and b(intercept) of linear regression line\n",
    "m, b = np.polyfit(X, y, 1)\n",
    "\n",
    "#add linear regression line to scatterplot \n",
    "plt.plot(X, m * X + b, color = \"red\")"
   ]
  },
  {
   "cell_type": "code",
   "execution_count": 12,
   "metadata": {},
   "outputs": [
    {
     "data": {
      "text/plain": [
       "<AxesSubplot:xlabel='km_driven', ylabel='selling_price'>"
      ]
     },
     "execution_count": 12,
     "metadata": {},
     "output_type": "execute_result"
    },
    {
     "data": {
      "image/png": "[encoded data removed]",
      "text/plain": [
       "<Figure size 432x288 with 1 Axes>"
      ]
     },
     "metadata": {
      "needs_background": "light"
     },
     "output_type": "display_data"
    }
   ],
   "source": [
    "df.plot(kind = 'scatter', x = 'km_driven', y = 'selling_price')"
   ]
  },
  {
   "cell_type": "code",
   "execution_count": 13,
   "metadata": {},
   "outputs": [
    {
     "data": {
      "text/plain": [
       "[<matplotlib.lines.Line2D at 0x7fa341064d90>]"
      ]
     },
     "execution_count": 13,
     "metadata": {},
     "output_type": "execute_result"
    },
    {
     "data": {
      "image/png": "[encoded data removed]",
      "text/plain": [
       "<Figure size 432x288 with 1 Axes>"
      ]
     },
     "metadata": {
      "needs_background": "light"
     },
     "output_type": "display_data"
    }
   ],
   "source": [
    "X = df.year\n",
    "#create basic scatterplot\n",
    "plt.plot(X, y, 'o')\n",
    "\n",
    "#obtain m (slope) and b(intercept) of linear regression line\n",
    "m, b = np.polyfit(X, y, 1)\n",
    "\n",
    "#add linear regression line to scatterplot \n",
    "plt.plot(X, m * X + b, color = \"red\")"
   ]
  },
  {
   "cell_type": "code",
   "execution_count": 14,
   "metadata": {},
   "outputs": [
    {
     "data": {
      "text/plain": [
       "[<matplotlib.lines.Line2D at 0x7fa361b04e50>]"
      ]
     },
     "execution_count": 14,
     "metadata": {},
     "output_type": "execute_result"
    },
    {
     "data": {
      "image/png": "[encoded data removed]",
      "text/plain": [
       "<Figure size 432x288 with 1 Axes>"
      ]
     },
     "metadata": {
      "needs_background": "light"
     },
     "output_type": "display_data"
    }
   ],
   "source": [
    "X = df.fuel\n",
    "#create basic scatterplot\n",
    "plt.plot(X, y, 'o')"
   ]
  },
  {
   "cell_type": "markdown",
   "metadata": {},
   "source": [
    "## 4.  Estimations\n",
    "You will train two different models: a random forest and a SVM. You will understand in more\n",
    "details how both algorithm work in the subsequent lessons. For now, all you need to understand\n",
    "is that you can vary some hyperparameters for both models.\n",
    "\n",
    " Among the different values that you will try for these hyperparameters, you need to select which provides the best fit, on the\n",
    "validation set."
   ]
  },
  {
   "cell_type": "markdown",
   "metadata": {},
   "source": [
    "Using a random forest algorithm, predict the selling price of the car in the training set.\n",
    "\n",
    "Use the following variables: year, fuel, km_driven.\n",
    "\n",
    "If you use R, you can use the randomForest function from {randomForest}. If you use\n",
    "Python, you can use the RandomForestRegressor function from sklearn.ensemble. You\n",
    "will use the following hyperparameters for the algorithm:"
   ]
  },
  {
   "cell_type": "code",
   "execution_count": 15,
   "metadata": {},
   "outputs": [],
   "source": [
    "from sklearn.ensemble import RandomForestClassifier\n",
    "from sklearn.datasets import make_regression"
   ]
  },
  {
   "cell_type": "code",
   "execution_count": 16,
   "metadata": {},
   "outputs": [
    {
     "data": {
      "text/html": [
       "<div>\n",
       "<style scoped>\n",
       "    .dataframe tbody tr th:only-of-type {\n",
       "        vertical-align: middle;\n",
       "    }\n",
       "\n",
       "    .dataframe tbody tr th {\n",
       "        vertical-align: top;\n",
       "    }\n",
       "\n",
       "    .dataframe thead th {\n",
       "        text-align: right;\n",
       "    }\n",
       "</style>\n",
       "<table border=\"1\" class=\"dataframe\">\n",
       "  <thead>\n",
       "    <tr style=\"text-align: right;\">\n",
       "      <th></th>\n",
       "      <th>year</th>\n",
       "      <th>selling_price</th>\n",
       "      <th>km_driven</th>\n",
       "      <th>fuel</th>\n",
       "      <th>seller_type</th>\n",
       "      <th>transmission</th>\n",
       "      <th>owner</th>\n",
       "      <th>mileage</th>\n",
       "      <th>engine</th>\n",
       "      <th>max_power</th>\n",
       "      <th>seats</th>\n",
       "      <th>fuel_num</th>\n",
       "    </tr>\n",
       "    <tr>\n",
       "      <th>name</th>\n",
       "      <th></th>\n",
       "      <th></th>\n",
       "      <th></th>\n",
       "      <th></th>\n",
       "      <th></th>\n",
       "      <th></th>\n",
       "      <th></th>\n",
       "      <th></th>\n",
       "      <th></th>\n",
       "      <th></th>\n",
       "      <th></th>\n",
       "      <th></th>\n",
       "    </tr>\n",
       "  </thead>\n",
       "  <tbody>\n",
       "    <tr>\n",
       "      <th>Maruti Swift Dzire VDI</th>\n",
       "      <td>2014</td>\n",
       "      <td>450000</td>\n",
       "      <td>145500</td>\n",
       "      <td>Diesel</td>\n",
       "      <td>Individual</td>\n",
       "      <td>Manual</td>\n",
       "      <td>First Owner</td>\n",
       "      <td>23.40</td>\n",
       "      <td>1248.0</td>\n",
       "      <td>74.00</td>\n",
       "      <td>5.0</td>\n",
       "      <td>1</td>\n",
       "    </tr>\n",
       "    <tr>\n",
       "      <th>Skoda Rapid 1.5 TDI Ambition</th>\n",
       "      <td>2014</td>\n",
       "      <td>370000</td>\n",
       "      <td>120000</td>\n",
       "      <td>Diesel</td>\n",
       "      <td>Individual</td>\n",
       "      <td>Manual</td>\n",
       "      <td>Second Owner</td>\n",
       "      <td>21.14</td>\n",
       "      <td>1498.0</td>\n",
       "      <td>103.52</td>\n",
       "      <td>5.0</td>\n",
       "      <td>1</td>\n",
       "    </tr>\n",
       "    <tr>\n",
       "      <th>Honda City 2017-2020 EXi</th>\n",
       "      <td>2006</td>\n",
       "      <td>158000</td>\n",
       "      <td>140000</td>\n",
       "      <td>Petrol</td>\n",
       "      <td>Individual</td>\n",
       "      <td>Manual</td>\n",
       "      <td>Third Owner</td>\n",
       "      <td>17.70</td>\n",
       "      <td>1497.0</td>\n",
       "      <td>78.00</td>\n",
       "      <td>5.0</td>\n",
       "      <td>3</td>\n",
       "    </tr>\n",
       "    <tr>\n",
       "      <th>Hyundai i20 Sportz Diesel</th>\n",
       "      <td>2010</td>\n",
       "      <td>225000</td>\n",
       "      <td>127000</td>\n",
       "      <td>Diesel</td>\n",
       "      <td>Individual</td>\n",
       "      <td>Manual</td>\n",
       "      <td>First Owner</td>\n",
       "      <td>23.00</td>\n",
       "      <td>1396.0</td>\n",
       "      <td>90.00</td>\n",
       "      <td>5.0</td>\n",
       "      <td>1</td>\n",
       "    </tr>\n",
       "    <tr>\n",
       "      <th>Maruti Swift VXI BSIII</th>\n",
       "      <td>2007</td>\n",
       "      <td>130000</td>\n",
       "      <td>120000</td>\n",
       "      <td>Petrol</td>\n",
       "      <td>Individual</td>\n",
       "      <td>Manual</td>\n",
       "      <td>First Owner</td>\n",
       "      <td>16.10</td>\n",
       "      <td>1298.0</td>\n",
       "      <td>88.20</td>\n",
       "      <td>5.0</td>\n",
       "      <td>3</td>\n",
       "    </tr>\n",
       "    <tr>\n",
       "      <th>...</th>\n",
       "      <td>...</td>\n",
       "      <td>...</td>\n",
       "      <td>...</td>\n",
       "      <td>...</td>\n",
       "      <td>...</td>\n",
       "      <td>...</td>\n",
       "      <td>...</td>\n",
       "      <td>...</td>\n",
       "      <td>...</td>\n",
       "      <td>...</td>\n",
       "      <td>...</td>\n",
       "      <td>...</td>\n",
       "    </tr>\n",
       "    <tr>\n",
       "      <th>Hyundai i20 Magna</th>\n",
       "      <td>2013</td>\n",
       "      <td>320000</td>\n",
       "      <td>110000</td>\n",
       "      <td>Petrol</td>\n",
       "      <td>Individual</td>\n",
       "      <td>Manual</td>\n",
       "      <td>First Owner</td>\n",
       "      <td>18.50</td>\n",
       "      <td>1197.0</td>\n",
       "      <td>82.85</td>\n",
       "      <td>5.0</td>\n",
       "      <td>3</td>\n",
       "    </tr>\n",
       "    <tr>\n",
       "      <th>Hyundai Verna CRDi SX</th>\n",
       "      <td>2007</td>\n",
       "      <td>135000</td>\n",
       "      <td>119000</td>\n",
       "      <td>Diesel</td>\n",
       "      <td>Individual</td>\n",
       "      <td>Manual</td>\n",
       "      <td>Fourth &amp; Above Owner</td>\n",
       "      <td>16.80</td>\n",
       "      <td>1493.0</td>\n",
       "      <td>110.00</td>\n",
       "      <td>5.0</td>\n",
       "      <td>1</td>\n",
       "    </tr>\n",
       "    <tr>\n",
       "      <th>Maruti Swift Dzire ZDi</th>\n",
       "      <td>2009</td>\n",
       "      <td>382000</td>\n",
       "      <td>120000</td>\n",
       "      <td>Diesel</td>\n",
       "      <td>Individual</td>\n",
       "      <td>Manual</td>\n",
       "      <td>First Owner</td>\n",
       "      <td>19.30</td>\n",
       "      <td>1248.0</td>\n",
       "      <td>73.90</td>\n",
       "      <td>5.0</td>\n",
       "      <td>1</td>\n",
       "    </tr>\n",
       "    <tr>\n",
       "      <th>Tata Indigo CR4</th>\n",
       "      <td>2013</td>\n",
       "      <td>290000</td>\n",
       "      <td>25000</td>\n",
       "      <td>Diesel</td>\n",
       "      <td>Individual</td>\n",
       "      <td>Manual</td>\n",
       "      <td>First Owner</td>\n",
       "      <td>23.57</td>\n",
       "      <td>1396.0</td>\n",
       "      <td>70.00</td>\n",
       "      <td>5.0</td>\n",
       "      <td>1</td>\n",
       "    </tr>\n",
       "    <tr>\n",
       "      <th>Tata Indigo CR4</th>\n",
       "      <td>2013</td>\n",
       "      <td>290000</td>\n",
       "      <td>25000</td>\n",
       "      <td>Diesel</td>\n",
       "      <td>Individual</td>\n",
       "      <td>Manual</td>\n",
       "      <td>First Owner</td>\n",
       "      <td>23.57</td>\n",
       "      <td>1396.0</td>\n",
       "      <td>70.00</td>\n",
       "      <td>5.0</td>\n",
       "      <td>1</td>\n",
       "    </tr>\n",
       "  </tbody>\n",
       "</table>\n",
       "<p>8128 rows × 12 columns</p>\n",
       "</div>"
      ],
      "text/plain": [
       "                              year  selling_price  km_driven    fuel  \\\n",
       "name                                                                   \n",
       "Maruti Swift Dzire VDI        2014         450000     145500  Diesel   \n",
       "Skoda Rapid 1.5 TDI Ambition  2014         370000     120000  Diesel   \n",
       "Honda City 2017-2020 EXi      2006         158000     140000  Petrol   \n",
       "Hyundai i20 Sportz Diesel     2010         225000     127000  Diesel   \n",
       "Maruti Swift VXI BSIII        2007         130000     120000  Petrol   \n",
       "...                            ...            ...        ...     ...   \n",
       "Hyundai i20 Magna             2013         320000     110000  Petrol   \n",
       "Hyundai Verna CRDi SX         2007         135000     119000  Diesel   \n",
       "Maruti Swift Dzire ZDi        2009         382000     120000  Diesel   \n",
       "Tata Indigo CR4               2013         290000      25000  Diesel   \n",
       "Tata Indigo CR4               2013         290000      25000  Diesel   \n",
       "\n",
       "                             seller_type transmission                 owner  \\\n",
       "name                                                                          \n",
       "Maruti Swift Dzire VDI        Individual       Manual           First Owner   \n",
       "Skoda Rapid 1.5 TDI Ambition  Individual       Manual          Second Owner   \n",
       "Honda City 2017-2020 EXi      Individual       Manual           Third Owner   \n",
       "Hyundai i20 Sportz Diesel     Individual       Manual           First Owner   \n",
       "Maruti Swift VXI BSIII        Individual       Manual           First Owner   \n",
       "...                                  ...          ...                   ...   \n",
       "Hyundai i20 Magna             Individual       Manual           First Owner   \n",
       "Hyundai Verna CRDi SX         Individual       Manual  Fourth & Above Owner   \n",
       "Maruti Swift Dzire ZDi        Individual       Manual           First Owner   \n",
       "Tata Indigo CR4               Individual       Manual           First Owner   \n",
       "Tata Indigo CR4               Individual       Manual           First Owner   \n",
       "\n",
       "                              mileage  engine  max_power  seats  fuel_num  \n",
       "name                                                                       \n",
       "Maruti Swift Dzire VDI          23.40  1248.0      74.00    5.0         1  \n",
       "Skoda Rapid 1.5 TDI Ambition    21.14  1498.0     103.52    5.0         1  \n",
       "Honda City 2017-2020 EXi        17.70  1497.0      78.00    5.0         3  \n",
       "Hyundai i20 Sportz Diesel       23.00  1396.0      90.00    5.0         1  \n",
       "Maruti Swift VXI BSIII          16.10  1298.0      88.20    5.0         3  \n",
       "...                               ...     ...        ...    ...       ...  \n",
       "Hyundai i20 Magna               18.50  1197.0      82.85    5.0         3  \n",
       "Hyundai Verna CRDi SX           16.80  1493.0     110.00    5.0         1  \n",
       "Maruti Swift Dzire ZDi          19.30  1248.0      73.90    5.0         1  \n",
       "Tata Indigo CR4                 23.57  1396.0      70.00    5.0         1  \n",
       "Tata Indigo CR4                 23.57  1396.0      70.00    5.0         1  \n",
       "\n",
       "[8128 rows x 12 columns]"
      ]
     },
     "execution_count": 16,
     "metadata": {},
     "output_type": "execute_result"
    }
   ],
   "source": [
    "df"
   ]
  },
  {
   "cell_type": "code",
   "execution_count": 17,
   "metadata": {},
   "outputs": [],
   "source": [
    "from sklearn.ensemble import RandomForestRegressor\n",
    "from sklearn.datasets import make_regression"
   ]
  },
  {
   "cell_type": "code",
   "execution_count": 18,
   "metadata": {},
   "outputs": [
    {
     "data": {
      "text/plain": [
       "RandomForestRegressor(max_features=3, min_samples_leaf=10, n_estimators=20)"
      ]
     },
     "execution_count": 18,
     "metadata": {},
     "output_type": "execute_result"
    }
   ],
   "source": [
    "#creat random forest classifier object\n",
    "regr = RandomForestRegressor(max_features = 3,  n_estimators = 20, min_samples_leaf = 10)\n",
    "#train model\n",
    "regr.fit(X_train_val, y_train_val)"
   ]
  },
  {
   "cell_type": "code",
   "execution_count": 19,
   "metadata": {},
   "outputs": [
    {
     "data": {
      "text/plain": [
       "array([615843.4954538 , 768775.72397144, 577055.11142656, ...,\n",
       "       326822.84852787, 395399.57399919, 650839.23571184])"
      ]
     },
     "execution_count": 19,
     "metadata": {},
     "output_type": "execute_result"
    }
   ],
   "source": [
    "prediction_random = regr.predict(X_val)\n",
    "prediction_random"
   ]
  },
  {
   "cell_type": "code",
   "execution_count": 20,
   "metadata": {},
   "outputs": [],
   "source": [
    "import seaborn as sns"
   ]
  },
  {
   "cell_type": "code",
   "execution_count": 21,
   "metadata": {},
   "outputs": [
    {
     "name": "stderr",
     "output_type": "stream",
     "text": [
      "/opt/anaconda3/lib/python3.9/site-packages/seaborn/distributions.py:2619: FutureWarning: `distplot` is a deprecated function and will be removed in a future version. Please adapt your code to use either `displot` (a figure-level function with similar flexibility) or `histplot` (an axes-level function for histograms).\n",
      "  warnings.warn(msg, FutureWarning)\n"
     ]
    },
    {
     "data": {
      "text/plain": [
       "<AxesSubplot:xlabel='selling_price', ylabel='Density'>"
      ]
     },
     "execution_count": 21,
     "metadata": {},
     "output_type": "execute_result"
    },
    {
     "data": {
      "image/png": "[encoded data removed]",
      "text/plain": [
       "<Figure size 432x288 with 1 Axes>"
      ]
     },
     "metadata": {
      "needs_background": "light"
     },
     "output_type": "display_data"
    }
   ],
   "source": [
    "sns.distplot(y_val - prediction_random)"
   ]
  },
  {
   "cell_type": "markdown",
   "metadata": {},
   "source": [
    "### 2. Compute the mean squared error both for the training and the validation datasets. Compare them with each other."
   ]
  },
  {
   "cell_type": "code",
   "execution_count": 22,
   "metadata": {},
   "outputs": [],
   "source": [
    "from sklearn.metrics import mean_squared_error"
   ]
  },
  {
   "cell_type": "code",
   "execution_count": 23,
   "metadata": {},
   "outputs": [
    {
     "name": "stdout",
     "output_type": "stream",
     "text": [
      "218555596139.7168\n"
     ]
    }
   ],
   "source": [
    "#for train data set\n",
    "prediction_random1 = regr.predict(X_train_val)\n",
    "mse_train = mean_squared_error(y_train_val, prediction_random1)\n",
    "print(mse_train)"
   ]
  },
  {
   "cell_type": "code",
   "execution_count": 24,
   "metadata": {},
   "outputs": [
    {
     "name": "stdout",
     "output_type": "stream",
     "text": [
      "245413021365.1642\n"
     ]
    }
   ],
   "source": [
    "mse_val = mean_squared_error(y_val, prediction_random )\n",
    "print(mse_val)"
   ]
  },
  {
   "cell_type": "markdown",
   "metadata": {},
   "source": [
    "In 2 MSE, they are bad with high MSE"
   ]
  },
  {
   "cell_type": "markdown",
   "metadata": {},
   "source": [
    "### 3. Now, using a loop, make the minimum size of terminal nodes vary as follows: 10, 20,30, . . . , 100. At each iteration, compute the mean squared error (and store it) for both samples."
   ]
  },
  {
   "cell_type": "code",
   "execution_count": 25,
   "metadata": {},
   "outputs": [],
   "source": [
    "def mse_compute(Xval, yval):\n",
    "    global list_MSE\n",
    "    list_MSE = []\n",
    "    for i in range(10,101, 10):\n",
    "        #create a model \n",
    "        regr = RandomForestRegressor(max_features = 3,  n_estimators = 20, min_samples_leaf = i)\n",
    "        #train model\n",
    "        regr.fit(X_train_val, y_train_val)\n",
    "        #predict value for valid set\n",
    "        prediction_random = regr.predict(Xval)\n",
    "        #calculate MSE\n",
    "        mse = mean_squared_error(yval, prediction_random )\n",
    "        list_MSE.append(mse)\n",
    "        print(\"With {} of terminal node, the mean squared error is {}\".format(i, mse))\n",
    "    "
   ]
  },
  {
   "cell_type": "code",
   "execution_count": 26,
   "metadata": {},
   "outputs": [
    {
     "name": "stdout",
     "output_type": "stream",
     "text": [
      "With 10 of terminal node, the mean squared error is 242117635880.875\n",
      "With 20 of terminal node, the mean squared error is 263520190048.26605\n",
      "With 30 of terminal node, the mean squared error is 280387596579.3468\n",
      "With 40 of terminal node, the mean squared error is 299215442659.8827\n",
      "With 50 of terminal node, the mean squared error is 300928677800.0398\n",
      "With 60 of terminal node, the mean squared error is 310540161938.2374\n",
      "With 70 of terminal node, the mean squared error is 318063372617.1694\n",
      "With 80 of terminal node, the mean squared error is 318527699896.21277\n",
      "With 90 of terminal node, the mean squared error is 326433381385.9895\n",
      "With 100 of terminal node, the mean squared error is 332903249871.4896\n"
     ]
    }
   ],
   "source": [
    "mse_compute(X_val, y_val)\n",
    "list_MSE_val = list_MSE"
   ]
  },
  {
   "cell_type": "code",
   "execution_count": 27,
   "metadata": {},
   "outputs": [
    {
     "name": "stdout",
     "output_type": "stream",
     "text": [
      "With 10 of terminal node, the mean squared error is 221587424576.12546\n",
      "With 20 of terminal node, the mean squared error is 242977609695.83218\n",
      "With 30 of terminal node, the mean squared error is 284755462539.1069\n",
      "With 40 of terminal node, the mean squared error is 318986489225.0876\n",
      "With 50 of terminal node, the mean squared error is 343375698254.1721\n",
      "With 60 of terminal node, the mean squared error is 358566632514.57825\n",
      "With 70 of terminal node, the mean squared error is 363055993985.9605\n",
      "With 80 of terminal node, the mean squared error is 374353183054.77094\n",
      "With 90 of terminal node, the mean squared error is 395996255453.0839\n",
      "With 100 of terminal node, the mean squared error is 391905748478.1017\n"
     ]
    }
   ],
   "source": [
    "mse_compute(X_train_val, y_train_val)\n",
    "list_MSE_train = list_MSE"
   ]
  },
  {
   "cell_type": "markdown",
   "metadata": {},
   "source": [
    "### 4. On a graph, plot the mean squared error as a function of the node size, for both samples (one curve for each sample). Comment."
   ]
  },
  {
   "cell_type": "code",
   "execution_count": 28,
   "metadata": {},
   "outputs": [],
   "source": [
    "from scipy.interpolate import make_interp_spline\n",
    "import matplotlib.pyplot as plt"
   ]
  },
  {
   "cell_type": "code",
   "execution_count": 29,
   "metadata": {},
   "outputs": [],
   "source": [
    "def plot_mse(list_mse):\n",
    "    x = np.array(list(range(10, 101, 10)))\n",
    "    y = np.array(list_mse)\n",
    "    X_Y_Spline = make_interp_spline(x, y)\n",
    "    # Returns evenly spaced numbers\n",
    "    # over a specified interval.\n",
    "    X_ = np.linspace(x.min(), x.max())\n",
    "    Y_ = X_Y_Spline(X_)\n",
    " \n",
    "    # Plotting the Graph\n",
    "    plt.plot(X_, Y_)\n",
    "    plt.xlabel(\"The node size\")\n",
    "    plt.ylabel(\"The mean squared error\")\n",
    "    plt.show()\n"
   ]
  },
  {
   "cell_type": "code",
   "execution_count": 30,
   "metadata": {},
   "outputs": [
    {
     "data": {
      "image/png": "[encoded data removed]",
      "text/plain": [
       "<Figure size 432x288 with 1 Axes>"
      ]
     },
     "metadata": {
      "needs_background": "light"
     },
     "output_type": "display_data"
    }
   ],
   "source": [
    "plot_mse(list_MSE_train)"
   ]
  },
  {
   "cell_type": "code",
   "execution_count": 31,
   "metadata": {},
   "outputs": [
    {
     "data": {
      "image/png": "[encoded data removed]",
      "text/plain": [
       "<Figure size 432x288 with 1 Axes>"
      ]
     },
     "metadata": {
      "needs_background": "light"
     },
     "output_type": "display_data"
    }
   ],
   "source": [
    "plot_mse(list_MSE_val)"
   ]
  },
  {
   "cell_type": "markdown",
   "metadata": {},
   "source": [
    "### 5. What are the values for your hyperparameters (the number of trees, the number of variables randomly sampled as candidates at each split, and the minimum size of terminal nodes) that provide the best fit with regard to the MSE?"
   ]
  },
  {
   "cell_type": "code",
   "execution_count": 32,
   "metadata": {},
   "outputs": [],
   "source": [
    "#In this question, we can see the difference between MSE from training set and validation set, MRS from valid set is higher than \n",
    "#the train set. so this is overfitting. I will reduce the number of max_features and min_samples_leaf"
   ]
  },
  {
   "cell_type": "code",
   "execution_count": 33,
   "metadata": {},
   "outputs": [
    {
     "name": "stderr",
     "output_type": "stream",
     "text": [
      "/var/folders/q2/tks8t2v53c95y3jqch98mqrc0000gn/T/ipykernel_27043/3143359534.py:10: FutureWarning: The frame.append method is deprecated and will be removed from pandas in a future version. Use pandas.concat instead.\n",
      "  df = df.append(new_row, ignore_index=True)\n",
      "/var/folders/q2/tks8t2v53c95y3jqch98mqrc0000gn/T/ipykernel_27043/3143359534.py:10: FutureWarning: The frame.append method is deprecated and will be removed from pandas in a future version. Use pandas.concat instead.\n",
      "  df = df.append(new_row, ignore_index=True)\n",
      "/var/folders/q2/tks8t2v53c95y3jqch98mqrc0000gn/T/ipykernel_27043/3143359534.py:10: FutureWarning: The frame.append method is deprecated and will be removed from pandas in a future version. Use pandas.concat instead.\n",
      "  df = df.append(new_row, ignore_index=True)\n",
      "/var/folders/q2/tks8t2v53c95y3jqch98mqrc0000gn/T/ipykernel_27043/3143359534.py:10: FutureWarning: The frame.append method is deprecated and will be removed from pandas in a future version. Use pandas.concat instead.\n",
      "  df = df.append(new_row, ignore_index=True)\n",
      "/var/folders/q2/tks8t2v53c95y3jqch98mqrc0000gn/T/ipykernel_27043/3143359534.py:10: FutureWarning: The frame.append method is deprecated and will be removed from pandas in a future version. Use pandas.concat instead.\n",
      "  df = df.append(new_row, ignore_index=True)\n",
      "/var/folders/q2/tks8t2v53c95y3jqch98mqrc0000gn/T/ipykernel_27043/3143359534.py:10: FutureWarning: The frame.append method is deprecated and will be removed from pandas in a future version. Use pandas.concat instead.\n",
      "  df = df.append(new_row, ignore_index=True)\n",
      "/var/folders/q2/tks8t2v53c95y3jqch98mqrc0000gn/T/ipykernel_27043/3143359534.py:10: FutureWarning: The frame.append method is deprecated and will be removed from pandas in a future version. Use pandas.concat instead.\n",
      "  df = df.append(new_row, ignore_index=True)\n",
      "/var/folders/q2/tks8t2v53c95y3jqch98mqrc0000gn/T/ipykernel_27043/3143359534.py:10: FutureWarning: The frame.append method is deprecated and will be removed from pandas in a future version. Use pandas.concat instead.\n",
      "  df = df.append(new_row, ignore_index=True)\n",
      "/var/folders/q2/tks8t2v53c95y3jqch98mqrc0000gn/T/ipykernel_27043/3143359534.py:10: FutureWarning: The frame.append method is deprecated and will be removed from pandas in a future version. Use pandas.concat instead.\n",
      "  df = df.append(new_row, ignore_index=True)\n",
      "/var/folders/q2/tks8t2v53c95y3jqch98mqrc0000gn/T/ipykernel_27043/3143359534.py:10: FutureWarning: The frame.append method is deprecated and will be removed from pandas in a future version. Use pandas.concat instead.\n",
      "  df = df.append(new_row, ignore_index=True)\n",
      "/var/folders/q2/tks8t2v53c95y3jqch98mqrc0000gn/T/ipykernel_27043/3143359534.py:10: FutureWarning: The frame.append method is deprecated and will be removed from pandas in a future version. Use pandas.concat instead.\n",
      "  df = df.append(new_row, ignore_index=True)\n",
      "/var/folders/q2/tks8t2v53c95y3jqch98mqrc0000gn/T/ipykernel_27043/3143359534.py:10: FutureWarning: The frame.append method is deprecated and will be removed from pandas in a future version. Use pandas.concat instead.\n",
      "  df = df.append(new_row, ignore_index=True)\n",
      "/var/folders/q2/tks8t2v53c95y3jqch98mqrc0000gn/T/ipykernel_27043/3143359534.py:10: FutureWarning: The frame.append method is deprecated and will be removed from pandas in a future version. Use pandas.concat instead.\n",
      "  df = df.append(new_row, ignore_index=True)\n",
      "/var/folders/q2/tks8t2v53c95y3jqch98mqrc0000gn/T/ipykernel_27043/3143359534.py:10: FutureWarning: The frame.append method is deprecated and will be removed from pandas in a future version. Use pandas.concat instead.\n",
      "  df = df.append(new_row, ignore_index=True)\n",
      "/var/folders/q2/tks8t2v53c95y3jqch98mqrc0000gn/T/ipykernel_27043/3143359534.py:10: FutureWarning: The frame.append method is deprecated and will be removed from pandas in a future version. Use pandas.concat instead.\n",
      "  df = df.append(new_row, ignore_index=True)\n",
      "/var/folders/q2/tks8t2v53c95y3jqch98mqrc0000gn/T/ipykernel_27043/3143359534.py:10: FutureWarning: The frame.append method is deprecated and will be removed from pandas in a future version. Use pandas.concat instead.\n",
      "  df = df.append(new_row, ignore_index=True)\n",
      "/var/folders/q2/tks8t2v53c95y3jqch98mqrc0000gn/T/ipykernel_27043/3143359534.py:10: FutureWarning: The frame.append method is deprecated and will be removed from pandas in a future version. Use pandas.concat instead.\n",
      "  df = df.append(new_row, ignore_index=True)\n",
      "/var/folders/q2/tks8t2v53c95y3jqch98mqrc0000gn/T/ipykernel_27043/3143359534.py:10: FutureWarning: The frame.append method is deprecated and will be removed from pandas in a future version. Use pandas.concat instead.\n",
      "  df = df.append(new_row, ignore_index=True)\n",
      "/var/folders/q2/tks8t2v53c95y3jqch98mqrc0000gn/T/ipykernel_27043/3143359534.py:10: FutureWarning: The frame.append method is deprecated and will be removed from pandas in a future version. Use pandas.concat instead.\n",
      "  df = df.append(new_row, ignore_index=True)\n",
      "/var/folders/q2/tks8t2v53c95y3jqch98mqrc0000gn/T/ipykernel_27043/3143359534.py:10: FutureWarning: The frame.append method is deprecated and will be removed from pandas in a future version. Use pandas.concat instead.\n",
      "  df = df.append(new_row, ignore_index=True)\n",
      "/var/folders/q2/tks8t2v53c95y3jqch98mqrc0000gn/T/ipykernel_27043/3143359534.py:10: FutureWarning: The frame.append method is deprecated and will be removed from pandas in a future version. Use pandas.concat instead.\n",
      "  df = df.append(new_row, ignore_index=True)\n",
      "/var/folders/q2/tks8t2v53c95y3jqch98mqrc0000gn/T/ipykernel_27043/3143359534.py:10: FutureWarning: The frame.append method is deprecated and will be removed from pandas in a future version. Use pandas.concat instead.\n",
      "  df = df.append(new_row, ignore_index=True)\n",
      "/var/folders/q2/tks8t2v53c95y3jqch98mqrc0000gn/T/ipykernel_27043/3143359534.py:10: FutureWarning: The frame.append method is deprecated and will be removed from pandas in a future version. Use pandas.concat instead.\n",
      "  df = df.append(new_row, ignore_index=True)\n",
      "/var/folders/q2/tks8t2v53c95y3jqch98mqrc0000gn/T/ipykernel_27043/3143359534.py:10: FutureWarning: The frame.append method is deprecated and will be removed from pandas in a future version. Use pandas.concat instead.\n",
      "  df = df.append(new_row, ignore_index=True)\n",
      "/var/folders/q2/tks8t2v53c95y3jqch98mqrc0000gn/T/ipykernel_27043/3143359534.py:10: FutureWarning: The frame.append method is deprecated and will be removed from pandas in a future version. Use pandas.concat instead.\n",
      "  df = df.append(new_row, ignore_index=True)\n",
      "/var/folders/q2/tks8t2v53c95y3jqch98mqrc0000gn/T/ipykernel_27043/3143359534.py:10: FutureWarning: The frame.append method is deprecated and will be removed from pandas in a future version. Use pandas.concat instead.\n",
      "  df = df.append(new_row, ignore_index=True)\n",
      "/var/folders/q2/tks8t2v53c95y3jqch98mqrc0000gn/T/ipykernel_27043/3143359534.py:10: FutureWarning: The frame.append method is deprecated and will be removed from pandas in a future version. Use pandas.concat instead.\n",
      "  df = df.append(new_row, ignore_index=True)\n",
      "/var/folders/q2/tks8t2v53c95y3jqch98mqrc0000gn/T/ipykernel_27043/3143359534.py:10: FutureWarning: The frame.append method is deprecated and will be removed from pandas in a future version. Use pandas.concat instead.\n",
      "  df = df.append(new_row, ignore_index=True)\n",
      "/var/folders/q2/tks8t2v53c95y3jqch98mqrc0000gn/T/ipykernel_27043/3143359534.py:10: FutureWarning: The frame.append method is deprecated and will be removed from pandas in a future version. Use pandas.concat instead.\n",
      "  df = df.append(new_row, ignore_index=True)\n",
      "/var/folders/q2/tks8t2v53c95y3jqch98mqrc0000gn/T/ipykernel_27043/3143359534.py:10: FutureWarning: The frame.append method is deprecated and will be removed from pandas in a future version. Use pandas.concat instead.\n",
      "  df = df.append(new_row, ignore_index=True)\n",
      "/var/folders/q2/tks8t2v53c95y3jqch98mqrc0000gn/T/ipykernel_27043/3143359534.py:10: FutureWarning: The frame.append method is deprecated and will be removed from pandas in a future version. Use pandas.concat instead.\n",
      "  df = df.append(new_row, ignore_index=True)\n",
      "/var/folders/q2/tks8t2v53c95y3jqch98mqrc0000gn/T/ipykernel_27043/3143359534.py:10: FutureWarning: The frame.append method is deprecated and will be removed from pandas in a future version. Use pandas.concat instead.\n",
      "  df = df.append(new_row, ignore_index=True)\n",
      "/var/folders/q2/tks8t2v53c95y3jqch98mqrc0000gn/T/ipykernel_27043/3143359534.py:10: FutureWarning: The frame.append method is deprecated and will be removed from pandas in a future version. Use pandas.concat instead.\n",
      "  df = df.append(new_row, ignore_index=True)\n",
      "/var/folders/q2/tks8t2v53c95y3jqch98mqrc0000gn/T/ipykernel_27043/3143359534.py:10: FutureWarning: The frame.append method is deprecated and will be removed from pandas in a future version. Use pandas.concat instead.\n",
      "  df = df.append(new_row, ignore_index=True)\n",
      "/var/folders/q2/tks8t2v53c95y3jqch98mqrc0000gn/T/ipykernel_27043/3143359534.py:10: FutureWarning: The frame.append method is deprecated and will be removed from pandas in a future version. Use pandas.concat instead.\n",
      "  df = df.append(new_row, ignore_index=True)\n",
      "/var/folders/q2/tks8t2v53c95y3jqch98mqrc0000gn/T/ipykernel_27043/3143359534.py:10: FutureWarning: The frame.append method is deprecated and will be removed from pandas in a future version. Use pandas.concat instead.\n",
      "  df = df.append(new_row, ignore_index=True)\n",
      "/var/folders/q2/tks8t2v53c95y3jqch98mqrc0000gn/T/ipykernel_27043/3143359534.py:10: FutureWarning: The frame.append method is deprecated and will be removed from pandas in a future version. Use pandas.concat instead.\n",
      "  df = df.append(new_row, ignore_index=True)\n",
      "/var/folders/q2/tks8t2v53c95y3jqch98mqrc0000gn/T/ipykernel_27043/3143359534.py:10: FutureWarning: The frame.append method is deprecated and will be removed from pandas in a future version. Use pandas.concat instead.\n",
      "  df = df.append(new_row, ignore_index=True)\n",
      "/var/folders/q2/tks8t2v53c95y3jqch98mqrc0000gn/T/ipykernel_27043/3143359534.py:10: FutureWarning: The frame.append method is deprecated and will be removed from pandas in a future version. Use pandas.concat instead.\n",
      "  df = df.append(new_row, ignore_index=True)\n",
      "/var/folders/q2/tks8t2v53c95y3jqch98mqrc0000gn/T/ipykernel_27043/3143359534.py:10: FutureWarning: The frame.append method is deprecated and will be removed from pandas in a future version. Use pandas.concat instead.\n",
      "  df = df.append(new_row, ignore_index=True)\n",
      "/var/folders/q2/tks8t2v53c95y3jqch98mqrc0000gn/T/ipykernel_27043/3143359534.py:10: FutureWarning: The frame.append method is deprecated and will be removed from pandas in a future version. Use pandas.concat instead.\n",
      "  df = df.append(new_row, ignore_index=True)\n",
      "/var/folders/q2/tks8t2v53c95y3jqch98mqrc0000gn/T/ipykernel_27043/3143359534.py:10: FutureWarning: The frame.append method is deprecated and will be removed from pandas in a future version. Use pandas.concat instead.\n",
      "  df = df.append(new_row, ignore_index=True)\n",
      "/var/folders/q2/tks8t2v53c95y3jqch98mqrc0000gn/T/ipykernel_27043/3143359534.py:10: FutureWarning: The frame.append method is deprecated and will be removed from pandas in a future version. Use pandas.concat instead.\n",
      "  df = df.append(new_row, ignore_index=True)\n",
      "/var/folders/q2/tks8t2v53c95y3jqch98mqrc0000gn/T/ipykernel_27043/3143359534.py:10: FutureWarning: The frame.append method is deprecated and will be removed from pandas in a future version. Use pandas.concat instead.\n",
      "  df = df.append(new_row, ignore_index=True)\n",
      "/var/folders/q2/tks8t2v53c95y3jqch98mqrc0000gn/T/ipykernel_27043/3143359534.py:10: FutureWarning: The frame.append method is deprecated and will be removed from pandas in a future version. Use pandas.concat instead.\n",
      "  df = df.append(new_row, ignore_index=True)\n",
      "/var/folders/q2/tks8t2v53c95y3jqch98mqrc0000gn/T/ipykernel_27043/3143359534.py:10: FutureWarning: The frame.append method is deprecated and will be removed from pandas in a future version. Use pandas.concat instead.\n",
      "  df = df.append(new_row, ignore_index=True)\n",
      "/var/folders/q2/tks8t2v53c95y3jqch98mqrc0000gn/T/ipykernel_27043/3143359534.py:10: FutureWarning: The frame.append method is deprecated and will be removed from pandas in a future version. Use pandas.concat instead.\n",
      "  df = df.append(new_row, ignore_index=True)\n",
      "/var/folders/q2/tks8t2v53c95y3jqch98mqrc0000gn/T/ipykernel_27043/3143359534.py:10: FutureWarning: The frame.append method is deprecated and will be removed from pandas in a future version. Use pandas.concat instead.\n",
      "  df = df.append(new_row, ignore_index=True)\n",
      "/var/folders/q2/tks8t2v53c95y3jqch98mqrc0000gn/T/ipykernel_27043/3143359534.py:10: FutureWarning: The frame.append method is deprecated and will be removed from pandas in a future version. Use pandas.concat instead.\n",
      "  df = df.append(new_row, ignore_index=True)\n",
      "/var/folders/q2/tks8t2v53c95y3jqch98mqrc0000gn/T/ipykernel_27043/3143359534.py:10: FutureWarning: The frame.append method is deprecated and will be removed from pandas in a future version. Use pandas.concat instead.\n",
      "  df = df.append(new_row, ignore_index=True)\n",
      "/var/folders/q2/tks8t2v53c95y3jqch98mqrc0000gn/T/ipykernel_27043/3143359534.py:10: FutureWarning: The frame.append method is deprecated and will be removed from pandas in a future version. Use pandas.concat instead.\n",
      "  df = df.append(new_row, ignore_index=True)\n",
      "/var/folders/q2/tks8t2v53c95y3jqch98mqrc0000gn/T/ipykernel_27043/3143359534.py:10: FutureWarning: The frame.append method is deprecated and will be removed from pandas in a future version. Use pandas.concat instead.\n",
      "  df = df.append(new_row, ignore_index=True)\n",
      "/var/folders/q2/tks8t2v53c95y3jqch98mqrc0000gn/T/ipykernel_27043/3143359534.py:10: FutureWarning: The frame.append method is deprecated and will be removed from pandas in a future version. Use pandas.concat instead.\n",
      "  df = df.append(new_row, ignore_index=True)\n",
      "/var/folders/q2/tks8t2v53c95y3jqch98mqrc0000gn/T/ipykernel_27043/3143359534.py:10: FutureWarning: The frame.append method is deprecated and will be removed from pandas in a future version. Use pandas.concat instead.\n",
      "  df = df.append(new_row, ignore_index=True)\n",
      "/var/folders/q2/tks8t2v53c95y3jqch98mqrc0000gn/T/ipykernel_27043/3143359534.py:10: FutureWarning: The frame.append method is deprecated and will be removed from pandas in a future version. Use pandas.concat instead.\n",
      "  df = df.append(new_row, ignore_index=True)\n",
      "/var/folders/q2/tks8t2v53c95y3jqch98mqrc0000gn/T/ipykernel_27043/3143359534.py:10: FutureWarning: The frame.append method is deprecated and will be removed from pandas in a future version. Use pandas.concat instead.\n",
      "  df = df.append(new_row, ignore_index=True)\n",
      "/var/folders/q2/tks8t2v53c95y3jqch98mqrc0000gn/T/ipykernel_27043/3143359534.py:10: FutureWarning: The frame.append method is deprecated and will be removed from pandas in a future version. Use pandas.concat instead.\n",
      "  df = df.append(new_row, ignore_index=True)\n",
      "/var/folders/q2/tks8t2v53c95y3jqch98mqrc0000gn/T/ipykernel_27043/3143359534.py:10: FutureWarning: The frame.append method is deprecated and will be removed from pandas in a future version. Use pandas.concat instead.\n",
      "  df = df.append(new_row, ignore_index=True)\n",
      "/var/folders/q2/tks8t2v53c95y3jqch98mqrc0000gn/T/ipykernel_27043/3143359534.py:10: FutureWarning: The frame.append method is deprecated and will be removed from pandas in a future version. Use pandas.concat instead.\n",
      "  df = df.append(new_row, ignore_index=True)\n",
      "/var/folders/q2/tks8t2v53c95y3jqch98mqrc0000gn/T/ipykernel_27043/3143359534.py:10: FutureWarning: The frame.append method is deprecated and will be removed from pandas in a future version. Use pandas.concat instead.\n",
      "  df = df.append(new_row, ignore_index=True)\n",
      "/var/folders/q2/tks8t2v53c95y3jqch98mqrc0000gn/T/ipykernel_27043/3143359534.py:10: FutureWarning: The frame.append method is deprecated and will be removed from pandas in a future version. Use pandas.concat instead.\n",
      "  df = df.append(new_row, ignore_index=True)\n",
      "/var/folders/q2/tks8t2v53c95y3jqch98mqrc0000gn/T/ipykernel_27043/3143359534.py:10: FutureWarning: The frame.append method is deprecated and will be removed from pandas in a future version. Use pandas.concat instead.\n",
      "  df = df.append(new_row, ignore_index=True)\n",
      "/var/folders/q2/tks8t2v53c95y3jqch98mqrc0000gn/T/ipykernel_27043/3143359534.py:10: FutureWarning: The frame.append method is deprecated and will be removed from pandas in a future version. Use pandas.concat instead.\n",
      "  df = df.append(new_row, ignore_index=True)\n",
      "/var/folders/q2/tks8t2v53c95y3jqch98mqrc0000gn/T/ipykernel_27043/3143359534.py:10: FutureWarning: The frame.append method is deprecated and will be removed from pandas in a future version. Use pandas.concat instead.\n",
      "  df = df.append(new_row, ignore_index=True)\n",
      "/var/folders/q2/tks8t2v53c95y3jqch98mqrc0000gn/T/ipykernel_27043/3143359534.py:10: FutureWarning: The frame.append method is deprecated and will be removed from pandas in a future version. Use pandas.concat instead.\n",
      "  df = df.append(new_row, ignore_index=True)\n",
      "/var/folders/q2/tks8t2v53c95y3jqch98mqrc0000gn/T/ipykernel_27043/3143359534.py:10: FutureWarning: The frame.append method is deprecated and will be removed from pandas in a future version. Use pandas.concat instead.\n",
      "  df = df.append(new_row, ignore_index=True)\n",
      "/var/folders/q2/tks8t2v53c95y3jqch98mqrc0000gn/T/ipykernel_27043/3143359534.py:10: FutureWarning: The frame.append method is deprecated and will be removed from pandas in a future version. Use pandas.concat instead.\n",
      "  df = df.append(new_row, ignore_index=True)\n",
      "/var/folders/q2/tks8t2v53c95y3jqch98mqrc0000gn/T/ipykernel_27043/3143359534.py:10: FutureWarning: The frame.append method is deprecated and will be removed from pandas in a future version. Use pandas.concat instead.\n",
      "  df = df.append(new_row, ignore_index=True)\n",
      "/var/folders/q2/tks8t2v53c95y3jqch98mqrc0000gn/T/ipykernel_27043/3143359534.py:10: FutureWarning: The frame.append method is deprecated and will be removed from pandas in a future version. Use pandas.concat instead.\n",
      "  df = df.append(new_row, ignore_index=True)\n",
      "/var/folders/q2/tks8t2v53c95y3jqch98mqrc0000gn/T/ipykernel_27043/3143359534.py:10: FutureWarning: The frame.append method is deprecated and will be removed from pandas in a future version. Use pandas.concat instead.\n",
      "  df = df.append(new_row, ignore_index=True)\n",
      "/var/folders/q2/tks8t2v53c95y3jqch98mqrc0000gn/T/ipykernel_27043/3143359534.py:10: FutureWarning: The frame.append method is deprecated and will be removed from pandas in a future version. Use pandas.concat instead.\n",
      "  df = df.append(new_row, ignore_index=True)\n",
      "/var/folders/q2/tks8t2v53c95y3jqch98mqrc0000gn/T/ipykernel_27043/3143359534.py:10: FutureWarning: The frame.append method is deprecated and will be removed from pandas in a future version. Use pandas.concat instead.\n",
      "  df = df.append(new_row, ignore_index=True)\n",
      "/var/folders/q2/tks8t2v53c95y3jqch98mqrc0000gn/T/ipykernel_27043/3143359534.py:10: FutureWarning: The frame.append method is deprecated and will be removed from pandas in a future version. Use pandas.concat instead.\n",
      "  df = df.append(new_row, ignore_index=True)\n"
     ]
    }
   ],
   "source": [
    "df = pd.DataFrame(columns= [\"max_feature\", \"n_estimators\",\"min_samples_leaf\" , \"MSE\"])\n",
    "for i in range(1,4):\n",
    "    for n in range(20, 521, 20):\n",
    "        for leaf in range(2, 10):\n",
    "            regr = RandomForestRegressor(max_features= i, n_estimators = n, min_samples_leaf = leaf)\n",
    "            regr.fit(X_train_val, y_train_val)\n",
    "            prediction_random = regr.predict(X_val)\n",
    "            mse = mean_squared_error(y_val, prediction_random )\n",
    "            new_row = {\"max_feature\": i, \"n_estimators\": n,\"min_samples_leaf\": leaf , \"MSE\":mse}\n",
    "            df = df.append(new_row, ignore_index=True)"
   ]
  },
  {
   "cell_type": "code",
   "execution_count": null,
   "metadata": {},
   "outputs": [],
   "source": [
    "df"
   ]
  },
  {
   "cell_type": "code",
   "execution_count": null,
   "metadata": {},
   "outputs": [],
   "source": [
    "df.dtypes"
   ]
  },
  {
   "cell_type": "code",
   "execution_count": null,
   "metadata": {},
   "outputs": [],
   "source": [
    "df[\"MSE\"] = df[\"MSE\"].astype(str).astype(float)"
   ]
  },
  {
   "cell_type": "code",
   "execution_count": null,
   "metadata": {},
   "outputs": [],
   "source": [
    "df.loc[df[\"MSE\"].idxmin()]"
   ]
  },
  {
   "cell_type": "markdown",
   "metadata": {},
   "source": [
    "Without checking MSE, we can find the best parameters (hyberparameter) by looking Grid Search"
   ]
  },
  {
   "cell_type": "code",
   "execution_count": null,
   "metadata": {},
   "outputs": [],
   "source": [
    "# Number of trees in random forest\n",
    "n_estimators = [int(i) for i in np.linspace(start = 20, stop = 500, num = 130)]\n",
    "#Number of features to consider at every split\n",
    "max_feature = list(range(1,4))\n",
    "leaf = list(range(2,10))"
   ]
  },
  {
   "cell_type": "code",
   "execution_count": null,
   "metadata": {},
   "outputs": [],
   "source": [
    "# Create the random grid\n",
    "from sklearn.model_selection import RandomizedSearchCV\n",
    "random_grid = {'n_estimators': n_estimators,\n",
    "               'max_features': max_feature,\n",
    "               'min_samples_leaf': leaf}\n",
    "regr = RandomForestRegressor()\n",
    "rf_random = RandomizedSearchCV(estimator = regr, param_distributions = random_grid, n_iter = 100, cv = 3, verbose=2, random_state=42, n_jobs = -1)\n",
    "rf_random.fit(X_train_val, y_train_val)"
   ]
  },
  {
   "cell_type": "code",
   "execution_count": null,
   "metadata": {},
   "outputs": [],
   "source": [
    "rf_random.best_params_"
   ]
  },
  {
   "cell_type": "markdown",
   "metadata": {},
   "source": [
    "## 4.2 A second model: SVM"
   ]
  },
  {
   "cell_type": "markdown",
   "metadata": {},
   "source": [
    "Now you will train another machine learning model: a support vector machine. You will only\n",
    "consider a linear kernel, and make only one hyperparameter vary (called the cost parameter;\n",
    "low values for this hyperparameter lead to a smoother decision surface)\n",
    "\n",
    "### 1. Using a Support Vector Machine (SVM) with a linear kernel, predict the selling price of the car in the training set. \n",
    "\n",
    "Use the following variables: year, fuel, km_driven."
   ]
  },
  {
   "cell_type": "code",
   "execution_count": null,
   "metadata": {},
   "outputs": [],
   "source": [
    "from sklearn.svm import SVC"
   ]
  },
  {
   "cell_type": "code",
   "execution_count": null,
   "metadata": {},
   "outputs": [],
   "source": [
    "from sklearn.preprocessing import StandardScaler\n",
    "sc = StandardScaler()\n",
    "X_train_val = sc.fit_transform(X_train_val)\n",
    "X_val = sc.transform (X_val)"
   ]
  },
  {
   "cell_type": "code",
   "execution_count": null,
   "metadata": {},
   "outputs": [],
   "source": [
    "svc = SVC(kernel = \"linear\", C = 10.0)\n",
    "svc.fit(X_train_val, y_train_val)\n",
    "prediction_random_SVM2 = svc.predict(X_val)"
   ]
  },
  {
   "cell_type": "markdown",
   "metadata": {},
   "source": [
    "### 2. Compute the mean squared error both for the training and the validation datasets. Compare them with each other."
   ]
  },
  {
   "cell_type": "code",
   "execution_count": null,
   "metadata": {},
   "outputs": [],
   "source": [
    "prediction_random_SVM1 = regr.predict(X_train_val)\n",
    "mse_train = mean_squared_error(y_train_val, prediction_random_SVM1)\n",
    "print(mse_train)"
   ]
  },
  {
   "cell_type": "code",
   "execution_count": null,
   "metadata": {},
   "outputs": [],
   "source": [
    "mse_val = mean_squared_error(y_val, prediction_random_SVM2 )\n",
    "print(mse_val)"
   ]
  },
  {
   "cell_type": "markdown",
   "metadata": {},
   "source": [
    "### 3. Now, using a loop, make the cost vary:\n",
    "\n",
    "a) with R: 10ˆseq(3, -2, length = 50)\n",
    "\n",
    "b) with python: 10**np.linspace(start=3, stop=-2, num=50)\n",
    "\n",
    "At each iteration, compute the mean squared error (and store it) for both samples."
   ]
  },
  {
   "cell_type": "code",
   "execution_count": null,
   "metadata": {},
   "outputs": [],
   "source": [
    "def mse_compute(Xval, yval):\n",
    "    global list_MSE\n",
    "    list_MSE = []\n",
    "    for i in (10**np.linspace(start=3, stop=-2, num=50)):\n",
    "        #create a model \n",
    "        svc = SVC(kernel = \"linear\", C = i)\n",
    "        #train model\n",
    "        svc.fit(X_train_val, y_train_val)\n",
    "        #predict value for valid set\n",
    "        prediction_random = svc.predict(Xval)\n",
    "        #calculate MSE\n",
    "        mse = mean_squared_error(yval, prediction_random)\n",
    "        list_MSE.append(mse)\n",
    "        print(\"With {} of terminal node, the mean squared error is {}\".format(i, mse))"
   ]
  },
  {
   "cell_type": "code",
   "execution_count": null,
   "metadata": {},
   "outputs": [],
   "source": [
    "mse_compute(X_val, y_val)\n",
    "list_MSE_val = list_MSE"
   ]
  },
  {
   "cell_type": "code",
   "execution_count": null,
   "metadata": {},
   "outputs": [],
   "source": [
    "mse_compute(X_train_val, y_train_val)\n",
    "list_MSE_train = list_MSE"
   ]
  },
  {
   "cell_type": "markdown",
   "metadata": {},
   "source": [
    "### 4. On a graph, plot the mean squared error as a function of the node size, for both samples (one curve for each sample). Comment."
   ]
  }
 ],
 "metadata": {
  "interpreter": {
   "hash": "40d3a090f54c6569ab1632332b64b2c03c39dcf918b08424e98f38b5ae0af88f"
  },
  "kernelspec": {
   "display_name": "Python 3.9.12 ('base')",
   "language": "python",
   "name": "python3"
  },
  "language_info": {
   "codemirror_mode": {
    "name": "ipython",
    "version": 3
   },
   "file_extension": ".py",
   "mimetype": "text/x-python",
   "name": "python",
   "nbconvert_exporter": "python",
   "pygments_lexer": "ipython3",
   "version": "3.9.12"
  },
  "orig_nbformat": 4
 },
 "nbformat": 4,
 "nbformat_minor": 2
}
